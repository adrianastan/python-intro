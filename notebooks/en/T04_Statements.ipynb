{
  "nbformat": 4,
  "nbformat_minor": 0,
  "metadata": {
    "colab": {
      "provenance": [],
      "toc_visible": true
    },
    "kernelspec": {
      "name": "python3",
      "display_name": "Python 3"
    },
    "language_info": {
      "name": "python"
    }
  },
  "cells": [
    {
      "cell_type": "markdown",
      "source": [
        "<img src='https://upload.wikimedia.org/wikipedia/commons/c/c3/Python-logo-notext.svg' width=50/>\n",
        "<img src='https://upload.wikimedia.org/wikipedia/commons/d/d0/Google_Colaboratory_SVG_Logo.svg' width=70/>\n",
        "\n",
        "# <font size=50>Introduction to Python using Google Colab</font>\n",
        "<font color=\"#e8710a\">© Adriana STAN, David COMBEI, 2025</font>\n",
        "\n",
        "<font color=\"#e8710a\">Contributor: Gabriel ERDEI </font>\n",
        "\n",
        "[![Open In Colab](https://colab.research.google.com/assets/colab-badge.svg)](https://colab.research.google.com/github/adrianastan/python-intro/blob/main/notebooks/en/T04_Statements.ipynb)\n",
        "\n"
      ],
      "metadata": {
        "id": "6WXErX0LtTVh"
      }
    },
    {
      "cell_type": "markdown",
      "source": [
        "#<font color=\"#e8710a\">T04. Statements and Flow Control Structures</font>\n",
        "\n",
        "We move forward in this tutorial and go through the basic statements of the Python language. Unlike the C/C++ and Java languages, we will see that there are a number of statements that facilitate the creation of lists in a single instruction, as well as more complex assignments.\n",
        "\n",
        "---\n",
        "\n",
        "<font color=\"#1589FF\"><b>Estimated Completion Time:</b> 90 min</font>\n",
        "\n",
        "---"
      ],
      "metadata": {
        "id": "DP2kXZ0R6S-R"
      }
    },
    {
      "cell_type": "markdown",
      "source": [
        "##<font color=\"#e8710a\">Python Statements</font>\n",
        "\n",
        "At their base, programs are built from statements and expressions. Expressions process objects and are framed in statements. Expressions return a result, so they are most often on the right side of an assignment sign. But they can be used independently in function calls, for example, or object constructors.\n",
        "\n",
        "In the Python language, it is not necessary to use a symbol to terminate the statement (as `;` is used in many other programming languages). Introducing a new line of text signals the end of the statement, with some exceptions."
      ],
      "metadata": {
        "id": "sYWHMgBn5gEG"
      }
    },
    {
      "cell_type": "code",
      "source": [
        "a = 3 # Moving to the next line symbolizes the end of the instruction"
      ],
      "metadata": {
        "id": "6Hk7D5TMnJxm"
      },
      "execution_count": 1,
      "outputs": []
    },
    {
      "cell_type": "markdown",
      "source": [
        "With the exception of more complex statements that can be written on multiple lines. In this case, the intermediate lines must be terminated with `\\` without other characters after this symbol."
      ],
      "metadata": {
        "id": "Um8DOdiRoRZC"
      }
    },
    {
      "cell_type": "code",
      "source": [
        "a, b, c, d, e, f, g, h =\\\n",
        "    1, 2, 3, 4,\\\n",
        "    5, 6, 7, 8"
      ],
      "metadata": {
        "id": "1zZJtJRfoTER"
      },
      "execution_count": 2,
      "outputs": []
    },
    {
      "cell_type": "markdown",
      "source": [
        "If we add a white space, we will generate a syntax error:"
      ],
      "metadata": {
        "id": "flcr4jlmoPSK"
      }
    },
    {
      "cell_type": "code",
      "source": [
        "a, b, c, d, e, f, g, h =\\\n",
        "    1, 2, 3, 4, 5, 6, 7, 8"
      ],
      "metadata": {
        "id": "1Acw_u-woMqA"
      },
      "execution_count": 3,
      "outputs": []
    },
    {
      "cell_type": "markdown",
      "source": [
        "An exception to this rule refers to function calls, where it is not necessary to terminate the line with `\\`:"
      ],
      "metadata": {
        "id": "hA6h7EyQpMfL"
      }
    },
    {
      "cell_type": "code",
      "source": [
        "def function(a,b,c,d):\n",
        "  return a+b+c+d\n",
        "\n",
        "function (a=1,\n",
        "   b=2,\n",
        "   c=3,\n",
        "   d=4)"
      ],
      "metadata": {
        "id": "zS6OEXexof9R",
        "colab": {
          "base_uri": "https://localhost:8080/"
        },
        "outputId": "fb19d5a2-11f7-4131-e866-97c7d035e8ed"
      },
      "execution_count": 4,
      "outputs": [
        {
          "output_type": "execute_result",
          "data": {
            "text/plain": [
              "10"
            ]
          },
          "metadata": {},
          "execution_count": 4
        }
      ]
    },
    {
      "cell_type": "markdown",
      "source": [
        "As well as the definition of sequence-type data:"
      ],
      "metadata": {
        "id": "YFAO9Bj3pRty"
      }
    },
    {
      "cell_type": "code",
      "source": [
        "my_list = [1,\n",
        "     2,\n",
        "     3,\n",
        "     4]"
      ],
      "metadata": {
        "id": "CssHAZLWpWKM"
      },
      "execution_count": 5,
      "outputs": []
    },
    {
      "cell_type": "markdown",
      "source": [
        "It is possible to write multiple statements on the same line by separating them with `;`, except for compound statements."
      ],
      "metadata": {
        "id": "NU0f4UkBpsOC"
      }
    },
    {
      "cell_type": "code",
      "source": [
        "a = 3; b = 4;"
      ],
      "metadata": {
        "id": "qFYS0MUGpvZG"
      },
      "execution_count": 6,
      "outputs": []
    },
    {
      "cell_type": "markdown",
      "source": [
        "**<font color=\"#1589FF\">Compound Statements</font>**\n",
        "\n",
        "Compound statements in Python are marked by indentation. To begin a compound statement, the colon symbol, `:`, is used.\n",
        "The end of indentation marks the end of the compound statement."
      ],
      "metadata": {
        "id": "AZdTnKu3nNF3"
      }
    },
    {
      "cell_type": "code",
      "source": [
        "if 2 > 3:\n",
        "  print (\"True Branch\")\n",
        "else:\n",
        "  print (\"False Branch\")\n",
        "  print (\"Adding another line\")\n",
        "\n",
        "print(\"We exited the compound statement\")"
      ],
      "metadata": {
        "colab": {
          "base_uri": "https://localhost:8080/"
        },
        "id": "F3dJMZuonNpT",
        "outputId": "80f7312c-192e-46e8-d6dd-18919b7d1b9b"
      },
      "execution_count": 7,
      "outputs": [
        {
          "output_type": "stream",
          "name": "stdout",
          "text": [
            "False Branch\n",
            "Adding another line\n",
            "We exited the compound statement\n"
          ]
        }
      ]
    },
    {
      "cell_type": "markdown",
      "source": [
        "In short, the list of statements available in Python is presented in the following table:\n",
        "\n",
        "Statement | Role | Example\n",
        "--- | --- | ---\n",
        "Assignment | Creating references | a, b = 'good', 'bad'\n",
        "Call and other expressions | Running functions | log.write(\"spam, ham\")\n",
        "Print calls | Displaying objects | print('My Object', object)\n",
        "if/elif/else | Selecting actions | if \"python\" in text: print(text)\n",
        "for/else |  Loops  |for x in mylist: print(x)\n",
        "while/else | Loops | while X > Y: print('hello')\n",
        "pass | Empty statement | while True: pass\n",
        "break |  Exiting a loop | while True: if exittest(): break\n",
        "continue | Continuing a loop | while True: if skiptest(): continue\n",
        "def |  Functions and methods | def f(a, b, c=1, *d): print(a+b+c+d[0])\n",
        "return | Returning from functions | def f(a, b, c=1, *d): return a+b+c+d[0]\n",
        "yield |  Generator functions | def gen(n): for i in n: yield i*2\n",
        "global | Namespaces | global x, y; x = 'new'\n",
        "nonlocal | Namespaces (3.x) | nonlocal x; x = 'new'\n",
        "import | Import module | import sys\n",
        "from | Access module components | from sys import stdin\n",
        "class | Define object classes | class Subclass(Superclass):\n",
        "try/except/ finally | Catching exceptions| try: action; except: print('action error')\n",
        "raise | Throwing exceptions |raise EndSearch(location)\n",
        "assert | Assertions | assert X > Y, 'X too small'\n",
        "with/as | Context manager (3.X, 2.6>)| with open('data') as myfile:  process(myfile)\n",
        "del | Deleting references | del data[k]\n",
        "\n",
        "\n",
        "In what follows, we will briefly present the use and characteristics of these statements in the Python language."
      ],
      "metadata": {
        "id": "IA2RtGwPnKD5"
      }
    },
    {
      "cell_type": "markdown",
      "source": [
        "##<font color=\"#e8710a\">Assignments</font>\n",
        "\n",
        "Assignments refer to creating a new reference to an object. They are done using the equals symbol, `=`:\n",
        "\n",
        "> `reference = object_expression`\n",
        "\n",
        "References are commonly called *variables*. Thus, in Python, variables are created upon assignment, and they cannot be used before being assigned. Certain operations create assignments implicitly.\n",
        "\n",
        "\n",
        "**<font color=\"#1589FF\">Rules for Naming Variables</font>**\n",
        "\n",
        "*   They are made up of (underscore or letter) + (any number of letters, digits, or underscores);\n",
        "*   They are case-sensitive;\n",
        "*   Reserved words cannot be used as identifiers.\n",
        "\n",
        "\n",
        "**<font color=\"#1589FF\">Naming Conventions</font>**\n",
        "\n",
        "*   Variables starting with an underscore `_` are not imported via `from module import *`;\n",
        "*   Variables of the type `__X__` are identifiers used by the system;\n",
        "*   Methods enclosed by dunder `__` are called magic/dunder methods and are implicitly called by the object when certain actions are executed;\n",
        "*   Variables starting with dunder  `__`  and not ending with underscore `_` are pseudoprivate variables of classes;\n",
        "*   The variable `_` in interactive sessions keeps the last calculated result.\n",
        "\n",
        "\n",
        "**<font color=\"#1589FF\">Reserved Words</font>**\n",
        "\n",
        "The following identifiers are reserved words and cannot be used to define program variables:\n",
        "\n",
        "<center><img src='https://raw.githubusercontent.com/adrianastan/python-intro/main/notebooks/ro/imgs/T03_keywords.png' height=150/></center>"
      ],
      "metadata": {
        "id": "gnPur7ds6kKe"
      }
    },
    {
      "cell_type": "markdown",
      "source": [
        "###<font color=\"#e8710a\">Basic Assignments</font>"
      ],
      "metadata": {
        "id": "yV1NxTb07k4d"
      }
    },
    {
      "cell_type": "code",
      "execution_count": 8,
      "metadata": {
        "id": "QVNvqaom6Jfd",
        "colab": {
          "base_uri": "https://localhost:8080/"
        },
        "outputId": "f6aaa1de-285f-4d35-b8b0-532117325957"
      },
      "outputs": [
        {
          "output_type": "execute_result",
          "data": {
            "text/plain": [
              "1"
            ]
          },
          "metadata": {},
          "execution_count": 8
        }
      ],
      "source": [
        "# Basic assignment\n",
        "a = 1\n",
        "a"
      ]
    },
    {
      "cell_type": "code",
      "source": [
        "b = 2\n",
        "b"
      ],
      "metadata": {
        "id": "BpBjiaVH6y50",
        "colab": {
          "base_uri": "https://localhost:8080/"
        },
        "outputId": "f8cc64d9-898c-4893-d9ba-8b3e1d3f1dba"
      },
      "execution_count": 9,
      "outputs": [
        {
          "output_type": "execute_result",
          "data": {
            "text/plain": [
              "2"
            ]
          },
          "metadata": {},
          "execution_count": 9
        }
      ]
    },
    {
      "cell_type": "code",
      "source": [
        "# Assignment through tuple, equivalent to a = 1; b = 2;\n",
        "a, b = 1, 2\n",
        "print(a)\n",
        "print(b)"
      ],
      "metadata": {
        "colab": {
          "base_uri": "https://localhost:8080/"
        },
        "id": "V3M4eWGS60TQ",
        "outputId": "d6fb9eeb-5e70-4069-f3a8-da38852957ce"
      },
      "execution_count": 10,
      "outputs": [
        {
          "output_type": "stream",
          "name": "stdout",
          "text": [
            "1\n",
            "2\n"
          ]
        }
      ]
    },
    {
      "cell_type": "code",
      "source": [
        "# Assignment through list\n",
        "[a, b] = [1, 2]\n",
        "print(a)\n",
        "print(b)"
      ],
      "metadata": {
        "id": "HhED9kgI620i",
        "colab": {
          "base_uri": "https://localhost:8080/"
        },
        "outputId": "64e177c9-a82f-4e07-ace4-96e93e44c9c1"
      },
      "execution_count": 11,
      "outputs": [
        {
          "output_type": "stream",
          "name": "stdout",
          "text": [
            "1\n",
            "2\n"
          ]
        }
      ]
    },
    {
      "cell_type": "code",
      "source": [
        "# Variable exchange\n",
        "a, b = b, a\n",
        "a, b"
      ],
      "metadata": {
        "colab": {
          "base_uri": "https://localhost:8080/"
        },
        "id": "a9dGjhYx64hA",
        "outputId": "3d8313fd-9781-401c-fcb7-f403f8e5bd39"
      },
      "execution_count": 12,
      "outputs": [
        {
          "output_type": "execute_result",
          "data": {
            "text/plain": [
              "(2, 1)"
            ]
          },
          "metadata": {},
          "execution_count": 12
        }
      ]
    },
    {
      "cell_type": "code",
      "source": [
        "# Assignment of tuple to variable list\n",
        "[a, b, c] = (1, 2, 3)\n",
        "c, b, a"
      ],
      "metadata": {
        "colab": {
          "base_uri": "https://localhost:8080/"
        },
        "id": "XDYe9--a7EiS",
        "outputId": "adc32fbd-268a-44a3-b43f-0c6a6abb22c7"
      },
      "execution_count": 13,
      "outputs": [
        {
          "output_type": "execute_result",
          "data": {
            "text/plain": [
              "(3, 2, 1)"
            ]
          },
          "metadata": {},
          "execution_count": 13
        }
      ]
    },
    {
      "cell_type": "code",
      "source": [
        "# Assignment of a string to a tuple\n",
        "# the mechanism is also called sequence unpacking\n",
        "(a, b, c) = \"ABC\"\n",
        "a, b, c"
      ],
      "metadata": {
        "colab": {
          "base_uri": "https://localhost:8080/"
        },
        "id": "MXSM9ixN7I4M",
        "outputId": "1090e2f6-aa33-48af-8683-dcaaeb2ffca3"
      },
      "execution_count": 14,
      "outputs": [
        {
          "output_type": "execute_result",
          "data": {
            "text/plain": [
              "('A', 'B', 'C')"
            ]
          },
          "metadata": {},
          "execution_count": 14
        }
      ]
    },
    {
      "cell_type": "markdown",
      "source": [
        "###<font color=\"#e8710a\">Advanced Sequential Assignments</font>"
      ],
      "metadata": {
        "id": "FI6pRf4K7prk"
      }
    },
    {
      "cell_type": "code",
      "source": [
        "s = 'apple'\n",
        "a, b, c = s[0], s[1], s[2:] # Indexing and slicing\n",
        "a, b, c"
      ],
      "metadata": {
        "colab": {
          "base_uri": "https://localhost:8080/"
        },
        "id": "dGSditEV7MKX",
        "outputId": "ee2b18ba-b214-4978-fe55-7c1b5fc64858"
      },
      "execution_count": 15,
      "outputs": [
        {
          "output_type": "execute_result",
          "data": {
            "text/plain": [
              "('a', 'p', 'ple')"
            ]
          },
          "metadata": {},
          "execution_count": 15
        }
      ]
    },
    {
      "cell_type": "code",
      "source": [
        "a, b, c = list(s[:2]) + [s[2:]] # slicing and concatenation\n",
        "a, b, c"
      ],
      "metadata": {
        "colab": {
          "base_uri": "https://localhost:8080/"
        },
        "id": "PL9jIuXk7ND4",
        "outputId": "24fb9fb2-bcb4-477d-e8a2-e78a2d6b8e66"
      },
      "execution_count": 16,
      "outputs": [
        {
          "output_type": "execute_result",
          "data": {
            "text/plain": [
              "('a', 'p', 'ple')"
            ]
          },
          "metadata": {},
          "execution_count": 16
        }
      ]
    },
    {
      "cell_type": "code",
      "source": [
        "a, b = s[:2] # similar\n",
        "c = s[2:]\n",
        "a, b, c"
      ],
      "metadata": {
        "colab": {
          "base_uri": "https://localhost:8080/"
        },
        "id": "SaHVR_d_7U0D",
        "outputId": "d9444257-5fb0-42a1-a324-a17968ef23d8"
      },
      "execution_count": 17,
      "outputs": [
        {
          "output_type": "execute_result",
          "data": {
            "text/plain": [
              "('a', 'p', 'ple')"
            ]
          },
          "metadata": {},
          "execution_count": 17
        }
      ]
    },
    {
      "cell_type": "code",
      "source": [
        "(a, b), c = s[:2], s[2:] # nested sequences\n",
        "a, b, c"
      ],
      "metadata": {
        "colab": {
          "base_uri": "https://localhost:8080/"
        },
        "id": "QeMhY0jj7bX-",
        "outputId": "86935c66-ca7c-40b9-dd67-df9b1893f04a"
      },
      "execution_count": 18,
      "outputs": [
        {
          "output_type": "execute_result",
          "data": {
            "text/plain": [
              "('a', 'p', 'ple')"
            ]
          },
          "metadata": {},
          "execution_count": 18
        }
      ]
    },
    {
      "cell_type": "markdown",
      "source": [
        "**<font color=\"#1589FF\">Multiple Assignments</font>**"
      ],
      "metadata": {
        "id": "OGGXkkI18By1"
      }
    },
    {
      "cell_type": "code",
      "source": [
        "a = b = c = 'apple'\n",
        "a, b, c"
      ],
      "metadata": {
        "colab": {
          "base_uri": "https://localhost:8080/"
        },
        "id": "e5SkrCYq8AJ5",
        "outputId": "a2a969e7-ef02-4859-8c94-a4e91085751c"
      },
      "execution_count": 19,
      "outputs": [
        {
          "output_type": "execute_result",
          "data": {
            "text/plain": [
              "('apple', 'apple', 'apple')"
            ]
          },
          "metadata": {},
          "execution_count": 19
        }
      ]
    },
    {
      "cell_type": "code",
      "source": [
        "# CAUTION with mutable objects!!\n",
        "a = b = [1,2]\n",
        "b.append(42)\n",
        "a, b # Both variables are modified"
      ],
      "metadata": {
        "colab": {
          "base_uri": "https://localhost:8080/"
        },
        "id": "psE3szEh8HnK",
        "outputId": "45566590-fff2-4e4d-dc0e-e33c6cd6f4b0"
      },
      "execution_count": 20,
      "outputs": [
        {
          "output_type": "execute_result",
          "data": {
            "text/plain": [
              "([1, 2, 42], [1, 2, 42])"
            ]
          },
          "metadata": {},
          "execution_count": 20
        }
      ]
    },
    {
      "cell_type": "markdown",
      "source": [
        "**<font color=\"#1589FF\">Compound Assignments</font>**\n",
        "\n",
        "They are done in-place, which means that the initial reference (variable) will change its value or the referenced object."
      ],
      "metadata": {
        "id": "IkB0PCYO8MQl"
      }
    },
    {
      "cell_type": "code",
      "source": [
        "a = [1, 2]\n",
        "b = a\n",
        "a += [3, 4] # we extend a with the values 3 and 4\n",
        "a, b        # b will contain the same values as a, because it refers to the same object"
      ],
      "metadata": {
        "colab": {
          "base_uri": "https://localhost:8080/"
        },
        "id": "H_J1Tluw8KQG",
        "outputId": "da0e2b36-0ade-4f94-86ab-2b7f0ce598b2"
      },
      "execution_count": 21,
      "outputs": [
        {
          "output_type": "execute_result",
          "data": {
            "text/plain": [
              "([1, 2, 3, 4], [1, 2, 3, 4])"
            ]
          },
          "metadata": {},
          "execution_count": 21
        }
      ]
    },
    {
      "cell_type": "markdown",
      "source": [
        "###<font color=\"#e8710a\">Extended Sequence Unpacking</font>\n",
        "\n",
        "If we want to unpack sequences in a more complex way, we can use the so-called *star named* variables. In this case, the values in the sequence that do not have a direct match in the list of variables will be assigned to this star-named variable.\n",
        "\n",
        "For simple unpacking, we have already seen an example of the type:"
      ],
      "metadata": {
        "id": "d4LOeNWb7urV"
      }
    },
    {
      "cell_type": "code",
      "source": [
        "seq = [1, 2, 3, 4]\n",
        "a, b, c, d = seq\n",
        "print(a, b, c, d)"
      ],
      "metadata": {
        "colab": {
          "base_uri": "https://localhost:8080/"
        },
        "id": "85YwdtZ_7fV7",
        "outputId": "20614d82-fe49-448d-f954-646942870f9a"
      },
      "execution_count": 22,
      "outputs": [
        {
          "output_type": "stream",
          "name": "stdout",
          "text": [
            "1 2 3 4\n"
          ]
        }
      ]
    },
    {
      "cell_type": "markdown",
      "source": [
        "Ce se întâmplă atunci când numărul de elemente din secvență este mai mare decât numărul de variabile?"
      ],
      "metadata": {
        "id": "8xJscMq9iKgM"
      }
    },
    {
      "cell_type": "code",
      "source": [
        "# Error\n",
        "a, b = seq"
      ],
      "metadata": {
        "colab": {
          "base_uri": "https://localhost:8080/",
          "height": 162
        },
        "id": "S8ONJU9K716U",
        "outputId": "811f5f0e-6bf5-4c26-9767-287f134e0d22"
      },
      "execution_count": 23,
      "outputs": [
        {
          "output_type": "error",
          "ename": "ValueError",
          "evalue": "too many values to unpack (expected 2)",
          "traceback": [
            "\u001b[0;31m---------------------------------------------------------------------------\u001b[0m",
            "\u001b[0;31mValueError\u001b[0m                                Traceback (most recent call last)",
            "\u001b[0;32m<ipython-input-23-8c8d613e72a3>\u001b[0m in \u001b[0;36m<cell line: 0>\u001b[0;34m()\u001b[0m\n\u001b[1;32m      1\u001b[0m \u001b[0;31m# Error\u001b[0m\u001b[0;34m\u001b[0m\u001b[0;34m\u001b[0m\u001b[0m\n\u001b[0;32m----> 2\u001b[0;31m \u001b[0ma\u001b[0m\u001b[0;34m,\u001b[0m \u001b[0mb\u001b[0m \u001b[0;34m=\u001b[0m \u001b[0mseq\u001b[0m\u001b[0;34m\u001b[0m\u001b[0;34m\u001b[0m\u001b[0m\n\u001b[0m",
            "\u001b[0;31mValueError\u001b[0m: too many values to unpack (expected 2)"
          ]
        }
      ]
    },
    {
      "cell_type": "markdown",
      "source": [
        "In this case, for the last variable in the list and only for it, we can use star name. As a result, all the elements in the sequence that are not assigned to the previous variables in the list will be assigned to this last star-name variable:"
      ],
      "metadata": {
        "id": "s17P_NJiiyPE"
      }
    },
    {
      "cell_type": "code",
      "source": [
        "seq = [1, 2, 3, 4]\n",
        "a, *b = seq\n",
        "print (a)\n",
        "print (b) # b will contain all the elements in the list that have not been assigned"
      ],
      "metadata": {
        "colab": {
          "base_uri": "https://localhost:8080/"
        },
        "id": "qYcPpp7373EV",
        "outputId": "fe1100fd-4721-4c2b-df7e-9ed74fa9410a"
      },
      "execution_count": 24,
      "outputs": [
        {
          "output_type": "stream",
          "name": "stdout",
          "text": [
            "1\n",
            "[2, 3, 4]\n"
          ]
        }
      ]
    },
    {
      "cell_type": "markdown",
      "source": [
        "It is important to mention that, although a simple assignment could be made depending on the number of elements in the sequence, the star-name variable will always be a list (possibly empty):"
      ],
      "metadata": {
        "id": "lvOTMQJqjMd1"
      }
    },
    {
      "cell_type": "code",
      "source": [
        "# d will take the last element as a list\n",
        "seq = [1, 2, 3, 4]\n",
        "a, b, c, *d = seq\n",
        "print(a, b, c, d)"
      ],
      "metadata": {
        "colab": {
          "base_uri": "https://localhost:8080/"
        },
        "id": "otTLJqOR76pw",
        "outputId": "bc5a0f17-a91e-45f8-bbbe-4f86c215f20b"
      },
      "execution_count": 25,
      "outputs": [
        {
          "output_type": "stream",
          "name": "stdout",
          "text": [
            "1 2 3 [4]\n"
          ]
        }
      ]
    },
    {
      "cell_type": "code",
      "source": [
        "# *e will be an empty list\n",
        "a, b, c, d, *e = seq\n",
        "print(a, b, c, d, e)"
      ],
      "metadata": {
        "colab": {
          "base_uri": "https://localhost:8080/"
        },
        "id": "5qT3Wekz7-Y9",
        "outputId": "52a0d7a6-4982-4447-b35c-e6034d80c3ee"
      },
      "execution_count": 26,
      "outputs": [
        {
          "output_type": "stream",
          "name": "stdout",
          "text": [
            "1 2 3 4 []\n"
          ]
        }
      ]
    },
    {
      "cell_type": "markdown",
      "source": [
        "##<font color=\"#e8710a\">The Empty Statement</font>\n",
        "\n",
        "During the development of an application, there may be functions, methods, classes, etc. that are not currently implemented, but must be declared in the code. In other words, these functions, methods, and classes do nothing at the moment. To do this, we have the empty statement `pass`. It has no result, but is used as a placeholder for the code written later:"
      ],
      "metadata": {
        "id": "kYzpuqe2Vbl6"
      }
    },
    {
      "cell_type": "code",
      "source": [
        "def func():\n",
        "  pass\n",
        "\n",
        "func() # Calling the function"
      ],
      "metadata": {
        "id": "HytQE8lHYyHo"
      },
      "execution_count": 27,
      "outputs": []
    },
    {
      "cell_type": "code",
      "source": [
        "class C:\n",
        "  pass\n",
        "\n",
        "obj = C() # Instantiating an object from class C"
      ],
      "metadata": {
        "id": "r4lqdv7vY3HJ"
      },
      "execution_count": 28,
      "outputs": []
    },
    {
      "cell_type": "markdown",
      "source": [
        "Starting with Python 3.0, we can use the ellipsis `...` as an alternative."
      ],
      "metadata": {
        "id": "78XXq9MXY-0N"
      }
    },
    {
      "cell_type": "code",
      "source": [
        "def func():\n",
        "    ...\n",
        "func()\n",
        "\n",
        "\n",
        "class C:\n",
        "  ...\n",
        "obj = C()"
      ],
      "metadata": {
        "id": "c18htTXsZECC"
      },
      "execution_count": 29,
      "outputs": []
    },
    {
      "cell_type": "markdown",
      "source": [
        "##<font color=\"#e8710a\">The print() Function</font>\n",
        "\n",
        "The `print()` function displays the text representation of an object. It is important to note here that the text representation of a (more complex) object may be different from the content of its attributes. By default, the `__str__()` method associated with the object will be called, which can be overwritten in custom classes.\n",
        "\n",
        "In Python 2.x `print` was a statement: `print a`. And in Python 3.x it is a built-in function that returns `None`: `print (a)`.\n",
        "\n",
        "The complete form of the `print()` function in Python 3.x is:\n",
        "\n",
        "```\n",
        "print([object, ...][, sep=' '][, end='\\n'][, file=sys.stdout][, flush=False])\n",
        "```\n",
        "\n",
        "Let's see some examples:"
      ],
      "metadata": {
        "id": "96QBOc2l9DHE"
      }
    },
    {
      "cell_type": "code",
      "source": [
        "a = 'apples'\n",
        "b = 1\n",
        "c = ['pears']\n",
        "print(a, b, c)"
      ],
      "metadata": {
        "colab": {
          "base_uri": "https://localhost:8080/"
        },
        "id": "Pmis3LLq8--b",
        "outputId": "8185fc48-b158-43c9-8974-8653dda3b44c"
      },
      "execution_count": 30,
      "outputs": [
        {
          "output_type": "stream",
          "name": "stdout",
          "text": [
            "apples 1 ['pears']\n"
          ]
        }
      ]
    },
    {
      "cell_type": "code",
      "source": [
        "print(a, b, c, sep='') # Removing the separator"
      ],
      "metadata": {
        "colab": {
          "base_uri": "https://localhost:8080/"
        },
        "id": "Is70TcF99afC",
        "outputId": "7aa8ceac-d890-441e-f4ad-c0ae3f533290"
      },
      "execution_count": 31,
      "outputs": [
        {
          "output_type": "stream",
          "name": "stdout",
          "text": [
            "apples1['pears']\n"
          ]
        }
      ]
    },
    {
      "cell_type": "code",
      "source": [
        "print(a, b, c, sep=', ') # Special separator"
      ],
      "metadata": {
        "colab": {
          "base_uri": "https://localhost:8080/"
        },
        "id": "v-rRKoVJ9bru",
        "outputId": "cbd00048-4354-4c60-85de-7650b71d2f75"
      },
      "execution_count": 32,
      "outputs": [
        {
          "output_type": "stream",
          "name": "stdout",
          "text": [
            "apples, 1, ['pears']\n"
          ]
        }
      ]
    },
    {
      "cell_type": "markdown",
      "source": [
        "The result of the `print()` function is displayed by default in `stdout`. But we can redirect this display to `stderr` or to a file:"
      ],
      "metadata": {
        "id": "Tp82mFzH0K5L"
      }
    },
    {
      "cell_type": "code",
      "source": [
        "# Display in stderr\n",
        "import sys\n",
        "print(\"Stderr\", file=sys.stderr)"
      ],
      "metadata": {
        "colab": {
          "base_uri": "https://localhost:8080/"
        },
        "id": "xMuLo2cn0_rs",
        "outputId": "d4db55c3-e16c-4dbe-8d65-065811975d79"
      },
      "execution_count": 33,
      "outputs": [
        {
          "output_type": "stream",
          "name": "stderr",
          "text": [
            "Stderr\n"
          ]
        }
      ]
    },
    {
      "cell_type": "code",
      "source": [
        "# Write to a file\n",
        "print(a, b, c, file=open('out.txt', 'w'))"
      ],
      "metadata": {
        "id": "7BDFxBoF9dgC"
      },
      "execution_count": 34,
      "outputs": []
    },
    {
      "cell_type": "markdown",
      "source": [
        "Usually, the print function will use the string formatting methods to create messages that combine strings with variables in the program:"
      ],
      "metadata": {
        "id": "_KDq91brsv2Q"
      }
    },
    {
      "cell_type": "code",
      "source": [
        "a = 2\n",
        "b = 3\n",
        "print(\"The sum of %d and %d is %s.\" %(a,b,a+b))"
      ],
      "metadata": {
        "colab": {
          "base_uri": "https://localhost:8080/"
        },
        "id": "LaO3mhAAs4Th",
        "outputId": "98d0743e-3bea-4c05-fced-037b71d929f4"
      },
      "execution_count": 35,
      "outputs": [
        {
          "output_type": "stream",
          "name": "stdout",
          "text": [
            "The sum of 2 and 3 is 5.\n"
          ]
        }
      ]
    },
    {
      "cell_type": "code",
      "source": [
        "s1 = 'Ana'\n",
        "s2 = 'apples'\n",
        "print (\"%s has %s. \" %(s1, s2))\n",
        "print (\"The reverse of the sentence is: \\\"%s was %s.\\\"\" %(s1[::-1], s2[::-1]))"
      ],
      "metadata": {
        "colab": {
          "base_uri": "https://localhost:8080/"
        },
        "id": "8vrtt6Lhs_LI",
        "outputId": "1d58b106-07c7-468d-e9e6-f5cb65907c23"
      },
      "execution_count": 36,
      "outputs": [
        {
          "output_type": "stream",
          "name": "stdout",
          "text": [
            "Ana has apples. \n",
            "The reverse of the sentence is: \"anA was selppa.\"\n"
          ]
        }
      ]
    },
    {
      "cell_type": "markdown",
      "source": [
        "##<font color=\"#e8710a\">The IF Statement</font>\n",
        "\n",
        "The IF statement is a decision statement, compound, with the following general form:\n",
        "\n",
        "\n",
        "```\n",
        "if test1:\n",
        "    statements1\n",
        "elif test2:\n",
        "    statements2\n",
        "else:\n",
        "   statements3\n",
        "\n",
        "```\n",
        "\n",
        "`test1` and `test2`, as well as other expressions included in the `if` or `else` clauses, must return a truth or boolean value, as follows:\n",
        "\n",
        "*   All objects have an implicit boolean value;\n",
        "*   Any non-zero number and any non-null object is `True`;\n",
        "*   Numbers equal to 0, null (empty) objects, and the special object `None` are considered `False`;\n",
        "*   Comparisons and equality tests are recursively applied to data structures;\n",
        "*   Comparisons and equality tests return `True` or `False` (custom versions of 1 and 0);\n",
        "*   The boolean operators `and` and `or` return a `True` or `False` object;\n",
        "*   Chained boolean operators no longer execute if the result value is already known.\n",
        "\n",
        "\n",
        "\n",
        "Let's see some examples of using the IF statement:\n",
        "\n",
        "\n"
      ],
      "metadata": {
        "id": "6r7UEdpV9s9x"
      }
    },
    {
      "cell_type": "code",
      "source": [
        "if 1:\n",
        "  print('If branch')\n",
        "else:\n",
        "  print('Else branch')"
      ],
      "metadata": {
        "colab": {
          "base_uri": "https://localhost:8080/"
        },
        "id": "30eohQCa94PN",
        "outputId": "61762d25-6fd1-4654-c057-8560cd60553f"
      },
      "execution_count": 37,
      "outputs": [
        {
          "output_type": "stream",
          "name": "stdout",
          "text": [
            "If branch\n"
          ]
        }
      ]
    },
    {
      "cell_type": "code",
      "source": [
        "if False:\n",
        "  print('If branch')\n",
        "else:\n",
        "  print('Else branch')"
      ],
      "metadata": {
        "colab": {
          "base_uri": "https://localhost:8080/"
        },
        "id": "_ChaTJMp7UF5",
        "outputId": "5843ea16-4358-49b7-f967-1c4cf92f3924"
      },
      "execution_count": 38,
      "outputs": [
        {
          "output_type": "stream",
          "name": "stdout",
          "text": [
            "Else branch\n"
          ]
        }
      ]
    },
    {
      "cell_type": "code",
      "source": [
        "a = 3\n",
        "if a == 1:\n",
        "  print(\"a has the value 1\")\n",
        "elif a == 2:\n",
        "  print(\"a has the value 2\")\n",
        "else:\n",
        "  print(\"a has another value other than 1 or 2\")"
      ],
      "metadata": {
        "colab": {
          "base_uri": "https://localhost:8080/"
        },
        "id": "P_2zIUdU96Wk",
        "outputId": "f4926e93-208c-49b0-a297-494d0d8bcb19"
      },
      "execution_count": 39,
      "outputs": [
        {
          "output_type": "stream",
          "name": "stdout",
          "text": [
            "a has another value other than 1 or 2\n"
          ]
        }
      ]
    },
    {
      "cell_type": "markdown",
      "source": [
        "In Python<=3.10, there is no direct equivalent for the `switch` statement. But it can be substituted in 2 ways. For Python versions < 3.10, we can use a dictionary, but no additional statements can be executed, only a value is returned:"
      ],
      "metadata": {
        "id": "K5iWqaqX9_Qp"
      }
    },
    {
      "cell_type": "code",
      "source": [
        "cases = {'ana': 10,\n",
        "        'ionut': 9,\n",
        "        'maria': 8,\n",
        "        'george': 7}\n",
        "\n",
        "choice = 'maria'\n",
        "print(cases[choice])"
      ],
      "metadata": {
        "colab": {
          "base_uri": "https://localhost:8080/"
        },
        "id": "qSc0FdPt99BB",
        "outputId": "b010dc4f-305a-44d5-ca2c-e1875f151edc"
      },
      "execution_count": 40,
      "outputs": [
        {
          "output_type": "stream",
          "name": "stdout",
          "text": [
            "8\n"
          ]
        }
      ]
    },
    {
      "cell_type": "markdown",
      "source": [
        "In Python 3.10, the `match` statement was introduced in the form:\n",
        "\n",
        "```\n",
        "match choice:\n",
        "    case <pattern_1>:\n",
        "        <action_1>\n",
        "    case <pattern_2>:\n",
        "        <action_2>\n",
        "    case <pattern_3>:\n",
        "        <action_3>\n",
        "    case _:\n",
        "        <action_wildcard>\n",
        "```\n",
        "\n",
        "To use this statement, Python 3.10 is required. We can check the version of Python that is currently running with:"
      ],
      "metadata": {
        "id": "5EP81cK4-JXx"
      }
    },
    {
      "cell_type": "code",
      "source": [
        "!python --version"
      ],
      "metadata": {
        "colab": {
          "base_uri": "https://localhost:8080/"
        },
        "id": "Hs58-2rk-Kvc",
        "outputId": "b5b45d97-cf52-4756-e5c1-61645aea0128"
      },
      "execution_count": 41,
      "outputs": [
        {
          "output_type": "stream",
          "name": "stdout",
          "text": [
            "Python 3.11.11\n"
          ]
        }
      ]
    },
    {
      "cell_type": "markdown",
      "source": [
        "If the cell above displays Python>=3.10, you can run the next cell, otherwise you will get a syntax error."
      ],
      "metadata": {
        "id": "TOxOpYSi-UwS"
      }
    },
    {
      "cell_type": "code",
      "source": [
        "choice = 'adriana'\n",
        "match choice:\n",
        "  case \"ana\":\n",
        "    print (\"10\")\n",
        "  case \"ionut\":\n",
        "    print (\"9\")\n",
        "  case \"maria\":\n",
        "    print (\"8\")\n",
        "  case \"george\":\n",
        "    print (\"7\")\n",
        "  case _: # Default\n",
        "    print (\"I don't have information about this person\")"
      ],
      "metadata": {
        "id": "BVzi5wRb-GlQ",
        "colab": {
          "base_uri": "https://localhost:8080/"
        },
        "outputId": "634c8937-8877-4ebd-925d-43dc93279d13"
      },
      "execution_count": 42,
      "outputs": [
        {
          "output_type": "stream",
          "name": "stdout",
          "text": [
            "I don't have information about this person\n"
          ]
        }
      ]
    },
    {
      "cell_type": "markdown",
      "source": [
        "###<font color=\"#e8710a\">The Ternary Operator</font>\n",
        "\n",
        "Similar to the ternary operator in C/C++, `expr?true_branch:false_branch`, in Python we have this operator implemented using the `if` statement written on a single line:\n",
        "\n",
        "`R = Y if X else Z`\n",
        "\n",
        "Which would be equivalent to:\n",
        "\n",
        "```\n",
        "if X:\n",
        " \tR = Y\n",
        "else:\n",
        "  R = Z\n",
        "```"
      ],
      "metadata": {
        "id": "unCtUmLB-02f"
      }
    },
    {
      "cell_type": "code",
      "source": [
        "# Ternary operator with if\n",
        "a = 4\n",
        "b = 10 if a < 3 else 11\n",
        "print (b)"
      ],
      "metadata": {
        "colab": {
          "base_uri": "https://localhost:8080/"
        },
        "id": "N6gwDJCtJRNC",
        "outputId": "e9fee88a-1c15-4b89-80fc-726e405a5462"
      },
      "execution_count": 43,
      "outputs": [
        {
          "output_type": "stream",
          "name": "stdout",
          "text": [
            "11\n"
          ]
        }
      ]
    },
    {
      "cell_type": "code",
      "source": [
        "s = 'ana'\n",
        "t = ' has apples' if s == 'ana' else ' has pears'\n",
        "print (s+t)"
      ],
      "metadata": {
        "colab": {
          "base_uri": "https://localhost:8080/"
        },
        "id": "Rep_eSIRJiSI",
        "outputId": "811d761e-4586-49ce-fa29-6702c7d67a5c"
      },
      "execution_count": 44,
      "outputs": [
        {
          "output_type": "stream",
          "name": "stdout",
          "text": [
            "ana has apples\n"
          ]
        }
      ]
    },
    {
      "cell_type": "markdown",
      "source": [
        "###<font color=\"#e8710a\">Nested IF Statements</font>\n",
        "\n",
        "Unlike other programming languages where it can become quite complicated to track the branches of `else if` or `else` associated with an `if` statement, in Python, indentation makes this much simpler:"
      ],
      "metadata": {
        "id": "uLznqCP3cUsg"
      }
    },
    {
      "cell_type": "code",
      "source": [
        "a = 5\n",
        "b = 4\n",
        "c = 3\n",
        "if a > b:\n",
        "  if a > c:\n",
        "    print (\"Max = a:\", a)\n",
        "  else:\n",
        "    print (\"Max = c:\", c)\n",
        "else:\n",
        "  if b > c:\n",
        "    print (\"Max = b:\", b)\n",
        "  else:\n",
        "    print (\"Max = c:\", c)"
      ],
      "metadata": {
        "colab": {
          "base_uri": "https://localhost:8080/"
        },
        "id": "_8uPdQmKcn37",
        "outputId": "609c5515-a814-48c9-9f16-8a08bd12f4cb"
      },
      "execution_count": 45,
      "outputs": [
        {
          "output_type": "stream",
          "name": "stdout",
          "text": [
            "Max = a: 5\n"
          ]
        }
      ]
    },
    {
      "cell_type": "markdown",
      "source": [
        "##<font color=\"#e8710a\">The WHILE Statement</font>\n",
        "\n",
        "\n",
        "We move on to the cyclic or looping statements. The first statement of this type is the `while` statement which has the general form:\n",
        "\n",
        "```\n",
        "while condiție: # condiția de test a buclei\n",
        "  instrucțiuni  # corpul buclei\n",
        "else:           # ramură else opțională\n",
        "  instrucțiuni  # se execută dacă nu s-a ieșit din buclă cu break\n",
        "```\n",
        "\n",
        "Let's see a first example:"
      ],
      "metadata": {
        "id": "jdNaVhfP_PSy"
      }
    },
    {
      "cell_type": "code",
      "source": [
        "a = 10\n",
        "while a: # As long as a!=0\n",
        "  print(a, end=' ')\n",
        "  a-=1"
      ],
      "metadata": {
        "colab": {
          "base_uri": "https://localhost:8080/"
        },
        "id": "vASmUYYO-y4z",
        "outputId": "12e4f762-d411-4494-e4d4-973dae4b919c"
      },
      "execution_count": 46,
      "outputs": [
        {
          "output_type": "stream",
          "name": "stdout",
          "text": [
            "10 9 8 7 6 5 4 3 2 1 "
          ]
        }
      ]
    },
    {
      "cell_type": "markdown",
      "source": [
        "It is important that within the loop, the test condition is modified. Otherwise, we get infinite loops. For the following example, you will have to forcibly stop the execution of the cell using the stop icon on its left:"
      ],
      "metadata": {
        "id": "FGvMPL86Svnk"
      }
    },
    {
      "cell_type": "code",
      "source": [
        "a = 11\n",
        "while a: # as long as a != 0\n",
        "  print(a, end=' ')\n",
        "  a-=2"
      ],
      "metadata": {
        "id": "ccGvUsfN_isW",
        "colab": {
          "base_uri": "https://localhost:8080/"
        },
        "outputId": "4bccc4f9-badb-4b43-e877-dc81b86e6884"
      },
      "execution_count": 47,
      "outputs": [
        {
          "output_type": "stream",
          "name": "stdout",
          "text": [
            "11 9 7 5 3 1 -1 -3 -5 -7 -9 -11 -13 -15 -17 -19 -21 -23 -25 -27 -29 "
          ]
        }
      ]
    },
    {
      "cell_type": "markdown",
      "source": [
        "Obviously, there are cases where we do not want a loop to be executed until the test condition becomes false or to execute the entire body of statements. For this, we have jump statements: `break` and `continue`"
      ],
      "metadata": {
        "id": "eOBZcWcoT4NO"
      }
    },
    {
      "cell_type": "markdown",
      "source": [
        "* `break` - exits the loop that encapsulates it;\n",
        "* `continue` - jumps to the beginning of the loop that encapsulates it."
      ],
      "metadata": {
        "id": "HNkvVaEb_pRg"
      }
    },
    {
      "cell_type": "code",
      "source": [
        "a = 11\n",
        "while a:\n",
        "  if a < 5:\n",
        "    break # Exits while when a becomes 5\n",
        "  print(a, end=' ')\n",
        "  a-=1"
      ],
      "metadata": {
        "colab": {
          "base_uri": "https://localhost:8080/"
        },
        "id": "GpcIXDLkVbai",
        "outputId": "67fb681d-c12b-4709-89db-298cac776a75"
      },
      "execution_count": 48,
      "outputs": [
        {
          "output_type": "stream",
          "name": "stdout",
          "text": [
            "11 10 9 8 7 6 5 "
          ]
        }
      ]
    },
    {
      "cell_type": "code",
      "source": [
        "a = 11\n",
        "while a:\n",
        "  a-=1\n",
        "  if a < 5:\n",
        "    continue # Jumps over the following statements when a becomes 5\n",
        "  print(a, end=' ')\n",
        "\n",
        "print(\"\\na at the exit of the loop is:\", a)"
      ],
      "metadata": {
        "colab": {
          "base_uri": "https://localhost:8080/"
        },
        "id": "gYb3Lgl1WsFN",
        "outputId": "f32cb2f0-d38c-4556-892b-4b3b98e7455a"
      },
      "execution_count": 49,
      "outputs": [
        {
          "output_type": "stream",
          "name": "stdout",
          "text": [
            "10 9 8 7 6 5 \n",
            "a at the exit of the loop is: 0\n"
          ]
        }
      ]
    },
    {
      "cell_type": "markdown",
      "source": [
        "Also in the `while` loop we have the `else` branch, which is not common in many other programming languages. This branch is executed upon normal exit from the loop and is not executed when we exit with a `break` jump statement:"
      ],
      "metadata": {
        "id": "HYmFhTQLXURx"
      }
    },
    {
      "cell_type": "code",
      "source": [
        "a = 11\n",
        "while a:\n",
        "  a-=1\n",
        "else:\n",
        "  print (\"We reached the else branch!\")"
      ],
      "metadata": {
        "colab": {
          "base_uri": "https://localhost:8080/"
        },
        "id": "-ir9PVcRXkU7",
        "outputId": "dc1d4882-1904-4ba4-9dea-8b18f01fc791"
      },
      "execution_count": 50,
      "outputs": [
        {
          "output_type": "stream",
          "name": "stdout",
          "text": [
            "We reached the else branch!\n"
          ]
        }
      ]
    },
    {
      "cell_type": "code",
      "source": [
        "a = 11\n",
        "while a:\n",
        "  a-=1\n",
        "  if a < 5:\n",
        "    print (\"We exit the loop without going through the else branch\")\n",
        "    break\n",
        "else:\n",
        "  print (\"We reached the else branch!\")"
      ],
      "metadata": {
        "colab": {
          "base_uri": "https://localhost:8080/"
        },
        "id": "lKWWTyDKXubG",
        "outputId": "1dc3e3eb-acdf-49d2-b761-5f0b842da952"
      },
      "execution_count": 51,
      "outputs": [
        {
          "output_type": "stream",
          "name": "stdout",
          "text": [
            "We exit the loop without going through the else branch\n"
          ]
        }
      ]
    },
    {
      "cell_type": "markdown",
      "source": [
        "##<font color=\"#e8710a\">The FOR Statement</font>\n",
        "\n",
        "Another loop statement is the `for` statement with the general form given by:\n",
        "\n",
        "```\n",
        "for val in obiect_iterabil:\n",
        "  instrucțiuni\n",
        "else:\n",
        "  instrucțiuni #se execută doar la ieșirea normală din buclă\n",
        "```\n",
        "\n",
        "The object used in the header of the statement (`iterable_object`) must be **iterable**!!! This means it is either a sequence-type object or an object that implements iteration mechanisms. We will return to iterators towards the end of this tutorial.\n",
        "\n",
        "> **NOTE** `val` can be modified within the `for` loop, but it will return to the next value from the iterable object in the next iteration. Upon exiting the loop, `val` will store the last value used in the loop.\n"
      ],
      "metadata": {
        "id": "RJ2eEslsAlj-"
      }
    },
    {
      "cell_type": "code",
      "source": [
        "# for over a list\n",
        "for x in [\"ana\", \"has\", \"apples\"]:\n",
        "  print(x, end=' ')"
      ],
      "metadata": {
        "colab": {
          "base_uri": "https://localhost:8080/"
        },
        "id": "fYW3j0UVAap7",
        "outputId": "ca77d203-8321-481c-ad7f-734ff260b8a7"
      },
      "execution_count": 52,
      "outputs": [
        {
          "output_type": "stream",
          "name": "stdout",
          "text": [
            "ana has apples "
          ]
        }
      ]
    },
    {
      "cell_type": "code",
      "source": [
        "sum = 0\n",
        "for x in [1, 2, 3, 4]: # iterating over the list\n",
        "  sum += x\n",
        "print(\"Sum: \", sum)"
      ],
      "metadata": {
        "colab": {
          "base_uri": "https://localhost:8080/"
        },
        "id": "laS_ntNYCjUW",
        "outputId": "6a5c54e5-9ae5-40cb-a4c7-ed196c47a474"
      },
      "execution_count": 53,
      "outputs": [
        {
          "output_type": "stream",
          "name": "stdout",
          "text": [
            "Sum:  10\n"
          ]
        }
      ]
    },
    {
      "cell_type": "code",
      "source": [
        "# Iteration over string\n",
        "S = \"Python\"\n",
        "for c in S:\n",
        "  print(c, end=' ')"
      ],
      "metadata": {
        "colab": {
          "base_uri": "https://localhost:8080/"
        },
        "id": "hjPoQ0S5CnJp",
        "outputId": "466968ed-2f9f-44e3-fdd9-689393fc41ef"
      },
      "execution_count": 54,
      "outputs": [
        {
          "output_type": "stream",
          "name": "stdout",
          "text": [
            "P y t h o n "
          ]
        }
      ]
    },
    {
      "cell_type": "code",
      "source": [
        "# Iteration over tuple\n",
        "T = ('a', 'b', 'c')\n",
        "for x in T:\n",
        "  print(x, end=' ')"
      ],
      "metadata": {
        "colab": {
          "base_uri": "https://localhost:8080/"
        },
        "id": "rFBbjRD6CqxF",
        "outputId": "3f077b7c-6480-4e23-b105-28f268ecc8e2"
      },
      "execution_count": 55,
      "outputs": [
        {
          "output_type": "stream",
          "name": "stdout",
          "text": [
            "a b c "
          ]
        }
      ]
    },
    {
      "cell_type": "code",
      "source": [
        "# Tuple unpacking\n",
        "T = [(1, 2), (3, 4), (5, 6)]\n",
        "for (a, b) in T:\n",
        "  print(a, b)"
      ],
      "metadata": {
        "colab": {
          "base_uri": "https://localhost:8080/"
        },
        "id": "LRughYlrCskQ",
        "outputId": "4cd98362-653b-450c-def1-94e600eb1da4"
      },
      "execution_count": 56,
      "outputs": [
        {
          "output_type": "stream",
          "name": "stdout",
          "text": [
            "1 2\n",
            "3 4\n",
            "5 6\n"
          ]
        }
      ]
    },
    {
      "cell_type": "code",
      "source": [
        "# Iteration using dictionary keys\n",
        "D = {'a': 1, 'b': 2, 'c': 3}\n",
        "for key in D:\n",
        "  print(key, D[key])"
      ],
      "metadata": {
        "colab": {
          "base_uri": "https://localhost:8080/"
        },
        "id": "RKAAHGGyCv92",
        "outputId": "ff53a326-679e-48df-a018-8ea3ffe6bc00"
      },
      "execution_count": 57,
      "outputs": [
        {
          "output_type": "stream",
          "name": "stdout",
          "text": [
            "a 1\n",
            "b 2\n",
            "c 3\n"
          ]
        }
      ]
    },
    {
      "cell_type": "code",
      "source": [
        "# Iteration using keys and values from dictionary\n",
        "D = {'a': 1, 'b': 2, 'c': 3}\n",
        "for (key, value) in D.items():\n",
        "  print(key, value)"
      ],
      "metadata": {
        "colab": {
          "base_uri": "https://localhost:8080/"
        },
        "id": "JL5W1ghkC3II",
        "outputId": "01bd1dfa-788c-4b74-c9b7-c6ca978da6fa"
      },
      "execution_count": 58,
      "outputs": [
        {
          "output_type": "stream",
          "name": "stdout",
          "text": [
            "a 1\n",
            "b 2\n",
            "c 3\n"
          ]
        }
      ]
    },
    {
      "cell_type": "markdown",
      "source": [
        "###<font color=\"#e8710a\">Else Branch</font>\n",
        "\n",
        "As in the case of the WHILE statement, we have the `else` branch of the `for` statement which is executed only upon normal exit from the loop (without jump):"
      ],
      "metadata": {
        "id": "JxlDoGpDuW2W"
      }
    },
    {
      "cell_type": "code",
      "source": [
        "# Check the existence of a key in the dictionary\n",
        "D = {'a': 1, 'b': 2, 'c': 3}\n",
        "value = 4\n",
        "for key in D:\n",
        "  if D[key] == value:\n",
        "    print (\"Value was found\")\n",
        "    break\n",
        "else:\n",
        "  # If break was not called\n",
        "  print (\"Value was not found\", value)"
      ],
      "metadata": {
        "colab": {
          "base_uri": "https://localhost:8080/"
        },
        "id": "H60vEPxWuIHE",
        "outputId": "90df6042-d7de-45a3-c4f6-c59facde5bc4"
      },
      "execution_count": 59,
      "outputs": [
        {
          "output_type": "stream",
          "name": "stdout",
          "text": [
            "Value was not found 4\n"
          ]
        }
      ]
    },
    {
      "cell_type": "code",
      "source": [
        "# Force exit through break\n",
        "D = {'a': 1, 'b': 2, 'c': 3}\n",
        "value = 2\n",
        "for key in D:\n",
        "  if D[key] == value:\n",
        "    print (\"Value was found\")\n",
        "    break\n",
        "else:\n",
        "  # The else branch is not executed\n",
        "  print (\"Value was not found\", value)"
      ],
      "metadata": {
        "colab": {
          "base_uri": "https://localhost:8080/"
        },
        "id": "HtnKfs7xur5L",
        "outputId": "32a8aa86-339e-4482-9acb-3c625c9368ac"
      },
      "execution_count": 60,
      "outputs": [
        {
          "output_type": "stream",
          "name": "stdout",
          "text": [
            "Value was found\n"
          ]
        }
      ]
    },
    {
      "cell_type": "markdown",
      "source": [
        "###<font color=\"#e8710a\">Nested for Loops</font>"
      ],
      "metadata": {
        "id": "cvKidi5mDWhf"
      }
    },
    {
      "cell_type": "code",
      "source": [
        "letters = ['a', 'b', 'c']\n",
        "digits = [1, 2, 3]\n",
        "\n",
        "for l in letters: # Iterate over the letters list\n",
        "  for c in digits: # Iterate over the digits list\n",
        "    print (l,c)"
      ],
      "metadata": {
        "colab": {
          "base_uri": "https://localhost:8080/"
        },
        "id": "6bKee4qgC6XQ",
        "outputId": "22e8340e-fe0d-4cb4-b567-5ceabba35cc3"
      },
      "execution_count": 61,
      "outputs": [
        {
          "output_type": "stream",
          "name": "stdout",
          "text": [
            "a 1\n",
            "a 2\n",
            "a 3\n",
            "b 1\n",
            "b 2\n",
            "b 3\n",
            "c 1\n",
            "c 2\n",
            "c 3\n"
          ]
        }
      ]
    },
    {
      "cell_type": "markdown",
      "source": [
        "###<font color=\"#e8710a\">FOR and WHILE for Reading from Files</font>\n",
        "\n",
        "In most applications, it will be necessary to read or write data from/to files. Using the `while` or `for` loops, we can do this extremely simply."
      ],
      "metadata": {
        "id": "FsRbqtu0DZxt"
      }
    },
    {
      "cell_type": "code",
      "source": [
        "# We create a file to read from\n",
        "%%writefile test.txt\n",
        "Hello.\n",
        "How are you?"
      ],
      "metadata": {
        "colab": {
          "base_uri": "https://localhost:8080/"
        },
        "id": "X3yr75iVDDEM",
        "outputId": "15a976e3-9422-4d36-f162-ccebfd73aee1"
      },
      "execution_count": 62,
      "outputs": [
        {
          "output_type": "stream",
          "name": "stdout",
          "text": [
            "Overwriting test.txt\n"
          ]
        }
      ]
    },
    {
      "cell_type": "code",
      "source": [
        "# Using the while loop\n",
        "file = open('test.txt')\n",
        "while True:\n",
        "  char = file.read(1) # We read character by character\n",
        "  if not char:\n",
        "    break  # An empty string means the end of the file\n",
        "  print(char)"
      ],
      "metadata": {
        "colab": {
          "base_uri": "https://localhost:8080/"
        },
        "id": "ZNQ4ghkaDBpf",
        "outputId": "865b4d5e-35ff-4201-865a-8b43e26348ed"
      },
      "execution_count": 63,
      "outputs": [
        {
          "output_type": "stream",
          "name": "stdout",
          "text": [
            "H\n",
            "e\n",
            "l\n",
            "l\n",
            "o\n",
            ".\n",
            "\n",
            "\n",
            "H\n",
            "o\n",
            "w\n",
            " \n",
            "a\n",
            "r\n",
            "e\n",
            " \n",
            "y\n",
            "o\n",
            "u\n",
            "?\n",
            "\n",
            "\n"
          ]
        }
      ]
    },
    {
      "cell_type": "code",
      "source": [
        "# Using the for loop\n",
        "for char in open('test.txt').read():\n",
        "  print(char)"
      ],
      "metadata": {
        "colab": {
          "base_uri": "https://localhost:8080/"
        },
        "id": "ws8c_ADpDMvG",
        "outputId": "9a4cf063-25a3-49f4-cb4a-cb07e30db466"
      },
      "execution_count": 64,
      "outputs": [
        {
          "output_type": "stream",
          "name": "stdout",
          "text": [
            "H\n",
            "e\n",
            "l\n",
            "l\n",
            "o\n",
            ".\n",
            "\n",
            "\n",
            "H\n",
            "o\n",
            "w\n",
            " \n",
            "a\n",
            "r\n",
            "e\n",
            " \n",
            "y\n",
            "o\n",
            "u\n",
            "?\n",
            "\n",
            "\n"
          ]
        }
      ]
    },
    {
      "cell_type": "code",
      "source": [
        "# Reading line by line\n",
        "file = open('test.txt')\n",
        "while True:\n",
        "  line = file.readline()\n",
        "  if not line: break\n",
        "  print(line.rstrip())"
      ],
      "metadata": {
        "colab": {
          "base_uri": "https://localhost:8080/"
        },
        "id": "TcLF4bssDTf_",
        "outputId": "d13aac7e-9d7d-41e8-f023-7367dc72295c"
      },
      "execution_count": 65,
      "outputs": [
        {
          "output_type": "stream",
          "name": "stdout",
          "text": [
            "Hello.\n",
            "How are you?\n"
          ]
        }
      ]
    },
    {
      "cell_type": "code",
      "source": [
        "# We initially read all the lines and just display them in turn\n",
        "for line in open('test.txt').readlines():\n",
        "  print(line.rstrip())"
      ],
      "metadata": {
        "colab": {
          "base_uri": "https://localhost:8080/"
        },
        "id": "VkDgWm8vDnBM",
        "outputId": "6a16fcb5-a188-41d5-8bc3-7ce39601474a"
      },
      "execution_count": 66,
      "outputs": [
        {
          "output_type": "stream",
          "name": "stdout",
          "text": [
            "Hello.\n",
            "How are you?\n"
          ]
        }
      ]
    },
    {
      "cell_type": "code",
      "source": [
        "# Equivalent to\n",
        "for line in open('test.txt'):\n",
        "  print(line.rstrip())"
      ],
      "metadata": {
        "colab": {
          "base_uri": "https://localhost:8080/"
        },
        "id": "gK9Q3VeADqp3",
        "outputId": "f2b791fe-3432-4971-a36f-5b1d069023ea"
      },
      "execution_count": 67,
      "outputs": [
        {
          "output_type": "stream",
          "name": "stdout",
          "text": [
            "Hello.\n",
            "How are you?\n"
          ]
        }
      ]
    },
    {
      "cell_type": "markdown",
      "source": [
        "##<font color=\"#e8710a\">Additional Functions for Encoding Loops</font>"
      ],
      "metadata": {
        "id": "gNQfzL9zDtBs"
      }
    },
    {
      "cell_type": "markdown",
      "source": [
        "###<font color=\"#e8710a\">The range() Function</font>\n",
        "\n",
        "For for loops, we have seen so far that we need an iterable object in order to be able to run them. But most of the time we need a simple number iterator on the basis of which to traverse the loop a fixed number of times. For this we have the `range()` function:\n",
        "\n",
        "```\n",
        "range(start, stop, step)\n",
        "```\n",
        "\n",
        "The function will generate the numbers between `start` (inclusive) and `stop` (exclusive) with a step given by `step`. Start is implicitly 0, and step is implicitly +1:"
      ],
      "metadata": {
        "id": "ALdVJxaI6IUF"
      }
    },
    {
      "cell_type": "code",
      "source": [
        "# Numbers from 0 to 4\n",
        "list(range(5))"
      ],
      "metadata": {
        "colab": {
          "base_uri": "https://localhost:8080/"
        },
        "id": "1ZsGgHOVxDES",
        "outputId": "02ac43f2-154f-4618-fe8e-e46ad696c6d1"
      },
      "execution_count": 68,
      "outputs": [
        {
          "output_type": "execute_result",
          "data": {
            "text/plain": [
              "[0, 1, 2, 3, 4]"
            ]
          },
          "metadata": {},
          "execution_count": 68
        }
      ]
    },
    {
      "cell_type": "code",
      "source": [
        "# Numbers from 2 to 4\n",
        "list(range(2, 5))"
      ],
      "metadata": {
        "colab": {
          "base_uri": "https://localhost:8080/"
        },
        "id": "gepwBNuGDrpp",
        "outputId": "652d6d8d-b55f-487d-cdaf-3c539cc2b1dd"
      },
      "execution_count": 69,
      "outputs": [
        {
          "output_type": "execute_result",
          "data": {
            "text/plain": [
              "[2, 3, 4]"
            ]
          },
          "metadata": {},
          "execution_count": 69
        }
      ]
    },
    {
      "cell_type": "code",
      "source": [
        "# Numbers from 0 to 9 incremented by 2 at each step\n",
        "list(range(0, 10, 2))"
      ],
      "metadata": {
        "colab": {
          "base_uri": "https://localhost:8080/"
        },
        "id": "GxEPKyrwxLJP",
        "outputId": "d523e263-29cc-4a31-f46d-b6a893108ef3"
      },
      "execution_count": 70,
      "outputs": [
        {
          "output_type": "execute_result",
          "data": {
            "text/plain": [
              "[0, 2, 4, 6, 8]"
            ]
          },
          "metadata": {},
          "execution_count": 70
        }
      ]
    },
    {
      "cell_type": "code",
      "source": [
        "# Numbers from -5 to 4\n",
        "list(range(-5, 5))"
      ],
      "metadata": {
        "colab": {
          "base_uri": "https://localhost:8080/"
        },
        "id": "ZiBmR3Z8D2eJ",
        "outputId": "b1a99b6a-bdf7-4ff0-a53a-51ad8786bced"
      },
      "execution_count": 71,
      "outputs": [
        {
          "output_type": "execute_result",
          "data": {
            "text/plain": [
              "[-5, -4, -3, -2, -1, 0, 1, 2, 3, 4]"
            ]
          },
          "metadata": {},
          "execution_count": 71
        }
      ]
    },
    {
      "cell_type": "code",
      "source": [
        "# Numbers from 5 to -4 decremented by 2 at each step\n",
        "list(range(5, -5, -2))"
      ],
      "metadata": {
        "colab": {
          "base_uri": "https://localhost:8080/"
        },
        "id": "QD7rtL6gD3gZ",
        "outputId": "435d6618-ba54-4cf0-ea05-1aefdb73d847"
      },
      "execution_count": 72,
      "outputs": [
        {
          "output_type": "execute_result",
          "data": {
            "text/plain": [
              "[5, 3, 1, -1, -3]"
            ]
          },
          "metadata": {},
          "execution_count": 72
        }
      ]
    },
    {
      "cell_type": "code",
      "source": [
        "# Use in for\n",
        "for i in range(3):\n",
        "  print(i)"
      ],
      "metadata": {
        "colab": {
          "base_uri": "https://localhost:8080/"
        },
        "id": "ye2d3QQQD6Bc",
        "outputId": "9b238ed2-c335-4c27-fef2-0b1b161cc337"
      },
      "execution_count": 73,
      "outputs": [
        {
          "output_type": "stream",
          "name": "stdout",
          "text": [
            "0\n",
            "1\n",
            "2\n"
          ]
        }
      ]
    },
    {
      "cell_type": "markdown",
      "source": [
        "**<font color=\"#1589FF\">Range versus Slicing</font>**\n",
        "\n",
        "For sequence data types, `range()` can be replaced with the partitioning methods applied to them:"
      ],
      "metadata": {
        "id": "whOLXodZEGhR"
      }
    },
    {
      "cell_type": "code",
      "source": [
        "S = 'abcde'\n",
        "# Indices from 0 to the length of S, incremented by 2\n",
        "list(range(0, len(S), 2))"
      ],
      "metadata": {
        "colab": {
          "base_uri": "https://localhost:8080/"
        },
        "id": "gIEN9P0kEE9B",
        "outputId": "11137a7f-277f-4abb-f62b-74e4858b99e0"
      },
      "execution_count": 74,
      "outputs": [
        {
          "output_type": "execute_result",
          "data": {
            "text/plain": [
              "[0, 2, 4]"
            ]
          },
          "metadata": {},
          "execution_count": 74
        }
      ]
    },
    {
      "cell_type": "code",
      "source": [
        "# We display every second character from S using range()\n",
        "for i in range(0,len(S),2):\n",
        "  print(S[i])"
      ],
      "metadata": {
        "colab": {
          "base_uri": "https://localhost:8080/"
        },
        "id": "F4n6sDN4ELxD",
        "outputId": "577a9cec-dc1b-4d01-9b66-b8abee816fb5"
      },
      "execution_count": 75,
      "outputs": [
        {
          "output_type": "stream",
          "name": "stdout",
          "text": [
            "a\n",
            "c\n",
            "e\n"
          ]
        }
      ]
    },
    {
      "cell_type": "code",
      "source": [
        "# We display every second character from S using string partitioning\n",
        "for c in S[::2]:\n",
        "  print(c)"
      ],
      "metadata": {
        "colab": {
          "base_uri": "https://localhost:8080/"
        },
        "id": "dXQSHQTbEM8q",
        "outputId": "279ad78c-64a0-4950-c4df-1563d80ca758"
      },
      "execution_count": 76,
      "outputs": [
        {
          "output_type": "stream",
          "name": "stdout",
          "text": [
            "a\n",
            "c\n",
            "e\n"
          ]
        }
      ]
    },
    {
      "cell_type": "markdown",
      "source": [
        "###<font color=\"#e8710a\">The zip() Function</font>\n",
        "\n",
        "The `zip()` function allows combining multiple sequence-type data into one. The resulting sequence will be composed of the elements of the individual sequences at the same ordinal position:"
      ],
      "metadata": {
        "id": "bbAUMic8EO_k"
      }
    },
    {
      "cell_type": "code",
      "source": [
        "# We combine the elements of two lists\n",
        "L1 = [1,2,3,4]\n",
        "L2 = ['a', 'b', 'c', 'd']\n",
        "list(zip(L1, L2)) # The first element from L1 combined with the first element from L2..."
      ],
      "metadata": {
        "colab": {
          "base_uri": "https://localhost:8080/"
        },
        "id": "Pt2gFEbCEOZl",
        "outputId": "391330ea-650c-40dd-e26e-a0f15b3cacda"
      },
      "execution_count": 77,
      "outputs": [
        {
          "output_type": "execute_result",
          "data": {
            "text/plain": [
              "[(1, 'a'), (2, 'b'), (3, 'c'), (4, 'd')]"
            ]
          },
          "metadata": {},
          "execution_count": 77
        }
      ]
    },
    {
      "cell_type": "markdown",
      "source": [
        "Above we use the list constructor because `zip()` returns an iterable sequence and cannot be displayed directly:"
      ],
      "metadata": {
        "id": "6T7IMwxa26a6"
      }
    },
    {
      "cell_type": "code",
      "source": [
        "zip(L1,L2)"
      ],
      "metadata": {
        "colab": {
          "base_uri": "https://localhost:8080/"
        },
        "id": "YFlnNThk3CrM",
        "outputId": "6b46ec06-e852-4612-c6b8-77c6628e8581"
      },
      "execution_count": 78,
      "outputs": [
        {
          "output_type": "execute_result",
          "data": {
            "text/plain": [
              "<zip at 0x7d9b413ef140>"
            ]
          },
          "metadata": {},
          "execution_count": 78
        }
      ]
    },
    {
      "cell_type": "code",
      "source": [
        "# Use in for\n",
        "for (x, y) in zip(L1, L2):\n",
        "  print(x, y)"
      ],
      "metadata": {
        "colab": {
          "base_uri": "https://localhost:8080/"
        },
        "id": "HAJ0A23KEXwL",
        "outputId": "cd793f11-f098-44b5-e221-fbbbcfabb400"
      },
      "execution_count": 79,
      "outputs": [
        {
          "output_type": "stream",
          "name": "stdout",
          "text": [
            "1 a\n",
            "2 b\n",
            "3 c\n",
            "4 d\n"
          ]
        }
      ]
    },
    {
      "cell_type": "code",
      "source": [
        "# The sequences are cropped to the size of the shortest one\n",
        "S1 = 'abc'\n",
        "S2 = '12345'\n",
        "list(zip(S1, S2))"
      ],
      "metadata": {
        "colab": {
          "base_uri": "https://localhost:8080/"
        },
        "id": "dp-Ge2H0EafJ",
        "outputId": "fc938c54-12bf-4ae2-fa3f-6ae7c7577313"
      },
      "execution_count": 80,
      "outputs": [
        {
          "output_type": "execute_result",
          "data": {
            "text/plain": [
              "[('a', '1'), ('b', '2'), ('c', '3')]"
            ]
          },
          "metadata": {},
          "execution_count": 80
        }
      ]
    },
    {
      "cell_type": "markdown",
      "source": [
        "**<font color=\"#1589FF\">Creating Dictionaries with the zip() Function</font>**\n",
        "\n",
        "With the help of the `zip()` function, we can quickly create dictionaries if we know the keys and the values associated with these keys as sequences:"
      ],
      "metadata": {
        "id": "z6HSVbMKEoZA"
      }
    },
    {
      "cell_type": "code",
      "source": [
        "# We create an association between the key and value lists\n",
        "keys = ['ana', 'has', 'apples']\n",
        "values = [1, 2, 3]\n",
        "list(zip(keys, values))"
      ],
      "metadata": {
        "colab": {
          "base_uri": "https://localhost:8080/"
        },
        "id": "PWATraX9EmuN",
        "outputId": "dc9c2d20-d173-4dc2-bff8-8d9622715443"
      },
      "execution_count": 81,
      "outputs": [
        {
          "output_type": "execute_result",
          "data": {
            "text/plain": [
              "[('ana', 1), ('has', 2), ('apples', 3)]"
            ]
          },
          "metadata": {},
          "execution_count": 81
        }
      ]
    },
    {
      "cell_type": "code",
      "source": [
        "# We create a dictionary starting from the 2 lists\n",
        "D = {}\n",
        "for (k, v) in zip(keys, values):\n",
        "  D[k] = v\n",
        "D"
      ],
      "metadata": {
        "id": "5gdBCzwMEuxD",
        "colab": {
          "base_uri": "https://localhost:8080/"
        },
        "outputId": "9a95eb26-6603-4362-da4c-f31bea09a1cf"
      },
      "execution_count": 82,
      "outputs": [
        {
          "output_type": "execute_result",
          "data": {
            "text/plain": [
              "{'ana': 1, 'has': 2, 'apples': 3}"
            ]
          },
          "metadata": {},
          "execution_count": 82
        }
      ]
    },
    {
      "cell_type": "code",
      "source": [
        "# We can write on a single line using dictionary comprehension\n",
        "D = {k: v for (k, v) in zip(keys, values)}\n",
        "D"
      ],
      "metadata": {
        "colab": {
          "base_uri": "https://localhost:8080/"
        },
        "id": "LGfWNQgAEwD7",
        "outputId": "72b3eda7-b51d-485b-a786-c9961fb6d17a"
      },
      "execution_count": 83,
      "outputs": [
        {
          "output_type": "execute_result",
          "data": {
            "text/plain": [
              "{'ana': 1, 'has': 2, 'apples': 3}"
            ]
          },
          "metadata": {},
          "execution_count": 83
        }
      ]
    },
    {
      "cell_type": "code",
      "source": [
        "# Or we can use the dict() constructor\n",
        "D = dict(zip(keys,values))\n",
        "D"
      ],
      "metadata": {
        "colab": {
          "base_uri": "https://localhost:8080/"
        },
        "id": "7zIeoCq6EzW8",
        "outputId": "04a97915-2715-42b6-c15d-34e998b8733c"
      },
      "execution_count": 84,
      "outputs": [
        {
          "output_type": "execute_result",
          "data": {
            "text/plain": [
              "{'ana': 1, 'has': 2, 'apples': 3}"
            ]
          },
          "metadata": {},
          "execution_count": 84
        }
      ]
    },
    {
      "cell_type": "markdown",
      "source": [
        "###<font color=\"#e8710a\">The map() Function</font>\n",
        "\n",
        "The `map()` function will apply a specified function to each element in a sequence:"
      ],
      "metadata": {
        "id": "PL-D88UgEffU"
      }
    },
    {
      "cell_type": "code",
      "source": [
        "# We calculate the ASCII value of each character in the string\n",
        "list(map(ord, 'apple'))"
      ],
      "metadata": {
        "colab": {
          "base_uri": "https://localhost:8080/"
        },
        "id": "C_i52bFTEdzB",
        "outputId": "5b275733-b086-411e-eb45-bfec8b466c9b"
      },
      "execution_count": 85,
      "outputs": [
        {
          "output_type": "execute_result",
          "data": {
            "text/plain": [
              "[97, 112, 112, 108, 101]"
            ]
          },
          "metadata": {},
          "execution_count": 85
        }
      ]
    },
    {
      "cell_type": "code",
      "source": [
        "# We create a list containing the cube of the values in the initial list\n",
        "values = [1, 2, 3, 4, 5]\n",
        "def cube(n):\n",
        "    return n**3\n",
        "\n",
        "list(map(cube, values))"
      ],
      "metadata": {
        "colab": {
          "base_uri": "https://localhost:8080/"
        },
        "id": "EoAFProG24De",
        "outputId": "4f92985a-c8e5-4a22-fa19-c9c1778f0f23"
      },
      "execution_count": 86,
      "outputs": [
        {
          "output_type": "execute_result",
          "data": {
            "text/plain": [
              "[1, 8, 27, 64, 125]"
            ]
          },
          "metadata": {},
          "execution_count": 86
        }
      ]
    },
    {
      "cell_type": "markdown",
      "source": [
        "We can also use functions that take multiple parameters. In this case, we will have to provide iterables for each parameter separately:"
      ],
      "metadata": {
        "id": "y2_0F82y3dst"
      }
    },
    {
      "cell_type": "code",
      "source": [
        "# We raise each element in the base list to the power specified in power\n",
        "base = [2,2,2,2]\n",
        "power = [1,2,3,4]\n",
        "list(map(pow, base, power))"
      ],
      "metadata": {
        "colab": {
          "base_uri": "https://localhost:8080/"
        },
        "id": "yJPpFfby3nVW",
        "outputId": "f2f6e8a9-bd12-4d9c-f925-fc515753d5e8"
      },
      "execution_count": 87,
      "outputs": [
        {
          "output_type": "execute_result",
          "data": {
            "text/plain": [
              "[2, 4, 8, 16]"
            ]
          },
          "metadata": {},
          "execution_count": 87
        }
      ]
    },
    {
      "cell_type": "markdown",
      "source": [
        "###<font color=\"#e8710a\">The enumerate() Function</font>\n",
        "\n",
        "The `enumerate()` function will take each element from a sequence, as well as the index of this element in the sequence:"
      ],
      "metadata": {
        "id": "O_RtHChME3UI"
      }
    },
    {
      "cell_type": "code",
      "source": [
        "S = 'apple'\n",
        "for (index, elem) in enumerate(S):\n",
        "  \tprint(elem, 'appears at index', index)"
      ],
      "metadata": {
        "colab": {
          "base_uri": "https://localhost:8080/"
        },
        "id": "O-A0ScB4E2jK",
        "outputId": "fb3f318c-8576-4351-d87b-9bb7b567bd9d"
      },
      "execution_count": 88,
      "outputs": [
        {
          "output_type": "stream",
          "name": "stdout",
          "text": [
            "a appears at index 0\n",
            "p appears at index 1\n",
            "p appears at index 2\n",
            "l appears at index 3\n",
            "e appears at index 4\n"
          ]
        }
      ]
    },
    {
      "cell_type": "code",
      "source": [
        "# We iterate the lines in the file\n",
        "for (index, line) in enumerate(open('test.txt')):\n",
        " \tprint('Line %s: %s' % (index, line.strip()))"
      ],
      "metadata": {
        "colab": {
          "base_uri": "https://localhost:8080/"
        },
        "id": "0RIsXV6MFIeb",
        "outputId": "3053fded-3dc0-4af5-9b8d-7ee49b20146f"
      },
      "execution_count": 89,
      "outputs": [
        {
          "output_type": "stream",
          "name": "stdout",
          "text": [
            "Line 0: Hello.\n",
            "Line 1: How are you?\n"
          ]
        }
      ]
    },
    {
      "cell_type": "markdown",
      "source": [
        "##<font color=\"#e8710a\">Iterators</font>\n",
        "\n",
        "An **iterable object** is a generalization of the notion of a sequence. It can be a physically stored sequence (such as lists, tuples, dictionaries) or an object that produces the values in the sequence one by one.\n",
        "\n",
        "\n",
        "Any object that has a `__next__` method attached to advance to the next result and which throws the `StopIteration` exception at the end of the series of results is considered an iterator in Python. Such an object can be used in a for loop."
      ],
      "metadata": {
        "id": "DhnGP5QCFMPQ"
      }
    },
    {
      "cell_type": "markdown",
      "source": [
        "**<font color=\"#1589FF\">File Iterators</font>**"
      ],
      "metadata": {
        "id": "KnHrR_3AFtFn"
      }
    },
    {
      "cell_type": "code",
      "source": [
        "%%writefile input.txt\n",
        "Linia 1\n",
        "Linia 2\n",
        "Linia 3\n",
        "Linia 4"
      ],
      "metadata": {
        "colab": {
          "base_uri": "https://localhost:8080/"
        },
        "id": "f0vHilCUFKiw",
        "outputId": "f68a24d9-d429-47aa-c118-f01c5e4c2170"
      },
      "execution_count": 90,
      "outputs": [
        {
          "output_type": "stream",
          "name": "stdout",
          "text": [
            "Overwriting input.txt\n"
          ]
        }
      ]
    },
    {
      "cell_type": "code",
      "source": [
        "# We read the entire content of the file at once\n",
        "open('input.txt').read()"
      ],
      "metadata": {
        "colab": {
          "base_uri": "https://localhost:8080/",
          "height": 35
        },
        "id": "qOkQNDYCFi72",
        "outputId": "a02294cc-9733-4e86-8484-4df4694b34c0"
      },
      "execution_count": 91,
      "outputs": [
        {
          "output_type": "execute_result",
          "data": {
            "text/plain": [
              "'Linia 1\\nLinia 2\\nLinia 3\\nLinia 4\\n'"
            ],
            "application/vnd.google.colaboratory.intrinsic+json": {
              "type": "string"
            }
          },
          "metadata": {},
          "execution_count": 91
        }
      ]
    },
    {
      "cell_type": "code",
      "source": [
        "# We extract the lines from the file one by one using __next__\n",
        "f = open('input.txt')\n",
        "f.__next__()"
      ],
      "metadata": {
        "colab": {
          "base_uri": "https://localhost:8080/",
          "height": 35
        },
        "id": "wLVjniR2FqCw",
        "outputId": "bac5eda5-cc0a-489c-be8a-5f9f3e4736e5"
      },
      "execution_count": 92,
      "outputs": [
        {
          "output_type": "execute_result",
          "data": {
            "text/plain": [
              "'Linia 1\\n'"
            ],
            "application/vnd.google.colaboratory.intrinsic+json": {
              "type": "string"
            }
          },
          "metadata": {},
          "execution_count": 92
        }
      ]
    },
    {
      "cell_type": "code",
      "source": [
        "f.__next__() # The next line in the file"
      ],
      "metadata": {
        "colab": {
          "base_uri": "https://localhost:8080/",
          "height": 35
        },
        "id": "bb0rA71OFyOk",
        "outputId": "391b5d69-c453-4931-d1b0-a6e65729b15c"
      },
      "execution_count": 93,
      "outputs": [
        {
          "output_type": "execute_result",
          "data": {
            "text/plain": [
              "'Linia 2\\n'"
            ],
            "application/vnd.google.colaboratory.intrinsic+json": {
              "type": "string"
            }
          },
          "metadata": {},
          "execution_count": 93
        }
      ]
    },
    {
      "cell_type": "markdown",
      "source": [
        "##<font color=\"#e8710a\">Sequence Comprehension</font>\n",
        "\n",
        "An extremely powerful feature of the Python language and of object sequences is the comprehension mechanism.\n",
        "This mechanism involves creating sequence-type objects using a chaining of operations and functions written on a single line of code:\n",
        "\n",
        "```\n",
        "mylist = [expression for var in input_list if (var satisfies the condition)]\n",
        "\n",
        "dict = {key:value for (key, value) in iterable if (key, value satisfy the condition)}\n",
        "\n",
        "set = {expression for var in input_list if (var satisfies the condition)}\n",
        "```\n",
        "\n",
        "\n",
        "The equivalent for this mechanism would be using a `for` loop combined with `if` statements."
      ],
      "metadata": {
        "id": "RA_bKAiXGFoZ"
      }
    },
    {
      "cell_type": "code",
      "source": [
        "# Standard version\n",
        "L = [1, 2, 3, 4, 5]\n",
        "for i in range(len(L)):\n",
        "  L[i] += 10\n",
        "L"
      ],
      "metadata": {
        "colab": {
          "base_uri": "https://localhost:8080/"
        },
        "id": "1gMgMTgUGESQ",
        "outputId": "5c1e6685-6718-4e98-f4b5-c97d246415d6"
      },
      "execution_count": 94,
      "outputs": [
        {
          "output_type": "execute_result",
          "data": {
            "text/plain": [
              "[11, 12, 13, 14, 15]"
            ]
          },
          "metadata": {},
          "execution_count": 94
        }
      ]
    },
    {
      "cell_type": "code",
      "source": [
        "# List Comprehension\n",
        "L = [x + 10 for x in L]\n",
        "L"
      ],
      "metadata": {
        "id": "x6HJPEoPGMrX",
        "colab": {
          "base_uri": "https://localhost:8080/"
        },
        "outputId": "b58f3c0a-153b-4246-a2e1-578a92d32ad2"
      },
      "execution_count": 95,
      "outputs": [
        {
          "output_type": "execute_result",
          "data": {
            "text/plain": [
              "[21, 22, 23, 24, 25]"
            ]
          },
          "metadata": {},
          "execution_count": 95
        }
      ]
    },
    {
      "cell_type": "code",
      "source": [
        "# We create a list with the characters from the string\n",
        "S = 'Ana123'\n",
        "L = [c for c in S]\n",
        "L"
      ],
      "metadata": {
        "colab": {
          "base_uri": "https://localhost:8080/"
        },
        "id": "zs6b0GpsGS0E",
        "outputId": "188f5134-4555-411e-eef2-9ba41a77f59d"
      },
      "execution_count": 96,
      "outputs": [
        {
          "output_type": "execute_result",
          "data": {
            "text/plain": [
              "['A', 'n', 'a', '1', '2', '3']"
            ]
          },
          "metadata": {},
          "execution_count": 96
        }
      ]
    },
    {
      "cell_type": "code",
      "source": [
        "# We create a list with the uppercase characters from the string\n",
        "[c.upper() for c in S]"
      ],
      "metadata": {
        "colab": {
          "base_uri": "https://localhost:8080/"
        },
        "id": "rIjBn_TKGVOu",
        "outputId": "f0e49c80-491d-4043-c085-34059d78cc4e"
      },
      "execution_count": 97,
      "outputs": [
        {
          "output_type": "execute_result",
          "data": {
            "text/plain": [
              "['A', 'N', 'A', '1', '2', '3']"
            ]
          },
          "metadata": {},
          "execution_count": 97
        }
      ]
    },
    {
      "cell_type": "code",
      "source": [
        "# We create a list with the uppercase letters from the string\n",
        "[c.upper() for c in S if c.isalpha()]"
      ],
      "metadata": {
        "colab": {
          "base_uri": "https://localhost:8080/"
        },
        "id": "CZQzy8sxGZIw",
        "outputId": "aa0ac241-2792-4e71-90ae-5bbf09375f0c"
      },
      "execution_count": 98,
      "outputs": [
        {
          "output_type": "execute_result",
          "data": {
            "text/plain": [
              "['A', 'N', 'A']"
            ]
          },
          "metadata": {},
          "execution_count": 98
        }
      ]
    },
    {
      "cell_type": "code",
      "source": [
        "# We create a list with the uppercase letters from the list of strings\n",
        "# We use 2 for loops in comprehension\n",
        "L1 = [\"Ana has apples\", \"John has pears\", \"Michael has oranges\"]\n",
        "L2 = [c for word in L1 for c in word if c.isupper()]\n",
        "L2"
      ],
      "metadata": {
        "colab": {
          "base_uri": "https://localhost:8080/"
        },
        "id": "5BaMzAyYqwOK",
        "outputId": "2ac23d02-b767-422f-9409-a08093eef100"
      },
      "execution_count": 99,
      "outputs": [
        {
          "output_type": "execute_result",
          "data": {
            "text/plain": [
              "['A', 'J', 'M']"
            ]
          },
          "metadata": {},
          "execution_count": 99
        }
      ]
    },
    {
      "cell_type": "code",
      "source": [
        "# Dictionary comprehension - cube of the odd elements from the list\n",
        "L = [1, 2, 3, 4, 5, 6, 7]\n",
        "D = {var:var ** 3 for var in L if var % 2 != 0}\n",
        "D"
      ],
      "metadata": {
        "id": "YZvvQy-zqK0r",
        "colab": {
          "base_uri": "https://localhost:8080/"
        },
        "outputId": "61061ad9-4a5d-4e28-e660-ebca58caa2c9"
      },
      "execution_count": 100,
      "outputs": [
        {
          "output_type": "execute_result",
          "data": {
            "text/plain": [
              "{1: 1, 3: 27, 5: 125, 7: 343}"
            ]
          },
          "metadata": {},
          "execution_count": 100
        }
      ]
    },
    {
      "cell_type": "code",
      "source": [
        "# Set comprehension\n",
        "L = [1, 2, 3, 4, 5, 5]\n",
        "S = {x+10 for x in L}\n",
        "S"
      ],
      "metadata": {
        "colab": {
          "base_uri": "https://localhost:8080/"
        },
        "id": "3RdwSzn_qqXG",
        "outputId": "43c6acc5-16a5-432e-eb98-6276b87e91d1"
      },
      "execution_count": 101,
      "outputs": [
        {
          "output_type": "execute_result",
          "data": {
            "text/plain": [
              "{11, 12, 13, 14, 15}"
            ]
          },
          "metadata": {},
          "execution_count": 101
        }
      ]
    },
    {
      "cell_type": "markdown",
      "source": [
        "---\n",
        "\n",
        "##<font color=\"#e8710a\">Conclusions</font>\n",
        "\n",
        "In this tutorial, we have tried to introduce as many essential details as possible regarding the use of basic statements in the Python language. In the next tutorial, we will expand the use of these statements for creating functions, modules, and packages."
      ],
      "metadata": {
        "id": "CYUpjJ3747l2"
      }
    },
    {
      "cell_type": "markdown",
      "source": [
        "---\n",
        "\n",
        "##<font color=\"#1589FF\"> Exercises</font>\n",
        "\n",
        "1) Display the value of Pi obtained from the `math` module with a precision of 10 decimal places and right alignment on 20 positions."
      ],
      "metadata": {
        "id": "K8N2GAPyycLv"
      }
    },
    {
      "cell_type": "code",
      "source": [
        "## SOLUTION EX. 1"
      ],
      "metadata": {
        "id": "vo4CefLsC6HZ"
      },
      "execution_count": 102,
      "outputs": []
    },
    {
      "cell_type": "markdown",
      "source": [
        "2) Determine the maximum of three numbers using the `if` statement."
      ],
      "metadata": {
        "id": "mLHEP_EwsbU0"
      }
    },
    {
      "cell_type": "code",
      "source": [
        "## SOLUTION EX. 2"
      ],
      "metadata": {
        "id": "pAQ536sTsc1y"
      },
      "execution_count": 103,
      "outputs": []
    },
    {
      "cell_type": "markdown",
      "source": [
        "3) Display the first 20 values from the Fibonacci sequence."
      ],
      "metadata": {
        "id": "H8C7Z9GpsdPW"
      }
    },
    {
      "cell_type": "code",
      "source": [
        "## SOLUTION EX. 3"
      ],
      "metadata": {
        "id": "MtBDcuDysd4j"
      },
      "execution_count": 104,
      "outputs": []
    },
    {
      "cell_type": "markdown",
      "source": [
        "4) Write a program that displays every second character from a list of strings."
      ],
      "metadata": {
        "id": "P71cr9MisfuC"
      }
    },
    {
      "cell_type": "code",
      "source": [
        "L = [\"Ana\", \"Maria\", \"Popescu\", \"Ionescu\", \"Vasile\", \"Gheorghe\"]\n",
        "## SOLUTION EX. 4"
      ],
      "metadata": {
        "id": "3RoLzF1ssg4u"
      },
      "execution_count": 105,
      "outputs": []
    },
    {
      "cell_type": "markdown",
      "source": [
        "5) Write a program that determines the number of digits that make up an integer."
      ],
      "metadata": {
        "id": "OBn1xUOwseBj"
      }
    },
    {
      "cell_type": "code",
      "source": [
        "## SOLUTION EX. 5"
      ],
      "metadata": {
        "id": "fS3KtII2slx1"
      },
      "execution_count": 106,
      "outputs": []
    },
    {
      "cell_type": "markdown",
      "source": [
        "6) Create a list using the comprehension mechanism that contains only the numbers that are perfect squares from another list."
      ],
      "metadata": {
        "id": "POaJDQQnsmmw"
      }
    },
    {
      "cell_type": "code",
      "source": [
        "## SOLUTION EX. 6"
      ],
      "metadata": {
        "id": "ee5BHIWNsnSa"
      },
      "execution_count": 107,
      "outputs": []
    },
    {
      "cell_type": "markdown",
      "source": [
        "7) Create a dictionary through the comprehension mechanism that uses keys extracted from a list of strings, and the values associated with the keys are the indices where the character 'a' appears in the key. The keys are only those strings that contain only alphabetic characters."
      ],
      "metadata": {
        "id": "gvpKnXe_soF9"
      }
    },
    {
      "cell_type": "code",
      "source": [
        "L = [\"Ana\", \"Maria\", \"Popescu\", \"Ion12\", \"Vasile34\", \"Gheorghe\"]\n",
        "# Output: {'Ana': 2, 'Maria': 1, 'Popescu': -1, 'Gheorghe': -1}\n",
        "\n",
        "## SOLUTION EX. 7"
      ],
      "metadata": {
        "id": "j8y9wANtsoum"
      },
      "execution_count": 108,
      "outputs": []
    },
    {
      "cell_type": "markdown",
      "source": [
        "---\n",
        "\n",
        "##Additional References\n",
        "\n",
        "1. Advanced Comprehension: https://python-course.eu/advanced-python/list-comprehension.php?\n",
        "\n",
        "2. Iterators: https://docs.python.org/3/library/itertools.html"
      ],
      "metadata": {
        "id": "zR0rQ9pzyfgP"
      }
    }
  ]
}