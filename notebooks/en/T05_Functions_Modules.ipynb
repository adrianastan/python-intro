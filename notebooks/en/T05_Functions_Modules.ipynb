{
  "nbformat": 4,
  "nbformat_minor": 0,
  "metadata": {
    "colab": {
      "provenance": []
    },
    "kernelspec": {
      "name": "python3",
      "display_name": "Python 3"
    },
    "language_info": {
      "name": "python"
    }
  },
  "cells": [
    {
      "cell_type": "markdown",
      "source": [
        "<img src='https://upload.wikimedia.org/wikipedia/commons/c/c3/Python-logo-notext.svg' width=50/>\n",
        "<img src='https://upload.wikimedia.org/wikipedia/commons/d/d0/Google_Colaboratory_SVG_Logo.svg' width=90/>\n",
        "\n",
        "# <font size=50>Introduction in Python using Google Colab</font>\n",
        "<font color=\"#e8710a\">© Adriana STAN, David COMBEI, 2025</font>\n",
        "\n",
        "<font color=\"#e8710a\">Contributor: Gabriel ERDEI </font>\n",
        "\n",
        "[![Open In Colab](https://colab.research.google.com/assets/colab-badge.svg)](https://colab.research.google.com/github/adrianastan/python-intro/blob/main/notebooks/ro/T05_Functii_Module.ipynb)"
      ],
      "metadata": {
        "id": "D_1vcHZPtcqx"
      }
    },
    {
      "cell_type": "markdown",
      "source": [
        "# <font color=\"#e8710a\">T05. Functions. Modules. Packages</font>\n",
        "\n",
        "Code reuse is an extremely important aspect in streamlining application development. Defining a set of reusable functions, grouped into modules or packages, can easily achieve this. This tutorial presents the aspects related to these notions, highlighting in particular the flexibility of defining functions in the Python language.\n",
        "\n",
        "---\n",
        "<font color=\"#1589FF\"><b>Estimated Completion Time:</b> 150 min</font>\n",
        "\n",
        "---"
      ],
      "metadata": {
        "id": "qYd9bbyYHQWU"
      }
    },
    {
      "cell_type": "markdown",
      "source": [
        "## <font color=\"#e8710a\">Functions</font>\n",
        "\n",
        "Functions are sets of instructions that can be run multiple times during a program and usually return a result based on input parameters.\n",
        "\n",
        "Defining a function is done by using the keyword `def` followed by the function name, the list of arguments, and the colon symbol `:`. The return data is not specified, and the code related to the function is indented."
      ],
      "metadata": {
        "id": "ZATfbkrKCx-D"
      }
    },
    {
      "cell_type": "code",
      "source": [
        "# Defining a function\n",
        "def my_function():\n",
        "  print (\"My first function!\")"
      ],
      "metadata": {
        "id": "nBjMhbMbpfhd"
      },
      "execution_count": 1,
      "outputs": []
    },
    {
      "cell_type": "markdown",
      "source": [
        "The function call is done by the function name followed by the list of effective arguments (if any):\n"
      ],
      "metadata": {
        "id": "WLGeYfHSpf3U"
      }
    },
    {
      "cell_type": "code",
      "source": [
        "# Function call\n",
        "my_function()"
      ],
      "metadata": {
        "colab": {
          "base_uri": "https://localhost:8080/"
        },
        "id": "0Ke9HUkip_bP",
        "outputId": "cd8761f7-8cf6-4d77-ce51-0f6a88c01f6a"
      },
      "execution_count": 2,
      "outputs": [
        {
          "output_type": "stream",
          "name": "stdout",
          "text": [
            "My first function!\n"
          ]
        }
      ]
    },
    {
      "cell_type": "markdown",
      "source": [
        "If the function returns a value, it will be specified using the `return` statement:"
      ],
      "metadata": {
        "id": "1E3odvi6qLzR"
      }
    },
    {
      "cell_type": "code",
      "source": [
        "# Function that returns a value\n",
        "def my_function():\n",
        "  return \"Hello!\"\n",
        "\n",
        "my_function()"
      ],
      "metadata": {
        "colab": {
          "base_uri": "https://localhost:8080/",
          "height": 35
        },
        "id": "7necSXc_qVIz",
        "outputId": "7372e96d-4ae0-485b-c29a-95387a248f10"
      },
      "execution_count": 3,
      "outputs": [
        {
          "output_type": "execute_result",
          "data": {
            "text/plain": [
              "'Hello!'"
            ],
            "application/vnd.google.colaboratory.intrinsic+json": {
              "type": "string"
            }
          },
          "metadata": {},
          "execution_count": 3
        }
      ]
    },
    {
      "cell_type": "markdown",
      "source": [
        "The function's parameter list does not need to include their types; instead, they are replaced with actual parameters when the function is called."
      ],
      "metadata": {
        "id": "JOL1mu0FqgQ5"
      }
    },
    {
      "cell_type": "code",
      "source": [
        "# Function that takes two arguments as input\n",
        "def sum(a, b):\n",
        "  return a + b\n",
        "\n",
        "sum(1, 2)"
      ],
      "metadata": {
        "colab": {
          "base_uri": "https://localhost:8080/"
        },
        "id": "hKvJgpdAqnC0",
        "outputId": "15a3c884-2fab-474f-9341-6b8ce33128f5"
      },
      "execution_count": 4,
      "outputs": [
        {
          "output_type": "execute_result",
          "data": {
            "text/plain": [
              "3"
            ]
          },
          "metadata": {},
          "execution_count": 4
        }
      ]
    },
    {
      "cell_type": "markdown",
      "source": [
        "As a result, functions can be called with different types of objects, provided that the operations within the function are applicable to those objects."
      ],
      "metadata": {
        "id": "-JlsN4uwr4cy"
      }
    },
    {
      "cell_type": "code",
      "source": [
        "# Calling a function with different types of objects sent as arguments\n",
        "print(sum(1, 2))\n",
        "print(sum(3.14, 1.93))\n",
        "print(sum(\"Hello!\", \" How are you?\"))"
      ],
      "metadata": {
        "colab": {
          "base_uri": "https://localhost:8080/"
        },
        "id": "iERO7Y9lsD2n",
        "outputId": "41dbc570-ac99-4bc2-c142-aebfca5742ee"
      },
      "execution_count": 5,
      "outputs": [
        {
          "output_type": "stream",
          "name": "stdout",
          "text": [
            "3\n",
            "5.07\n",
            "Hello! How are you?\n"
          ]
        }
      ]
    },
    {
      "cell_type": "markdown",
      "source": [
        "From the previous example, we can observe another important characteristic in Python related to **operand polymorphism**. This means that the outcome of an operation depends on the operands involved. In Python, all operations are polymorphic, as long as the objects on which they are performed have the necessary behaviors defined."
      ],
      "metadata": {
        "id": "It1HCFO6sbu0"
      }
    },
    {
      "cell_type": "markdown",
      "source": [
        "**<font color=\"#1589FF\">Functions are objects</font>**\n",
        "\n",
        "Functions are actually objects, so their name is not relevant to the code and a new name can be assigned to a function without having any programmatic effect:"
      ],
      "metadata": {
        "id": "fi0tcm1Zqzxm"
      }
    },
    {
      "cell_type": "code",
      "source": [
        "def sum(a, b):\n",
        "  return a + b\n",
        "sum(1, 2)"
      ],
      "metadata": {
        "colab": {
          "base_uri": "https://localhost:8080/"
        },
        "id": "gyCxRolFo_2c",
        "outputId": "347fe103-e7f1-4bc9-8f45-867586e7f13b"
      },
      "execution_count": 6,
      "outputs": [
        {
          "output_type": "execute_result",
          "data": {
            "text/plain": [
              "3"
            ]
          },
          "metadata": {},
          "execution_count": 6
        }
      ]
    },
    {
      "cell_type": "code",
      "source": [
        "# Assign the function to another function object\n",
        "another_sum = sum\n",
        "# Call the new object\n",
        "another_sum(2, 3)"
      ],
      "metadata": {
        "colab": {
          "base_uri": "https://localhost:8080/"
        },
        "id": "YhlVpJyUpE3h",
        "outputId": "66808474-7e75-43ad-c632-9d3553c51ce7"
      },
      "execution_count": 7,
      "outputs": [
        {
          "output_type": "execute_result",
          "data": {
            "text/plain": [
              "5"
            ]
          },
          "metadata": {},
          "execution_count": 7
        }
      ]
    },
    {
      "cell_type": "markdown",
      "source": [
        "Because functions are objects, it is allowed to associate attributes to a function object. This may seem quite strange at first glance to a programmer who usually uses other programming languages:"
      ],
      "metadata": {
        "id": "0w4LbcHJEhe-"
      }
    },
    {
      "cell_type": "code",
      "source": [
        "# Assign an attribute to a function object\n",
        "sum.attr = 3\n",
        "sum.attr"
      ],
      "metadata": {
        "colab": {
          "base_uri": "https://localhost:8080/"
        },
        "id": "esY4rJErrZA5",
        "outputId": "13fac0b5-4fe2-4600-e761-0b175bb92044"
      },
      "execution_count": 8,
      "outputs": [
        {
          "output_type": "execute_result",
          "data": {
            "text/plain": [
              "3"
            ]
          },
          "metadata": {},
          "execution_count": 8
        }
      ]
    },
    {
      "cell_type": "markdown",
      "source": [
        "## <font color=\"#e8710a\">Passing arguments</font>\n",
        "\n"
      ],
      "metadata": {
        "id": "1r8Ng_pYGe5O"
      }
    },
    {
      "cell_type": "markdown",
      "source": [
        "Objects sent as parameters to function calls will be copied or referenced by local variables in the function.\n",
        "Immutable arguments are passed by **value**, and mutable arguments are passed by **reference**.\n",
        "\n",
        "\n",
        "> **NOTE!** Modifying a mutable object within a function can affect the object sent at the call!"
      ],
      "metadata": {
        "id": "4j7iTVJD1GvI"
      }
    },
    {
      "cell_type": "code",
      "source": [
        "# Immutable arguments\n",
        "def f(a):  # A copy of the object sent as an argument is made\n",
        "  a = 99   # We modify the local value\n",
        "\n",
        "b = 88\n",
        "f(b)  # a in the function will be a copy of the object sent as an argument\n",
        "print(b)  # b does not change"
      ],
      "metadata": {
        "colab": {
          "base_uri": "https://localhost:8080/"
        },
        "id": "-hIoz3nfGdnW",
        "outputId": "f24372cf-95e0-49a3-8755-a6c8b2b51d21"
      },
      "execution_count": 9,
      "outputs": [
        {
          "output_type": "stream",
          "name": "stdout",
          "text": [
            "88\n"
          ]
        }
      ]
    },
    {
      "cell_type": "code",
      "source": [
        "# Mutable arguments\n",
        "def f(a, b):\n",
        "  a = 2        # Modify the local copy\n",
        "  b[0] = 'Mara' # Modify the referenced object\n",
        "\n",
        "m = 1\n",
        "l = [\"Ana\", \"has\"]\n",
        "f(m, l)  # Send mutable and immutable objects\n",
        "m, l    # m does not change, l changes"
      ],
      "metadata": {
        "colab": {
          "base_uri": "https://localhost:8080/"
        },
        "id": "8TMq4zsYGpuO",
        "outputId": "a6cac679-e399-4efc-cce3-9e877d2d94e8"
      },
      "execution_count": 10,
      "outputs": [
        {
          "output_type": "execute_result",
          "data": {
            "text/plain": [
              "(1, ['Mara', 'has'])"
            ]
          },
          "metadata": {},
          "execution_count": 10
        }
      ]
    },
    {
      "cell_type": "markdown",
      "source": [
        "**<font color=\"#1589FF\">Preventing Modification of Arguments</font>**\n",
        "\n",
        "To prevent modifying mutable objects, a copy of the object can be passed to the function:"
      ],
      "metadata": {
        "id": "eZmyarFeG0e3"
      }
    },
    {
      "cell_type": "code",
      "source": [
        "l = [\"Ana\", \"has\"]\n",
        "f(m, l[:])  # Send a copy of l at the call\n",
        "m, l"
      ],
      "metadata": {
        "colab": {
          "base_uri": "https://localhost:8080/"
        },
        "id": "JxfWDzZJGuKU",
        "outputId": "f9972d58-8fa9-4533-be74-7538ac245dc5"
      },
      "execution_count": 11,
      "outputs": [
        {
          "output_type": "execute_result",
          "data": {
            "text/plain": [
              "(1, ['Ana', 'has'])"
            ]
          },
          "metadata": {},
          "execution_count": 11
        }
      ]
    },
    {
      "cell_type": "code",
      "source": [
        "# Or we modify the function to work with a copy of the mutable object\n",
        "def f(a, b):\n",
        "  b = b[:]      # Make a copy of the object sent to the function\n",
        "  a = 2\n",
        "  b[0] = 'Mara' # Modifies only the copy of the list\n",
        "\n",
        "l = [\"Ana\", \"has\"]\n",
        "f(m, l)\n",
        "m, l"
      ],
      "metadata": {
        "colab": {
          "base_uri": "https://localhost:8080/"
        },
        "id": "s9yxXkLwzyY5",
        "outputId": "6835512c-4b56-4ee2-f418-d5bed24dca9c"
      },
      "execution_count": 12,
      "outputs": [
        {
          "output_type": "execute_result",
          "data": {
            "text/plain": [
              "(1, ['Ana', 'has'])"
            ]
          },
          "metadata": {},
          "execution_count": 12
        }
      ]
    },
    {
      "cell_type": "markdown",
      "source": [
        "##<font color=\"#e8710a\">Arguments ++</font>\n",
        "\n",
        "An important feature of Python is the flexibility in the list of arguments that can be passed to functions. A comprehensive list of methods for using arguments is provided in the following table:\n",
        "\n",
        "Syntax | Location | Interpretation\n",
        "---|---|---\n",
        "func(var)|Call|Positional argument\n",
        "func(name=var)|Call|Keyword argument identified by the parameter name\n",
        "func(*pargs)|Call|All objects from the iterable are sent as individual positional arguments\n",
        "func(**kargs)|Call|All key-value pairs from the dictionary are sent as individual keyword arguments\n",
        "def func(var)|Function|Normal argument, identifies any value sent by position or name\n",
        "def func(name=var)|Function|Default value of the argument if no value is passed\n",
        "def func(*name)|Function|Identifies and collects all positional arguments into a tuple\n",
        "def func(**name)|Function|Identifies and collects all keyword arguments into a dictionary\n",
        "def func(*rest, name)|Function|Arguments that must only be passed in keyword calls (Python 3.x)\n",
        "def func(*, name=val)|Function|Arguments that must only be passed in keyword calls (Python 3.x)\n",
        "\n",
        "\n"
      ],
      "metadata": {
        "id": "5eMc8G5HHao0"
      }
    },
    {
      "cell_type": "markdown",
      "source": [
        "### <font color=\"#e8710a\">Order of Arguments</font>\n",
        "\n",
        "Due to the complexity of how arguments are passed to functions, a specific order must be followed both when calling the function and when defining it:\n",
        "\n",
        "**When calling the function:**\n",
        "* Positional arguments\n",
        "* Keyword arguments\n",
        "* \\*pargs argument\n",
        "* \\*\\*kargs argument\n",
        "\n",
        "**When defining the function:**\n",
        "* Positional arguments\n",
        "* Arguments with default values\n",
        "* \\*pargs (or * in Python 3.x)\n",
        "* Keyword arguments\n",
        "* \\*\\*kargs\n",
        "\n",
        "In Python 3.x, function declarations were introduced that allow the use of [keyword-only arguments](https://peps.python.org/pep-3102/)."
      ],
      "metadata": {
        "id": "2knsgPfo6t0k"
      }
    },
    {
      "cell_type": "code",
      "source": [
        "# Positional arguments\n",
        "def f(a, b, c):\n",
        "  print(a, b, c)\n",
        "\n",
        "# The order of arguments in the call matters\n",
        "f(1, 2, 3)\n",
        "f(2, 1, 3)"
      ],
      "metadata": {
        "colab": {
          "base_uri": "https://localhost:8080/"
        },
        "id": "P9x4AX2OHSxt",
        "outputId": "d6070496-f2fd-4d5b-a53a-19aa99393b7f"
      },
      "execution_count": 13,
      "outputs": [
        {
          "output_type": "stream",
          "name": "stdout",
          "text": [
            "1 2 3\n",
            "2 1 3\n"
          ]
        }
      ]
    },
    {
      "cell_type": "code",
      "source": [
        "# Keyword arguments\n",
        "# You can specify the name of the argument and the value passed\n",
        "f(c=3, b=2, a=1)\n",
        "f(b=3, a=1, c=2)"
      ],
      "metadata": {
        "colab": {
          "base_uri": "https://localhost:8080/"
        },
        "id": "XbYVH2GbHj4Q",
        "outputId": "50f9e2a4-c4a3-432e-e8dc-d98fcf2f7726"
      },
      "execution_count": 14,
      "outputs": [
        {
          "output_type": "stream",
          "name": "stdout",
          "text": [
            "1 2 3\n",
            "1 3 2\n"
          ]
        }
      ]
    },
    {
      "cell_type": "code",
      "source": [
        "# Combine positional arguments with keyword arguments\n",
        "f(1, c=3, b=2)  # a receives value based on position, b and c are sent by name"
      ],
      "metadata": {
        "id": "tcoFIbmeHm5Q",
        "colab": {
          "base_uri": "https://localhost:8080/"
        },
        "outputId": "6e6d3926-1d16-4195-d8ed-3951fcc7ec52"
      },
      "execution_count": 15,
      "outputs": [
        {
          "output_type": "stream",
          "name": "stdout",
          "text": [
            "1 2 3\n"
          ]
        }
      ]
    },
    {
      "cell_type": "markdown",
      "source": [
        "###<font color=\"#e8710a\">Default values of arguments</font>"
      ],
      "metadata": {
        "id": "4Oqb6PJEHpXs"
      }
    },
    {
      "cell_type": "code",
      "source": [
        "# Define default values for a, b and c\n",
        "def f(a=1, b=2, c=3):\n",
        "  print(a, b, c)\n",
        "\n",
        "# Default values are used for unpassed arguments\n",
        "f()\n",
        "f(2)\n",
        "f(a=2)"
      ],
      "metadata": {
        "colab": {
          "base_uri": "https://localhost:8080/"
        },
        "id": "2d6gu-QQHqqg",
        "outputId": "bf8bd260-e24c-4787-f907-b75db151d90d"
      },
      "execution_count": 16,
      "outputs": [
        {
          "output_type": "stream",
          "name": "stdout",
          "text": [
            "1 2 3\n",
            "2 2 3\n",
            "2 2 3\n"
          ]
        }
      ]
    },
    {
      "cell_type": "code",
      "source": [
        "# Overwrite default values positionally\n",
        "f(1, 4)  # c will take the default value\n",
        "f(1, 4, 5)"
      ],
      "metadata": {
        "colab": {
          "base_uri": "https://localhost:8080/"
        },
        "id": "3qo7C8cHHsfz",
        "outputId": "4fd6d0c9-ccdf-411c-e824-5bf08b203e47"
      },
      "execution_count": 17,
      "outputs": [
        {
          "output_type": "stream",
          "name": "stdout",
          "text": [
            "1 4 3\n",
            "1 4 5\n"
          ]
        }
      ]
    },
    {
      "cell_type": "code",
      "source": [
        "# Specify which default value we overwrite\n",
        "f(1, c=6)  # a will take the value positionally"
      ],
      "metadata": {
        "colab": {
          "base_uri": "https://localhost:8080/"
        },
        "id": "rEO_o6n4Hywm",
        "outputId": "a9418b32-87ba-4962-b565-b93e28268485"
      },
      "execution_count": 18,
      "outputs": [
        {
          "output_type": "stream",
          "name": "stdout",
          "text": [
            "1 2 6\n"
          ]
        }
      ]
    },
    {
      "cell_type": "markdown",
      "source": [
        "**<font color=\"#1589FF\">Mutable Default Values</font>**\n",
        "\n",
        "When mutable objects are used as default values, the same object is shared across all calls to the function that rely solely on the default values."
      ],
      "metadata": {
        "id": "_e63wMw9ID7u"
      }
    },
    {
      "cell_type": "code",
      "source": [
        "def f(a=[]):\n",
        "  a.append(1)\n",
        "  print(a)\n",
        "\n",
        "f()\n",
        "f()\n",
        "f([3])  # Send another list"
      ],
      "metadata": {
        "colab": {
          "base_uri": "https://localhost:8080/"
        },
        "id": "zfjeQc0p5PEQ",
        "outputId": "2b878195-547a-4463-d381-295fec11e7d4"
      },
      "execution_count": 19,
      "outputs": [
        {
          "output_type": "stream",
          "name": "stdout",
          "text": [
            "[1]\n",
            "[1, 1]\n",
            "[3, 1]\n"
          ]
        }
      ]
    },
    {
      "cell_type": "markdown",
      "source": [
        "### <font color=\"#e8710a\">Calling with a Variable Number of Arguments</font>\n",
        "\n",
        "Python allows a variable number of arguments to be passed to a function:"
      ],
      "metadata": {
        "id": "fq9pHx2k5Mq7"
      }
    },
    {
      "cell_type": "code",
      "source": [
        "# Function with a variable list of positional arguments\n",
        "def f(*pargs):\n",
        "  print(pargs)\n",
        "# Call without arguments\n",
        "f()"
      ],
      "metadata": {
        "colab": {
          "base_uri": "https://localhost:8080/"
        },
        "id": "GejCB1DSIMUL",
        "outputId": "335caba4-9652-4445-e3f7-e9076e928ee4"
      },
      "execution_count": 20,
      "outputs": [
        {
          "output_type": "stream",
          "name": "stdout",
          "text": [
            "()\n"
          ]
        }
      ]
    },
    {
      "cell_type": "code",
      "source": [
        "# Call with one argument\n",
        "f(1)"
      ],
      "metadata": {
        "colab": {
          "base_uri": "https://localhost:8080/"
        },
        "id": "PDyvGafXIOEh",
        "outputId": "aee44156-daf6-4e16-b084-c4d0d14c1f5f"
      },
      "execution_count": 21,
      "outputs": [
        {
          "output_type": "stream",
          "name": "stdout",
          "text": [
            "(1,)\n"
          ]
        }
      ]
    },
    {
      "cell_type": "code",
      "source": [
        "# Call with 4 arguments\n",
        "f(1, 2, 3, 4)"
      ],
      "metadata": {
        "colab": {
          "base_uri": "https://localhost:8080/"
        },
        "id": "5-tloO7dIPOI",
        "outputId": "8720e842-6bf7-4758-d47e-f64d6db6af2c"
      },
      "execution_count": 22,
      "outputs": [
        {
          "output_type": "stream",
          "name": "stdout",
          "text": [
            "(1, 2, 3, 4)\n"
          ]
        }
      ]
    },
    {
      "cell_type": "code",
      "source": [
        "# Variable list of keyword arguments\n",
        "def f(**kargs):\n",
        "  print(kargs)\n",
        "\n",
        "# Call without arguments\n",
        "f()"
      ],
      "metadata": {
        "colab": {
          "base_uri": "https://localhost:8080/"
        },
        "id": "8Qwv4XBqIQoT",
        "outputId": "c19505c8-51cd-4f13-de0f-38cf71299d75"
      },
      "execution_count": 23,
      "outputs": [
        {
          "output_type": "stream",
          "name": "stdout",
          "text": [
            "{}\n"
          ]
        }
      ]
    },
    {
      "cell_type": "code",
      "source": [
        "# Call with two keyword arguments\n",
        "# Arguments are stored as a dictionary\n",
        "f(a=1, b=2)"
      ],
      "metadata": {
        "colab": {
          "base_uri": "https://localhost:8080/"
        },
        "id": "EQnEgPm1ITXg",
        "outputId": "2fd2b1ce-8a0f-4cb1-d5b0-1abd6aaa711b"
      },
      "execution_count": 24,
      "outputs": [
        {
          "output_type": "stream",
          "name": "stdout",
          "text": [
            "{'a': 1, 'b': 2}\n"
          ]
        }
      ]
    },
    {
      "cell_type": "code",
      "source": [
        "# Combine positional argument with variable list of positional arguments\n",
        "# and variable list of keyword arguments\n",
        "def f(a, *pargs, **kargs):\n",
        "  print(a, pargs, kargs)"
      ],
      "metadata": {
        "id": "JjjhRkxTIUmC"
      },
      "execution_count": 25,
      "outputs": []
    },
    {
      "cell_type": "code",
      "source": [
        "f(1, 2, 3, x=1, y=2)"
      ],
      "metadata": {
        "colab": {
          "base_uri": "https://localhost:8080/"
        },
        "id": "adCh2_kcIXu3",
        "outputId": "56ff8815-f525-4496-bb8f-888d2517c7d7"
      },
      "execution_count": 26,
      "outputs": [
        {
          "output_type": "stream",
          "name": "stdout",
          "text": [
            "1 (2, 3) {'x': 1, 'y': 2}\n"
          ]
        }
      ]
    },
    {
      "cell_type": "markdown",
      "source": [
        "**<font color=\"#1589FF\">Unpacking arguments</font>**\n",
        "\n",
        "Unpacking arguments refers to the process of passing a list of arguments to functions using dictionaries:"
      ],
      "metadata": {
        "id": "_MysT2KhIZ9S"
      }
    },
    {
      "cell_type": "code",
      "source": [
        "def f(a, *pargs, **kargs):\n",
        "  print(a, pargs, kargs)\n",
        "\n",
        "f(1, 2, 3, x=1, y=2)"
      ],
      "metadata": {
        "colab": {
          "base_uri": "https://localhost:8080/"
        },
        "id": "q4cMV7KVIYJk",
        "outputId": "e83b1661-07ba-4415-c6a1-aa56cf8d4109"
      },
      "execution_count": 27,
      "outputs": [
        {
          "output_type": "stream",
          "name": "stdout",
          "text": [
            "1 (2, 3) {'x': 1, 'y': 2}\n"
          ]
        }
      ]
    },
    {
      "cell_type": "code",
      "source": [
        "# Define a dictionary for the list of call arguments\n",
        "kargs = {'a': 1, 'b': 2, 'c': 3}\n",
        "kargs['d'] = 4\n",
        "# Call the function using the previously defined dictionary\n",
        "f(**kargs)"
      ],
      "metadata": {
        "id": "CIQ5nvMZIdBw",
        "colab": {
          "base_uri": "https://localhost:8080/"
        },
        "outputId": "14695fcd-822f-4d0f-e186-abdaf78a45ac"
      },
      "execution_count": 28,
      "outputs": [
        {
          "output_type": "stream",
          "name": "stdout",
          "text": [
            "1 () {'b': 2, 'c': 3, 'd': 4}\n"
          ]
        }
      ]
    },
    {
      "cell_type": "markdown",
      "source": [
        "## <font color=\"#e8710a\">Functions - Advanced Elements</font>\n",
        "\n",
        "Before delving into advanced concepts related to functions, it’s important to keep in mind some fundamental principles for writing functions:\n",
        "\n",
        "- Functions should not depend on external elements; they should be self-contained and as simple as possible, focusing on a single purpose.\n",
        "- The use of global variables should be minimized.\n",
        "- Mutable objects should not be modified unless the caller explicitly expects it."
      ],
      "metadata": {
        "id": "oOxbZuDvJX5a"
      }
    },
    {
      "cell_type": "markdown",
      "source": [
        "### <font color=\"#e8710a\">Recursive functions</font>\n",
        "\n",
        "Recursive functions have in their body a call to the currently defined function. It is important that recursive functions have a final condition (the last step in recursion), otherwise the recursion becomes infinite and the code remains blocked in this function."
      ],
      "metadata": {
        "id": "ZJHn7G1_66nM"
      }
    },
    {
      "cell_type": "code",
      "source": [
        "# Calculate factorial() recursively\n",
        "def factorial(n):\n",
        "    if n == 1:\n",
        "        return 1\n",
        "    else:\n",
        "        return (n * factorial(n - 1))\n",
        "\n",
        "factorial(10)"
      ],
      "metadata": {
        "id": "4JvR3L2nJWaD",
        "colab": {
          "base_uri": "https://localhost:8080/"
        },
        "outputId": "57a90bbb-2343-4b96-e3e3-c360de804561"
      },
      "execution_count": 29,
      "outputs": [
        {
          "output_type": "execute_result",
          "data": {
            "text/plain": [
              "3628800"
            ]
          },
          "metadata": {},
          "execution_count": 29
        }
      ]
    },
    {
      "cell_type": "code",
      "source": [
        "# Calculate fibonacci() recursively\n",
        "def fibonacci(n):\n",
        "    if n == 0:\n",
        "        return 0\n",
        "    elif n == 1 or n == 2:\n",
        "        return 1\n",
        "    else:\n",
        "        return fibonacci(n - 1) + fibonacci(n - 2)\n",
        "\n",
        "fibonacci(10)"
      ],
      "metadata": {
        "colab": {
          "base_uri": "https://localhost:8080/"
        },
        "id": "wXKRjk5X8p--",
        "outputId": "1c1c2e48-d607-4b2d-97e0-78691fceb240"
      },
      "execution_count": 30,
      "outputs": [
        {
          "output_type": "execute_result",
          "data": {
            "text/plain": [
              "55"
            ]
          },
          "metadata": {},
          "execution_count": 30
        }
      ]
    },
    {
      "cell_type": "markdown",
      "source": [
        "### <font color=\"#e8710a\">Function objects</font>\n",
        "\n",
        "We also mentioned at the beginning of this tutorial that functions in Python are also objects. This means that we can treat them as such:"
      ],
      "metadata": {
        "id": "EzIR9PySJzS_"
      }
    },
    {
      "cell_type": "code",
      "source": [
        "def func(s):\n",
        "  print(s)\n",
        "func('Hello')  # Direct call"
      ],
      "metadata": {
        "colab": {
          "base_uri": "https://localhost:8080/"
        },
        "id": "_mRti94GJ3Am",
        "outputId": "c6e8568c-8702-4d2c-ecd0-3b0d845df590"
      },
      "execution_count": 31,
      "outputs": [
        {
          "output_type": "stream",
          "name": "stdout",
          "text": [
            "Hello\n"
          ]
        }
      ]
    },
    {
      "cell_type": "code",
      "source": [
        "another_func = func  # Create a new reference to the func object\n",
        "another_func('Bye')  # Call through the new created object"
      ],
      "metadata": {
        "id": "TdmBt4mTJ64s",
        "colab": {
          "base_uri": "https://localhost:8080/"
        },
        "outputId": "e91d343e-2796-48d2-8dcb-25f3ef253e64"
      },
      "execution_count": 32,
      "outputs": [
        {
          "output_type": "stream",
          "name": "stdout",
          "text": [
            "Bye\n"
          ]
        }
      ]
    },
    {
      "cell_type": "markdown",
      "source": [
        "Thus we can create a function that calls functions passed as arguments:"
      ],
      "metadata": {
        "id": "1tNoo7LaAzQW"
      }
    },
    {
      "cell_type": "code",
      "source": [
        "def indirect(func, arg):\n",
        "  func(arg)  # Call the function passed as an argument\n",
        "\n",
        "indirect(func, 'How are you?')"
      ],
      "metadata": {
        "colab": {
          "base_uri": "https://localhost:8080/"
        },
        "id": "z81b9TqxJ92u",
        "outputId": "8d9e56de-e2fd-41b7-9152-2c0989552fab"
      },
      "execution_count": 33,
      "outputs": [
        {
          "output_type": "stream",
          "name": "stdout",
          "text": [
            "How are you?\n"
          ]
        }
      ]
    },
    {
      "cell_type": "code",
      "source": [
        "# Define another function\n",
        "def func2(L):\n",
        "  print(L[0] * L[1])\n",
        "\n",
        "# And call it with the indirect() function\n",
        "indirect(func2, [\"Ha\", 3])"
      ],
      "metadata": {
        "id": "ITaQD-vWBQgF",
        "colab": {
          "base_uri": "https://localhost:8080/"
        },
        "outputId": "407b818c-9db7-460d-9ac2-8cb4a4e3d5c3"
      },
      "execution_count": 34,
      "outputs": [
        {
          "output_type": "stream",
          "name": "stdout",
          "text": [
            "HaHaHa\n"
          ]
        }
      ]
    },
    {
      "cell_type": "markdown",
      "source": [
        "### <font color=\"#e8710a\">Introspection in functions</font>\n",
        "\n",
        "Being objects, functions have a number of associated attributes that allow introspection, for example displaying the name of the called function:"
      ],
      "metadata": {
        "id": "d9vtcvN1KfC9"
      }
    },
    {
      "cell_type": "code",
      "source": [
        "def func(s):\n",
        "  print(s)\n",
        "func.__name__"
      ],
      "metadata": {
        "colab": {
          "base_uri": "https://localhost:8080/",
          "height": 35
        },
        "id": "JgIAHRB-KdbH",
        "outputId": "dc7d92fe-a375-4630-dcdb-5282bdddaf22"
      },
      "execution_count": 35,
      "outputs": [
        {
          "output_type": "execute_result",
          "data": {
            "text/plain": [
              "'func'"
            ],
            "application/vnd.google.colaboratory.intrinsic+json": {
              "type": "string"
            }
          },
          "metadata": {},
          "execution_count": 35
        }
      ]
    },
    {
      "cell_type": "code",
      "source": [
        "# Create a new reference to the object\n",
        "another_func = func\n",
        "# The name of the function remains the same\n",
        "another_func.__name__"
      ],
      "metadata": {
        "colab": {
          "base_uri": "https://localhost:8080/",
          "height": 35
        },
        "id": "hHRn2bQD4pgZ",
        "outputId": "c494b2dc-3332-4e4a-d960-ce77ae33e91e"
      },
      "execution_count": 36,
      "outputs": [
        {
          "output_type": "execute_result",
          "data": {
            "text/plain": [
              "'func'"
            ],
            "application/vnd.google.colaboratory.intrinsic+json": {
              "type": "string"
            }
          },
          "metadata": {},
          "execution_count": 36
        }
      ]
    },
    {
      "cell_type": "markdown",
      "source": [
        "We can display all the implicit attributes of the function object by calling `dir()`:"
      ],
      "metadata": {
        "id": "tNx_0NX1_9Tj"
      }
    },
    {
      "cell_type": "code",
      "source": [
        "' '.join(dir(func))"
      ],
      "metadata": {
        "colab": {
          "base_uri": "https://localhost:8080/",
          "height": 71
        },
        "id": "4aikSle1KhwG",
        "outputId": "35e8f298-7633-4617-899d-2c18e2f66366"
      },
      "execution_count": 37,
      "outputs": [
        {
          "output_type": "execute_result",
          "data": {
            "text/plain": [
              "'__annotations__ __builtins__ __call__ __class__ __closure__ __code__ __defaults__ __delattr__ __dict__ __dir__ __doc__ __eq__ __format__ __ge__ __get__ __getattribute__ __getstate__ __globals__ __gt__ __hash__ __init__ __init_subclass__ __kwdefaults__ __le__ __lt__ __module__ __name__ __ne__ __new__ __qualname__ __reduce__ __reduce_ex__ __repr__ __setattr__ __sizeof__ __str__ __subclasshook__'"
            ],
            "application/vnd.google.colaboratory.intrinsic+json": {
              "type": "string"
            }
          },
          "metadata": {},
          "execution_count": 37
        }
      ]
    },
    {
      "cell_type": "markdown",
      "source": [
        "Or the names of the function arguments:"
      ],
      "metadata": {
        "id": "q_IMgV7kAjL9"
      }
    },
    {
      "cell_type": "code",
      "source": [
        "func.__code__.co_varnames"
      ],
      "metadata": {
        "colab": {
          "base_uri": "https://localhost:8080/"
        },
        "id": "45QVqYNbKkwc",
        "outputId": "65c3b3a3-7586-453c-d832-08b934e322d7"
      },
      "execution_count": 38,
      "outputs": [
        {
          "output_type": "execute_result",
          "data": {
            "text/plain": [
              "('s',)"
            ]
          },
          "metadata": {},
          "execution_count": 38
        }
      ]
    },
    {
      "cell_type": "markdown",
      "source": [
        "Or the number of arguments:"
      ],
      "metadata": {
        "id": "rcSSd9p6AsR9"
      }
    },
    {
      "cell_type": "code",
      "source": [
        "func.__code__.co_argcount"
      ],
      "metadata": {
        "id": "dAw4RDRSKmGw",
        "colab": {
          "base_uri": "https://localhost:8080/"
        },
        "outputId": "e6ee10be-aaeb-4df3-b12f-2b2bdd3373e3"
      },
      "execution_count": 39,
      "outputs": [
        {
          "output_type": "execute_result",
          "data": {
            "text/plain": [
              "1"
            ]
          },
          "metadata": {},
          "execution_count": 39
        }
      ]
    },
    {
      "cell_type": "markdown",
      "source": [
        "### <font color=\"#e8710a\">Function Annotations - Python 3.x</font>\n",
        "\n",
        "Since Python does not require specifying the types of objects passed as parameters to functions or the types returned by them, it can sometimes be difficult to understand the code. In Python 3.x, function annotations were introduced. These annotations have no programmatic impact but serve to inform the user about the expected data types for function parameters, the return type, or other relevant conditions and helpful messages for the programmer."
      ],
      "metadata": {
        "id": "LQcllMFnK0YA"
      }
    },
    {
      "cell_type": "code",
      "source": [
        "import math\n",
        "# The function takes an int as input and returns a float\n",
        "def area(radius: int) -> float:\n",
        "    return 2 * math.pi * radius ** 2\n",
        "\n",
        "area(2)"
      ],
      "metadata": {
        "colab": {
          "base_uri": "https://localhost:8080/"
        },
        "id": "BQ1YctAoPqXu",
        "outputId": "064a394f-f1f1-41f3-b907-fee6e0cea8d6"
      },
      "execution_count": 40,
      "outputs": [
        {
          "output_type": "execute_result",
          "data": {
            "text/plain": [
              "25.132741228718345"
            ]
          },
          "metadata": {},
          "execution_count": 40
        }
      ]
    },
    {
      "cell_type": "markdown",
      "source": [
        "It is important to reiterate that the annotations have no effect on the code and the fact that the parameter of the previous function is annotated with `int`, does not mean that the function cannot be called with another type of object as long as it can be used in the function body"
      ],
      "metadata": {
        "id": "TmxC-3rLhrYC"
      }
    },
    {
      "cell_type": "code",
      "source": [
        "# Call with float argument\n",
        "area(2.5)"
      ],
      "metadata": {
        "colab": {
          "base_uri": "https://localhost:8080/"
        },
        "id": "CLcYJ-DviD3s",
        "outputId": "ee819107-9899-4d63-cd9e-d0ed3109abba"
      },
      "execution_count": 41,
      "outputs": [
        {
          "output_type": "execute_result",
          "data": {
            "text/plain": [
              "39.269908169872416"
            ]
          },
          "metadata": {},
          "execution_count": 41
        }
      ]
    },
    {
      "cell_type": "markdown",
      "source": [
        " Annotations are not only used to specify the type of function arguments, but can also be just some informative messages:"
      ],
      "metadata": {
        "id": "Lh4vSFFTiLuV"
      }
    },
    {
      "cell_type": "code",
      "source": [
        "def area(radius:'Circle radius for which we calculate the area') -> float:\n",
        "  return 2 * math.pi * radius ** 2\n",
        "\n",
        "area(2)"
      ],
      "metadata": {
        "colab": {
          "base_uri": "https://localhost:8080/"
        },
        "id": "cgBOzKIAiVk_",
        "outputId": "79979f8b-70c5-495c-d955-01289e48c9c8"
      },
      "execution_count": 42,
      "outputs": [
        {
          "output_type": "execute_result",
          "data": {
            "text/plain": [
              "25.132741228718345"
            ]
          },
          "metadata": {},
          "execution_count": 42
        }
      ]
    },
    {
      "cell_type": "markdown",
      "source": [
        "To view these annotations without having access to the source code, we can use the `__annotations__` attribute of function objects:\n"
      ],
      "metadata": {
        "id": "n89lk1TzimSO"
      }
    },
    {
      "cell_type": "code",
      "source": [
        "area.__annotations__"
      ],
      "metadata": {
        "colab": {
          "base_uri": "https://localhost:8080/"
        },
        "id": "nJMIJNNpK34p",
        "outputId": "a733bd95-83d4-4e00-d898-d4e0994006e4"
      },
      "execution_count": 43,
      "outputs": [
        {
          "output_type": "execute_result",
          "data": {
            "text/plain": [
              "{'radius': 'Circle radius for which we calculate the area', 'return': float}"
            ]
          },
          "metadata": {},
          "execution_count": 43
        }
      ]
    },
    {
      "cell_type": "markdown",
      "source": [
        "The rest of the aspects related to the arguments of the functions remain valid, such as the default values of the parameters:\n"
      ],
      "metadata": {
        "id": "455AIDyii21I"
      }
    },
    {
      "cell_type": "code",
      "source": [
        "def area(radius: int = 2):\n",
        "  return 2 * math.pi * radius ** 2\n",
        "\n",
        "# Call with default argument\n",
        "area()"
      ],
      "metadata": {
        "colab": {
          "base_uri": "https://localhost:8080/"
        },
        "id": "KIxkea9wjQ0V",
        "outputId": "9428ec3e-1fb4-46d1-e4de-ab10a852203f"
      },
      "execution_count": 44,
      "outputs": [
        {
          "output_type": "execute_result",
          "data": {
            "text/plain": [
              "25.132741228718345"
            ]
          },
          "metadata": {},
          "execution_count": 44
        }
      ]
    },
    {
      "cell_type": "code",
      "source": [
        "# Call with positional argument\n",
        "area (10)"
      ],
      "metadata": {
        "colab": {
          "base_uri": "https://localhost:8080/"
        },
        "id": "jZuotWomjjPB",
        "outputId": "98556c3a-4688-484f-c172-96fd054c34fb"
      },
      "execution_count": 45,
      "outputs": [
        {
          "output_type": "execute_result",
          "data": {
            "text/plain": [
              "628.3185307179587"
            ]
          },
          "metadata": {},
          "execution_count": 45
        }
      ]
    },
    {
      "cell_type": "code",
      "source": [
        "# Call with keyword argument:\n",
        "area (radius=12)"
      ],
      "metadata": {
        "colab": {
          "base_uri": "https://localhost:8080/"
        },
        "id": "O5n8hVynjeJb",
        "outputId": "84206da8-a0d8-4cfc-f69a-6b6d69dbb4f4"
      },
      "execution_count": 46,
      "outputs": [
        {
          "output_type": "execute_result",
          "data": {
            "text/plain": [
              "904.7786842338604"
            ]
          },
          "metadata": {},
          "execution_count": 46
        }
      ]
    },
    {
      "cell_type": "markdown",
      "source": [
        "We need to make a distinction here between the documentation and annotation of a function. Documentation is usually an elaborate text through which the entire functionality of a function is specified, along with input and output parameters. Annotations are short informative messages and only help to better use the function.\n"
      ],
      "metadata": {
        "id": "XGBu2WiP5Zii"
      }
    },
    {
      "cell_type": "markdown",
      "source": [
        "## <font color=\"#e8710a\">Lambda functions</font>\n",
        "\n",
        "Lambda functions are actually expressions that return a function that can then be assigned to another function object. The body of the function consists of a single expression and they are useful in reducing the number of lines of code and using functions in more complex constructions.\n",
        "\n",
        "The general form of a lambda function is:\n",
        "\n",
        "`lambda argument1, argument2,... argumentN : expression using arguments`\n",
        "\n",
        "\n",
        "Let's see some examples:"
      ],
      "metadata": {
        "id": "UrHrX0W0LAm8"
      }
    },
    {
      "cell_type": "code",
      "source": [
        "# Standard definition of a function\n",
        "def sum(a, b):\n",
        "  return a + b\n",
        "sum(1, 2)"
      ],
      "metadata": {
        "colab": {
          "base_uri": "https://localhost:8080/"
        },
        "id": "h3DaJzG6LJRC",
        "outputId": "30b02bf9-fe20-401a-b85c-0404a396d489"
      },
      "execution_count": 47,
      "outputs": [
        {
          "output_type": "execute_result",
          "data": {
            "text/plain": [
              "3"
            ]
          },
          "metadata": {},
          "execution_count": 47
        }
      ]
    },
    {
      "cell_type": "code",
      "source": [
        "# Lambda alternative\n",
        "sum = lambda a, b: a + b\n",
        "# Standard call\n",
        "sum(1, 2)"
      ],
      "metadata": {
        "colab": {
          "base_uri": "https://localhost:8080/"
        },
        "id": "jywNYKzTLJ-y",
        "outputId": "fa389e1e-9a9b-430b-d0d6-6f91ab2ea3aa"
      },
      "execution_count": 48,
      "outputs": [
        {
          "output_type": "execute_result",
          "data": {
            "text/plain": [
              "3"
            ]
          },
          "metadata": {},
          "execution_count": 48
        }
      ]
    },
    {
      "cell_type": "code",
      "source": [
        "# We can also use default values\n",
        "sum = (lambda a=1, b=2: a + b)\n",
        "sum()"
      ],
      "metadata": {
        "colab": {
          "base_uri": "https://localhost:8080/"
        },
        "id": "YuraRteDLMOt",
        "outputId": "96f491e6-8f24-410b-8489-92d243e9cc2f"
      },
      "execution_count": 49,
      "outputs": [
        {
          "output_type": "execute_result",
          "data": {
            "text/plain": [
              "3"
            ]
          },
          "metadata": {},
          "execution_count": 49
        }
      ]
    },
    {
      "cell_type": "markdown",
      "source": [
        "Lambda functions allow us to define sequences of type list or dictionary that contain different functions and that can be called directly from the indexing of the sequence:"
      ],
      "metadata": {
        "id": "6pmmd5gBmkON"
      }
    },
    {
      "cell_type": "code",
      "source": [
        "# Define a list of lambda functions\n",
        "L = [lambda x: x ** 2,\n",
        "     lambda x: x ** 3,\n",
        "     lambda x: x ** 4]\n",
        "# Call the functions in the list one by one on an argument\n",
        "for f in L:\n",
        "  print(f(2))"
      ],
      "metadata": {
        "colab": {
          "base_uri": "https://localhost:8080/"
        },
        "id": "AoNjwIFcLOMf",
        "outputId": "36da9c35-1d66-4c3c-9d5b-ac6c0222f036"
      },
      "execution_count": 50,
      "outputs": [
        {
          "output_type": "stream",
          "name": "stdout",
          "text": [
            "4\n",
            "8\n",
            "16\n"
          ]
        }
      ]
    },
    {
      "cell_type": "code",
      "source": [
        "# Or we can directly call the function from the previously defined list\n",
        "L[1](3)"
      ],
      "metadata": {
        "colab": {
          "base_uri": "https://localhost:8080/"
        },
        "id": "9aIg40e5lxub",
        "outputId": "9aaee355-3471-4c98-c97b-1ae12e192903"
      },
      "execution_count": 51,
      "outputs": [
        {
          "output_type": "execute_result",
          "data": {
            "text/plain": [
              "27"
            ]
          },
          "metadata": {},
          "execution_count": 51
        }
      ]
    },
    {
      "cell_type": "code",
      "source": [
        "# Define a dictionary of lambda functions\n",
        "D = {'square': (lambda x: x ** 2),\n",
        "     'cube': (lambda x: x ** 3)}\n",
        "# Call the function indexed by the key 'cube'\n",
        "D['cube'](3)"
      ],
      "metadata": {
        "colab": {
          "base_uri": "https://localhost:8080/"
        },
        "id": "jtH7AaKzLSA3",
        "outputId": "28010fc3-23df-4446-e366-4b4b00597fb8"
      },
      "execution_count": 52,
      "outputs": [
        {
          "output_type": "execute_result",
          "data": {
            "text/plain": [
              "27"
            ]
          },
          "metadata": {},
          "execution_count": 52
        }
      ]
    },
    {
      "cell_type": "markdown",
      "source": [
        "Or we can create functions that return other lambda functions"
      ],
      "metadata": {
        "id": "iApn13BGm_Hk"
      }
    },
    {
      "cell_type": "code",
      "source": [
        "# Function that returns a function\n",
        "def increment(x):\n",
        "  return (lambda y: y + x)\n",
        "\n",
        "# Create a new function object\n",
        "# The function inside increment() becomes lambda y: y+2\n",
        "increment2 = increment(2)\n",
        "# Call the new function\n",
        "increment2(6)"
      ],
      "metadata": {
        "colab": {
          "base_uri": "https://localhost:8080/"
        },
        "id": "Hu_C4tixm5q1",
        "outputId": "cf39f95b-59b5-4ec6-f75c-8f99063eac63"
      },
      "execution_count": 53,
      "outputs": [
        {
          "output_type": "execute_result",
          "data": {
            "text/plain": [
              "8"
            ]
          },
          "metadata": {},
          "execution_count": 53
        }
      ]
    },
    {
      "cell_type": "markdown",
      "source": [
        "An even more advanced element related to lambda functions refers to their nesting. The definitions in the previous cell can be replaced by:"
      ],
      "metadata": {
        "id": "jJtzUue-ncaG"
      }
    },
    {
      "cell_type": "code",
      "source": [
        "increment = (lambda x: (lambda y: y + x))\n",
        "increment2 = increment(2)\n",
        "increment2(6)"
      ],
      "metadata": {
        "colab": {
          "base_uri": "https://localhost:8080/"
        },
        "id": "5pXeMSYLnlCe",
        "outputId": "b722001a-9f42-460c-d24f-d0b5d4900aa5"
      },
      "execution_count": 54,
      "outputs": [
        {
          "output_type": "execute_result",
          "data": {
            "text/plain": [
              "8"
            ]
          },
          "metadata": {},
          "execution_count": 54
        }
      ]
    },
    {
      "cell_type": "markdown",
      "source": [
        "Or more abstract:"
      ],
      "metadata": {
        "id": "Qg-tayxSns9b"
      }
    },
    {
      "cell_type": "code",
      "source": [
        "((lambda x: (lambda y: y + x))(2))(6)"
      ],
      "metadata": {
        "colab": {
          "base_uri": "https://localhost:8080/"
        },
        "id": "tOi5fkY0nuax",
        "outputId": "5b48c101-89ab-4bfa-b10a-f99588fb1260"
      },
      "execution_count": 55,
      "outputs": [
        {
          "output_type": "execute_result",
          "data": {
            "text/plain": [
              "8"
            ]
          },
          "metadata": {},
          "execution_count": 55
        }
      ]
    },
    {
      "cell_type": "markdown",
      "source": [
        "## <font color=\"#e8710a\">Functional programming</font>\n",
        "\n",
        "\n",
        "Programming paradigm in which programs are built by applying and composing functions.\n",
        "Functions can be assigned to variables, passed as parameters to other functions and returned from functions\n",
        "\n",
        "In Python the most used functions are: `map, filter, reduce` and are applied to **iterable** objects\n",
        "\n"
      ],
      "metadata": {
        "id": "zP0HZW_yLupO"
      }
    },
    {
      "cell_type": "markdown",
      "source": [
        "### <font color=\"#e8710a\">MAP()</font>\n",
        "\n",
        "`map()` applies the function specified as the first parameter on the iterable sequence:"
      ],
      "metadata": {
        "id": "KM0A-R197TC6"
      }
    },
    {
      "cell_type": "code",
      "source": [
        "# Standard definition\n",
        "values = [1, 2, 3, 4]\n",
        "squares = []\n",
        "for x in values:\n",
        "  squares.append(x ** 2)\n",
        "squares"
      ],
      "metadata": {
        "colab": {
          "base_uri": "https://localhost:8080/"
        },
        "id": "DJVNA0lRLrZm",
        "outputId": "53639a9d-a896-4497-8f51-5a2268fd245c"
      },
      "execution_count": 56,
      "outputs": [
        {
          "output_type": "execute_result",
          "data": {
            "text/plain": [
              "[1, 4, 9, 16]"
            ]
          },
          "metadata": {},
          "execution_count": 56
        }
      ]
    },
    {
      "cell_type": "code",
      "source": [
        "# Define a function that will be applied by map()\n",
        "def square(x):\n",
        "  return x ** 2\n",
        "# Apply square() to the list of values\n",
        "list(map(square, values))"
      ],
      "metadata": {
        "colab": {
          "base_uri": "https://localhost:8080/"
        },
        "id": "13Fhx9QgL7j8",
        "outputId": "9ce6b946-6b40-4ee0-c62b-74f08a4e817d"
      },
      "execution_count": 57,
      "outputs": [
        {
          "output_type": "execute_result",
          "data": {
            "text/plain": [
              "[1, 4, 9, 16]"
            ]
          },
          "metadata": {},
          "execution_count": 57
        }
      ]
    },
    {
      "cell_type": "code",
      "source": [
        "# Or use a lambda function directly\n",
        "list(map((lambda x: x ** 2), values))"
      ],
      "metadata": {
        "colab": {
          "base_uri": "https://localhost:8080/"
        },
        "id": "mUUJd0aPL-1Q",
        "outputId": "68893c70-921a-4089-ca9a-93e60989fb1b"
      },
      "execution_count": 58,
      "outputs": [
        {
          "output_type": "execute_result",
          "data": {
            "text/plain": [
              "[1, 4, 9, 16]"
            ]
          },
          "metadata": {},
          "execution_count": 58
        }
      ]
    },
    {
      "cell_type": "code",
      "source": [
        "# In map() we can also use functions that take multiple arguments\n",
        "def power(a, b):\n",
        "  return a ** b\n",
        "list(map(power, [1, 2, 3], [2, 3, 4]))"
      ],
      "metadata": {
        "id": "rcwEspkVMEdn",
        "colab": {
          "base_uri": "https://localhost:8080/"
        },
        "outputId": "9c2fbfed-fbec-498c-a42c-e94e71d671cf"
      },
      "execution_count": 59,
      "outputs": [
        {
          "output_type": "execute_result",
          "data": {
            "text/plain": [
              "[1, 8, 81]"
            ]
          },
          "metadata": {},
          "execution_count": 59
        }
      ]
    },
    {
      "cell_type": "markdown",
      "source": [
        "### <font color=\"#e8710a\">FILTER()</font>\n",
        "\n",
        "Selects the elements of an iterable object based on a test function\n"
      ],
      "metadata": {
        "id": "Fa7iqufdMHp-"
      }
    },
    {
      "cell_type": "code",
      "source": [
        "L = [-2, -1, 0, 1, 2]\n",
        "# Filter only values greater than 0\n",
        "list(filter((lambda x: x > 0), L))"
      ],
      "metadata": {
        "id": "3Jy59ECnMLlg",
        "colab": {
          "base_uri": "https://localhost:8080/"
        },
        "outputId": "dfa4654d-4167-4b1a-9494-505ff062bda8"
      },
      "execution_count": 60,
      "outputs": [
        {
          "output_type": "execute_result",
          "data": {
            "text/plain": [
              "[1, 2]"
            ]
          },
          "metadata": {},
          "execution_count": 60
        }
      ]
    },
    {
      "cell_type": "markdown",
      "source": [
        "### <font color=\"#e8710a\">REDUCE()</font>\n",
        "\n",
        "Returns a single result starting from an iterable object. The elements of the iterable will be taken one by one and the specified function will be applied, retaining the previous result in the meantime:\n"
      ],
      "metadata": {
        "id": "aesOT6L6MNQl"
      }
    },
    {
      "cell_type": "code",
      "source": [
        "# In Python3.x the reduce() function must be imported\n",
        "from functools import reduce\n",
        "L = [1, 2, 3, 4]\n",
        "# Calculate the sum of the elements in L\n",
        "reduce((lambda x, y: x + y), L)"
      ],
      "metadata": {
        "colab": {
          "base_uri": "https://localhost:8080/"
        },
        "id": "tTK8RS1xMQaE",
        "outputId": "5f35ed6b-1f34-4eb6-c5cf-318af2ee455c"
      },
      "execution_count": 61,
      "outputs": [
        {
          "output_type": "execute_result",
          "data": {
            "text/plain": [
              "10"
            ]
          },
          "metadata": {},
          "execution_count": 61
        }
      ]
    },
    {
      "cell_type": "code",
      "source": [
        "# Calculate the sum of the elements in L\n",
        "reduce((lambda x, y: x + y), L)"
      ],
      "metadata": {
        "colab": {
          "base_uri": "https://localhost:8080/"
        },
        "id": "gt9MiaUWMRia",
        "outputId": "93a5b476-a9f8-4ec8-8cf0-3696b8839699"
      },
      "execution_count": 62,
      "outputs": [
        {
          "output_type": "execute_result",
          "data": {
            "text/plain": [
              "10"
            ]
          },
          "metadata": {},
          "execution_count": 62
        }
      ]
    },
    {
      "cell_type": "markdown",
      "source": [
        "**<font color=\"#1589FF\">The operator module</font>**\n",
        "\n",
        "Within the functional programming paradigm, Python also allows the use of operators as functions through the [operator module](https://docs.python.org/3/library/operator.html). A list of functions associated with operators can be found [here](https://docs.python.org/3/library/operator.html)."
      ],
      "metadata": {
        "id": "JgjGmf0zMYd3"
      }
    },
    {
      "cell_type": "code",
      "source": [
        "import operator\n",
        "# Less than\n",
        "operator.lt(3, 5)"
      ],
      "metadata": {
        "colab": {
          "base_uri": "https://localhost:8080/"
        },
        "id": "Ap6cJjb81z4i",
        "outputId": "edb8e463-c55a-4ade-da22-456e5c145b82"
      },
      "execution_count": 63,
      "outputs": [
        {
          "output_type": "execute_result",
          "data": {
            "text/plain": [
              "True"
            ]
          },
          "metadata": {},
          "execution_count": 63
        }
      ]
    },
    {
      "cell_type": "code",
      "source": [
        "# Exact division\n",
        "operator.truediv(10, 3)"
      ],
      "metadata": {
        "colab": {
          "base_uri": "https://localhost:8080/"
        },
        "id": "3hTytFUg162h",
        "outputId": "3410e31c-f06a-4a99-9845-5b4e1a060950"
      },
      "execution_count": 64,
      "outputs": [
        {
          "output_type": "execute_result",
          "data": {
            "text/plain": [
              "3.3333333333333335"
            ]
          },
          "metadata": {},
          "execution_count": 64
        }
      ]
    },
    {
      "cell_type": "code",
      "source": [
        "# Modify list elements\n",
        "L = [1, 2, 3, 4, 5]\n",
        "operator.setitem(L, slice(2, 3), [9, 10])\n",
        "L"
      ],
      "metadata": {
        "colab": {
          "base_uri": "https://localhost:8080/"
        },
        "id": "hQUGfpyy2TgG",
        "outputId": "67b452ac-4c3a-456c-e47c-9be86e496be4"
      },
      "execution_count": 65,
      "outputs": [
        {
          "output_type": "execute_result",
          "data": {
            "text/plain": [
              "[1, 2, 9, 10, 4, 5]"
            ]
          },
          "metadata": {},
          "execution_count": 65
        }
      ]
    },
    {
      "cell_type": "markdown",
      "source": [
        "## <font color=\"#e8710a\">Generators</font>\n",
        "\n",
        "In certain applications, due to the large volume of values that a function may return, it is desirable for these values to be returned sequentially. For this purpose, Python provides **generator functions** and **generator expressions**. Both generator functions and generator expressions return results one at a time, meaning that the function or expression execution is paused until the calling code requests the next value. As a result, generators are much more memory-efficient.\n",
        "\n",
        "To create a generator, we use the `yield` statement instead of `return` in the function definition:"
      ],
      "metadata": {
        "id": "LdGkj0hiMcy4"
      }
    },
    {
      "cell_type": "code",
      "source": [
        "# Define a generator\n",
        "def squares(n):\n",
        "  for i in range(n):\n",
        "    yield i ** 2\n",
        "\n",
        "for i in squares(5):\n",
        "  # The values returned by the generator function are taken one by one\n",
        "  print(i)"
      ],
      "metadata": {
        "colab": {
          "base_uri": "https://localhost:8080/"
        },
        "id": "6q6d2iqcMUFw",
        "outputId": "dfba8dd6-0536-47ea-f4e4-d187b6785de5"
      },
      "execution_count": 66,
      "outputs": [
        {
          "output_type": "stream",
          "name": "stdout",
          "text": [
            "0\n",
            "1\n",
            "4\n",
            "9\n",
            "16\n"
          ]
        }
      ]
    },
    {
      "cell_type": "code",
      "source": [
        "# Create a generator\n",
        "x = squares(4)\n",
        "x"
      ],
      "metadata": {
        "colab": {
          "base_uri": "https://localhost:8080/"
        },
        "id": "SSAMbMh338ia",
        "outputId": "20c54183-3442-429d-87c7-adaa8d19fad1"
      },
      "execution_count": 67,
      "outputs": [
        {
          "output_type": "execute_result",
          "data": {
            "text/plain": [
              "<generator object squares at 0x7ed621db2c20>"
            ]
          },
          "metadata": {},
          "execution_count": 67
        }
      ]
    },
    {
      "cell_type": "code",
      "source": [
        "# Extract the values from it one by one using next()\n",
        "next(x)"
      ],
      "metadata": {
        "colab": {
          "base_uri": "https://localhost:8080/"
        },
        "id": "B5_wOjlbMrP7",
        "outputId": "b6601671-c98d-4d52-9304-8dbd2d27233c"
      },
      "execution_count": 68,
      "outputs": [
        {
          "output_type": "execute_result",
          "data": {
            "text/plain": [
              "0"
            ]
          },
          "metadata": {},
          "execution_count": 68
        }
      ]
    },
    {
      "cell_type": "code",
      "source": [
        "next(x)"
      ],
      "metadata": {
        "colab": {
          "base_uri": "https://localhost:8080/"
        },
        "id": "dY6I2kh4Msei",
        "outputId": "3e01d746-ebbe-463a-8f6b-8a625385480c"
      },
      "execution_count": 69,
      "outputs": [
        {
          "output_type": "execute_result",
          "data": {
            "text/plain": [
              "1"
            ]
          },
          "metadata": {},
          "execution_count": 69
        }
      ]
    },
    {
      "cell_type": "code",
      "source": [
        "next(x)"
      ],
      "metadata": {
        "colab": {
          "base_uri": "https://localhost:8080/"
        },
        "id": "eV6zstd3MuLl",
        "outputId": "da9a9890-ad16-4a72-a7c9-b9b0be705b28"
      },
      "execution_count": 70,
      "outputs": [
        {
          "output_type": "execute_result",
          "data": {
            "text/plain": [
              "4"
            ]
          },
          "metadata": {},
          "execution_count": 70
        }
      ]
    },
    {
      "cell_type": "markdown",
      "source": [
        "Generator expressions are similar to comprehensions, but instead of returning the entire sequence at once, they yield each element one at a time:"
      ],
      "metadata": {
        "id": "sLRCBWOyMwPS"
      }
    },
    {
      "cell_type": "code",
      "source": [
        "# List comprehension\n",
        "L = [x ** 2 for x in range(4)]\n",
        "L"
      ],
      "metadata": {
        "colab": {
          "base_uri": "https://localhost:8080/"
        },
        "id": "DveK5X-dMukt",
        "outputId": "0302bd5a-1fd4-4820-e37a-fdb341b0aabd"
      },
      "execution_count": 71,
      "outputs": [
        {
          "output_type": "execute_result",
          "data": {
            "text/plain": [
              "[0, 1, 4, 9]"
            ]
          },
          "metadata": {},
          "execution_count": 71
        }
      ]
    },
    {
      "cell_type": "code",
      "source": [
        "# Generator\n",
        "G = (x ** 2 for x in range(4))\n",
        "G"
      ],
      "metadata": {
        "colab": {
          "base_uri": "https://localhost:8080/"
        },
        "id": "nzflJ4LmMzZq",
        "outputId": "0b371170-2956-4b52-b426-049fc32091d7"
      },
      "execution_count": 72,
      "outputs": [
        {
          "output_type": "execute_result",
          "data": {
            "text/plain": [
              "<generator object <genexpr> at 0x7ed621e24d40>"
            ]
          },
          "metadata": {},
          "execution_count": 72
        }
      ]
    },
    {
      "cell_type": "code",
      "source": [
        "next(G)"
      ],
      "metadata": {
        "colab": {
          "base_uri": "https://localhost:8080/"
        },
        "id": "9iEO7SohM1DV",
        "outputId": "9a787ac0-ab3b-4a1c-da43-3e85337e643c"
      },
      "execution_count": 73,
      "outputs": [
        {
          "output_type": "execute_result",
          "data": {
            "text/plain": [
              "0"
            ]
          },
          "metadata": {},
          "execution_count": 73
        }
      ]
    },
    {
      "cell_type": "code",
      "source": [
        "next(G)"
      ],
      "metadata": {
        "colab": {
          "base_uri": "https://localhost:8080/"
        },
        "id": "QM5Jl7c9M2h_",
        "outputId": "a1c46a87-eab7-40dc-ccac-e4e465e1ef27"
      },
      "execution_count": 74,
      "outputs": [
        {
          "output_type": "execute_result",
          "data": {
            "text/plain": [
              "1"
            ]
          },
          "metadata": {},
          "execution_count": 74
        }
      ]
    },
    {
      "cell_type": "markdown",
      "source": [
        "Generator functions and expressions are single-use iterables (single iteration objects), meaning they can only be iterated once. This implies that they cannot be iterated from multiple positions simultaneously."
      ],
      "metadata": {
        "id": "jy3wJvqXM_A-"
      }
    },
    {
      "cell_type": "code",
      "source": [
        "G = (x * 2 for x in range(3))\n",
        "I1 = iter(G)  # Iterate the generator\n",
        "next(I1)"
      ],
      "metadata": {
        "colab": {
          "base_uri": "https://localhost:8080/"
        },
        "id": "lJ4THW3xM9fd",
        "outputId": "72212fbf-67a2-4332-cd83-3422c5ffb3fd"
      },
      "execution_count": 75,
      "outputs": [
        {
          "output_type": "execute_result",
          "data": {
            "text/plain": [
              "0"
            ]
          },
          "metadata": {},
          "execution_count": 75
        }
      ]
    },
    {
      "cell_type": "code",
      "source": [
        "next(I1)"
      ],
      "metadata": {
        "colab": {
          "base_uri": "https://localhost:8080/"
        },
        "id": "x8bxdJ-oNFom",
        "outputId": "e385ff43-3c8a-4950-ac96-6b1d0ad6a7b3"
      },
      "execution_count": 76,
      "outputs": [
        {
          "output_type": "execute_result",
          "data": {
            "text/plain": [
              "2"
            ]
          },
          "metadata": {},
          "execution_count": 76
        }
      ]
    },
    {
      "cell_type": "code",
      "source": [
        "# Create a second iterator\n",
        "I2 = iter(G)\n",
        "# But this one retains the position of the previous iterator\n",
        "next(I2)"
      ],
      "metadata": {
        "colab": {
          "base_uri": "https://localhost:8080/"
        },
        "id": "iToUpHLpNHfD",
        "outputId": "fe110fa6-de29-4539-e43d-c1820cfea293"
      },
      "execution_count": 77,
      "outputs": [
        {
          "output_type": "execute_result",
          "data": {
            "text/plain": [
              "4"
            ]
          },
          "metadata": {},
          "execution_count": 77
        }
      ]
    },
    {
      "cell_type": "code",
      "source": [
        "list(I1)  # Extract the rest of the elements from the generator"
      ],
      "metadata": {
        "colab": {
          "base_uri": "https://localhost:8080/"
        },
        "id": "4IE0O3TbNIwp",
        "outputId": "2185510c-9f39-4cb7-cdd1-18317ed87d1f"
      },
      "execution_count": 78,
      "outputs": [
        {
          "output_type": "execute_result",
          "data": {
            "text/plain": [
              "[]"
            ]
          },
          "metadata": {},
          "execution_count": 78
        }
      ]
    },
    {
      "cell_type": "code",
      "source": [
        "# When the generator is exhausted, an exception is thrown\n",
        "next(I1)"
      ],
      "metadata": {
        "colab": {
          "base_uri": "https://localhost:8080/",
          "height": 162
        },
        "id": "1WMwW5hTNKi8",
        "outputId": "32d626ca-7792-488a-92b4-8ce4f8ddfd4b"
      },
      "execution_count": 79,
      "outputs": [
        {
          "output_type": "error",
          "ename": "StopIteration",
          "evalue": "",
          "traceback": [
            "\u001b[0;31m---------------------------------------------------------------------------\u001b[0m",
            "\u001b[0;31mStopIteration\u001b[0m                             Traceback (most recent call last)",
            "\u001b[0;32m<ipython-input-79-751215b3e9aa>\u001b[0m in \u001b[0;36m<cell line: 0>\u001b[0;34m()\u001b[0m\n\u001b[1;32m      1\u001b[0m \u001b[0;31m# When the generator is exhausted, an exception is thrown\u001b[0m\u001b[0;34m\u001b[0m\u001b[0;34m\u001b[0m\u001b[0m\n\u001b[0;32m----> 2\u001b[0;31m \u001b[0mnext\u001b[0m\u001b[0;34m(\u001b[0m\u001b[0mI1\u001b[0m\u001b[0;34m)\u001b[0m\u001b[0;34m\u001b[0m\u001b[0;34m\u001b[0m\u001b[0m\n\u001b[0m",
            "\u001b[0;31mStopIteration\u001b[0m: "
          ]
        }
      ]
    },
    {
      "cell_type": "markdown",
      "source": [
        "**<font color=\"#1589FF\">Python 3.3+ yield from</font>**\n",
        "\n",
        "Starting with Python 3.3 we have the `yield from` statement which uses a generator object to return the elements. Multiple `yield from` statements can be used within the same function:"
      ],
      "metadata": {
        "id": "030pp2UaNaGz"
      }
    },
    {
      "cell_type": "code",
      "source": [
        "def two_generators(N):\n",
        "  yield from range(N)\n",
        "  yield from (x ** 2 for x in range(N))\n",
        "\n",
        "# The concatenated list of the elements of the 2 generators is returned\n",
        "list(two_generators(4))"
      ],
      "metadata": {
        "colab": {
          "base_uri": "https://localhost:8080/"
        },
        "id": "VPaoWVloNYTC",
        "outputId": "deaf926d-0583-45fc-f241-5c5c34eb99f3"
      },
      "execution_count": 80,
      "outputs": [
        {
          "output_type": "execute_result",
          "data": {
            "text/plain": [
              "[0, 1, 2, 3, 0, 1, 4, 9]"
            ]
          },
          "metadata": {},
          "execution_count": 80
        }
      ]
    },
    {
      "cell_type": "markdown",
      "source": [
        "## <font color=\"#e8710a\">Module</font>\n",
        "\n",
        "Each file containing Python code is considered a **module**. A module defines the *namespace*, or the scope of visibility for objects. Modules can import other modules in order to use the functionalities implemented within them.\n",
        "\n",
        "When an import is performed, Python first searches for the module source, compiles it into bytecode, executes it, and creates the defined objects."
      ],
      "metadata": {
        "id": "LgafMX6zOACE"
      }
    },
    {
      "cell_type": "code",
      "source": [
        "# Create a module\n",
        "%%writefile module.py\n",
        "a = 3\n",
        "b = 7\n",
        "def test():\n",
        "   print (\"Hello\")"
      ],
      "metadata": {
        "colab": {
          "base_uri": "https://localhost:8080/"
        },
        "id": "lNa7N8TmYtJQ",
        "outputId": "5f9d7586-403a-437b-feee-30d8f1104423"
      },
      "execution_count": 81,
      "outputs": [
        {
          "output_type": "stream",
          "name": "stdout",
          "text": [
            "Overwriting module.py\n"
          ]
        }
      ]
    },
    {
      "cell_type": "code",
      "source": [
        "# Import the module and use the defined variables and function\n",
        "import module\n",
        "print (module.a, module.b)\n",
        "module.test()"
      ],
      "metadata": {
        "colab": {
          "base_uri": "https://localhost:8080/"
        },
        "id": "ZNGkwploY27W",
        "outputId": "eabaf904-557a-4cc8-eff0-9557bef09f40"
      },
      "execution_count": 82,
      "outputs": [
        {
          "output_type": "stream",
          "name": "stdout",
          "text": [
            "3 7\n",
            "Hello\n"
          ]
        }
      ]
    },
    {
      "cell_type": "markdown",
      "source": [
        "Modules can also be run independently and in fact all code that exists outside of functions or classes is run:\n"
      ],
      "metadata": {
        "id": "UQ3Pf8jmZHjs"
      }
    },
    {
      "cell_type": "code",
      "source": [
        "# Create a module\n",
        "%%writefile another_module.py\n",
        "a = 3\n",
        "b = 7\n",
        "def test():\n",
        "  print (\"Hello\")\n",
        "\n",
        "# The instructions below will be executed\n",
        "test()\n",
        "print(a + b)"
      ],
      "metadata": {
        "colab": {
          "base_uri": "https://localhost:8080/"
        },
        "id": "3DazcwtxZQO4",
        "outputId": "7bf6f806-6fe0-4642-e6bb-89a88ee1c939"
      },
      "execution_count": 83,
      "outputs": [
        {
          "output_type": "stream",
          "name": "stdout",
          "text": [
            "Overwriting another_module.py\n"
          ]
        }
      ]
    },
    {
      "cell_type": "code",
      "source": [
        "# Run the module independently (from the command line)\n",
        "!python another_module.py"
      ],
      "metadata": {
        "colab": {
          "base_uri": "https://localhost:8080/"
        },
        "id": "L4XYf1XQZYjo",
        "outputId": "77a6324c-e002-433c-f8aa-51c204524566"
      },
      "execution_count": 84,
      "outputs": [
        {
          "output_type": "stream",
          "name": "stdout",
          "text": [
            "Hello\n",
            "10\n"
          ]
        }
      ]
    },
    {
      "cell_type": "markdown",
      "source": [
        "The previous definition of the module is not correct, because the same code will be run at the import:\n"
      ],
      "metadata": {
        "id": "NDKIyg327kxd"
      }
    },
    {
      "cell_type": "code",
      "source": [
        "import another_module"
      ],
      "metadata": {
        "colab": {
          "base_uri": "https://localhost:8080/"
        },
        "id": "O9CzVado729b",
        "outputId": "27f97d69-32ee-47c7-de67-4dac70e3dc21"
      },
      "execution_count": 85,
      "outputs": [
        {
          "output_type": "stream",
          "name": "stdout",
          "text": [
            "Hello\n",
            "10\n"
          ]
        }
      ]
    },
    {
      "cell_type": "markdown",
      "source": [
        "It is useful to distinguish between importing a module and running it independently. For this, we use the `__name__` attribute. To check if the module is being run independently, we can check if the value of `__name__` is `__main__`:"
      ],
      "metadata": {
        "id": "4uCJsOAE797l"
      }
    },
    {
      "cell_type": "code",
      "source": [
        "# Create a module\n",
        "%%writefile new_module.py\n",
        "a = 3\n",
        "b = 7\n",
        "def test():\n",
        "  print (\"Hello\")\n",
        "\n",
        "# Check if we are running the module independently\n",
        "if __name__ == '__main__':\n",
        "  print(a + b)\n",
        "  test()"
      ],
      "metadata": {
        "colab": {
          "base_uri": "https://localhost:8080/"
        },
        "id": "lcao1i_47k6A",
        "outputId": "7cf61d47-dc69-4621-b43d-456c62ea5f1d"
      },
      "execution_count": 86,
      "outputs": [
        {
          "output_type": "stream",
          "name": "stdout",
          "text": [
            "Overwriting new_module.py\n"
          ]
        }
      ]
    },
    {
      "cell_type": "code",
      "source": [
        "# The result is the same\n",
        "!python new_module.py"
      ],
      "metadata": {
        "colab": {
          "base_uri": "https://localhost:8080/"
        },
        "id": "8ZKg1RpO8Xw3",
        "outputId": "739025b3-e541-43d3-ed37-151cb72253ba"
      },
      "execution_count": 87,
      "outputs": [
        {
          "output_type": "stream",
          "name": "stdout",
          "text": [
            "10\n",
            "Hello\n"
          ]
        }
      ]
    },
    {
      "cell_type": "code",
      "source": [
        "# The code in if is not executed at import\n",
        "import new_module"
      ],
      "metadata": {
        "id": "HDsgoDvM9I70"
      },
      "execution_count": 88,
      "outputs": []
    },
    {
      "cell_type": "markdown",
      "source": [
        "Running modules independently is useful for testing them. The test code usually appears in the compound statement `if __name__ == \"__main__\":`."
      ],
      "metadata": {
        "id": "WV-iMbiF8cEb"
      }
    },
    {
      "cell_type": "markdown",
      "source": [
        "**<font color=\"#1589FF\">Module Search Path</font>**\n",
        "\n",
        "The paths where imported modules are searched follow the hierarchy below:\n",
        "\n",
        "1. The base directory (home) of the application.\n",
        "2. The paths specified in the PYTHONPATH variable (if set).\n",
        "3. Directories where the Python standard library is stored.\n",
        "4. The contents of `.pth` files (if present).\n",
        "5. The base directory (home) of the site-packages for third-party modules.\n",
        "\n",
        "This results in the list stored in the `sys.path` variable."
      ],
      "metadata": {
        "id": "J1hm2-wTYsIm"
      }
    },
    {
      "cell_type": "code",
      "source": [
        "import sys\n",
        "sys.path"
      ],
      "metadata": {
        "colab": {
          "base_uri": "https://localhost:8080/"
        },
        "id": "3ltzUCBUObWf",
        "outputId": "4dbdfeec-6e51-48f5-fe87-f1027f4a2601"
      },
      "execution_count": 89,
      "outputs": [
        {
          "output_type": "execute_result",
          "data": {
            "text/plain": [
              "['/content',\n",
              " '/env/python',\n",
              " '/usr/lib/python311.zip',\n",
              " '/usr/lib/python3.11',\n",
              " '/usr/lib/python3.11/lib-dynload',\n",
              " '',\n",
              " '/usr/local/lib/python3.11/dist-packages',\n",
              " '/usr/lib/python3/dist-packages',\n",
              " '/usr/local/lib/python3.11/dist-packages/IPython/extensions',\n",
              " '/root/.ipython']"
            ]
          },
          "metadata": {},
          "execution_count": 89
        }
      ]
    },
    {
      "cell_type": "markdown",
      "source": [
        "To add a new directory to the search path of packages/modules, we need to modify the `path` attribute of the `sys` module:"
      ],
      "metadata": {
        "id": "PJ8oIQL5vgey"
      }
    },
    {
      "cell_type": "code",
      "source": [
        "import sys\n",
        "print(sys.path)\n",
        "sys.path.append('/usr/adriana')\n",
        "print(sys.path)"
      ],
      "metadata": {
        "colab": {
          "base_uri": "https://localhost:8080/"
        },
        "id": "nPCovtt2vl_w",
        "outputId": "48e290c8-a5b1-4271-f8b4-d6867f6abd1b"
      },
      "execution_count": 90,
      "outputs": [
        {
          "output_type": "stream",
          "name": "stdout",
          "text": [
            "['/content', '/env/python', '/usr/lib/python311.zip', '/usr/lib/python3.11', '/usr/lib/python3.11/lib-dynload', '', '/usr/local/lib/python3.11/dist-packages', '/usr/lib/python3/dist-packages', '/usr/local/lib/python3.11/dist-packages/IPython/extensions', '/root/.ipython']\n",
            "['/content', '/env/python', '/usr/lib/python311.zip', '/usr/lib/python3.11', '/usr/lib/python3.11/lib-dynload', '', '/usr/local/lib/python3.11/dist-packages', '/usr/lib/python3/dist-packages', '/usr/local/lib/python3.11/dist-packages/IPython/extensions', '/root/.ipython', '/usr/adriana']\n"
          ]
        }
      ]
    },
    {
      "cell_type": "markdown",
      "source": [
        "**<font color=\"#1589FF\">Bytecode Files *.pyc</font>**\n",
        "\n",
        "Until Python 3.1, compiled files were stored in the same directory as the source code, but with the `*.pyc` extension. Starting with Python 3.2+, these files are stored in a subdirectory called `__pycache__` to separate the source code from the compiled file. They still use the `*.pyc` extension but include information about the Python version with which they were created.\n",
        "\n",
        "In both cases, the files are recompiled if the associated source code has been modified."
      ],
      "metadata": {
        "id": "DtmICt_MOnKd"
      }
    },
    {
      "cell_type": "markdown",
      "source": [
        "## <font color=\"#e8710a\">Packages</font>\n",
        "\n",
        "When we group multiple Python modules within the same directory, we actually create a **Python package**. The package will create a new namespace corresponding to the directory hierarchy.\n",
        "\n",
        "During import, we must specify the relative path from the executed code to the desired module:\n",
        "\n",
        "```\n",
        "import dir1.dir2.module\n",
        "from dir1.dir2.module import x\n",
        "```"
      ],
      "metadata": {
        "id": "w7vOAHnKOxqJ"
      }
    },
    {
      "cell_type": "code",
      "source": [
        "# Create two subdirectories\n",
        "!mkdir dir1\n",
        "!mkdir dir1/dir2"
      ],
      "metadata": {
        "id": "7BTCzEO5_eZv",
        "colab": {
          "base_uri": "https://localhost:8080/"
        },
        "outputId": "209961b5-a5dc-4cf8-a3d2-6e19f7c29052"
      },
      "execution_count": 91,
      "outputs": [
        {
          "output_type": "stream",
          "name": "stdout",
          "text": [
            "mkdir: cannot create directory ‘dir1’: File exists\n",
            "mkdir: cannot create directory ‘dir1/dir2’: File exists\n"
          ]
        }
      ]
    },
    {
      "cell_type": "code",
      "source": [
        "# Create a module in the second subdirectory\n",
        "%%writefile dir1/dir2/submodule.py\n",
        "a = 3\n",
        "b = 4"
      ],
      "metadata": {
        "colab": {
          "base_uri": "https://localhost:8080/"
        },
        "id": "ABA8nGVT_nED",
        "outputId": "6ab02afe-67ca-43c5-89be-5ad41511ec67"
      },
      "execution_count": 92,
      "outputs": [
        {
          "output_type": "stream",
          "name": "stdout",
          "text": [
            "Overwriting dir1/dir2/submodule.py\n"
          ]
        }
      ]
    },
    {
      "cell_type": "code",
      "source": [
        "# Import the submodule\n",
        "import dir1.dir2.submodule\n",
        "dir1.dir2.submodule.a, dir1.dir2.submodule.b"
      ],
      "metadata": {
        "colab": {
          "base_uri": "https://localhost:8080/"
        },
        "id": "JZU3wOcc_xZw",
        "outputId": "09c249c4-1c75-4e97-92e7-2182a6cd40d9"
      },
      "execution_count": 93,
      "outputs": [
        {
          "output_type": "execute_result",
          "data": {
            "text/plain": [
              "(3, 4)"
            ]
          },
          "metadata": {},
          "execution_count": 93
        }
      ]
    },
    {
      "cell_type": "code",
      "source": [
        "# It is more efficient to use an alias\n",
        "import dir1.dir2.submodule as s\n",
        "s.a, s.b"
      ],
      "metadata": {
        "colab": {
          "base_uri": "https://localhost:8080/"
        },
        "id": "l6zyj_b5AbbT",
        "outputId": "4be43b85-cb90-4793-a10f-71afa2cb91f1"
      },
      "execution_count": 94,
      "outputs": [
        {
          "output_type": "execute_result",
          "data": {
            "text/plain": [
              "(3, 4)"
            ]
          },
          "metadata": {},
          "execution_count": 94
        }
      ]
    },
    {
      "cell_type": "markdown",
      "source": [
        "**<font color=\"#1589FF\">Relative paths with from</font>**\n",
        "\n",
        "When importing with from, we can use relative paths, where `.` refers to the current directory, and `..` to the parent directory. If we have a directory structure of the type\n",
        "\n",
        "```\n",
        "dir1 /\n",
        "  main.py\n",
        "  app.py\n",
        "app.py\n",
        "```\n",
        "\n",
        "We can make the following module imports from `main.py`\n",
        "\n",
        "\n",
        "```\n",
        "from .  import app  # mod1/app.py\n",
        "from .. import app  # ../app.py\n",
        "```"
      ],
      "metadata": {
        "id": "yztbiRCbt8t3"
      }
    },
    {
      "cell_type": "markdown",
      "source": [
        "\n",
        "**<font color=\"#1589FF\">\\_\\_init\\_\\_.py (Python <3.3)</font>**\n",
        "\n",
        "For a regular directory to be treated as a package up to Python version 3.3, it must include a file named `__init__.py` that contains the initialization code for that package, but it could also be empty. Most of the time this file implemented the behavior for imports using `from`, as well as the `__all__` list that includes the submodules to be imported. `__init__.py` files are not created to be run independently.\n",
        "\n",
        "For example, for a directory structure of the type:\n",
        "`dir0/dir1/dir2/module.py`\n",
        "\n",
        "And an import:\n",
        "\n",
        "`import dir1.dir2.module`\n",
        "\n",
        "* `dir1` and `dir2` must contain `__init__.py`;\n",
        "\n",
        "* `dir0` does not need to contain `__init__.py`. This file will be ignored if it exists;\n",
        "\n",
        "* `dir0`, but not `dir0/dir1`, must exist in the module search path `sys.path`.\n",
        "\n",
        "\n",
        "The result is a structure of the type:\n",
        "```\n",
        "dir0\\ # Container on module search path\n",
        "dir1\\\n",
        "  __init__.py\n",
        "dir2\\\n",
        "  __init__.py\n",
        "  mod.py\n",
        "```\n"
      ],
      "metadata": {
        "id": "_WnfO1uGWsGa"
      }
    },
    {
      "cell_type": "markdown",
      "source": [
        "**<font color=\"#1589FF\">Hiding Variables (\\_X, \\_\\_all\\_\\_)</font>**\n",
        "\n",
        "To prevent certain objects from being exposed to calling modules, there are two methods to protect them to some extent:\n",
        "\n",
        "1. Variables that start with `_` are not imported when using `from module import *`. However, these variables are still available with a regular import.\n",
        "\n",
        "2. Defining the `__all__` list at the module's top level. This list explicitly defines which objects should be exposed when using `from module import *`."
      ],
      "metadata": {
        "id": "DByr0OgHt-GE"
      }
    },
    {
      "cell_type": "code",
      "source": [
        "%%writefile amodul.py\n",
        "a =  1\n",
        "_b = 2\n",
        "c =  3\n",
        "_d = 4"
      ],
      "metadata": {
        "colab": {
          "base_uri": "https://localhost:8080/"
        },
        "id": "v2yfsg9wOcGW",
        "outputId": "c52772b6-2a74-4be1-ac03-1e7adcdd08a8"
      },
      "execution_count": 95,
      "outputs": [
        {
          "output_type": "stream",
          "name": "stdout",
          "text": [
            "Overwriting amodul.py\n"
          ]
        }
      ]
    },
    {
      "cell_type": "code",
      "source": [
        "from amodul import * # Only the variables that do not start with _ are imported\n",
        "a, c"
      ],
      "metadata": {
        "colab": {
          "base_uri": "https://localhost:8080/"
        },
        "id": "y3fw44SQPpl_",
        "outputId": "1c0a16da-dde7-41ba-946c-bd610e97d5de"
      },
      "execution_count": 96,
      "outputs": [
        {
          "output_type": "execute_result",
          "data": {
            "text/plain": [
              "(1, 3)"
            ]
          },
          "metadata": {},
          "execution_count": 96
        }
      ]
    },
    {
      "cell_type": "code",
      "source": [
        "# Error\n",
        "_b"
      ],
      "metadata": {
        "colab": {
          "base_uri": "https://localhost:8080/",
          "height": 162
        },
        "id": "aF_XbwLZPsYJ",
        "outputId": "e09d5469-9b6d-4852-c6a1-197ec3464c59"
      },
      "execution_count": 97,
      "outputs": [
        {
          "output_type": "error",
          "ename": "NameError",
          "evalue": "name '_b' is not defined",
          "traceback": [
            "\u001b[0;31m---------------------------------------------------------------------------\u001b[0m",
            "\u001b[0;31mNameError\u001b[0m                                 Traceback (most recent call last)",
            "\u001b[0;32m<ipython-input-97-b70ed3cf2c3f>\u001b[0m in \u001b[0;36m<cell line: 0>\u001b[0;34m()\u001b[0m\n\u001b[1;32m      1\u001b[0m \u001b[0;31m# Error\u001b[0m\u001b[0;34m\u001b[0m\u001b[0;34m\u001b[0m\u001b[0m\n\u001b[0;32m----> 2\u001b[0;31m \u001b[0m_b\u001b[0m\u001b[0;34m\u001b[0m\u001b[0;34m\u001b[0m\u001b[0m\n\u001b[0m",
            "\u001b[0;31mNameError\u001b[0m: name '_b' is not defined"
          ]
        }
      ]
    },
    {
      "cell_type": "code",
      "source": [
        "import amodul # On simple import we have access to all variables\n",
        "amodul._b"
      ],
      "metadata": {
        "id": "oHIHxd1LPtyl",
        "colab": {
          "base_uri": "https://localhost:8080/"
        },
        "outputId": "058729bd-f433-4684-95fa-fa9d495c2d65"
      },
      "execution_count": 98,
      "outputs": [
        {
          "output_type": "execute_result",
          "data": {
            "text/plain": [
              "2"
            ]
          },
          "metadata": {},
          "execution_count": 98
        }
      ]
    },
    {
      "cell_type": "code",
      "source": [
        "# If we define the __all__ list, it takes precedence over _X\n",
        "# Pay attention to the use of quotes when defining __all__\n",
        "%%writefile all_def.py\n",
        "__all__ = ['x', '_z', '_t']\n",
        "x, y, _z, _t = 1, 2, 3, 4"
      ],
      "metadata": {
        "colab": {
          "base_uri": "https://localhost:8080/"
        },
        "id": "ub17Pl_gPwXb",
        "outputId": "4c15a50b-b595-4817-bfcc-016823de99f8"
      },
      "execution_count": 99,
      "outputs": [
        {
          "output_type": "stream",
          "name": "stdout",
          "text": [
            "Overwriting all_def.py\n"
          ]
        }
      ]
    },
    {
      "cell_type": "code",
      "source": [
        "# Only the variables defined in __all__ are imported\n",
        "from all_def import *\n",
        "x, _z"
      ],
      "metadata": {
        "colab": {
          "base_uri": "https://localhost:8080/"
        },
        "id": "ZWDIEgEnPz7w",
        "outputId": "1e47258f-11da-4fb7-bbb6-4779d6600b8c"
      },
      "execution_count": 100,
      "outputs": [
        {
          "output_type": "execute_result",
          "data": {
            "text/plain": [
              "(1, 3)"
            ]
          },
          "metadata": {},
          "execution_count": 100
        }
      ]
    },
    {
      "cell_type": "code",
      "source": [
        "# Error\n",
        "y"
      ],
      "metadata": {
        "colab": {
          "base_uri": "https://localhost:8080/",
          "height": 162
        },
        "id": "R66Lbl1VP1wM",
        "outputId": "774b4212-ccc5-4262-f557-2b2148614349"
      },
      "execution_count": 101,
      "outputs": [
        {
          "output_type": "error",
          "ename": "NameError",
          "evalue": "name 'y' is not defined",
          "traceback": [
            "\u001b[0;31m---------------------------------------------------------------------------\u001b[0m",
            "\u001b[0;31mNameError\u001b[0m                                 Traceback (most recent call last)",
            "\u001b[0;32m<ipython-input-101-b973ab3d7675>\u001b[0m in \u001b[0;36m<cell line: 0>\u001b[0;34m()\u001b[0m\n\u001b[1;32m      1\u001b[0m \u001b[0;31m# Error\u001b[0m\u001b[0;34m\u001b[0m\u001b[0;34m\u001b[0m\u001b[0m\n\u001b[0;32m----> 2\u001b[0;31m \u001b[0my\u001b[0m\u001b[0;34m\u001b[0m\u001b[0;34m\u001b[0m\u001b[0m\n\u001b[0m",
            "\u001b[0;31mNameError\u001b[0m: name 'y' is not defined"
          ]
        }
      ]
    },
    {
      "cell_type": "code",
      "source": [
        "# Without a wildcard we can import all variables\n",
        "from all_def import x, y, _z, _t\n",
        "x, y, _z, _t"
      ],
      "metadata": {
        "colab": {
          "base_uri": "https://localhost:8080/"
        },
        "id": "yyxgQlgeP23z",
        "outputId": "94199350-5047-48b6-ae96-bf5e5d81c0d7"
      },
      "execution_count": 102,
      "outputs": [
        {
          "output_type": "execute_result",
          "data": {
            "text/plain": [
              "(1, 2, 3, 4)"
            ]
          },
          "metadata": {},
          "execution_count": 102
        }
      ]
    },
    {
      "cell_type": "code",
      "source": [
        "import all_def\n",
        "all_def.x, all_def.y, all_def._z, all_def._t"
      ],
      "metadata": {
        "colab": {
          "base_uri": "https://localhost:8080/"
        },
        "id": "10sf4pUgP4xZ",
        "outputId": "2548fca5-02bd-4b56-c72d-db3a325d4f74"
      },
      "execution_count": 103,
      "outputs": [
        {
          "output_type": "execute_result",
          "data": {
            "text/plain": [
              "(1, 2, 3, 4)"
            ]
          },
          "metadata": {},
          "execution_count": 103
        }
      ]
    },
    {
      "cell_type": "markdown",
      "source": [
        "## <font color=\"#e8710a\">Spațiul de nume</font>\n",
        "\n",
        "Vizibilitatea variabilelor este dată de următoarea ierarhie, denumită și LEGB (en. *local, enclosing, global, built-in*):\n",
        "* variabile locale (în funcție) ce nu sunt definite global;\n",
        "* variabile definite în funcțiile încapsulatoare (oricâte ar fi acestea), pornind de la cea mai interioară spre cele exterioare;\n",
        "* variabile globale (în modul) definite la începutul modulului sau precedate de cuvântul cheie `global` în alte funcții;\n",
        "* variabile build-in (în Python) definite în biblioteca standard.\n",
        "\n",
        "\n",
        "Să vedem câteva exemple:"
      ],
      "metadata": {
        "id": "cWYspG_vE_fi"
      }
    },
    {
      "cell_type": "code",
      "source": [
        "i = 10\n",
        "def test():\n",
        "  # Use the global variable\n",
        "  print(i)\n",
        "\n",
        "test()"
      ],
      "metadata": {
        "colab": {
          "base_uri": "https://localhost:8080/"
        },
        "id": "CONniBaFgy__",
        "outputId": "14762cee-94be-4199-c750-5e4366483991"
      },
      "execution_count": 104,
      "outputs": [
        {
          "output_type": "stream",
          "name": "stdout",
          "text": [
            "10\n"
          ]
        }
      ]
    },
    {
      "cell_type": "code",
      "source": [
        "i = 10\n",
        "def test():\n",
        "  # Define a variable local to the function\n",
        "  i = 12\n",
        "\n",
        "test()\n",
        "# The global variable does not change\n",
        "i"
      ],
      "metadata": {
        "colab": {
          "base_uri": "https://localhost:8080/"
        },
        "id": "1P27sPL-f0H1",
        "outputId": "a9c458d3-e57e-4757-fa86-ea7b862faae7"
      },
      "execution_count": 105,
      "outputs": [
        {
          "output_type": "execute_result",
          "data": {
            "text/plain": [
              "10"
            ]
          },
          "metadata": {},
          "execution_count": 105
        }
      ]
    },
    {
      "cell_type": "code",
      "source": [
        "i = 10\n",
        "def test_outer():\n",
        "  i = 12\n",
        "  def test_inner():\n",
        "    # test_inner will use the variable defined in test_outer\n",
        "    print (\"I in test_inner: \", i)\n",
        "  test_inner()\n",
        "  print (\"I in test_outer: \", i)\n",
        "\n",
        "test_outer()\n",
        "# The variable in the module remains unchanged\n",
        "print (\"I in module: \", i)"
      ],
      "metadata": {
        "colab": {
          "base_uri": "https://localhost:8080/"
        },
        "id": "B_BMPK_vgBnt",
        "outputId": "a2c41427-093f-494b-90cd-952cd9b159b4"
      },
      "execution_count": 106,
      "outputs": [
        {
          "output_type": "stream",
          "name": "stdout",
          "text": [
            "I in test_inner:  12\n",
            "I in test_outer:  12\n",
            "I in module:  10\n"
          ]
        }
      ]
    },
    {
      "cell_type": "code",
      "source": [
        "def outer_1():\n",
        "  a = 3\n",
        "  def outer_2():\n",
        "    b = 4\n",
        "    def inner():\n",
        "      # Inner has access to the variables defined in the enclosing functions\n",
        "      print(a+b)\n",
        "    inner()\n",
        "  outer_2()\n",
        "outer_1()"
      ],
      "metadata": {
        "colab": {
          "base_uri": "https://localhost:8080/"
        },
        "id": "fI5O9Fellu3W",
        "outputId": "a7d230f9-68e6-4392-e5d0-74be48ebb820"
      },
      "execution_count": 107,
      "outputs": [
        {
          "output_type": "stream",
          "name": "stdout",
          "text": [
            "7\n"
          ]
        }
      ]
    },
    {
      "cell_type": "markdown",
      "source": [
        "**<font color=\"#1589FF\">Global and Non-local</font>**\n",
        "\n",
        "The `global` keyword can be used to refer to variables from the enclosing code or to create new variables at the enclosing code level:"
      ],
      "metadata": {
        "id": "X1t47JqBhs0X"
      }
    },
    {
      "cell_type": "code",
      "source": [
        "# Create a global variable from inside a function\n",
        "def test():\n",
        "  global j\n",
        "  j = 24\n",
        "test()\n",
        "# We can use j even if it was defined in the function\n",
        "j"
      ],
      "metadata": {
        "colab": {
          "base_uri": "https://localhost:8080/"
        },
        "id": "7ryBd9lYh70J",
        "outputId": "38ec5ab1-9d7d-4995-ee20-71a1ffdbd77d"
      },
      "execution_count": 108,
      "outputs": [
        {
          "output_type": "execute_result",
          "data": {
            "text/plain": [
              "24"
            ]
          },
          "metadata": {},
          "execution_count": 108
        }
      ]
    },
    {
      "cell_type": "code",
      "source": [
        "# Modify a variable from outside the function\n",
        "k = 10\n",
        "def test():\n",
        "  global k\n",
        "  k = 20\n",
        "\n",
        "test()\n",
        "k"
      ],
      "metadata": {
        "colab": {
          "base_uri": "https://localhost:8080/"
        },
        "id": "fkuz4aZCj1vQ",
        "outputId": "aa35de1d-628a-4e80-e337-5aa5fad4ea6f"
      },
      "execution_count": 109,
      "outputs": [
        {
          "output_type": "execute_result",
          "data": {
            "text/plain": [
              "20"
            ]
          },
          "metadata": {},
          "execution_count": 109
        }
      ]
    },
    {
      "cell_type": "markdown",
      "source": [
        "The `nonlocal` keyword is similar to `global`, but it is used only within a function. Unlike `global`, `nonlocal` variables cannot be created dynamically; they must already exist in the enclosing scope."
      ],
      "metadata": {
        "id": "4W8_XWvBihH7"
      }
    },
    {
      "cell_type": "code",
      "source": [
        "# Error, ii is not defined previously in a function\n",
        "ii = 10\n",
        "def test():\n",
        "  nonlocal ii\n",
        "  ii = 12\n",
        "test()\n",
        "ii"
      ],
      "metadata": {
        "colab": {
          "base_uri": "https://localhost:8080/",
          "height": 108
        },
        "id": "A9jmb5vljMb4",
        "outputId": "91861b17-aa62-45ff-b553-a55f6628ed11"
      },
      "execution_count": 110,
      "outputs": [
        {
          "output_type": "error",
          "ename": "SyntaxError",
          "evalue": "no binding for nonlocal 'ii' found (<ipython-input-110-96de822bf410>, line 4)",
          "traceback": [
            "\u001b[0;36m  File \u001b[0;32m\"<ipython-input-110-96de822bf410>\"\u001b[0;36m, line \u001b[0;32m4\u001b[0m\n\u001b[0;31m    nonlocal ii\u001b[0m\n\u001b[0m    ^\u001b[0m\n\u001b[0;31mSyntaxError\u001b[0m\u001b[0;31m:\u001b[0m no binding for nonlocal 'ii' found\n"
          ]
        }
      ]
    },
    {
      "cell_type": "code",
      "source": [
        "# Encapsulate the previous code in another function\n",
        "def outer():\n",
        "  ii = 10\n",
        "  def test():\n",
        "    nonlocal ii\n",
        "    ii = 12\n",
        "  test()\n",
        "  print (ii)\n",
        "\n",
        "outer()"
      ],
      "metadata": {
        "colab": {
          "base_uri": "https://localhost:8080/"
        },
        "id": "2QcueTY9kiq5",
        "outputId": "4ef99ab2-04d3-4616-ae39-93693a272cbf"
      },
      "execution_count": 111,
      "outputs": [
        {
          "output_type": "stream",
          "name": "stdout",
          "text": [
            "12\n"
          ]
        }
      ]
    },
    {
      "cell_type": "markdown",
      "source": [
        "**<font color=\"#1589FF\">Built-in scope</font>**\n",
        "\n",
        "To access the list of variables and functions defined in the standard library (built-in) we can run the following code sequence:"
      ],
      "metadata": {
        "id": "G8nkW0RsFUFp"
      }
    },
    {
      "cell_type": "code",
      "source": [
        "import builtins\n",
        "' '.join(dir(builtins))"
      ],
      "metadata": {
        "colab": {
          "base_uri": "https://localhost:8080/",
          "height": 143
        },
        "id": "7PregIzzFQ7Z",
        "outputId": "a0bd70d5-32c6-4c98-d423-44aaad55ce8a"
      },
      "execution_count": 112,
      "outputs": [
        {
          "output_type": "execute_result",
          "data": {
            "text/plain": [
              "'ArithmeticError AssertionError AttributeError BaseException BaseExceptionGroup BlockingIOError BrokenPipeError BufferError BytesWarning ChildProcessError ConnectionAbortedError ConnectionError ConnectionRefusedError ConnectionResetError DeprecationWarning EOFError Ellipsis EncodingWarning EnvironmentError Exception ExceptionGroup False FileExistsError FileNotFoundError FloatingPointError FutureWarning GeneratorExit IOError ImportError ImportWarning IndentationError IndexError InterruptedError IsADirectoryError KeyError KeyboardInterrupt LookupError MemoryError ModuleNotFoundError NameError None NotADirectoryError NotImplemented NotImplementedError OSError OverflowError PendingDeprecationWarning PermissionError ProcessLookupError RecursionError ReferenceError ResourceWarning RuntimeError RuntimeWarning StopAsyncIteration StopIteration SyntaxError SyntaxWarning SystemError SystemExit TabError TimeoutError True TypeError UnboundLocalError UnicodeDecodeError UnicodeEncodeError UnicodeError UnicodeTranslateError UnicodeWarning UserWarning ValueError Warning ZeroDivisionError __IPYTHON__ __build_class__ __debug__ __doc__ __import__ __loader__ __name__ __package__ __pybind11_internals_v4_gcc_libstdcpp_cxxabi1014__ __spec__ abs aiter all anext any ascii bin bool breakpoint bytearray bytes callable chr classmethod compile complex copyright credits delattr dict dir display divmod enumerate eval exec execfile filter float format frozenset get_ipython getattr globals hasattr hash help hex id input int isinstance issubclass iter len license list locals map max memoryview min next object oct open ord pow print property range repr reversed round runfile set setattr slice sorted staticmethod str sum super tuple type vars zip'"
            ],
            "application/vnd.google.colaboratory.intrinsic+json": {
              "type": "string"
            }
          },
          "metadata": {},
          "execution_count": 112
        }
      ]
    },
    {
      "cell_type": "markdown",
      "source": [
        "Built-in variables are automatically available in the code written and that is why it is important not to overwrite them:\n"
      ],
      "metadata": {
        "id": "cV1QqiUHFb3O"
      }
    },
    {
      "cell_type": "code",
      "source": [
        "open = 'Ana'     # Local variable that hides built-in\n",
        "open('data.txt') # Open is no longer the function that allows opening files"
      ],
      "metadata": {
        "id": "Irqmf4V-FWVs",
        "colab": {
          "base_uri": "https://localhost:8080/",
          "height": 162
        },
        "outputId": "ff73d594-b9af-4f02-e4d7-20c43dff1385"
      },
      "execution_count": 113,
      "outputs": [
        {
          "output_type": "error",
          "ename": "TypeError",
          "evalue": "'str' object is not callable",
          "traceback": [
            "\u001b[0;31m---------------------------------------------------------------------------\u001b[0m",
            "\u001b[0;31mTypeError\u001b[0m                                 Traceback (most recent call last)",
            "\u001b[0;32m<ipython-input-113-a45390c3969d>\u001b[0m in \u001b[0;36m<cell line: 0>\u001b[0;34m()\u001b[0m\n\u001b[1;32m      1\u001b[0m \u001b[0mopen\u001b[0m \u001b[0;34m=\u001b[0m \u001b[0;34m'Ana'\u001b[0m     \u001b[0;31m# Local variable that hides built-in\u001b[0m\u001b[0;34m\u001b[0m\u001b[0;34m\u001b[0m\u001b[0m\n\u001b[0;32m----> 2\u001b[0;31m \u001b[0mopen\u001b[0m\u001b[0;34m(\u001b[0m\u001b[0;34m'data.txt'\u001b[0m\u001b[0;34m)\u001b[0m \u001b[0;31m# Open is no longer the function that allows opening files\u001b[0m\u001b[0;34m\u001b[0m\u001b[0;34m\u001b[0m\u001b[0m\n\u001b[0m",
            "\u001b[0;31mTypeError\u001b[0m: 'str' object is not callable"
          ]
        }
      ]
    },
    {
      "cell_type": "markdown",
      "source": [
        "---\n",
        "\n",
        "## <font color=\"#e8710a\">Conclusions</font>\n",
        "\n",
        "In this tutorial we discovered how to define functions and organize Python code into modules and packages. The next tutorial covers the introduction of aspects related to object-oriented programming (OOP)."
      ],
      "metadata": {
        "id": "Xx60q1MCk4V5"
      }
    },
    {
      "cell_type": "markdown",
      "metadata": {
        "id": "QRxzWsqKkLg0"
      },
      "source": [
        "---\n",
        "\n",
        "##<font color=\"#1589FF\"> Exercises</font>\n",
        "\n",
        "1) Define a function that returns the number of occurrences of a character in a string."
      ]
    },
    {
      "cell_type": "code",
      "execution_count": 114,
      "metadata": {
        "id": "J_5kcZfwkMxe"
      },
      "outputs": [],
      "source": [
        "## SOLUTION EX. 1"
      ]
    },
    {
      "cell_type": "markdown",
      "source": [
        "2) Define a function that concatenates any number of strings given as input."
      ],
      "metadata": {
        "id": "mW_kX6NnCCev"
      }
    },
    {
      "cell_type": "code",
      "source": [
        "## SOLUTION EX. 2"
      ],
      "metadata": {
        "id": "X5I3FG5ECCmi"
      },
      "execution_count": 115,
      "outputs": []
    },
    {
      "cell_type": "markdown",
      "source": [
        " 3) Define a function that solves 2nd degree equations. The function receives the coefficients of the equation as arguments."
      ],
      "metadata": {
        "id": "xuLWf8d0CC_N"
      }
    },
    {
      "cell_type": "code",
      "source": [
        "## SOLUTION EX. 3"
      ],
      "metadata": {
        "id": "ty8YK6VtCDF8"
      },
      "execution_count": 116,
      "outputs": []
    },
    {
      "cell_type": "markdown",
      "source": [
        "4) Define a list of lambda functions that return: every second character from a string; the string in uppercase; the position where a certain character given as input is found. Call all the functions in the list one by one."
      ],
      "metadata": {
        "id": "55VX6GB7CDcx"
      }
    },
    {
      "cell_type": "code",
      "source": [
        "## SOLUTION EX. 4"
      ],
      "metadata": {
        "id": "swJt-zaGCDj0"
      },
      "execution_count": 117,
      "outputs": []
    },
    {
      "cell_type": "markdown",
      "source": [
        "5) Define a function that calculates the average of three grades specified at the input. If not all grades are sent at the call, default values ​​equal to 4 will be used. Call the function with different combinations of positional and keyword arguments."
      ],
      "metadata": {
        "id": "vvihvceSCEAB"
      }
    },
    {
      "cell_type": "code",
      "source": [
        "## SOLUTION EX. 5"
      ],
      "metadata": {
        "id": "1WBr7QnkCEGa"
      },
      "execution_count": 118,
      "outputs": []
    },
    {
      "cell_type": "markdown",
      "source": [
        "6) Define a recursive function that displays the sum of the first N natural numbers."
      ],
      "metadata": {
        "id": "_UucmzomCEaL"
      }
    },
    {
      "cell_type": "code",
      "source": [
        "## SOLUTION EX. 6"
      ],
      "metadata": {
        "id": "E6vp4kqyCEgt"
      },
      "execution_count": 119,
      "outputs": []
    }
  ]
}