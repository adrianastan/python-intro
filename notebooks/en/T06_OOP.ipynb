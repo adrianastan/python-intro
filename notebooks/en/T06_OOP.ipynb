{
  "nbformat": 4,
  "nbformat_minor": 0,
  "metadata": {
    "colab": {
      "provenance": [],
      "toc_visible": true
    },
    "kernelspec": {
      "name": "python3",
      "display_name": "Python 3"
    },
    "language_info": {
      "name": "python"
    }
  },
  "cells": [
    {
      "cell_type": "markdown",
      "source": [
        "<img src='https://upload.wikimedia.org/wikipedia/commons/c/c3/Python-logo-notext.svg' width=50/>\n",
        "<img src='https://upload.wikimedia.org/wikipedia/commons/d/d0/Google_Colaboratory_SVG_Logo.svg' width=90/>\n",
        "\n",
        "# <font size=50>Introduction in Python using Google Colab</font>\n",
        "<font color=\"#e8710a\">© Adriana STAN, David COMBEI, 2025</font>\n",
        "\n",
        "<font color=\"#e8710a\">Contributor: Gabriel ERDEI </font>\n",
        "\n",
        "\n"
      ],
      "metadata": {
        "id": "upQ24p4DtjXK"
      }
    },
    {
      "cell_type": "markdown",
      "source": [
        "[![Open In Colab](https://colab.research.google.com/assets/colab-badge.svg)](https://colab.research.google.com/github/adrianastan/python-intro/blob/main/notebooks/ro/T06_OOP.ipynb)"
      ],
      "metadata": {
        "id": "85_MVp-arEhP"
      }
    },
    {
      "cell_type": "markdown",
      "source": [
        "#<font color=\"#e8710a\">T06. Objected-oriented programming. Exceptions.</font>\n",
        "\n",
        "Tutorial 6 presents in broad terms the aspects related to object-oriented programming in Python. These include notions related to defining classes, inheritance, polymorphism, and exceptions.\n",
        "\n",
        "\n",
        "---\n",
        "<font color=\"#1589FF\"><b>Estimated Completion Time:</b> 150 min</font>\n",
        "\n",
        "---"
      ],
      "metadata": {
        "id": "8Vt1YhNMQqHP"
      }
    },
    {
      "cell_type": "markdown",
      "source": [
        "## <font color=\"#e8710a\">Classes</font>\n",
        "\n",
        "Object-Oriented Programming (OOP) offers several advantages, as defined in other object-oriented languages, including:\n",
        "\n",
        "  * Inheritance\n",
        "  * Composition\n",
        "  * Multiple instances\n",
        "  * Specialization through inheritance\n",
        "  * Operator overloading\n",
        "  * Polymorphism\n",
        "  * Reducing code redundancy\n",
        "  * Encapsulation\n",
        "\n",
        "All of these features are supported in Python, allowing the implementation of object-oriented programming alongside the functional programming paradigm we discussed in the previous tutorial."
      ],
      "metadata": {
        "id": "-X2usRXuDz-o"
      }
    },
    {
      "cell_type": "markdown",
      "source": [
        "### <font color=\"#e8710a\">Definition. Instances. Attributes. Methods.</font>\n",
        "To define a class in Python, the keyword `class` is used, and the general syntax is:\n",
        "\n",
        "\n",
        "```\n",
        "class name(baseclass1,baseclass2):\n",
        "  attribute = value\n",
        "  def method(self,...):\n",
        "    self.attribute = value\n",
        "```\n",
        "\n",
        "Let's see a first example:"
      ],
      "metadata": {
        "id": "CcGroTqeqer4"
      }
    },
    {
      "cell_type": "code",
      "source": [
        "# Create a class without body\n",
        "class Person:\n",
        "  pass"
      ],
      "metadata": {
        "id": "nUqvdyIeELwb"
      },
      "execution_count": 1,
      "outputs": []
    },
    {
      "cell_type": "markdown",
      "source": [
        "To instantiate an object, use the class name followed by parentheses:"
      ],
      "metadata": {
        "id": "N_GIYqcHk0TI"
      }
    },
    {
      "cell_type": "code",
      "source": [
        "# Instantiate an object from the class\n",
        "P = Person()\n",
        "# Display the object type\n",
        "type(P)"
      ],
      "metadata": {
        "colab": {
          "base_uri": "https://localhost:8080/"
        },
        "id": "KrksySdelAry",
        "outputId": "f2b3b6cb-ab42-4850-e5d9-7170bcbf98ba"
      },
      "execution_count": 2,
      "outputs": [
        {
          "output_type": "execute_result",
          "data": {
            "text/plain": [
              "__main__.Person"
            ]
          },
          "metadata": {},
          "execution_count": 2
        }
      ]
    },
    {
      "cell_type": "markdown",
      "source": [
        "**<font color=\"#1589FF\">Attributes</font>**\n",
        "\n",
        "Class attributes are defined simply, like any other variable, and can then be accessed by the object name followed by a dot `.` and the attribute name:"
      ],
      "metadata": {
        "id": "JU-wIIa7JCWY"
      }
    },
    {
      "cell_type": "code",
      "source": [
        "class Person:\n",
        "  # Two attributes of the class\n",
        "  a = 3\n",
        "  b = 4\n",
        "\n",
        "P = Person()\n",
        "# Access the object's attributes\n",
        "P.a, P.b"
      ],
      "metadata": {
        "colab": {
          "base_uri": "https://localhost:8080/"
        },
        "id": "FYQj363xJP2X",
        "outputId": "f3983493-1b4e-48ce-f5b0-9c95ea866695"
      },
      "execution_count": 3,
      "outputs": [
        {
          "output_type": "execute_result",
          "data": {
            "text/plain": [
              "(3, 4)"
            ]
          },
          "metadata": {},
          "execution_count": 3
        }
      ]
    },
    {
      "cell_type": "markdown",
      "source": [
        "In Python, all attributes are public and virtual (C++ equivalent). However, there is a convention for noting private attributes using `_attribute`. But this notation has no programmatic value, it only informs the programmer using the code that those attributes are not designed to be used outside the classes.\n",
        "\n",
        "\n"
      ],
      "metadata": {
        "id": "qLg97b2Sdxbi"
      }
    },
    {
      "cell_type": "code",
      "source": [
        "class Person:\n",
        "    _a = 3\n",
        "\n",
        "P = Person()\n",
        "# We can use the attribute _a\n",
        "P._a"
      ],
      "metadata": {
        "colab": {
          "base_uri": "https://localhost:8080/"
        },
        "id": "xV-ZnTG-FrEM",
        "outputId": "6934ada5-fb6e-43cb-b1f6-3f9bf97eeede"
      },
      "execution_count": 4,
      "outputs": [
        {
          "output_type": "execute_result",
          "data": {
            "text/plain": [
              "3"
            ]
          },
          "metadata": {},
          "execution_count": 4
        }
      ]
    },
    {
      "cell_type": "markdown",
      "source": [
        "A feature of class attributes in Python is *name mangling*, which refers to the automatic modification of variable names. When a variable starts with double underscores (`__`), its name is automatically extended by the interpreter to include the class name: `__attribute` becomes `_Class__attribute`. This is used to prevent the hiding or overwriting of attributes in the inheritance hierarchy."
      ],
      "metadata": {
        "id": "Hw8UQ3XiFqiv"
      }
    },
    {
      "cell_type": "code",
      "source": [
        "class Person:\n",
        "    __name = \"Ana\"\n",
        "\n",
        "P = Person()\n",
        "# Display the object's attributes\n",
        "print(dir(P))"
      ],
      "metadata": {
        "colab": {
          "base_uri": "https://localhost:8080/"
        },
        "id": "nWhMpPA2H8Py",
        "outputId": "6a298a88-9255-4f45-cbb0-c824c46c71c9"
      },
      "execution_count": 5,
      "outputs": [
        {
          "output_type": "stream",
          "name": "stdout",
          "text": [
            "['_Person__name', '__class__', '__delattr__', '__dict__', '__dir__', '__doc__', '__eq__', '__format__', '__ge__', '__getattribute__', '__getstate__', '__gt__', '__hash__', '__init__', '__init_subclass__', '__le__', '__lt__', '__module__', '__ne__', '__new__', '__reduce__', '__reduce_ex__', '__repr__', '__setattr__', '__sizeof__', '__str__', '__subclasshook__', '__weakref__']\n"
          ]
        }
      ]
    },
    {
      "cell_type": "markdown",
      "source": [
        "> **NOTE!** We observe that, as in the case of built-in data types, we have a series of predefined attributes for any object instantiated from classes defined by the programmer. We will return to some of these later.\n"
      ],
      "metadata": {
        "id": "i-F8-GX6GCEk"
      }
    },
    {
      "cell_type": "markdown",
      "source": [
        "Access to this type of attribute is done through the full name:"
      ],
      "metadata": {
        "id": "FAoM9WG0INfG"
      }
    },
    {
      "cell_type": "code",
      "source": [
        "print(P._Person__name)"
      ],
      "metadata": {
        "colab": {
          "base_uri": "https://localhost:8080/"
        },
        "id": "OHdsVA0nIQl-",
        "outputId": "7a431833-4b40-4470-f3f6-368b1ebc01dd"
      },
      "execution_count": 6,
      "outputs": [
        {
          "output_type": "stream",
          "name": "stdout",
          "text": [
            "Ana\n"
          ]
        }
      ]
    },
    {
      "cell_type": "code",
      "source": [
        "# Error\n",
        "print(P.__name)"
      ],
      "metadata": {
        "id": "6deLtSz4IyKA",
        "colab": {
          "base_uri": "https://localhost:8080/",
          "height": 162
        },
        "outputId": "d9449708-db85-4ade-b0ab-bd3019a665e7"
      },
      "execution_count": 7,
      "outputs": [
        {
          "output_type": "error",
          "ename": "AttributeError",
          "evalue": "'Person' object has no attribute '__name'",
          "traceback": [
            "\u001b[0;31m---------------------------------------------------------------------------\u001b[0m",
            "\u001b[0;31mAttributeError\u001b[0m                            Traceback (most recent call last)",
            "\u001b[0;32m<ipython-input-7-65c917cbc610>\u001b[0m in \u001b[0;36m<cell line: 0>\u001b[0;34m()\u001b[0m\n\u001b[1;32m      1\u001b[0m \u001b[0;31m# Error\u001b[0m\u001b[0;34m\u001b[0m\u001b[0;34m\u001b[0m\u001b[0m\n\u001b[0;32m----> 2\u001b[0;31m \u001b[0mprint\u001b[0m\u001b[0;34m(\u001b[0m\u001b[0mP\u001b[0m\u001b[0;34m.\u001b[0m\u001b[0m__name\u001b[0m\u001b[0;34m)\u001b[0m\u001b[0;34m\u001b[0m\u001b[0;34m\u001b[0m\u001b[0m\n\u001b[0m",
            "\u001b[0;31mAttributeError\u001b[0m: 'Person' object has no attribute '__name'"
          ]
        }
      ]
    },
    {
      "cell_type": "markdown",
      "source": [
        "**<font color=\"#1589FF\">Methods</font>**\n",
        "\n",
        "Functions defined within classes are called **methods**. They have the same functionality as regular functions, except that they include a reference to the current instance as the first argument (except for static methods and class methods). This reference to the current instance is made using the `self` variable:"
      ],
      "metadata": {
        "id": "t8nqkWZuKk3y"
      }
    },
    {
      "cell_type": "code",
      "source": [
        "# Instance method\n",
        "class Person:\n",
        "  name = \"Ana\"\n",
        "  age = 19\n",
        "  def print_info(self, name, age):\n",
        "    print (\"Name: %s, age: %d\" %(self.name, self.age))\n",
        "\n",
        "P = Person()\n",
        "P.print_info(\"Ana\", 19)"
      ],
      "metadata": {
        "id": "zsg1gppPGwRP",
        "colab": {
          "base_uri": "https://localhost:8080/"
        },
        "outputId": "a0c4de54-5439-4d20-f298-4bcf10b2abc8"
      },
      "execution_count": 22,
      "outputs": [
        {
          "output_type": "stream",
          "name": "stdout",
          "text": [
            "Name: Ana, age: 19\n"
          ]
        }
      ]
    },
    {
      "cell_type": "code",
      "source": [
        "# We cannot call the method through the class name alone\n",
        "Person.print_info(\"Ana\", 19)"
      ],
      "metadata": {
        "id": "AFT4BZLVofG9",
        "colab": {
          "base_uri": "https://localhost:8080/",
          "height": 162
        },
        "outputId": "b8e05f9e-e436-4f6d-a15c-83e181020987"
      },
      "execution_count": 23,
      "outputs": [
        {
          "output_type": "error",
          "ename": "TypeError",
          "evalue": "Person.print_info() missing 1 required positional argument: 'age'",
          "traceback": [
            "\u001b[0;31m---------------------------------------------------------------------------\u001b[0m",
            "\u001b[0;31mTypeError\u001b[0m                                 Traceback (most recent call last)",
            "\u001b[0;32m<ipython-input-23-101dbf6a359b>\u001b[0m in \u001b[0;36m<cell line: 0>\u001b[0;34m()\u001b[0m\n\u001b[1;32m      1\u001b[0m \u001b[0;31m# We cannot call the method through the class name alone\u001b[0m\u001b[0;34m\u001b[0m\u001b[0;34m\u001b[0m\u001b[0m\n\u001b[0;32m----> 2\u001b[0;31m \u001b[0mPerson\u001b[0m\u001b[0;34m.\u001b[0m\u001b[0mprint_info\u001b[0m\u001b[0;34m(\u001b[0m\u001b[0;34m\"Ana\"\u001b[0m\u001b[0;34m,\u001b[0m \u001b[0;36m19\u001b[0m\u001b[0;34m)\u001b[0m\u001b[0;34m\u001b[0m\u001b[0;34m\u001b[0m\u001b[0m\n\u001b[0m",
            "\u001b[0;31mTypeError\u001b[0m: Person.print_info() missing 1 required positional argument: 'age'"
          ]
        }
      ]
    },
    {
      "cell_type": "markdown",
      "source": [
        "From the generated error we understand that, with the calling of the method through the class name, the reference to the current object (`self`) is not transmitted, but only the arguments `Ana` and `19`. The method definition expects 3 arguments, `self`, `name` and `age`.\n",
        "\n",
        "If we want to call a certain method through the class name, although it is not recommended, we can use the following statement in which we also send an instance of the class:"
      ],
      "metadata": {
        "id": "wO1NvptCm2ai"
      }
    },
    {
      "cell_type": "code",
      "source": [
        "Person.print_info(P, \"Ana\", 19)"
      ],
      "metadata": {
        "colab": {
          "base_uri": "https://localhost:8080/"
        },
        "id": "K10bvYQ0tMI-",
        "outputId": "61e1b171-85b1-4292-fb64-4895c9200eef"
      },
      "execution_count": 24,
      "outputs": [
        {
          "output_type": "stream",
          "name": "stdout",
          "text": [
            "Name: Ana, age: 19\n"
          ]
        }
      ]
    },
    {
      "cell_type": "markdown",
      "source": [
        "**<font color=\"#1589FF\">Constructors</font>**\n",
        "\n",
        "**Constructors** are special methods of a class with a predefined name, `__init__()`. Constructors are automatically called when a new object is instantiated from that class.\n",
        "They are used to set the attributes of the instances and to run other methods necessary to initialize the current object. In the constructor, a reference to the current object must be used, specified by the `self` argument.\n",
        "As we have seen in the previous examples, it is not necessary to define an explicit constructor, there is an implicit one anyway. Without defining a constructor, however, it becomes more complicated to customize different instances of the object.\n"
      ],
      "metadata": {
        "id": "SZIM7BebRAK_"
      }
    },
    {
      "cell_type": "code",
      "source": [
        "class Person:\n",
        "  # Explicit constructor\n",
        "  def __init__(self, name, age):\n",
        "    self.name = name\n",
        "    self.age = age\n",
        "  # Instance method\n",
        "  def print_info(self):\n",
        "    print (\"Name: %s, age: %d\" %(self.name, self.age))\n",
        "\n",
        "# We define two objects with different attributes\n",
        "P1 = Person(\"Ana\", 19)\n",
        "P1.print_info()\n",
        "P2 = Person(\"Maria\", 20)\n",
        "P2.print_info()"
      ],
      "metadata": {
        "id": "QJ-bQtVtQ_qH",
        "colab": {
          "base_uri": "https://localhost:8080/"
        },
        "outputId": "ff05829a-c694-4951-cb22-02f2c2c68181"
      },
      "execution_count": 25,
      "outputs": [
        {
          "output_type": "stream",
          "name": "stdout",
          "text": [
            "Name: Ana, age: 19\n",
            "Name: Maria, age: 20\n"
          ]
        }
      ]
    },
    {
      "cell_type": "markdown",
      "source": [
        "In Python, we **CANNOT** have multiple constructors within a class. If multiple `__init__()` methods are defined, only the last one will be called.\n",
        "\n",
        "However, if we want different behaviors based on the number of objects passed during the instantiation of an object, we can use default values for the constructor's arguments:"
      ],
      "metadata": {
        "id": "48ZYOlABNGn0"
      }
    },
    {
      "cell_type": "code",
      "source": [
        "class Person:\n",
        "  # Explicit constructor with default values\n",
        "  def __init__(self, name = \"UNK\", age = -1):\n",
        "    self.name = name\n",
        "    self.age = age\n",
        "\n",
        "  # Instance method\n",
        "  def print_info(self):\n",
        "    print (\"Name: %s, age: %d\" %(self.name, self.age))\n",
        "\n",
        "# We use the default values for attributes\n",
        "P = Person()\n",
        "P.print_info()\n",
        "# We give values to the name attribute\n",
        "P1 = Person(name=\"Ionut\")\n",
        "P1.print_info()\n",
        "# We give values to the age attribute\n",
        "P2 = Person(age=21)\n",
        "P2.print_info()\n",
        "# We give values to both attributes\n",
        "P3 = Person(\"Mihai\", 22)\n",
        "P3.print_info()"
      ],
      "metadata": {
        "colab": {
          "base_uri": "https://localhost:8080/"
        },
        "id": "QlRtSbkQNNoq",
        "outputId": "4726c624-988e-4d91-cd43-318945dee51a"
      },
      "execution_count": 26,
      "outputs": [
        {
          "output_type": "stream",
          "name": "stdout",
          "text": [
            "Name: UNK, age: -1\n",
            "Name: Ionut, age: -1\n",
            "Name: UNK, age: 21\n",
            "Name: Mihai, age: 22\n"
          ]
        }
      ]
    },
    {
      "cell_type": "markdown",
      "source": [
        "**<font color=\"#1589FF\">NOTES on Classes</font>**\n",
        "\n",
        "* The `class` statement creates a class object and assigns it a name.\n",
        "* Assignments within the class create class attributes.\n",
        "* Class attributes define the state and behavior of an object.\n",
        "* Instance objects are concrete elements.\n",
        "* Instances are created via the class constructor.\n",
        "* Each object has associated instance attributes.\n",
        "* The current instance is referred to using `self` (by convention).\n",
        "* Classes are attributes of modules.\n",
        "* Multiple classes can be defined within the same module.\n",
        "* When instantiating objects from external modules, the module hierarchy must be followed."
      ],
      "metadata": {
        "id": "LzN0WxILO9bb"
      }
    },
    {
      "cell_type": "markdown",
      "source": [
        "Regarding `self`, we can also use another identifier to refer to the current instance, only it is not recommended:"
      ],
      "metadata": {
        "id": "FZabBosrpEqz"
      }
    },
    {
      "cell_type": "code",
      "source": [
        "class Person:\n",
        "  # We use this instead of self for the current instance\n",
        "  def __init__(this, name = \"\", age = -1):\n",
        "    this.name = name\n",
        "    this.age = age\n",
        "\n",
        "  def print_info(this):\n",
        "    print (\"Name: %s, age: %d\" %(this.name, this.age))\n",
        "\n",
        "P = Person()\n",
        "P.print_info()"
      ],
      "metadata": {
        "colab": {
          "base_uri": "https://localhost:8080/"
        },
        "id": "pvQ2VbIuOvDX",
        "outputId": "fa5ace94-fc5a-421d-c50b-8e49cb15dbf4"
      },
      "execution_count": 27,
      "outputs": [
        {
          "output_type": "stream",
          "name": "stdout",
          "text": [
            "Name: , age: -1\n"
          ]
        }
      ]
    },
    {
      "cell_type": "markdown",
      "source": [
        "### <font color=\"#e8710a\">Inheritance</font>\n",
        "\n",
        "To inherit other classes in Python, from a syntax point of view, we just have to list them in parentheses after the class name:\n",
        "\n",
        "```\n",
        "class C(CB1, CB2):\n",
        "  …\n",
        "```\n",
        "\n",
        "Access to base class methods is done through `super()` or through the base class name:"
      ],
      "metadata": {
        "id": "Bh2lmvrvRwqZ"
      }
    },
    {
      "cell_type": "code",
      "source": [
        "# Base class\n",
        "class Base:\n",
        "  def __init__(self):\n",
        "    self.type = \"human\"\n",
        "    self.gender = \"female\"\n",
        "\n",
        "  def print_base_info(self):\n",
        "    print(\"Type: %s, gender: %s\" %(self.type, self.gender))\n",
        "\n",
        "# Derived class\n",
        "class Person(Base):\n",
        "  def __init__(self, name = \"\", age = -1):\n",
        "    # Call base class constructor\n",
        "    Base.__init__(self)\n",
        "    self.name = name\n",
        "    self.age = age\n",
        "\n",
        "  def print_info(self):\n",
        "    # We also use attributes of the base class\n",
        "    print (\"Name: %s, age: %d, type: %s, gender: %s\" %(self.name, self.age, self.type, self.gender))\n",
        "    # Call method from base class via super()\n",
        "    super().print_base_info()\n",
        "    # Call method from base class by class name\n",
        "    Base.print_base_info(self)\n",
        "\n",
        "P = Person(\"Ana\", 20)\n",
        "P.print_info()\n",
        "# We call a method of the base class through the derived instance\n",
        "P.print_base_info()\n",
        "# We use an attribute from the base class\n",
        "P.type"
      ],
      "metadata": {
        "colab": {
          "base_uri": "https://localhost:8080/",
          "height": 107
        },
        "id": "eAbSe84RQXUs",
        "outputId": "22198c74-2bdd-4524-989a-cb9e188e21b8"
      },
      "execution_count": 28,
      "outputs": [
        {
          "output_type": "stream",
          "name": "stdout",
          "text": [
            "Name: Ana, age: 20, type: human, gender: female\n",
            "Type: human, gender: female\n",
            "Type: human, gender: female\n",
            "Type: human, gender: female\n"
          ]
        },
        {
          "output_type": "execute_result",
          "data": {
            "text/plain": [
              "'human'"
            ],
            "application/vnd.google.colaboratory.intrinsic+json": {
              "type": "string"
            }
          },
          "metadata": {},
          "execution_count": 28
        }
      ]
    },
    {
      "cell_type": "markdown",
      "source": [
        "**<font color=\"#1589FF\">Method Resolution Order (MRO)</font>**\n",
        "\n",
        "**Method Resolution Order (MRO)** refers to how the interpreter determines which method to call from the inheritance hierarchy. The process works as follows: the method is first searched for in the current class, and then in the base classes, in the order they are listed when defining the current class."
      ],
      "metadata": {
        "id": "lYtqgXc3SdEE"
      }
    },
    {
      "cell_type": "code",
      "source": [
        "class A:\n",
        "    def met(self):\n",
        "        print(\"Met() from A\")\n",
        "class B:\n",
        "    def met(self):\n",
        "        print(\"Met() from B\")\n",
        "\n",
        "# Class C inherits A and B and redefines met()\n",
        "class C(A,B):\n",
        "  def met(self):\n",
        "    print(\"Met() from C\")\n",
        "# Class D inherits A and B and does not redefine met()\n",
        "class D(A,B):\n",
        "    pass\n",
        "# We reverse the order of inheritance\n",
        "class E(B,A):\n",
        "    pass\n",
        "\n",
        "# Object from class C\n",
        "O1 = C()\n",
        "O1.met()\n",
        "\n",
        "# Object from class D\n",
        "O2 = D()\n",
        "O2.met()\n",
        "\n",
        "# Object from class E\n",
        "O3 = E()\n",
        "O3.met()"
      ],
      "metadata": {
        "id": "bFOdHrKNSg7W",
        "colab": {
          "base_uri": "https://localhost:8080/"
        },
        "outputId": "41773819-7b5b-4a6d-a0d3-db2763c2890c"
      },
      "execution_count": 29,
      "outputs": [
        {
          "output_type": "stream",
          "name": "stdout",
          "text": [
            "Met() from C\n",
            "Met() from A\n",
            "Met() from B\n"
          ]
        }
      ]
    },
    {
      "cell_type": "markdown",
      "source": [
        " The same principle applies when calling methods through `super()`, the order of enumeration of the inherited classes determines the method called."
      ],
      "metadata": {
        "id": "i3DMHOV1SoA9"
      }
    },
    {
      "cell_type": "markdown",
      "source": [
        "**<font color=\"#1589FF\">Abstract Classes</font>**\n",
        "\n",
        "Abstract classes are those classes that have at least one method that is not defined and cannot be instantiated. They essentially serve as a base for derived classes.\n",
        "\n",
        "In Python, there is no implicit mechanism for defining abstract classes, but it can be done using the `abc` (Abstract Base Class) module. The unimplemented methods of the abstract class are decorated with `@abstractmethod`, and the derived classes must implement these methods:"
      ],
      "metadata": {
        "id": "_QC0QdYKTJ2j"
      }
    },
    {
      "cell_type": "code",
      "source": [
        "# We define an abstract class that contains an abstract method and one implemented\n",
        "from abc import ABC, abstractmethod\n",
        "\n",
        "class GeometricForm(ABC):\n",
        "  @abstractmethod\n",
        "  def perimeter(self, L:list):\n",
        "    pass\n",
        "\n",
        "  def greet(self):\n",
        "    return \"Hello, I am a geometric form of type: \""
      ],
      "metadata": {
        "id": "cXX_ttarTO-E"
      },
      "execution_count": 30,
      "outputs": []
    },
    {
      "cell_type": "code",
      "source": [
        "# We cannot instantiate it\n",
        "FG = GeometricForm()"
      ],
      "metadata": {
        "colab": {
          "base_uri": "https://localhost:8080/",
          "height": 162
        },
        "id": "vG21pW6iNIGr",
        "outputId": "1b67563c-945f-4dc8-f4c3-6acce7bd16a8"
      },
      "execution_count": 31,
      "outputs": [
        {
          "output_type": "error",
          "ename": "TypeError",
          "evalue": "Can't instantiate abstract class GeometricForm with abstract method perimeter",
          "traceback": [
            "\u001b[0;31m---------------------------------------------------------------------------\u001b[0m",
            "\u001b[0;31mTypeError\u001b[0m                                 Traceback (most recent call last)",
            "\u001b[0;32m<ipython-input-31-177aca8d64e0>\u001b[0m in \u001b[0;36m<cell line: 0>\u001b[0;34m()\u001b[0m\n\u001b[1;32m      1\u001b[0m \u001b[0;31m# We cannot instantiate it\u001b[0m\u001b[0;34m\u001b[0m\u001b[0;34m\u001b[0m\u001b[0m\n\u001b[0;32m----> 2\u001b[0;31m \u001b[0mFG\u001b[0m \u001b[0;34m=\u001b[0m \u001b[0mGeometricForm\u001b[0m\u001b[0;34m(\u001b[0m\u001b[0;34m)\u001b[0m\u001b[0;34m\u001b[0m\u001b[0;34m\u001b[0m\u001b[0m\n\u001b[0m",
            "\u001b[0;31mTypeError\u001b[0m: Can't instantiate abstract class GeometricForm with abstract method perimeter"
          ]
        }
      ]
    },
    {
      "cell_type": "code",
      "source": [
        "# We define derived classes that will implement the abstract method\n",
        "class Triangle(GeometricForm):\n",
        "  def perimeter(self, L:list):\n",
        "    return L[0]+L[1]+L[2]\n",
        "  def greet(self):\n",
        "    # We call the method from the base class\n",
        "    print(super().greet()+\"triangle\")\n",
        "\n",
        "class Rectangle(GeometricForm):\n",
        "  def perimeter(self, L:list):\n",
        "    return L[0]+L[1]+L[2]+L[3]\n",
        "\n",
        "  def greet(self):\n",
        "    # We call the method from the base class\n",
        "    print(super().greet()+\"rectangle\")\n",
        "\n",
        "\n",
        "T = Triangle()\n",
        "print(T.perimeter([2,3,4]))\n",
        "T.greet()\n",
        "\n",
        "D = Rectangle()\n",
        "print(D.perimeter([2,3,2,3]))\n",
        "D.greet()"
      ],
      "metadata": {
        "colab": {
          "base_uri": "https://localhost:8080/"
        },
        "id": "7YdistxnMgY5",
        "outputId": "83156b7e-e959-4aea-8dfb-cc24aeac4b87"
      },
      "execution_count": 32,
      "outputs": [
        {
          "output_type": "stream",
          "name": "stdout",
          "text": [
            "9\n",
            "Hello, I am a geometric form of type: triangle\n",
            "10\n",
            "Hello, I am a geometric form of type: rectangle\n"
          ]
        }
      ]
    },
    {
      "cell_type": "markdown",
      "source": [
        "**<font color=\"#1589FF\">Introspection in classes</font>**\n",
        "\n",
        "Introspection can also be applied to Python classes, where we can use attributes such as:\n",
        "\n",
        "* `instance.__class__ ` - the class to which the instance belongs\n",
        "* `class.__name__` - the name of the class\n",
        "* `class.__bases__` - the classes in the hierarchy\n",
        "* `object.__dict__` - dictionary with the list of attributes associated with the object\n",
        "\n"
      ],
      "metadata": {
        "id": "yOHNuS2wTSgR"
      }
    },
    {
      "cell_type": "code",
      "source": [
        "# We create a module containing a class\n",
        "%%writefile person.py\n",
        "class Person:\n",
        "  # Explicit constructor\n",
        "  def __init__(self, name, age):\n",
        "    self.name = name\n",
        "    self.age = age\n",
        "  # Instance method\n",
        "  def print_info(self):\n",
        "    print (\"Name: %s, age: %d\" %(self.name, self.age))"
      ],
      "metadata": {
        "colab": {
          "base_uri": "https://localhost:8080/"
        },
        "id": "jBLNyB1fcYVf",
        "outputId": "01d44dbd-adfd-409b-bc96-edac9a8b3656"
      },
      "execution_count": 33,
      "outputs": [
        {
          "output_type": "stream",
          "name": "stdout",
          "text": [
            "Overwriting person.py\n"
          ]
        }
      ]
    },
    {
      "cell_type": "code",
      "source": [
        "# We import the module\n",
        "from person import Person\n",
        "ana = Person('Ana', 19)\n",
        "# We display the object type\n",
        "type(ana) # The module name is also displayed"
      ],
      "metadata": {
        "colab": {
          "base_uri": "https://localhost:8080/",
          "height": 121
        },
        "id": "yUYT37Y0Tbv6",
        "outputId": "d0c34bd1-308d-4ddd-f103-7498a6d65f98"
      },
      "execution_count": 34,
      "outputs": [
        {
          "output_type": "execute_result",
          "data": {
            "text/plain": [
              "person.Person"
            ],
            "text/html": [
              "<div style=\"max-width:800px; border: 1px solid var(--colab-border-color);\"><style>\n",
              "      pre.function-repr-contents {\n",
              "        overflow-x: auto;\n",
              "        padding: 8px 12px;\n",
              "        max-height: 500px;\n",
              "      }\n",
              "\n",
              "      pre.function-repr-contents.function-repr-contents-collapsed {\n",
              "        cursor: pointer;\n",
              "        max-height: 100px;\n",
              "      }\n",
              "    </style>\n",
              "    <pre style=\"white-space: initial; background:\n",
              "         var(--colab-secondary-surface-color); padding: 8px 12px;\n",
              "         border-bottom: 1px solid var(--colab-border-color);\"><b>person.Person</b><br/>def __init__(name, age)</pre><pre class=\"function-repr-contents function-repr-contents-collapsed\" style=\"\"><a class=\"filepath\" style=\"display:none\" href=\"#\">/content/person.py</a>&lt;no docstring&gt;</pre>\n",
              "      <script>\n",
              "      if (google.colab.kernel.accessAllowed && google.colab.files && google.colab.files.view) {\n",
              "        for (const element of document.querySelectorAll('.filepath')) {\n",
              "          element.style.display = 'block'\n",
              "          element.onclick = (event) => {\n",
              "            event.preventDefault();\n",
              "            event.stopPropagation();\n",
              "            google.colab.files.view(element.textContent, 1);\n",
              "          };\n",
              "        }\n",
              "      }\n",
              "      for (const element of document.querySelectorAll('.function-repr-contents')) {\n",
              "        element.onclick = (event) => {\n",
              "          event.preventDefault();\n",
              "          event.stopPropagation();\n",
              "          element.classList.toggle('function-repr-contents-collapsed');\n",
              "        };\n",
              "      }\n",
              "      </script>\n",
              "      </div>"
            ]
          },
          "metadata": {},
          "execution_count": 34
        }
      ]
    },
    {
      "cell_type": "code",
      "source": [
        "# We display the name of the module to which the object's class belongs\n",
        "ana.__module__"
      ],
      "metadata": {
        "colab": {
          "base_uri": "https://localhost:8080/",
          "height": 35
        },
        "id": "dd3SDmBXqcOz",
        "outputId": "b1f2e43b-bb0e-40f8-dfdb-42c47c211752"
      },
      "execution_count": 35,
      "outputs": [
        {
          "output_type": "execute_result",
          "data": {
            "text/plain": [
              "'person'"
            ],
            "application/vnd.google.colaboratory.intrinsic+json": {
              "type": "string"
            }
          },
          "metadata": {},
          "execution_count": 35
        }
      ]
    },
    {
      "cell_type": "code",
      "source": [
        "# We display the class associated with the object with the module name included\n",
        "ana.__class__"
      ],
      "metadata": {
        "colab": {
          "base_uri": "https://localhost:8080/",
          "height": 121
        },
        "id": "J7OU2cb8Tfv0",
        "outputId": "90e0cf2a-87b5-43b4-b278-a51453c32677"
      },
      "execution_count": 36,
      "outputs": [
        {
          "output_type": "execute_result",
          "data": {
            "text/plain": [
              "person.Person"
            ],
            "text/html": [
              "<div style=\"max-width:800px; border: 1px solid var(--colab-border-color);\"><style>\n",
              "      pre.function-repr-contents {\n",
              "        overflow-x: auto;\n",
              "        padding: 8px 12px;\n",
              "        max-height: 500px;\n",
              "      }\n",
              "\n",
              "      pre.function-repr-contents.function-repr-contents-collapsed {\n",
              "        cursor: pointer;\n",
              "        max-height: 100px;\n",
              "      }\n",
              "    </style>\n",
              "    <pre style=\"white-space: initial; background:\n",
              "         var(--colab-secondary-surface-color); padding: 8px 12px;\n",
              "         border-bottom: 1px solid var(--colab-border-color);\"><b>person.Person</b><br/>def __init__(name, age)</pre><pre class=\"function-repr-contents function-repr-contents-collapsed\" style=\"\"><a class=\"filepath\" style=\"display:none\" href=\"#\">/content/person.py</a>&lt;no docstring&gt;</pre>\n",
              "      <script>\n",
              "      if (google.colab.kernel.accessAllowed && google.colab.files && google.colab.files.view) {\n",
              "        for (const element of document.querySelectorAll('.filepath')) {\n",
              "          element.style.display = 'block'\n",
              "          element.onclick = (event) => {\n",
              "            event.preventDefault();\n",
              "            event.stopPropagation();\n",
              "            google.colab.files.view(element.textContent, 1);\n",
              "          };\n",
              "        }\n",
              "      }\n",
              "      for (const element of document.querySelectorAll('.function-repr-contents')) {\n",
              "        element.onclick = (event) => {\n",
              "          event.preventDefault();\n",
              "          event.stopPropagation();\n",
              "          element.classList.toggle('function-repr-contents-collapsed');\n",
              "        };\n",
              "      }\n",
              "      </script>\n",
              "      </div>"
            ]
          },
          "metadata": {},
          "execution_count": 36
        }
      ]
    },
    {
      "cell_type": "code",
      "source": [
        "# We display only the name of the class associated with the object\n",
        "ana.__class__.__name__"
      ],
      "metadata": {
        "colab": {
          "base_uri": "https://localhost:8080/",
          "height": 35
        },
        "id": "nuzpsGDHTgAz",
        "outputId": "e9438b95-c72d-454d-804e-e53564ea0373"
      },
      "execution_count": 37,
      "outputs": [
        {
          "output_type": "execute_result",
          "data": {
            "text/plain": [
              "'Person'"
            ],
            "application/vnd.google.colaboratory.intrinsic+json": {
              "type": "string"
            }
          },
          "metadata": {},
          "execution_count": 37
        }
      ]
    },
    {
      "cell_type": "code",
      "source": [
        "# We display the attributes associated with the object from the Person class\n",
        "list(ana.__dict__.keys())"
      ],
      "metadata": {
        "colab": {
          "base_uri": "https://localhost:8080/"
        },
        "id": "11u_3mvQThMj",
        "outputId": "830a2211-b17b-4b08-904c-e46ee8d548fd"
      },
      "execution_count": 38,
      "outputs": [
        {
          "output_type": "execute_result",
          "data": {
            "text/plain": [
              "['name', 'age']"
            ]
          },
          "metadata": {},
          "execution_count": 38
        }
      ]
    },
    {
      "cell_type": "code",
      "source": [
        "# We display the attributes and their values using O.__dict__\n",
        "for key in ana.__dict__:\n",
        "  print(key, '=', ana.__dict__[key])"
      ],
      "metadata": {
        "colab": {
          "base_uri": "https://localhost:8080/"
        },
        "id": "g1no4sgzTinb",
        "outputId": "b10a1f48-3ea2-4fd6-9402-56b6bfe09eb4"
      },
      "execution_count": 39,
      "outputs": [
        {
          "output_type": "stream",
          "name": "stdout",
          "text": [
            "name = Ana\n",
            "age = 19\n"
          ]
        }
      ]
    },
    {
      "cell_type": "code",
      "source": [
        "# We display the object's attributes using __dict__ and getattr\n",
        "for key in ana.__dict__:\n",
        "  print(key, '=', getattr(ana, key))"
      ],
      "metadata": {
        "id": "kaXy3-ViTnId",
        "colab": {
          "base_uri": "https://localhost:8080/"
        },
        "outputId": "02bfd023-d686-4f7e-9922-5ff609310898"
      },
      "execution_count": 40,
      "outputs": [
        {
          "output_type": "stream",
          "name": "stdout",
          "text": [
            "name = Ana\n",
            "age = 19\n"
          ]
        }
      ]
    },
    {
      "cell_type": "markdown",
      "source": [
        "### <font color=\"#e8710a\">Static and Class Methods</font>\n",
        "\n",
        "Static and class methods can be called without instantiating the class. The difference is that:\n",
        "\n",
        "- Static methods function like regular functions inside a class, without being attached to an instance and without having direct access to the class's state.\n",
        "- Class methods receive the class reference as their first argument, instead of an instance. This means they can modify the overall state of the class, for example, an attribute that belongs to all instances of the class. Class methods often return an object of the current class and behave similarly to constructors.\n",
        "\n",
        "To specify that a method is static or a class method, you use the `staticmethod()` or `classmethod()` methods on the method object, or by using the decorators `@staticmethod` or `@classmethod`. The decorators will be introduced in a following section."
      ],
      "metadata": {
        "id": "zq7EOY4xXWMi"
      }
    },
    {
      "cell_type": "markdown",
      "source": [
        "**<font color=\"#1589FF\">Static methods</font>**\n",
        "\n"
      ],
      "metadata": {
        "id": "7mA-jBBoX8c1"
      }
    },
    {
      "cell_type": "code",
      "source": [
        "# We define a static method in the class\n",
        "class Person:\n",
        "  def print_info():\n",
        "    print(\"Hello!\")\n",
        "\n",
        "  # We specify that the method is static\n",
        "  print_info = staticmethod(print_info)\n",
        "\n",
        "# We call the method through instance\n",
        "P1 = Person()\n",
        "P1.print_info()\n",
        "# We call the method by class name\n",
        "Person.print_info()"
      ],
      "metadata": {
        "colab": {
          "base_uri": "https://localhost:8080/"
        },
        "id": "IFDXA9GlgaC7",
        "outputId": "56536715-af34-4bd2-fa8b-87be21a671c4"
      },
      "execution_count": 41,
      "outputs": [
        {
          "output_type": "stream",
          "name": "stdout",
          "text": [
            "Hello!\n",
            "Hello!\n"
          ]
        }
      ]
    },
    {
      "cell_type": "markdown",
      "source": [
        "**<font color=\"#1589FF\">Class methods</font>**"
      ],
      "metadata": {
        "id": "Cz_nTII9YZrG"
      }
    },
    {
      "cell_type": "code",
      "source": [
        "class Person:\n",
        "  number_of_persons = 0\n",
        "  def __init__(self):\n",
        "    # Class attribute\n",
        "    Person.number_of_persons += 1\n",
        "\n",
        "  # Class method, receives a class as argument\n",
        "  def print_info(cls):\n",
        "    print(\"Number of persons: %d\" % cls.number_of_persons)\n",
        "  # We specify that print_info is a class method\n",
        "  print_info = classmethod(print_info)\n",
        "\n",
        "a = Person()\n",
        "# The class is automatically passed to the method\n",
        "a.print_info()\n",
        "b = Person()\n",
        "b.print_info()\n",
        "# We call by class name\n",
        "Person.print_info()"
      ],
      "metadata": {
        "colab": {
          "base_uri": "https://localhost:8080/"
        },
        "id": "OBijjeczYXdo",
        "outputId": "7b2a2d3a-9de1-470d-8951-e23b099b14c4"
      },
      "execution_count": 42,
      "outputs": [
        {
          "output_type": "stream",
          "name": "stdout",
          "text": [
            "Number of persons: 1\n",
            "Number of persons: 2\n",
            "Number of persons: 2\n"
          ]
        }
      ]
    },
    {
      "cell_type": "code",
      "source": [
        "# Factory class method\n",
        "class Person:\n",
        "  def __init__(self, name, age):\n",
        "    self.name = name\n",
        "    self.age = age\n",
        "  def print_info(self):\n",
        "    print (\"Name: %s, age: %d\" %(self.name, self.age))\n",
        "\n",
        "  # Class method\n",
        "  def from_string(cls, S):\n",
        "    return cls(S.split('-')[0], int(S.split('-')[1]))\n",
        "  from_string = classmethod(from_string)\n",
        "\n",
        "# We instantiate an object through the class method\n",
        "P = Person.from_string(\"Ana-19\")\n",
        "P.print_info()"
      ],
      "metadata": {
        "colab": {
          "base_uri": "https://localhost:8080/"
        },
        "id": "P0yPKWvozIFe",
        "outputId": "2f1d779c-7833-434c-913a-8a962cb7396d"
      },
      "execution_count": 43,
      "outputs": [
        {
          "output_type": "stream",
          "name": "stdout",
          "text": [
            "Name: Ana, age: 19\n"
          ]
        }
      ]
    },
    {
      "cell_type": "markdown",
      "source": [
        "### <font color=\"#e8710a\">Operator Overloading</font>\n",
        "\n",
        "In most cases, for objects defined by the programmer, standard operators cannot be applied because there is no clear mechanism for their application. For example, what does it mean for one object to be greater than another, or for two objects to be equal or different?\n",
        "\n",
        "The operator overloading mechanism associated with classes allows modifying the default behavior of built-in operators when they are applied to user-defined objects.\n",
        "\n",
        "Let's look at some examples:"
      ],
      "metadata": {
        "id": "gIUGHE_ZTo3z"
      }
    },
    {
      "cell_type": "code",
      "source": [
        "# We overwrite the subtraction operator\n",
        "class Number:\n",
        "  def __init__(self, val):\n",
        "    self.val = val\n",
        "\n",
        "  def __sub__(self, sub):\n",
        "    return Number(self.val - sub) # The result is a new instance\n",
        "\n",
        "O1 = Number(10) # Numar.__init__(O1, 10) is called\n",
        "O2 = O1 - 5    # Numar.__sub__(O1, 5) is called\n",
        "O2.val         # O2 is another instance of Number"
      ],
      "metadata": {
        "colab": {
          "base_uri": "https://localhost:8080/"
        },
        "id": "hZIN9c1lTtUg",
        "outputId": "f80e2341-2bc0-4a4f-da31-554b2986a315"
      },
      "execution_count": 44,
      "outputs": [
        {
          "output_type": "execute_result",
          "data": {
            "text/plain": [
              "5"
            ]
          },
          "metadata": {},
          "execution_count": 44
        }
      ]
    },
    {
      "cell_type": "code",
      "source": [
        "# We overwrite the indexing operator\n",
        "class Number:\n",
        "  def __getitem__(self, index):\n",
        "    return index+1\n",
        "O = Number()\n",
        "O[2]        # O.__getitem__(2) is called"
      ],
      "metadata": {
        "colab": {
          "base_uri": "https://localhost:8080/"
        },
        "id": "9EnduKdaT0l9",
        "outputId": "202c7fea-5496-4777-f9e9-3d8fc653fc8e"
      },
      "execution_count": 45,
      "outputs": [
        {
          "output_type": "execute_result",
          "data": {
            "text/plain": [
              "3"
            ]
          },
          "metadata": {},
          "execution_count": 45
        }
      ]
    },
    {
      "cell_type": "code",
      "source": [
        "# We overwrite the attribute value return operator\n",
        "class Person:\n",
        "  def __getattr__(self, attrname):\n",
        "    if attrname == 'age':\n",
        "      return 19\n",
        "    else:\n",
        "      return -1\n",
        "O = Person()\n",
        "O.age  # O.__getattr__(\"age\") is called"
      ],
      "metadata": {
        "colab": {
          "base_uri": "https://localhost:8080/"
        },
        "id": "SUWe97bbU9Wd",
        "outputId": "dc07a9df-dad0-4814-b6c9-4d96e94d7b76"
      },
      "execution_count": 46,
      "outputs": [
        {
          "output_type": "execute_result",
          "data": {
            "text/plain": [
              "19"
            ]
          },
          "metadata": {},
          "execution_count": 46
        }
      ]
    },
    {
      "cell_type": "code",
      "source": [
        "# For other attributes -1 is returned\n",
        "O.name"
      ],
      "metadata": {
        "id": "urHIl2OMVGqf",
        "colab": {
          "base_uri": "https://localhost:8080/"
        },
        "outputId": "0cb2dd74-76b4-44a6-9f53-2334c64a6e6c"
      },
      "execution_count": 47,
      "outputs": [
        {
          "output_type": "execute_result",
          "data": {
            "text/plain": [
              "-1"
            ]
          },
          "metadata": {},
          "execution_count": 47
        }
      ]
    },
    {
      "cell_type": "code",
      "source": [
        "# Including those not defined in the class\n",
        "O.surname"
      ],
      "metadata": {
        "colab": {
          "base_uri": "https://localhost:8080/"
        },
        "id": "DSHvjcfdPTVf",
        "outputId": "43e5522d-8b87-438d-8009-9d886140a490"
      },
      "execution_count": 48,
      "outputs": [
        {
          "output_type": "execute_result",
          "data": {
            "text/plain": [
              "-1"
            ]
          },
          "metadata": {},
          "execution_count": 48
        }
      ]
    },
    {
      "cell_type": "code",
      "source": [
        "# We overwrite the attribute setting operator\n",
        "class Person:\n",
        "  def __setattr__(self, attribute, val):\n",
        "    if attribute == 'age':\n",
        "      self.__dict__[attribute] = val + 10 # We modify the assignment value\n",
        "    else:\n",
        "      raise AttributeError(attribute + ' cannot be modified')\n",
        "O = Person()\n",
        "O.age = 19 # O.__setattr__('age',19) is called\n",
        "O.age"
      ],
      "metadata": {
        "colab": {
          "base_uri": "https://localhost:8080/"
        },
        "id": "64azTu8CVLKT",
        "outputId": "5640ff68-0124-4b2d-eb24-60962b0dfd0b"
      },
      "execution_count": 49,
      "outputs": [
        {
          "output_type": "execute_result",
          "data": {
            "text/plain": [
              "29"
            ]
          },
          "metadata": {},
          "execution_count": 49
        }
      ]
    },
    {
      "cell_type": "code",
      "source": [
        "# Error\n",
        "O.name = 'Ana'"
      ],
      "metadata": {
        "colab": {
          "base_uri": "https://localhost:8080/",
          "height": 287
        },
        "id": "CQWg2rYBVO_v",
        "outputId": "8ba9aa1c-7f99-4882-93f1-e5a22916dda2"
      },
      "execution_count": 50,
      "outputs": [
        {
          "output_type": "error",
          "ename": "AttributeError",
          "evalue": "name cannot be modified",
          "traceback": [
            "\u001b[0;31m---------------------------------------------------------------------------\u001b[0m",
            "\u001b[0;31mAttributeError\u001b[0m                            Traceback (most recent call last)",
            "\u001b[0;32m<ipython-input-50-fe169f0cac1e>\u001b[0m in \u001b[0;36m<cell line: 0>\u001b[0;34m()\u001b[0m\n\u001b[1;32m      1\u001b[0m \u001b[0;31m# Error\u001b[0m\u001b[0;34m\u001b[0m\u001b[0;34m\u001b[0m\u001b[0m\n\u001b[0;32m----> 2\u001b[0;31m \u001b[0mO\u001b[0m\u001b[0;34m.\u001b[0m\u001b[0mname\u001b[0m \u001b[0;34m=\u001b[0m \u001b[0;34m'Ana'\u001b[0m\u001b[0;34m\u001b[0m\u001b[0;34m\u001b[0m\u001b[0m\n\u001b[0m",
            "\u001b[0;32m<ipython-input-49-157a0997018e>\u001b[0m in \u001b[0;36m__setattr__\u001b[0;34m(self, attribute, val)\u001b[0m\n\u001b[1;32m      5\u001b[0m       \u001b[0mself\u001b[0m\u001b[0;34m.\u001b[0m\u001b[0m__dict__\u001b[0m\u001b[0;34m[\u001b[0m\u001b[0mattribute\u001b[0m\u001b[0;34m]\u001b[0m \u001b[0;34m=\u001b[0m \u001b[0mval\u001b[0m \u001b[0;34m+\u001b[0m \u001b[0;36m10\u001b[0m \u001b[0;31m# We modify the assignment value\u001b[0m\u001b[0;34m\u001b[0m\u001b[0;34m\u001b[0m\u001b[0m\n\u001b[1;32m      6\u001b[0m     \u001b[0;32melse\u001b[0m\u001b[0;34m:\u001b[0m\u001b[0;34m\u001b[0m\u001b[0;34m\u001b[0m\u001b[0m\n\u001b[0;32m----> 7\u001b[0;31m       \u001b[0;32mraise\u001b[0m \u001b[0mAttributeError\u001b[0m\u001b[0;34m(\u001b[0m\u001b[0mattribute\u001b[0m \u001b[0;34m+\u001b[0m \u001b[0;34m' cannot be modified'\u001b[0m\u001b[0;34m)\u001b[0m\u001b[0;34m\u001b[0m\u001b[0;34m\u001b[0m\u001b[0m\n\u001b[0m\u001b[1;32m      8\u001b[0m \u001b[0mO\u001b[0m \u001b[0;34m=\u001b[0m \u001b[0mPerson\u001b[0m\u001b[0;34m(\u001b[0m\u001b[0;34m)\u001b[0m\u001b[0;34m\u001b[0m\u001b[0;34m\u001b[0m\u001b[0m\n\u001b[1;32m      9\u001b[0m \u001b[0mO\u001b[0m\u001b[0;34m.\u001b[0m\u001b[0mage\u001b[0m \u001b[0;34m=\u001b[0m \u001b[0;36m19\u001b[0m \u001b[0;31m# O.__setattr__('age',19) is called\u001b[0m\u001b[0;34m\u001b[0m\u001b[0;34m\u001b[0m\u001b[0m\n",
            "\u001b[0;31mAttributeError\u001b[0m: name cannot be modified"
          ]
        }
      ]
    },
    {
      "cell_type": "markdown",
      "source": [
        "**<font color=\"#1589FF\">Modifying string representations of objects through \\_\\_repr\\_\\_ și \\_\\_str\\_\\_</font>**\n",
        "\n",
        "* `__str__` is used by `print()`;\n",
        "\n",
        "* `__repr__` is used by other processes and should display a representation that can be used to create a new instance of the same class.\n"
      ],
      "metadata": {
        "id": "Vuu_F5SlVtgq"
      }
    },
    {
      "cell_type": "code",
      "source": [
        "# Default versions for repr and str\n",
        "class Person():\n",
        "  def __init__(self,name, age):\n",
        "    self.name=name\n",
        "    self.age=age\n",
        "\n",
        "O = Person('Ana', 19)\n",
        "print((\"__str__ representation: \", O))\n",
        "\"__repr__ representation: \", O"
      ],
      "metadata": {
        "colab": {
          "base_uri": "https://localhost:8080/"
        },
        "id": "a3hhvZzZPsMf",
        "outputId": "dc8b1e60-da58-4545-f348-9a6ae430faae"
      },
      "execution_count": 51,
      "outputs": [
        {
          "output_type": "stream",
          "name": "stdout",
          "text": [
            "('__str__ representation: ', <__main__.Person object at 0x79a2f675de90>)\n"
          ]
        },
        {
          "output_type": "execute_result",
          "data": {
            "text/plain": [
              "('__repr__ representation: ', <__main__.Person at 0x79a2f675de90>)"
            ]
          },
          "metadata": {},
          "execution_count": 51
        }
      ]
    },
    {
      "cell_type": "code",
      "source": [
        "# We modify __str__ and __repr__\n",
        "class Person():\n",
        "  def __init__(self,name, age):\n",
        "    self.name=name\n",
        "    self.age=age\n",
        "  def __str__(self):\n",
        "    return 'The name is %s.' % self.name # User-friendly string\n",
        "  def __repr__(self):\n",
        "    return 'The name and age are (%s,%s)' % (self.name, self.age)\n",
        "\n",
        "# We instantiate an object\n",
        "O = Person('Ana', 19)\n",
        "print((\"__str__ representation:\", O)) # __str__ is called\n",
        "\"__repr__ representation:\", O # __repr__ is called"
      ],
      "metadata": {
        "colab": {
          "base_uri": "https://localhost:8080/"
        },
        "id": "DHXuen8aVraX",
        "outputId": "cd8a44c0-069a-41f2-f99a-6eff4842858f"
      },
      "execution_count": 52,
      "outputs": [
        {
          "output_type": "stream",
          "name": "stdout",
          "text": [
            "('__str__ representation:', The name and age are (Ana,19))\n"
          ]
        },
        {
          "output_type": "execute_result",
          "data": {
            "text/plain": [
              "('__repr__ representation:', The name and age are (Ana,19))"
            ]
          },
          "metadata": {},
          "execution_count": 52
        }
      ]
    },
    {
      "cell_type": "code",
      "source": [
        "# We can also call the functions associated with these operators explicitly\n",
        "str(O), repr(O)"
      ],
      "metadata": {
        "id": "7GMWxcmTV45l",
        "colab": {
          "base_uri": "https://localhost:8080/"
        },
        "outputId": "0e5b7360-f4f0-44c1-bcde-1f684e32ba28"
      },
      "execution_count": 53,
      "outputs": [
        {
          "output_type": "execute_result",
          "data": {
            "text/plain": [
              "('The name is Ana.', 'The name and age are (Ana,19)')"
            ]
          },
          "metadata": {},
          "execution_count": 53
        }
      ]
    },
    {
      "cell_type": "markdown",
      "source": [
        "**<font color=\"#1589FF\">Relational operators</font>**\n",
        "\n",
        "There are no implicit relationships between objects. If two objects are not `==`, it does not mean that `!=` will be true. That is why it is sometimes useful to define these relations. Overloading of all relational operators is allowed."
      ],
      "metadata": {
        "id": "QJJiXJstWt4Y"
      }
    },
    {
      "cell_type": "code",
      "source": [
        "# Overload relational operators\n",
        "class Person:\n",
        "  def __init__(self, name, age):\n",
        "    self.name=name\n",
        "    self.age=age\n",
        "  # Greater than\n",
        "  def __gt__(self, val):\n",
        "    return self.age > val\n",
        "  # Less than\n",
        "  def __lt__(self, val):\n",
        "    return self.age < val\n",
        "\n",
        "O = Person('Ana', 19)\n",
        "print(O > 12) # O.__gt__(12) is called\n",
        "print(O < 12) # O.__lt__(12) is called"
      ],
      "metadata": {
        "colab": {
          "base_uri": "https://localhost:8080/"
        },
        "id": "WyKgeIjyWy9a",
        "outputId": "361fe193-7a55-4c70-dea0-2d2327956503"
      },
      "execution_count": 54,
      "outputs": [
        {
          "output_type": "stream",
          "name": "stdout",
          "text": [
            "True\n",
            "False\n"
          ]
        }
      ]
    },
    {
      "cell_type": "markdown",
      "source": [
        "**<font color=\"#1589FF\">The deletion operator \\_\\_del\\_\\_</font>**"
      ],
      "metadata": {
        "id": "jYBh6BGCXG4S"
      }
    },
    {
      "cell_type": "code",
      "source": [
        "# We overwrite the deletion operator of an object\n",
        "class Person:\n",
        "  def __init__(self, name, age):\n",
        "    self.name=name\n",
        "    self.age=age\n",
        "\n",
        "  def __del__(self):\n",
        "    print('Person ' + self.name + ' has disappeared.')\n",
        "\n",
        "PP = Person('Maria', 18)\n",
        "# We delete the object\n",
        "del PP # PP.__del__() is called"
      ],
      "metadata": {
        "id": "WBdStB8fXLzn",
        "colab": {
          "base_uri": "https://localhost:8080/"
        },
        "outputId": "05dd21fd-afb7-429b-e909-3a37acebd195"
      },
      "execution_count": 55,
      "outputs": [
        {
          "output_type": "stream",
          "name": "stdout",
          "text": [
            "Person Maria has disappeared.\n"
          ]
        }
      ]
    },
    {
      "cell_type": "markdown",
      "source": [
        "> **NOTE!** Due to the way Google Colab functions and the garbage collection mechanism not being applied immediately, it's possible that when running the previous cell, the object may not be deleted. To ensure that this happens, we can create a script with the previous code and run it independently."
      ],
      "metadata": {
        "id": "odU5vQSy2dte"
      }
    },
    {
      "cell_type": "code",
      "source": [
        "%%writefile test_del.py\n",
        "# We overwrite the deletion operator of an object\n",
        "class Person:\n",
        "  def __init__(self, name, age):\n",
        "    self.name=name\n",
        "    self.age=age\n",
        "\n",
        "  def __del__(self):\n",
        "    print('Person ' + self.name + ' has disappeared.')\n",
        "\n",
        "PP = Person('Maria', 18)\n",
        "# We delete the object\n",
        "del PP # PP.__del__() is called"
      ],
      "metadata": {
        "id": "aNK0VVqvXStG",
        "colab": {
          "base_uri": "https://localhost:8080/"
        },
        "outputId": "4b7e9276-e9f7-4366-e38a-538aa0e0b12e"
      },
      "execution_count": 56,
      "outputs": [
        {
          "output_type": "stream",
          "name": "stdout",
          "text": [
            "Overwriting test_del.py\n"
          ]
        }
      ]
    },
    {
      "cell_type": "code",
      "source": [
        "!python test_del.py"
      ],
      "metadata": {
        "colab": {
          "base_uri": "https://localhost:8080/"
        },
        "id": "6pxTCKUo2sHf",
        "outputId": "e6ded82b-9980-460d-de0e-2e9f1ed20881"
      },
      "execution_count": 57,
      "outputs": [
        {
          "output_type": "stream",
          "name": "stdout",
          "text": [
            "Person Maria has disappeared.\n"
          ]
        }
      ]
    },
    {
      "cell_type": "markdown",
      "source": [
        "##<font color=\"#e8710a\">Decorators</font>\n",
        "\n",
        "Decorators are a design pattern in Python that allows adding functionality to objects without modifying the structure of the objects.\n",
        "Decorators can be defined by means of functions or classes and are applied to functions or methods.\n",
        "\n",
        "A decorator is a function that takes another function as an argument and returns a new function that typically enhances or modifies the behavior of the original function. Decorators use the @decorator_name syntax, placed above the function definition.\n",
        "\n",
        "There are a number of predefined decorators. For example, static or class methods can also be specified using decorators:\n",
        "\n"
      ],
      "metadata": {
        "id": "BLNvAkgeY6z0"
      }
    },
    {
      "cell_type": "code",
      "source": [
        "class Person:\n",
        "  # Instance method\n",
        "  def imeth(self, x):\n",
        "    print([self, x])\n",
        "\n",
        "  # Static method\n",
        "  @staticmethod\n",
        "  def smeth(x):\n",
        "    print([x])\n",
        "\n",
        "  # Class method\n",
        "  @classmethod\n",
        "  def cmeth(cls, x):\n",
        "    print([cls, x])"
      ],
      "metadata": {
        "id": "BDV1SNAPY5G_"
      },
      "execution_count": 58,
      "outputs": []
    },
    {
      "cell_type": "markdown",
      "source": [
        "We can create a new decorator function, we will have to create a function that takes another function as a parameter and returns the modified result of the parameter function:"
      ],
      "metadata": {
        "id": "6Wu_WcqWmbKn"
      }
    },
    {
      "cell_type": "code",
      "source": [
        "# Decorator function\n",
        "def uppercase(function):\n",
        "    def modification():\n",
        "        func = function()\n",
        "        uppercase_func = func.upper()\n",
        "        return uppercase_func\n",
        "    return modification\n",
        "\n",
        "def greet():\n",
        "    return 'hello'\n",
        "\n",
        "# Standard version of applying function chaining\n",
        "decorate = uppercase(greet)\n",
        "decorate()"
      ],
      "metadata": {
        "colab": {
          "base_uri": "https://localhost:8080/",
          "height": 35
        },
        "id": "D0ipXFo3mjib",
        "outputId": "0ff01fde-f656-45bf-ff04-a9a9900f72ea"
      },
      "execution_count": 59,
      "outputs": [
        {
          "output_type": "execute_result",
          "data": {
            "text/plain": [
              "'HELLO'"
            ],
            "application/vnd.google.colaboratory.intrinsic+json": {
              "type": "string"
            }
          },
          "metadata": {},
          "execution_count": 59
        }
      ]
    },
    {
      "cell_type": "code",
      "source": [
        "# Version with decorator\n",
        "@uppercase\n",
        "def greet():\n",
        "    return 'hello'\n",
        "\n",
        "greet()"
      ],
      "metadata": {
        "colab": {
          "base_uri": "https://localhost:8080/",
          "height": 35
        },
        "id": "zVlPkQGMm1ec",
        "outputId": "596111df-a4a6-499b-cf70-9035a5454f06"
      },
      "execution_count": 60,
      "outputs": [
        {
          "output_type": "execute_result",
          "data": {
            "text/plain": [
              "'HELLO'"
            ],
            "application/vnd.google.colaboratory.intrinsic+json": {
              "type": "string"
            }
          },
          "metadata": {},
          "execution_count": 60
        }
      ]
    },
    {
      "cell_type": "markdown",
      "source": [
        "Multiple decorators can be applied to the same function:"
      ],
      "metadata": {
        "id": "Gspy42rzJiv5"
      }
    },
    {
      "cell_type": "code",
      "source": [
        "# We define a new decorator\n",
        "def multiplication(function):\n",
        "    def modification():\n",
        "        return function() * 3\n",
        "    return modification\n",
        "\n",
        "# We apply both decorators to the greet() function\n",
        "@multiplication\n",
        "@uppercase\n",
        "def greet():\n",
        "    return 'hello'\n",
        "greet()"
      ],
      "metadata": {
        "colab": {
          "base_uri": "https://localhost:8080/",
          "height": 35
        },
        "id": "0J_-EDntJloz",
        "outputId": "562f6c50-7d6e-4d90-be0c-a309ad3637e9"
      },
      "execution_count": 61,
      "outputs": [
        {
          "output_type": "execute_result",
          "data": {
            "text/plain": [
              "'HELLOHELLOHELLO'"
            ],
            "application/vnd.google.colaboratory.intrinsic+json": {
              "type": "string"
            }
          },
          "metadata": {},
          "execution_count": 61
        }
      ]
    },
    {
      "cell_type": "markdown",
      "source": [
        "In the case of decorator classes, the same principle applies, but we will have to specify the behavior of the decorator within the `__call__` method. This method is called when we use an instance of the class as a caller, which may seem strange initially, but we can associate this mechanism with a function call. In other words, we consider the instance to be a function, and when called, the code defined in the `__call__` method is executed"
      ],
      "metadata": {
        "id": "ViTKQoFTm99x"
      }
    },
    {
      "cell_type": "code",
      "source": [
        "class A:\n",
        "    def __init__(self):\n",
        "        print(\"Constructor call\")\n",
        "\n",
        "    def __call__(self, a, b):\n",
        "        print(\"__call__ call\")\n",
        "        print(\"The sum of the values is:\", a+b)\n",
        "\n",
        "O = A() # The constructor is called\n",
        "O(3, 4) # We treat the object as a caller. The code from __call__ is executed"
      ],
      "metadata": {
        "colab": {
          "base_uri": "https://localhost:8080/"
        },
        "id": "EHexlLRBZLxl",
        "outputId": "7a61e688-6210-4f10-b03a-130318343f0c"
      },
      "execution_count": 62,
      "outputs": [
        {
          "output_type": "stream",
          "name": "stdout",
          "text": [
            "Constructor call\n",
            "__call__ call\n",
            "The sum of the values is: 7\n"
          ]
        }
      ]
    },
    {
      "cell_type": "markdown",
      "source": [
        "Let's thus define a decorator class:"
      ],
      "metadata": {
        "id": "EAsh964tMagz"
      }
    },
    {
      "cell_type": "code",
      "source": [
        "# We define a decorator class\n",
        "class Uppercase:\n",
        "    def __init__(self, function):\n",
        "        self.function = function\n",
        "\n",
        "    def __call__(self):\n",
        "        return self.function().upper()\n",
        "\n",
        "# We apply the decorator to the function\n",
        "@Uppercase\n",
        "def greet():\n",
        "    return \"hello\"\n",
        "\n",
        "print(greet())"
      ],
      "metadata": {
        "colab": {
          "base_uri": "https://localhost:8080/"
        },
        "id": "1k2eixWlL39A",
        "outputId": "4d7f1509-4602-42a3-f312-4f96e5730e9c"
      },
      "execution_count": 63,
      "outputs": [
        {
          "output_type": "stream",
          "name": "stdout",
          "text": [
            "HELLO\n"
          ]
        }
      ]
    },
    {
      "cell_type": "code",
      "source": [
        "# Equivalent to:\n",
        "O = Uppercase(greet)\n",
        "O()"
      ],
      "metadata": {
        "colab": {
          "base_uri": "https://localhost:8080/",
          "height": 35
        },
        "id": "261dIS-yNBQ7",
        "outputId": "fac88998-bebd-4644-ef73-c6c56e71bddd"
      },
      "execution_count": 64,
      "outputs": [
        {
          "output_type": "execute_result",
          "data": {
            "text/plain": [
              "'HELLO'"
            ],
            "application/vnd.google.colaboratory.intrinsic+json": {
              "type": "string"
            }
          },
          "metadata": {},
          "execution_count": 64
        }
      ]
    },
    {
      "cell_type": "markdown",
      "source": [
        "##<font color=\"#e8710a\">Exceptions</font>\n",
        "\n",
        "Exceptions are situations that can occur during code execution and that the programmer can anticipate. Therefore, the programmer can add a method to handle the exception so that the application continues to run without issues or informs the user appropriately about the situation that has arisen.\n",
        "\n",
        "For exception handling in Python, we have the following instructions:\n",
        "\n",
        "* `try/except` - catches and handles exceptions raised by Python or the programmer\n",
        "* `try/finally` - performs \"cleanup\" or finalization actions whether or not exceptions occurred\n",
        "* `raise` - manually raises an exception in the code\n",
        "* `assert` - raises a conditional exception in the code\n",
        "* `with/as` - context managers in Python 2.6+\n",
        "\n",
        "The general syntax for handling an exception is:\n",
        "\n",
        "```\n",
        "try:\n",
        "   # Code sequence that may raise an exception\n",
        "except Exception1:\n",
        "   # Handle Exception1\n",
        "except Exception2 as e:\n",
        "   # Handle Exception2\n",
        "except (Exception3, Exception4):\n",
        "   # Handle Exception3 and Exception4\n",
        "except (Exception5, Exception6) as e:\n",
        "   # Handle Exception5 and Exception6\n",
        "except:\n",
        "   # Catches all exceptions that were not handled previously\n",
        "...\n",
        "else:\n",
        "   # Executes if no exceptions were raised\n",
        "finally:\n",
        "   # Executes anyway when exiting the block\n",
        "```\n",
        "\n",
        "The `except` branches should first handle the specific exceptions and then the general ones. The `else` branch executes only if no exceptions were raised in the `try` block.\n",
        "\n",
        "`Finally` is always executed:\n",
        "• if an exception occurred and was handled;\n",
        "• if an exception occurred and was not handled;\n",
        "• if no exception occurred;\n",
        "• if an exception occurred in one of the `except` branches.\n",
        "\n",
        "Let’s see a few examples:\n",
        "\n",
        "---\n",
        "\n",
        "Let me know if you need any further help!"
      ],
      "metadata": {
        "id": "ik-mqi1JZgJF"
      }
    },
    {
      "cell_type": "code",
      "source": [
        "# We force a division by 0 exception\n",
        "try:\n",
        "  a = 3/0\n",
        "except ArithmeticError as e:\n",
        "  print(\"Division by 0\")\n",
        "  # We display the message associated with the exception\n",
        "  print(e)"
      ],
      "metadata": {
        "colab": {
          "base_uri": "https://localhost:8080/"
        },
        "id": "26P8JlP6Zbkb",
        "outputId": "f37c3f80-6a03-4f8a-91a8-e698f5186797"
      },
      "execution_count": 65,
      "outputs": [
        {
          "output_type": "stream",
          "name": "stdout",
          "text": [
            "Division by 0\n",
            "division by zero\n"
          ]
        }
      ]
    },
    {
      "cell_type": "code",
      "source": [
        "# We do not generate any exception in the try block\n",
        "try:\n",
        "  a = 2+3\n",
        "except:\n",
        "  print(\"An exception has occurred\")\n",
        "else:\n",
        "  print(\"No exception occurred\")"
      ],
      "metadata": {
        "colab": {
          "base_uri": "https://localhost:8080/"
        },
        "id": "3HIQJmxT4Uv8",
        "outputId": "36d5ee6a-43bd-4f37-f6c5-599568608813"
      },
      "execution_count": 66,
      "outputs": [
        {
          "output_type": "stream",
          "name": "stdout",
          "text": [
            "No exception occurred\n"
          ]
        }
      ]
    },
    {
      "cell_type": "code",
      "source": [
        "# We add the finally block\n",
        "try:\n",
        "  a = 2+3\n",
        "except:\n",
        "  print(\"An exception has occurred\")\n",
        "else:\n",
        "  print(\"No exception occurred\")\n",
        "finally:\n",
        "  print(\"We display this message anyway\")"
      ],
      "metadata": {
        "id": "r-2Eoe5y4rsa",
        "colab": {
          "base_uri": "https://localhost:8080/"
        },
        "outputId": "30d2acf1-95b8-4f92-ba6f-bf79110c085a"
      },
      "execution_count": 67,
      "outputs": [
        {
          "output_type": "stream",
          "name": "stdout",
          "text": [
            "No exception occurred\n",
            "We display this message anyway\n"
          ]
        }
      ]
    },
    {
      "cell_type": "code",
      "source": [
        "# We create two exceptions in the try block\n",
        "try:\n",
        "  a = 3/0\n",
        "  f = open(\"nonexistent_file.txt\")\n",
        "# Only the first exception that occurred in the code is handled\n",
        "except ArithmeticError as e:\n",
        "  print(e)\n",
        "except FileNotFoundError as e:\n",
        "  print(e)\n",
        "except:\n",
        "  print(\"An unknown error occurred\")"
      ],
      "metadata": {
        "colab": {
          "base_uri": "https://localhost:8080/"
        },
        "id": "9aeBvzmy47IF",
        "outputId": "816c6c65-4156-438f-f1b1-0e9d9324c880"
      },
      "execution_count": 68,
      "outputs": [
        {
          "output_type": "stream",
          "name": "stdout",
          "text": [
            "division by zero\n"
          ]
        }
      ]
    },
    {
      "cell_type": "markdown",
      "source": [
        "From the previous code, it should be clear to us that each code sequence that can throw an exception will have to be enclosed by its own `try-except` block."
      ],
      "metadata": {
        "id": "LBvyqbQ55P8Q"
      }
    },
    {
      "cell_type": "code",
      "source": [
        "# Nested try blocks\n",
        "try:\n",
        "  a = 3/1\n",
        "  try:\n",
        "    f = open(\"nonexistent_file.txt\")\n",
        "  except FileNotFoundError as e:\n",
        "    print(e)\n",
        "except ArithmeticError as e:\n",
        "  print(e)\n",
        "except:\n",
        "  print(\"An unknown error occurred\")"
      ],
      "metadata": {
        "colab": {
          "base_uri": "https://localhost:8080/"
        },
        "id": "Phn3F_Nh5tg3",
        "outputId": "4804b14b-eb75-44a9-d987-2c2879d73ab4"
      },
      "execution_count": 69,
      "outputs": [
        {
          "output_type": "stream",
          "name": "stdout",
          "text": [
            "[Errno 2] No such file or directory: 'nonexistent_file.txt'\n"
          ]
        }
      ]
    },
    {
      "cell_type": "markdown",
      "source": [
        "If we do not handle the exceptions, they lead to the abrupt termination of the code execution, and most of the time the message displayed is not informative for the end user."
      ],
      "metadata": {
        "id": "k4iIW6WF8tZE"
      }
    },
    {
      "cell_type": "code",
      "source": [
        "# We try to open a non-existent file\n",
        "f = open('nonexistent_file.txt')\n",
        "\n",
        "for line in f.readlines():\n",
        "  print(line)"
      ],
      "metadata": {
        "colab": {
          "base_uri": "https://localhost:8080/",
          "height": 216
        },
        "id": "C06jwSB18spu",
        "outputId": "763a7e83-4559-47ea-ce4b-f60a83277cef"
      },
      "execution_count": 70,
      "outputs": [
        {
          "output_type": "error",
          "ename": "FileNotFoundError",
          "evalue": "[Errno 2] No such file or directory: 'nonexistent_file.txt'",
          "traceback": [
            "\u001b[0;31m---------------------------------------------------------------------------\u001b[0m",
            "\u001b[0;31mFileNotFoundError\u001b[0m                         Traceback (most recent call last)",
            "\u001b[0;32m<ipython-input-70-9e003c253fce>\u001b[0m in \u001b[0;36m<cell line: 0>\u001b[0;34m()\u001b[0m\n\u001b[1;32m      1\u001b[0m \u001b[0;31m# We try to open a non-existent file\u001b[0m\u001b[0;34m\u001b[0m\u001b[0;34m\u001b[0m\u001b[0m\n\u001b[0;32m----> 2\u001b[0;31m \u001b[0mf\u001b[0m \u001b[0;34m=\u001b[0m \u001b[0mopen\u001b[0m\u001b[0;34m(\u001b[0m\u001b[0;34m'nonexistent_file.txt'\u001b[0m\u001b[0;34m)\u001b[0m\u001b[0;34m\u001b[0m\u001b[0;34m\u001b[0m\u001b[0m\n\u001b[0m\u001b[1;32m      3\u001b[0m \u001b[0;34m\u001b[0m\u001b[0m\n\u001b[1;32m      4\u001b[0m \u001b[0;32mfor\u001b[0m \u001b[0mline\u001b[0m \u001b[0;32min\u001b[0m \u001b[0mf\u001b[0m\u001b[0;34m.\u001b[0m\u001b[0mreadlines\u001b[0m\u001b[0;34m(\u001b[0m\u001b[0;34m)\u001b[0m\u001b[0;34m:\u001b[0m\u001b[0;34m\u001b[0m\u001b[0;34m\u001b[0m\u001b[0m\n\u001b[1;32m      5\u001b[0m   \u001b[0mprint\u001b[0m\u001b[0;34m(\u001b[0m\u001b[0mline\u001b[0m\u001b[0;34m)\u001b[0m\u001b[0;34m\u001b[0m\u001b[0;34m\u001b[0m\u001b[0m\n",
            "\u001b[0;31mFileNotFoundError\u001b[0m: [Errno 2] No such file or directory: 'nonexistent_file.txt'"
          ]
        }
      ]
    },
    {
      "cell_type": "code",
      "source": [
        "# We handle the exception\n",
        "try:\n",
        "  f = open('nonexistent_file.txt')\n",
        "\n",
        "  for line in f.readlines():\n",
        "    print(line)\n",
        "except FileNotFoundError:\n",
        "  print(\"The file does not exist\")\n",
        "\n",
        "print(\"The code continues to run with the next instruction after try-except\")"
      ],
      "metadata": {
        "colab": {
          "base_uri": "https://localhost:8080/"
        },
        "id": "kwuZeHQB86nY",
        "outputId": "b74c6df9-c92c-46b3-c58e-01e1a7fd84d1"
      },
      "execution_count": 71,
      "outputs": [
        {
          "output_type": "stream",
          "name": "stdout",
          "text": [
            "The file does not exist\n",
            "The code continues to run with the next instruction after try-except\n"
          ]
        }
      ]
    },
    {
      "cell_type": "markdown",
      "source": [
        "### <font color=\"#e8710a\">Raising exceptions</font>\n",
        "\n",
        "Forcing the occurrence of an exception in code, or raising exceptions, can be done using the `raise` statement, which can be followed by:\n",
        "\n",
        "* an instance of an exception class: `raise instance`;\n",
        "* an exception class, in which case an instance of the class will be automatically created: `raise class`;\n",
        "* nothing, in which case the most recent exception will be raised: `raise`.\n"
      ],
      "metadata": {
        "id": "_mu9F0R9auyg"
      }
    },
    {
      "cell_type": "code",
      "source": [
        "# We raise an instance of an exception class\n",
        "def func():\n",
        "  ie = ArithmeticError()\n",
        "  raise ie\n",
        "\n",
        "try:\n",
        "  func()\n",
        "except ArithmeticError as e:\n",
        "  print(\"An exception occurred in the code\")"
      ],
      "metadata": {
        "id": "PD9vz405Z7Bn",
        "colab": {
          "base_uri": "https://localhost:8080/"
        },
        "outputId": "f9521759-7f2e-4111-b80c-1f6d5c470868"
      },
      "execution_count": 72,
      "outputs": [
        {
          "output_type": "stream",
          "name": "stdout",
          "text": [
            "An exception occurred in the code\n"
          ]
        }
      ]
    },
    {
      "cell_type": "code",
      "source": [
        "# We raise an exception class, an instance of it is automatically created\n",
        "def func():\n",
        "  raise ArithmeticError()\n",
        "\n",
        "try:\n",
        "  func()\n",
        "except ArithmeticError:\n",
        "   print(\"An exception occurred in the code\")"
      ],
      "metadata": {
        "colab": {
          "base_uri": "https://localhost:8080/"
        },
        "id": "khUhlk6u-VnR",
        "outputId": "3cdce762-222a-4ac5-dd7f-ec10c4a3a858"
      },
      "execution_count": 73,
      "outputs": [
        {
          "output_type": "stream",
          "name": "stdout",
          "text": [
            "An exception occurred in the code\n"
          ]
        }
      ]
    },
    {
      "cell_type": "code",
      "source": [
        "# We raise the most recent exception that occurred\n",
        "def func():\n",
        "  raise ArithmeticError()\n",
        "\n",
        "try:\n",
        "  func()\n",
        "except ArithmeticError as e:\n",
        "   print(\"An exception occurred in the code\")\n",
        "   # The most recent exception\n",
        "   raise"
      ],
      "metadata": {
        "colab": {
          "base_uri": "https://localhost:8080/",
          "height": 358
        },
        "id": "4nbcfy2F-4jW",
        "outputId": "21ca7362-d288-4694-d072-223f6e138581"
      },
      "execution_count": 74,
      "outputs": [
        {
          "output_type": "stream",
          "name": "stdout",
          "text": [
            "An exception occurred in the code\n"
          ]
        },
        {
          "output_type": "error",
          "ename": "ArithmeticError",
          "evalue": "",
          "traceback": [
            "\u001b[0;31m---------------------------------------------------------------------------\u001b[0m",
            "\u001b[0;31mArithmeticError\u001b[0m                           Traceback (most recent call last)",
            "\u001b[0;32m<ipython-input-74-da67c00151e4>\u001b[0m in \u001b[0;36m<cell line: 0>\u001b[0;34m()\u001b[0m\n\u001b[1;32m      4\u001b[0m \u001b[0;34m\u001b[0m\u001b[0m\n\u001b[1;32m      5\u001b[0m \u001b[0;32mtry\u001b[0m\u001b[0;34m:\u001b[0m\u001b[0;34m\u001b[0m\u001b[0;34m\u001b[0m\u001b[0m\n\u001b[0;32m----> 6\u001b[0;31m   \u001b[0mfunc\u001b[0m\u001b[0;34m(\u001b[0m\u001b[0;34m)\u001b[0m\u001b[0;34m\u001b[0m\u001b[0;34m\u001b[0m\u001b[0m\n\u001b[0m\u001b[1;32m      7\u001b[0m \u001b[0;32mexcept\u001b[0m \u001b[0mArithmeticError\u001b[0m \u001b[0;32mas\u001b[0m \u001b[0me\u001b[0m\u001b[0;34m:\u001b[0m\u001b[0;34m\u001b[0m\u001b[0;34m\u001b[0m\u001b[0m\n\u001b[1;32m      8\u001b[0m    \u001b[0mprint\u001b[0m\u001b[0;34m(\u001b[0m\u001b[0;34m\"An exception occurred in the code\"\u001b[0m\u001b[0;34m)\u001b[0m\u001b[0;34m\u001b[0m\u001b[0;34m\u001b[0m\u001b[0m\n",
            "\u001b[0;32m<ipython-input-74-da67c00151e4>\u001b[0m in \u001b[0;36mfunc\u001b[0;34m()\u001b[0m\n\u001b[1;32m      1\u001b[0m \u001b[0;31m# We raise the most recent exception that occurred\u001b[0m\u001b[0;34m\u001b[0m\u001b[0;34m\u001b[0m\u001b[0m\n\u001b[1;32m      2\u001b[0m \u001b[0;32mdef\u001b[0m \u001b[0mfunc\u001b[0m\u001b[0;34m(\u001b[0m\u001b[0;34m)\u001b[0m\u001b[0;34m:\u001b[0m\u001b[0;34m\u001b[0m\u001b[0;34m\u001b[0m\u001b[0m\n\u001b[0;32m----> 3\u001b[0;31m   \u001b[0;32mraise\u001b[0m \u001b[0mArithmeticError\u001b[0m\u001b[0;34m(\u001b[0m\u001b[0;34m)\u001b[0m\u001b[0;34m\u001b[0m\u001b[0;34m\u001b[0m\u001b[0m\n\u001b[0m\u001b[1;32m      4\u001b[0m \u001b[0;34m\u001b[0m\u001b[0m\n\u001b[1;32m      5\u001b[0m \u001b[0;32mtry\u001b[0m\u001b[0;34m:\u001b[0m\u001b[0;34m\u001b[0m\u001b[0;34m\u001b[0m\u001b[0m\n",
            "\u001b[0;31mArithmeticError\u001b[0m: "
          ]
        }
      ]
    },
    {
      "cell_type": "markdown",
      "source": [
        "###<font color=\"#e8710a\">User-defined exception classes</font>\n",
        "\n",
        "If we want to program a specific exception, we will have to define a class that inherits the `Exception` class. The newly defined classes can in turn be inherited. The convention for naming your own exceptions is that they end with the string `Error`"
      ],
      "metadata": {
        "id": "eJymi-hAblet"
      }
    },
    {
      "cell_type": "code",
      "source": [
        "# We define our own exception\n",
        "class MyExceptionError(Exception):\n",
        "  def __str__(self):\n",
        "    return \"The value cannot be negative\"\n",
        "\n",
        "def func(val):\n",
        "  if val<0:\n",
        "    # We raise our own exception\n",
        "    raise MyExceptionError\n",
        "\n",
        "try:\n",
        "  func(-1)\n",
        "except MyExceptionError as e:\n",
        "  print(e)"
      ],
      "metadata": {
        "colab": {
          "base_uri": "https://localhost:8080/"
        },
        "id": "mUAHm-Ky6q0Q",
        "outputId": "19d77e89-53ea-4997-e835-ec4d91a911b1"
      },
      "execution_count": 75,
      "outputs": [
        {
          "output_type": "stream",
          "name": "stdout",
          "text": [
            "The value cannot be negative\n"
          ]
        }
      ]
    },
    {
      "cell_type": "code",
      "source": [
        "# Derived exceptions\n",
        "class MyExceptionError(Exception):\n",
        "  def __str__(self):\n",
        "    return \"The value cannot be negative\"\n",
        "\n",
        "# We inherit our own exception\n",
        "class MyDerivedExceptionError(MyExceptionError):\n",
        "  def __str__(self):\n",
        "    return \"The value cannot be less than -5\"\n",
        "\n",
        "\n",
        "def func(val):\n",
        "  if val<-5:\n",
        "    # We raise the derived exception\n",
        "    raise MyDerivedExceptionError\n",
        "  elif val<0:\n",
        "    # We raise the base exception\n",
        "    raise MyExceptionError\n",
        "\n",
        "try:\n",
        "  func(-10)\n",
        "except MyDerivedExceptionError as e:\n",
        "  print(e)\n",
        "\n",
        "\n",
        "# The base exception also catches the derived exceptions\n",
        "try:\n",
        "  func(-10)\n",
        "except MyExceptionError as e:\n",
        "  print(e)"
      ],
      "metadata": {
        "colab": {
          "base_uri": "https://localhost:8080/"
        },
        "id": "kLhGo3er7zKX",
        "outputId": "7168b9ef-bfed-44e7-f343-66652bc18698"
      },
      "execution_count": 76,
      "outputs": [
        {
          "output_type": "stream",
          "name": "stdout",
          "text": [
            "The value cannot be less than -5\n",
            "The value cannot be less than -5\n"
          ]
        }
      ]
    },
    {
      "cell_type": "markdown",
      "source": [
        "**<font color=\"#1589FF\">Exceptions - observations</font>**\n",
        "\n",
        "What should be enclosed by `try-except`:\n",
        "\n",
        "* Operations that may generally fail, for example, access to files, sockets;\n",
        "* However, not all operations that can fail should be handled by exceptions, especially those that would cause the program to run incorrectly further on;\n",
        "* Finalization actions must be implemented through `try-finally` to guarantee their execution;\n",
        "* Sometimes it is useful to enclose an entire function in a `try-except` statement and not segment the exception within the function;\n",
        "* Avoid using a general (empty) `except` branch;\n",
        "* Avoid using very specific exceptions, but rather use exception classes."
      ],
      "metadata": {
        "id": "SPmzdXwcb8DM"
      }
    },
    {
      "cell_type": "markdown",
      "source": [
        "##**<font color=\"#e8710a\">Assertions</font>**\n",
        "\n",
        "Assertions are instructions that check if certain conditions in the code are met. They are used more in the debugging part of the code. Assertions can also be used to raise conditional exceptions.\n",
        "\n",
        "The general syntax is:\n",
        "\n",
        "`assert test, message`\n",
        "\n",
        "`message` is optional. An `AssertionError` is raised if `test` is `False`.\n",
        "\n",
        "Assertions can be disabled when the code is sent to end-users."
      ],
      "metadata": {
        "id": "F1lSWZyhcEqN"
      }
    },
    {
      "cell_type": "code",
      "source": [
        "# We force an AssertionError\n",
        "a = 3\n",
        "assert a < 0"
      ],
      "metadata": {
        "colab": {
          "base_uri": "https://localhost:8080/",
          "height": 180
        },
        "id": "K1DeUVE_byHm",
        "outputId": "e2564bb1-1906-422e-8b6e-525ffec5e8be"
      },
      "execution_count": 77,
      "outputs": [
        {
          "output_type": "error",
          "ename": "AssertionError",
          "evalue": "",
          "traceback": [
            "\u001b[0;31m---------------------------------------------------------------------------\u001b[0m",
            "\u001b[0;31mAssertionError\u001b[0m                            Traceback (most recent call last)",
            "\u001b[0;32m<ipython-input-77-c9252d8ebdf7>\u001b[0m in \u001b[0;36m<cell line: 0>\u001b[0;34m()\u001b[0m\n\u001b[1;32m      1\u001b[0m \u001b[0;31m# We force an AssertionError\u001b[0m\u001b[0;34m\u001b[0m\u001b[0;34m\u001b[0m\u001b[0m\n\u001b[1;32m      2\u001b[0m \u001b[0ma\u001b[0m \u001b[0;34m=\u001b[0m \u001b[0;36m3\u001b[0m\u001b[0;34m\u001b[0m\u001b[0;34m\u001b[0m\u001b[0m\n\u001b[0;32m----> 3\u001b[0;31m \u001b[0;32massert\u001b[0m \u001b[0ma\u001b[0m \u001b[0;34m<\u001b[0m \u001b[0;36m0\u001b[0m\u001b[0;34m\u001b[0m\u001b[0;34m\u001b[0m\u001b[0m\n\u001b[0m",
            "\u001b[0;31mAssertionError\u001b[0m: "
          ]
        }
      ]
    },
    {
      "cell_type": "code",
      "source": [
        "# Correct assert, nothing is displayed\n",
        "assert a==3"
      ],
      "metadata": {
        "id": "iJYZpYdSIb2p"
      },
      "execution_count": 78,
      "outputs": []
    },
    {
      "cell_type": "code",
      "source": [
        "# We display a message associated with the assertion\n",
        "assert a < 0, 'The value of a must be negative'"
      ],
      "metadata": {
        "id": "7Lv-q13oIOJO",
        "colab": {
          "base_uri": "https://localhost:8080/",
          "height": 162
        },
        "outputId": "a6fa1bb2-8d3c-4aec-c056-70e0161bf535"
      },
      "execution_count": 79,
      "outputs": [
        {
          "output_type": "error",
          "ename": "AssertionError",
          "evalue": "The value of a must be negative",
          "traceback": [
            "\u001b[0;31m---------------------------------------------------------------------------\u001b[0m",
            "\u001b[0;31mAssertionError\u001b[0m                            Traceback (most recent call last)",
            "\u001b[0;32m<ipython-input-79-1a3aaa8c08ce>\u001b[0m in \u001b[0;36m<cell line: 0>\u001b[0;34m()\u001b[0m\n\u001b[1;32m      1\u001b[0m \u001b[0;31m# We display a message associated with the assertion\u001b[0m\u001b[0;34m\u001b[0m\u001b[0;34m\u001b[0m\u001b[0m\n\u001b[0;32m----> 2\u001b[0;31m \u001b[0;32massert\u001b[0m \u001b[0ma\u001b[0m \u001b[0;34m<\u001b[0m \u001b[0;36m0\u001b[0m\u001b[0;34m,\u001b[0m \u001b[0;34m'The value of a must be negative'\u001b[0m\u001b[0;34m\u001b[0m\u001b[0;34m\u001b[0m\u001b[0m\n\u001b[0m",
            "\u001b[0;31mAssertionError\u001b[0m: The value of a must be negative"
          ]
        }
      ]
    },
    {
      "cell_type": "code",
      "source": [
        "# We can use the values of the tested variables in the displayed message\n",
        "number = -2\n",
        "assert number > 0, \\\n",
        "    f\"Number must be greater than 0, its value is: {number}\""
      ],
      "metadata": {
        "colab": {
          "base_uri": "https://localhost:8080/",
          "height": 198
        },
        "id": "z2B6BtBfAr2c",
        "outputId": "f5eb1341-1223-49d5-ff62-2571026c3b09"
      },
      "execution_count": 80,
      "outputs": [
        {
          "output_type": "error",
          "ename": "AssertionError",
          "evalue": "Number must be greater than 0, its value is: -2",
          "traceback": [
            "\u001b[0;31m---------------------------------------------------------------------------\u001b[0m",
            "\u001b[0;31mAssertionError\u001b[0m                            Traceback (most recent call last)",
            "\u001b[0;32m<ipython-input-80-d24e6c7c2699>\u001b[0m in \u001b[0;36m<cell line: 0>\u001b[0;34m()\u001b[0m\n\u001b[1;32m      1\u001b[0m \u001b[0;31m# We can use the values of the tested variables in the displayed message\u001b[0m\u001b[0;34m\u001b[0m\u001b[0;34m\u001b[0m\u001b[0m\n\u001b[1;32m      2\u001b[0m \u001b[0mnumber\u001b[0m \u001b[0;34m=\u001b[0m \u001b[0;34m-\u001b[0m\u001b[0;36m2\u001b[0m\u001b[0;34m\u001b[0m\u001b[0;34m\u001b[0m\u001b[0m\n\u001b[0;32m----> 3\u001b[0;31m \u001b[0;32massert\u001b[0m \u001b[0mnumber\u001b[0m \u001b[0;34m>\u001b[0m \u001b[0;36m0\u001b[0m\u001b[0;34m,\u001b[0m\u001b[0;31m \u001b[0m\u001b[0;31m\\\u001b[0m\u001b[0;34m\u001b[0m\u001b[0;34m\u001b[0m\u001b[0m\n\u001b[0m\u001b[1;32m      4\u001b[0m     \u001b[0;34mf\"Number must be greater than 0, its value is: {number}\"\u001b[0m\u001b[0;34m\u001b[0m\u001b[0;34m\u001b[0m\u001b[0m\n",
            "\u001b[0;31mAssertionError\u001b[0m: Number must be greater than 0, its value is: -2"
          ]
        }
      ]
    },
    {
      "cell_type": "code",
      "source": [
        "number = 3.14\n",
        "assert isinstance(number, int),\\\n",
        "   f\"Number must be an integer, its value is: {number}\""
      ],
      "metadata": {
        "colab": {
          "base_uri": "https://localhost:8080/",
          "height": 180
        },
        "id": "fYl9UgZSBJzm",
        "outputId": "19a171f7-836e-44a3-aac3-3e770d3fc712"
      },
      "execution_count": 81,
      "outputs": [
        {
          "output_type": "error",
          "ename": "AssertionError",
          "evalue": "Number must be an integer, its value is: 3.14",
          "traceback": [
            "\u001b[0;31m---------------------------------------------------------------------------\u001b[0m",
            "\u001b[0;31mAssertionError\u001b[0m                            Traceback (most recent call last)",
            "\u001b[0;32m<ipython-input-81-b93970c8547f>\u001b[0m in \u001b[0;36m<cell line: 0>\u001b[0;34m()\u001b[0m\n\u001b[1;32m      1\u001b[0m \u001b[0mnumber\u001b[0m \u001b[0;34m=\u001b[0m \u001b[0;36m3.14\u001b[0m\u001b[0;34m\u001b[0m\u001b[0;34m\u001b[0m\u001b[0m\n\u001b[0;32m----> 2\u001b[0;31m \u001b[0;32massert\u001b[0m \u001b[0misinstance\u001b[0m\u001b[0;34m(\u001b[0m\u001b[0mnumber\u001b[0m\u001b[0;34m,\u001b[0m \u001b[0mint\u001b[0m\u001b[0;34m)\u001b[0m\u001b[0;34m,\u001b[0m\u001b[0;31m\\\u001b[0m\u001b[0;34m\u001b[0m\u001b[0;34m\u001b[0m\u001b[0m\n\u001b[0m\u001b[1;32m      3\u001b[0m    \u001b[0;34mf\"Number must be an integer, its value is: {number}\"\u001b[0m\u001b[0;34m\u001b[0m\u001b[0;34m\u001b[0m\u001b[0m\n",
            "\u001b[0;31mAssertionError\u001b[0m: Number must be an integer, its value is: 3.14"
          ]
        }
      ]
    },
    {
      "cell_type": "markdown",
      "source": [
        "##**<font color=\"#e8710a\">Context managers: with/as</font>**\n",
        "\n",
        "Context managers are code sequences that can allocate and release resources at specific points in the code. They can be seen as a simplified alternative to `try-except` blocks.\n",
        "The most common context manager is the `with` statement, with the general syntax:\n",
        "\n",
        "```\n",
        "with expression [as variable]:\n",
        "  with-block\n",
        "\n",
        "```\n",
        "\n",
        "The result of the expression must implement the so-called [context management protocol](https://www.pythontutorial.net/advanced-python/python-context-managers/).\n",
        "The expression can run a code sequence before and after the execution of the `with` block. The variable does not have to be assigned the result of the expression.\n",
        "\n",
        "**Context Management Protocol - operation**\n",
        "\n",
        "* The expression is evaluated and results in a context manager object that must have the `__enter__` and `__exit__` methods associated;\n",
        "* The `__enter__` method is called, and the returned result is assigned to the `as` clause (if it exists);\n",
        "* The `with-block` is executed;\n",
        "* If the `with-block` raises an exception, the `__exit__` method is called based on the details of the exception\n",
        "* If this method returns a `False` value, the exception is raised again, otherwise the exception is terminated. The exception should be raised again to be propagated outside the `with` statement;\n",
        "* If the `with-block` does not raise an exception, the `__exit__` method is still called, but the parameters sent to it are `None`.\n",
        "\n",
        "\n",
        "The most common use of context managers is when manipulating files and ensures that the file is closed when exiting the `with/as` block, no matter what happens in the `with-block`:\n"
      ],
      "metadata": {
        "id": "oNqAvY8ScSzA"
      }
    },
    {
      "cell_type": "code",
      "source": [
        "# Standard reading\n",
        "f = open(\"fis.txt\", \"w\")\n",
        "print (f.write(\"Hello!\"))\n",
        "f.close()\n",
        "# It is not certain that the file is closed if an exception occurred during writing"
      ],
      "metadata": {
        "colab": {
          "base_uri": "https://localhost:8080/"
        },
        "id": "bVAveGOEIxVq",
        "outputId": "ed06f5e9-17a4-47df-933b-028eab633a9c"
      },
      "execution_count": 82,
      "outputs": [
        {
          "output_type": "stream",
          "name": "stdout",
          "text": [
            "6\n"
          ]
        }
      ]
    },
    {
      "cell_type": "code",
      "source": [
        "# Correct implementation with try-except-finally\n",
        "f = open(\"fis.txt\", \"w\")\n",
        "\n",
        "try:\n",
        "    f.write(\"Hello!\")\n",
        "except Exception as e:\n",
        "    print(\"An exception occurred while writing\")\n",
        "finally:\n",
        "    # We make sure the file is closed in any condition\n",
        "    f.close()"
      ],
      "metadata": {
        "id": "EKUkMrneJs6n"
      },
      "execution_count": 83,
      "outputs": []
    },
    {
      "cell_type": "code",
      "source": [
        "with open(\"fis.txt\", \"w\") as f:\n",
        "  print(\"Hello!\")\n",
        "# When exiting the block, the file is automatically closed, even if an exception has occurred"
      ],
      "metadata": {
        "colab": {
          "base_uri": "https://localhost:8080/"
        },
        "id": "rIDl8ia6FvPP",
        "outputId": "184cbbb6-0e5b-49e5-9ca7-6467e7291321"
      },
      "execution_count": 84,
      "outputs": [
        {
          "output_type": "stream",
          "name": "stdout",
          "text": [
            "Hello!\n"
          ]
        }
      ]
    },
    {
      "cell_type": "markdown",
      "source": [
        "\n",
        "**<font color=\"#1589FF\">Multiple context managers, Python3.1+</font>**\n",
        "\n",
        "Starting with Python3.1, the use of multiple context managers in the same `with/as` statement is allowed:\n",
        "\n",
        "```\n",
        "with A() as a, B() as b:\n",
        "  with-block\n",
        "\n",
        "```\n",
        "\n",
        "It is equivalent to:\n",
        "\n",
        "```\n",
        "with A() as a:\n",
        "  with B() as b:\n",
        "    with-block\n",
        "\n",
        "```"
      ],
      "metadata": {
        "id": "oGEbA1N6Fv1c"
      }
    },
    {
      "cell_type": "code",
      "source": [
        "%%writefile fisier1.txt\n",
        "Line1.1.: Hello\n",
        "Line1.2.: How are you?"
      ],
      "metadata": {
        "colab": {
          "base_uri": "https://localhost:8080/"
        },
        "id": "0zxpn55KKrOS",
        "outputId": "94680611-febc-4df5-c0c7-0444035da854"
      },
      "execution_count": 85,
      "outputs": [
        {
          "output_type": "stream",
          "name": "stdout",
          "text": [
            "Overwriting fisier1.txt\n"
          ]
        }
      ]
    },
    {
      "cell_type": "code",
      "source": [
        "%%writefile fisier2.txt\n",
        "Line2.1.: Salut\n",
        "Line2.2.: Ce mai faci?"
      ],
      "metadata": {
        "id": "dVZGnPZbc30q",
        "outputId": "1cc1b3ae-6c75-43cc-8e69-258d60dba100",
        "colab": {
          "base_uri": "https://localhost:8080/"
        }
      },
      "execution_count": 86,
      "outputs": [
        {
          "output_type": "stream",
          "name": "stdout",
          "text": [
            "Overwriting fisier2.txt\n"
          ]
        }
      ]
    },
    {
      "cell_type": "code",
      "source": [
        "with open('fisier1.txt') as f1, open('fisier2.txt') as f2:\n",
        "  for l1,l2 in zip(f1, f2):\n",
        "    print(l1.strip(), '|', l2.strip())"
      ],
      "metadata": {
        "colab": {
          "base_uri": "https://localhost:8080/"
        },
        "id": "OvTWvHBacukG",
        "outputId": "902864ed-e5fe-4a12-dcac-3a9de1c26c02"
      },
      "execution_count": 87,
      "outputs": [
        {
          "output_type": "stream",
          "name": "stdout",
          "text": [
            "Line1.1.: Hello | Line2.1.: Salut\n",
            "Line1.2.: How are you? | Line2.2.: Ce mai faci?\n"
          ]
        }
      ]
    },
    {
      "cell_type": "markdown",
      "source": [
        "---\n",
        "\n",
        "##<font color=\"#e8710a\">Conclusions</font>\n",
        "\n",
        "This tutorial presented the syntax and concepts associated with object-oriented programming in Python. Also, aspects related to decorators, exceptions, assertions, and context managers were introduced. The next tutorial will present how to work with input/output files and files with standard formats (CSV, JSON, XML, etc.)\n"
      ],
      "metadata": {
        "id": "CYUpjJ3747l2"
      }
    },
    {
      "cell_type": "markdown",
      "source": [
        "---\n",
        "\n",
        "##<font color=\"#1589FF\"> Exercises</font>\n",
        "\n",
        "1) Define a class called `Model` with instance attributes `value` and `radical`. The class contains a static method that calculates the radical of a number received as an attribute. Also, the class contains a class method that allows instantiating a new object starting from an arbitrary numeric value and which calls the static method to define the `radical` attribute."
      ],
      "metadata": {
        "id": "K8N2GAPyycLv"
      }
    },
    {
      "cell_type": "code",
      "source": [
        "## SOLUTION EX. 1"
      ],
      "metadata": {
        "id": "MIiWiLdUD8MD"
      },
      "execution_count": 88,
      "outputs": []
    },
    {
      "cell_type": "markdown",
      "source": [
        "2) Create a decorator function that always modifies the numeric value returned by a function by rounding it to the nearest integer."
      ],
      "metadata": {
        "id": "VgeL9aVO9TjB"
      }
    },
    {
      "cell_type": "code",
      "source": [
        "## SOLUTION EX. 2"
      ],
      "metadata": {
        "id": "uO_II9EY9UPQ"
      },
      "execution_count": 89,
      "outputs": []
    },
    {
      "cell_type": "markdown",
      "source": [
        "3) Write a class that models a matrix of integer values. Both the dimensions of the matrix and the two-dimensional array of elements are pseudo-private attributes in the class, accessed through setter and getter methods. Include in the class methods for formatted display of the matrix, for calculating and returning the number of groups of elements (9 neighboring values), which do not differ by more than 5% from a certain threshold received as an attribute when calling the method. Instantiate the class and test the methods."
      ],
      "metadata": {
        "id": "tvhK0Ctr9UiV"
      }
    },
    {
      "cell_type": "code",
      "source": [
        "## SOLUTION EX. 3"
      ],
      "metadata": {
        "id": "mdFFalHC9VY5"
      },
      "execution_count": 90,
      "outputs": []
    },
    {
      "cell_type": "markdown",
      "source": [
        "4) Create your own exception class that is thrown when non-ASCII characters exist in a string. Attach a corresponding message to the exception and write a test code."
      ],
      "metadata": {
        "id": "86kSHhCd7je6"
      }
    },
    {
      "cell_type": "code",
      "source": [
        "## SOLUTION EX. 4"
      ],
      "metadata": {
        "id": "ECIWEy6F7lId"
      },
      "execution_count": 91,
      "outputs": []
    },
    {
      "cell_type": "markdown",
      "source": [
        "5) Write an application that defines a class for verifying an authentication key.\n",
        "The authentication key is of the type: `XXXXX-XXXXX-XXXXX-XXXXX`, where X represents a character that can be a digit or a letter. The key has exactly 4 groups of characters with 5 characters each, separated by the character '-'. Also, the number of digits must be greater than the number of letters, and the number of letters cannot be 0. If at least one of the conditions mentioned above is not met, a custom exception is thrown with the message: \"Incorrect authentication key!\".\n",
        "All checks are done when a new object from the defined class is instantiated."
      ],
      "metadata": {
        "id": "w4xoyG3n9s2t"
      }
    },
    {
      "cell_type": "code",
      "source": [
        "## SOLUTION EX. 5"
      ],
      "metadata": {
        "id": "K2ghSWtu9r_f"
      },
      "execution_count": 92,
      "outputs": []
    },
    {
      "cell_type": "markdown",
      "source": [
        "---\n",
        "\n",
        "## Additional references\n",
        "\n",
        "1. The `@property` decorator https://www.programiz.com/python-programming/property\n"
      ],
      "metadata": {
        "id": "uvEI5llLDqCM"
      }
    }
  ]
}