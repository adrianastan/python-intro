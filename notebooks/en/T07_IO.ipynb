{
  "nbformat": 4,
  "nbformat_minor": 0,
  "metadata": {
    "colab": {
      "provenance": []
    },
    "kernelspec": {
      "name": "python3",
      "display_name": "Python 3"
    },
    "language_info": {
      "name": "python"
    }
  },
  "cells": [
    {
      "cell_type": "markdown",
      "source": [
        "<img src='https://upload.wikimedia.org/wikipedia/commons/c/c3/Python-logo-notext.svg' width=50/>\n",
        "<img src='https://upload.wikimedia.org/wikipedia/commons/d/d0/Google_Colaboratory_SVG_Logo.svg' width=90/>\n",
        "\n",
        "# <font size=50>Introduction in Python using Google Colab</font>\n",
        "<font color=\"#e8710a\">© Adriana STAN, David COMBEI, 2025</font>\n",
        "\n",
        "<font color=\"#e8710a\">Contributor: Gabriel ERDEI </font>\n",
        "\n",
        "[![Open In Colab](https://colab.research.google.com/assets/colab-badge.svg)](https://colab.research.google.com/github/adrianastan/python-intro/blob/main/notebooks/ro/T07_Fisiere.ipynb)\n"
      ],
      "metadata": {
        "id": "lEfS4VkQtrt0"
      }
    },
    {
      "cell_type": "markdown",
      "source": [
        "#<font color=\"#e8710a\">T07. Inputs/Outputs (I/O)</font>\n",
        "\n",
        "In the previous tutorials, we have already seen several examples of reading data from files. In the current tutorial, we will extend these methods with writing methods, as well as methods for processing standard file types, such as CSV, JSON, or XML.\n",
        "\n",
        "---\n",
        "<font color=\"#1589FF\"><b>Estimated Completion Time:</b> 120 min</font>\n",
        "\n",
        "---\n",
        "\n"
      ],
      "metadata": {
        "id": "u4Z8FQsFdOl_"
      }
    },
    {
      "cell_type": "markdown",
      "source": [
        "##<font color=\"#e8710a\">Files</font>\n",
        "\n",
        "We start the tutorial with reading and writing simple text files. For reading/writing, we have the built-in function `open()` with the full format:\n",
        "\n",
        "\n",
        "```\n",
        "f = open(file, mode='r', buffering=- 1, encoding=None, errors=None, newline=None, closefd=True, opener=None)\n",
        "```\n",
        "\n",
        "The file opening mode will also provide us with the operations that we can perform through the associated object: reading and/or writing.\n",
        "\n",
        "To be able to test the reading, we will first create a file using the magic commands from Google Colab:\n"
      ],
      "metadata": {
        "id": "oCoPwfq6Ar5D"
      }
    },
    {
      "cell_type": "code",
      "source": [
        "%%writefile input.txt\n",
        "Hello!\n",
        "How are you?"
      ],
      "metadata": {
        "colab": {
          "base_uri": "https://localhost:8080/"
        },
        "id": "pUpjGpb_oHf3",
        "outputId": "8bb5fe0e-d00f-4d53-d635-035dc0e45830"
      },
      "execution_count": 1,
      "outputs": [
        {
          "output_type": "stream",
          "name": "stdout",
          "text": [
            "Writing input.txt\n"
          ]
        }
      ]
    },
    {
      "cell_type": "markdown",
      "source": [
        "The methods associated with reading for a file object are:\n",
        "\n",
        "- `read()` - reads the entire content\n",
        "- `readline()` - reads line by line\n",
        "\n",
        "And they return the string of characters that was read."
      ],
      "metadata": {
        "id": "WCIcENwbpIVN"
      }
    },
    {
      "cell_type": "code",
      "source": [
        "# Reads the entire file as a string\n",
        "f = open('input.txt', 'rt')\n",
        "data = f.read()\n",
        "data"
      ],
      "metadata": {
        "id": "OsrysiOSxZEI",
        "colab": {
          "base_uri": "https://localhost:8080/",
          "height": 35
        },
        "outputId": "b89e260f-16aa-45e2-9c51-41b91d34181d"
      },
      "execution_count": 2,
      "outputs": [
        {
          "output_type": "execute_result",
          "data": {
            "text/plain": [
              "'Hello!\\nHow are you?\\n'"
            ],
            "application/vnd.google.colaboratory.intrinsic+json": {
              "type": "string"
            }
          },
          "metadata": {},
          "execution_count": 2
        }
      ]
    },
    {
      "cell_type": "code",
      "execution_count": 3,
      "metadata": {
        "id": "hb5JycwTdL6Y",
        "colab": {
          "base_uri": "https://localhost:8080/"
        },
        "outputId": "f2b1e2c3-9011-4fa3-80e0-4948339b47dd"
      },
      "outputs": [
        {
          "output_type": "stream",
          "name": "stdout",
          "text": [
            "Hello!\n",
            "How are you?\n",
            "\n"
          ]
        }
      ],
      "source": [
        "# It is recommended to use context managers for file processing\n",
        "with open('input.txt', 'rt') as f:\n",
        "  data = f.read()\n",
        "print (data)"
      ]
    },
    {
      "cell_type": "code",
      "source": [
        "# It is not necessary to explicitly specify the read and text modes\n",
        "# These are implicit for the open() function\n",
        "with open('input.txt') as f:\n",
        "  data = f.read()\n",
        "print (data)"
      ],
      "metadata": {
        "id": "z7yZMhE_oS4Z",
        "colab": {
          "base_uri": "https://localhost:8080/"
        },
        "outputId": "0d65a055-a726-4cdf-80cd-932a1b5e38ad"
      },
      "execution_count": 4,
      "outputs": [
        {
          "output_type": "stream",
          "name": "stdout",
          "text": [
            "Hello!\n",
            "How are you?\n",
            "\n"
          ]
        }
      ]
    },
    {
      "cell_type": "code",
      "source": [
        "# Reads the file line by line\n",
        "with open('input.txt') as f:\n",
        "  for line in f.readlines():\n",
        "    print (line)"
      ],
      "metadata": {
        "id": "cfH18i17pZCK",
        "colab": {
          "base_uri": "https://localhost:8080/"
        },
        "outputId": "eadbd5be-67fc-4020-c99f-ed1e468c1167"
      },
      "execution_count": 5,
      "outputs": [
        {
          "output_type": "stream",
          "name": "stdout",
          "text": [
            "Hello!\n",
            "\n",
            "How are you?\n",
            "\n"
          ]
        }
      ]
    },
    {
      "cell_type": "code",
      "source": [
        "# The same result can be obtained by traversing the file object\n",
        "with open('input.txt') as f:\n",
        "  for line in f:\n",
        "    print (line) # The end of line separator (\\n) is contained in the read line"
      ],
      "metadata": {
        "colab": {
          "base_uri": "https://localhost:8080/"
        },
        "id": "zmPA-DpMoZqv",
        "outputId": "6f620a24-704b-414a-b952-1ffccf3ee9a2"
      },
      "execution_count": 6,
      "outputs": [
        {
          "output_type": "stream",
          "name": "stdout",
          "text": [
            "Hello!\n",
            "\n",
            "How are you?\n",
            "\n"
          ]
        }
      ]
    },
    {
      "cell_type": "markdown",
      "source": [
        "To write to a file, we use the same `open()` function, but specify the mode `w`. The methods associated with the file object for writing are:\n",
        "\n",
        "- `write()` - writes the text as is\n",
        "- `writeline()` - adds a new line (`\\n`) after writing the text\n",
        "\n",
        "Both methods take a string of characters as an argument."
      ],
      "metadata": {
        "id": "EQz_OAqaddCo"
      }
    },
    {
      "cell_type": "code",
      "source": [
        "# Writes a string to a file\n",
        "s = \"Ana has apples.\\nAnd pears.\"\n",
        "with open('output.txt', 'wt') as f:\n",
        "  f.write(s)"
      ],
      "metadata": {
        "id": "yj9ZJRF-ddvb"
      },
      "execution_count": 7,
      "outputs": []
    },
    {
      "cell_type": "code",
      "source": [
        "# We can also perform the writing using the print() function\n",
        "with open('output.txt', 'w') as f:\n",
        "  print(s, file=f)"
      ],
      "metadata": {
        "id": "CCETAYfro9Ha"
      },
      "execution_count": 8,
      "outputs": []
    },
    {
      "cell_type": "markdown",
      "source": [
        "We can verify the file writing from the file area of the Colab environment. A new file named `output.txt` should appear."
      ],
      "metadata": {
        "id": "T4q8n3yqx5rl"
      }
    },
    {
      "cell_type": "markdown",
      "source": [
        "If we want to write to a file only if it doesn't already exist, we can use the `x` mode. In this mode, we will get a `FileExistsError` if the file already exists. By default, in `w` mode, the file is created if it doesn't exist and overwritten if it does.\n",
        "\n",
        "If you run the cell below twice, you will get an error:"
      ],
      "metadata": {
        "id": "z_5USlhHeUv0"
      }
    },
    {
      "cell_type": "code",
      "source": [
        "with open('test.txt', 'x') as f:\n",
        "  f.write('Hello')"
      ],
      "metadata": {
        "id": "XukhibegeXGz",
        "collapsed": true
      },
      "execution_count": 9,
      "outputs": []
    },
    {
      "cell_type": "code",
      "source": [
        "with open('test.txt', 'x') as f:\n",
        "  f.write('Hello')"
      ],
      "metadata": {
        "colab": {
          "base_uri": "https://localhost:8080/",
          "height": 162
        },
        "id": "CZjWv19odN6c",
        "outputId": "43b23054-1e0d-4450-dde3-a398fee0f40d"
      },
      "execution_count": 10,
      "outputs": [
        {
          "output_type": "error",
          "ename": "FileExistsError",
          "evalue": "[Errno 17] File exists: 'test.txt'",
          "traceback": [
            "\u001b[0;31m---------------------------------------------------------------------------\u001b[0m",
            "\u001b[0;31mFileExistsError\u001b[0m                           Traceback (most recent call last)",
            "\u001b[0;32m<ipython-input-10-97a86521febd>\u001b[0m in \u001b[0;36m<cell line: 0>\u001b[0;34m()\u001b[0m\n\u001b[0;32m----> 1\u001b[0;31m \u001b[0;32mwith\u001b[0m \u001b[0mopen\u001b[0m\u001b[0;34m(\u001b[0m\u001b[0;34m'test.txt'\u001b[0m\u001b[0;34m,\u001b[0m \u001b[0;34m'x'\u001b[0m\u001b[0;34m)\u001b[0m \u001b[0;32mas\u001b[0m \u001b[0mf\u001b[0m\u001b[0;34m:\u001b[0m\u001b[0;34m\u001b[0m\u001b[0;34m\u001b[0m\u001b[0m\n\u001b[0m\u001b[1;32m      2\u001b[0m   \u001b[0mf\u001b[0m\u001b[0;34m.\u001b[0m\u001b[0mwrite\u001b[0m\u001b[0;34m(\u001b[0m\u001b[0;34m'Hello'\u001b[0m\u001b[0;34m)\u001b[0m\u001b[0;34m\u001b[0m\u001b[0;34m\u001b[0m\u001b[0m\n",
            "\u001b[0;31mFileExistsError\u001b[0m: [Errno 17] File exists: 'test.txt'"
          ]
        }
      ]
    },
    {
      "cell_type": "markdown",
      "source": [
        "**<font color=\"#1589FF\">Binary files</font>**\n",
        "\n",
        "\n",
        "For binary files we have the `b` mode of the `open()` function:"
      ],
      "metadata": {
        "id": "3aJRdV8idw6u"
      }
    },
    {
      "cell_type": "code",
      "source": [
        "# Writes a binary file\n",
        "with open('output.bin', 'wb') as f:\n",
        "  f.write(b'Hello')\n",
        "\n",
        "# Reads its content\n",
        "with open('output.bin', 'rb') as f:\n",
        "  data = f.read()\n",
        "data"
      ],
      "metadata": {
        "id": "Am7WBNxZdyEp",
        "colab": {
          "base_uri": "https://localhost:8080/"
        },
        "outputId": "d6d3701f-a747-43b3-e0f8-e330bda52f4a"
      },
      "execution_count": 16,
      "outputs": [
        {
          "output_type": "execute_result",
          "data": {
            "text/plain": [
              "b'Hello'"
            ]
          },
          "metadata": {},
          "execution_count": 16
        }
      ]
    },
    {
      "cell_type": "markdown",
      "source": [
        "**<font color=\"#1589FF\">Binary data (string vs. byte)</font>**\n",
        "\n",
        "Reading from files can be done either through string data, or at the byte level, which can later be interpreted as a character (ASCII)."
      ],
      "metadata": {
        "id": "4RP9GWRxd1oa"
      }
    },
    {
      "cell_type": "code",
      "source": [
        "# Determines the file name from the path\n",
        "import os\n",
        "path = '/Users/adriana/Data/data.csv'\n",
        "os.path.basename(path)"
      ],
      "metadata": {
        "colab": {
          "base_uri": "https://localhost:8080/",
          "height": 35
        },
        "id": "1lzYE5_jexhP",
        "outputId": "6aae26b0-b530-44db-a2ed-467310637a24"
      },
      "execution_count": 17,
      "outputs": [
        {
          "output_type": "execute_result",
          "data": {
            "text/plain": [
              "'data.csv'"
            ],
            "application/vnd.google.colaboratory.intrinsic+json": {
              "type": "string"
            }
          },
          "metadata": {},
          "execution_count": 17
        }
      ]
    },
    {
      "cell_type": "code",
      "source": [
        "# Determines the directory path\n",
        "os.path.dirname(path)"
      ],
      "metadata": {
        "colab": {
          "base_uri": "https://localhost:8080/",
          "height": 35
        },
        "id": "Kt1mQK6Ve7mx",
        "outputId": "d083d678-03ed-4587-a094-6522c6370824"
      },
      "execution_count": 18,
      "outputs": [
        {
          "output_type": "execute_result",
          "data": {
            "text/plain": [
              "'/Users/adriana/Data'"
            ],
            "application/vnd.google.colaboratory.intrinsic+json": {
              "type": "string"
            }
          },
          "metadata": {},
          "execution_count": 18
        }
      ]
    },
    {
      "cell_type": "code",
      "source": [
        "# Creates a new path by combining multiple directories and a file\n",
        "os.path.join('tmp', 'data', os.path.basename(path))"
      ],
      "metadata": {
        "colab": {
          "base_uri": "https://localhost:8080/",
          "height": 35
        },
        "id": "2OJoEoLue9_n",
        "outputId": "5425301c-9ea4-48ff-f03e-cd6128a1b51d"
      },
      "execution_count": 19,
      "outputs": [
        {
          "output_type": "execute_result",
          "data": {
            "text/plain": [
              "'tmp/data/data.csv'"
            ],
            "application/vnd.google.colaboratory.intrinsic+json": {
              "type": "string"
            }
          },
          "metadata": {},
          "execution_count": 19
        }
      ]
    },
    {
      "cell_type": "code",
      "source": [
        "# Determines the full path to the user's directory\n",
        "path = '~/Data/data.csv'\n",
        "os.path.expanduser(path)"
      ],
      "metadata": {
        "colab": {
          "base_uri": "https://localhost:8080/",
          "height": 35
        },
        "id": "IdT4TpvlfDmo",
        "outputId": "8404633a-6573-4a1a-9741-d16350132717"
      },
      "execution_count": 20,
      "outputs": [
        {
          "output_type": "execute_result",
          "data": {
            "text/plain": [
              "'/root/Data/data.csv'"
            ],
            "application/vnd.google.colaboratory.intrinsic+json": {
              "type": "string"
            }
          },
          "metadata": {},
          "execution_count": 20
        }
      ]
    },
    {
      "cell_type": "code",
      "source": [
        "# Determines the name and extension of the file\n",
        "path = 'data.csv'\n",
        "os.path.splitext(path)"
      ],
      "metadata": {
        "colab": {
          "base_uri": "https://localhost:8080/"
        },
        "id": "9nW2UyoWfFRG",
        "outputId": "12093023-f44a-4315-9b59-461ce69ae18f"
      },
      "execution_count": 21,
      "outputs": [
        {
          "output_type": "execute_result",
          "data": {
            "text/plain": [
              "('data', '.csv')"
            ]
          },
          "metadata": {},
          "execution_count": 21
        }
      ]
    },
    {
      "cell_type": "code",
      "source": [
        "# Checks if a file exists\n",
        "os.path.exists('/content/output.txt')"
      ],
      "metadata": {
        "colab": {
          "base_uri": "https://localhost:8080/"
        },
        "id": "w_29qh7lfQzV",
        "outputId": "388aa960-4721-49dd-ac6d-fdcdf525e522"
      },
      "execution_count": 22,
      "outputs": [
        {
          "output_type": "execute_result",
          "data": {
            "text/plain": [
              "True"
            ]
          },
          "metadata": {},
          "execution_count": 22
        }
      ]
    },
    {
      "cell_type": "code",
      "source": [
        "# Checks if a directory exists\n",
        "os.path.exists('/content/')"
      ],
      "metadata": {
        "colab": {
          "base_uri": "https://localhost:8080/"
        },
        "id": "MBImRXyJfG-O",
        "outputId": "5b431b0b-ef63-4c95-ee34-c99c928ddd00"
      },
      "execution_count": 23,
      "outputs": [
        {
          "output_type": "execute_result",
          "data": {
            "text/plain": [
              "True"
            ]
          },
          "metadata": {},
          "execution_count": 23
        }
      ]
    },
    {
      "cell_type": "code",
      "source": [
        "# Checks if it is a file\n",
        "os.path.isfile('/content/output.txt')"
      ],
      "metadata": {
        "colab": {
          "base_uri": "https://localhost:8080/"
        },
        "id": "SCK6eqL8fRjZ",
        "outputId": "b8e79e30-a4ec-40bd-dd66-09d353f2a2b2"
      },
      "execution_count": 24,
      "outputs": [
        {
          "output_type": "execute_result",
          "data": {
            "text/plain": [
              "True"
            ]
          },
          "metadata": {},
          "execution_count": 24
        }
      ]
    },
    {
      "cell_type": "code",
      "source": [
        "# Checks if it is a directory\n",
        "os.path.isdir('/content/')"
      ],
      "metadata": {
        "colab": {
          "base_uri": "https://localhost:8080/"
        },
        "id": "va662YmkfT1S",
        "outputId": "9ad6e1b7-06f7-40b9-bafb-86ab28bf3b97"
      },
      "execution_count": 25,
      "outputs": [
        {
          "output_type": "execute_result",
          "data": {
            "text/plain": [
              "True"
            ]
          },
          "metadata": {},
          "execution_count": 25
        }
      ]
    },
    {
      "cell_type": "markdown",
      "source": [
        "**<font color=\"#1589FF\">Directory listing</font>**\n",
        "\n",
        "To determine the content of a path, we can use other functions of the built-in package `os`"
      ],
      "metadata": {
        "id": "gqavPqGdfbms"
      }
    },
    {
      "cell_type": "code",
      "source": [
        "# Lists the content of the current directory\n",
        "os.listdir('.')"
      ],
      "metadata": {
        "colab": {
          "base_uri": "https://localhost:8080/"
        },
        "id": "9En33kNMsQxI",
        "outputId": "209a3562-02aa-44c9-d9ed-c23474598d92"
      },
      "execution_count": 26,
      "outputs": [
        {
          "output_type": "execute_result",
          "data": {
            "text/plain": [
              "['.config', 'test.txt', 'input.txt', 'output.txt', 'output.bin', 'sample_data']"
            ]
          },
          "metadata": {},
          "execution_count": 26
        }
      ]
    },
    {
      "cell_type": "code",
      "source": [
        "# Lists the content of an arbitrary directory\n",
        "os.listdir('/content/sample_data')"
      ],
      "metadata": {
        "colab": {
          "base_uri": "https://localhost:8080/"
        },
        "id": "u8vKK_wesVzJ",
        "outputId": "f62edb88-ee37-4cf4-cff1-8116597c2ae2"
      },
      "execution_count": 27,
      "outputs": [
        {
          "output_type": "execute_result",
          "data": {
            "text/plain": [
              "['anscombe.json',\n",
              " 'README.md',\n",
              " 'mnist_test.csv',\n",
              " 'california_housing_test.csv',\n",
              " 'california_housing_train.csv',\n",
              " 'mnist_train_small.csv']"
            ]
          },
          "metadata": {},
          "execution_count": 27
        }
      ]
    },
    {
      "cell_type": "code",
      "source": [
        "# Creates a list with the directories from /content/\n",
        "[name for name in os.listdir('/content/') if os.path.isdir(os.path.join('/content/', name))]"
      ],
      "metadata": {
        "colab": {
          "base_uri": "https://localhost:8080/"
        },
        "id": "M9rq3zTWfZFJ",
        "outputId": "36ee13f9-8e65-4e2e-f457-0b468b697a5e"
      },
      "execution_count": 28,
      "outputs": [
        {
          "output_type": "execute_result",
          "data": {
            "text/plain": [
              "['.config', 'sample_data']"
            ]
          },
          "metadata": {},
          "execution_count": 28
        }
      ]
    },
    {
      "cell_type": "code",
      "source": [
        "# Creates a list with the files with the txt extension from /content/\n",
        "[name for name in  os.listdir('/content/') if name.endswith('.txt')]"
      ],
      "metadata": {
        "colab": {
          "base_uri": "https://localhost:8080/"
        },
        "id": "KZnpQwICtOKW",
        "outputId": "6d3f6e16-eb6e-4a39-c1f7-6c1800ffb2a4"
      },
      "execution_count": 29,
      "outputs": [
        {
          "output_type": "execute_result",
          "data": {
            "text/plain": [
              "['test.txt', 'input.txt', 'output.txt']"
            ]
          },
          "metadata": {},
          "execution_count": 29
        }
      ]
    },
    {
      "cell_type": "markdown",
      "source": [
        "###<font color=\"#e8710a\">Moving/copying files</font>\n",
        "\n",
        "If we want to physically manipulate directories and files on disk, we can use the built-in package `shutil`:"
      ],
      "metadata": {
        "id": "w23_bDm_fmlC"
      }
    },
    {
      "cell_type": "code",
      "source": [
        "import shutil\n",
        "# Copies a file under another name\n",
        "shutil.copy('output.txt', 'newtext.txt')\n",
        "os.listdir()"
      ],
      "metadata": {
        "colab": {
          "base_uri": "https://localhost:8080/"
        },
        "id": "184WyGigflYs",
        "outputId": "5df1197b-6747-409a-8011-733c22592eba"
      },
      "execution_count": 30,
      "outputs": [
        {
          "output_type": "execute_result",
          "data": {
            "text/plain": [
              "['.config',\n",
              " 'newtext.txt',\n",
              " 'test.txt',\n",
              " 'input.txt',\n",
              " 'output.txt',\n",
              " 'output.bin',\n",
              " 'sample_data']"
            ]
          },
          "metadata": {},
          "execution_count": 30
        }
      ]
    },
    {
      "cell_type": "code",
      "source": [
        "# Copies a directory\n",
        "shutil.copytree('sample_data', 'new_data')\n",
        "os.listdir()"
      ],
      "metadata": {
        "id": "Uv6DJyaJfras",
        "colab": {
          "base_uri": "https://localhost:8080/"
        },
        "outputId": "56c977d4-ec14-4d46-b729-50ce8fa32bba"
      },
      "execution_count": 31,
      "outputs": [
        {
          "output_type": "execute_result",
          "data": {
            "text/plain": [
              "['.config',\n",
              " 'newtext.txt',\n",
              " 'test.txt',\n",
              " 'input.txt',\n",
              " 'new_data',\n",
              " 'output.txt',\n",
              " 'output.bin',\n",
              " 'sample_data']"
            ]
          },
          "metadata": {},
          "execution_count": 31
        }
      ]
    },
    {
      "cell_type": "code",
      "source": [
        "# Moves a file/directory with overwrite without warning\n",
        "# If the output.txt file exists it will be overwritten\n",
        "shutil.move('newtext.txt', 'output.txt')\n",
        "os.listdir()"
      ],
      "metadata": {
        "colab": {
          "base_uri": "https://localhost:8080/"
        },
        "id": "l2KlWVcMuEP7",
        "outputId": "aa89333c-b0a5-46b9-d152-69bd80b7689c"
      },
      "execution_count": 32,
      "outputs": [
        {
          "output_type": "execute_result",
          "data": {
            "text/plain": [
              "['.config',\n",
              " 'test.txt',\n",
              " 'input.txt',\n",
              " 'new_data',\n",
              " 'output.txt',\n",
              " 'output.bin',\n",
              " 'sample_data']"
            ]
          },
          "metadata": {},
          "execution_count": 32
        }
      ]
    },
    {
      "cell_type": "markdown",
      "source": [
        "###<font color=\"#e8710a\">Temporary files/directories</font>\n",
        "\n",
        "In certain applications, it is useful to have a series of files and directories that only exist as long as the application is running, without having a persistent existence on the disk. In this case, we can use the `tempfile` module to create and manipulate them.\n",
        "\n",
        "\n",
        "**<font color=\"#1589FF\">Anonymous temporary files</font>**"
      ],
      "metadata": {
        "id": "9qPjn8qnfvDI"
      }
    },
    {
      "cell_type": "code",
      "source": [
        "# Creates an anonymous temporary file in which we write data\n",
        "from tempfile import TemporaryFile\n",
        "with TemporaryFile('w+t') as f:\n",
        "  # Writing/reading\n",
        "  f.write('Hello!\\n')\n",
        "  f.write('Test\\n')\n",
        "  # Returns to the beginning of the file\n",
        "  f.seek(0)\n",
        "  # Reads the content\n",
        "  data = f.read()\n",
        "  print(data)\n",
        "\n",
        "# When exiting the context manager the file is destroyed"
      ],
      "metadata": {
        "id": "rIevQ2l3fw-x",
        "colab": {
          "base_uri": "https://localhost:8080/"
        },
        "outputId": "baa9f880-6f9a-4670-a0d3-1e88000da26b"
      },
      "execution_count": 33,
      "outputs": [
        {
          "output_type": "stream",
          "name": "stdout",
          "text": [
            "Hello!\n",
            "Test\n",
            "\n"
          ]
        }
      ]
    },
    {
      "cell_type": "markdown",
      "source": [
        "**<font color=\"#1589FF\">Named temporary files</font>**"
      ],
      "metadata": {
        "id": "cDtD21L6f4mi"
      }
    },
    {
      "cell_type": "code",
      "source": [
        "# Creates a named temporary file\n",
        "from tempfile import NamedTemporaryFile\n",
        "with NamedTemporaryFile('w+t') as f:\n",
        "  # The name is random\n",
        "  print('The named file is:', f.name)\n",
        "\n",
        "# The file is destroyed"
      ],
      "metadata": {
        "colab": {
          "base_uri": "https://localhost:8080/"
        },
        "id": "MmCDe6LAf01D",
        "outputId": "49fb7f8a-54ff-4895-f3a0-ec3666420eb3"
      },
      "execution_count": 34,
      "outputs": [
        {
          "output_type": "stream",
          "name": "stdout",
          "text": [
            "The named file is: /tmp/tmpxgba_a77\n"
          ]
        }
      ]
    },
    {
      "cell_type": "markdown",
      "source": [
        "**<font color=\"#1589FF\">Temporary directories</font>**\n",
        "\n"
      ],
      "metadata": {
        "id": "du-V2g3Qf-Ql"
      }
    },
    {
      "cell_type": "code",
      "source": [
        "# Creates an anonymous temporary directory and a test file inside it\n",
        "from tempfile import TemporaryDirectory\n",
        "with TemporaryDirectory() as dirname:\n",
        "  print('The directory is:', dirname)\n",
        "  # Creates a file in the directory, writes and reads\n",
        "  with open(os.path.join(dirname,'test'), 'w+') as f:\n",
        "    f.write(\"Hello!\")\n",
        "    f.seek(0)\n",
        "    print(f.read())\n",
        "\n",
        "# The directory is destroyed"
      ],
      "metadata": {
        "id": "WmqxfdH9f6rb",
        "colab": {
          "base_uri": "https://localhost:8080/"
        },
        "outputId": "d434586f-bf58-49b7-cf8d-03fac8da0ae9"
      },
      "execution_count": 35,
      "outputs": [
        {
          "output_type": "stream",
          "name": "stdout",
          "text": [
            "The directory is: /tmp/tmp1g58uvfb\n",
            "Hello!\n"
          ]
        }
      ]
    },
    {
      "cell_type": "markdown",
      "source": [
        "##<font color=\"#e8710a\">Object serialization</font>\n",
        "\n",
        " When we want to persistently store the attributes/content of more complex objects from our application, it is useful for them to be able to be written to disk directly and then read. We can do this in Python, using the `pickle` module. But it is important to mention that different serialization versions may not be compatible, so it is important to also remember the version with which the objects were serialized."
      ],
      "metadata": {
        "id": "QeMTWkSZgC7w"
      }
    },
    {
      "cell_type": "code",
      "source": [
        "# Serialization of a list\n",
        "import pickle\n",
        "obj = [1,2,3,4,5,6,7,8]\n",
        "\n",
        "with open('serialized_object.pkl', 'wb') as f:\n",
        "  # Serializes the object\n",
        "  pickle.dump(obj, f)"
      ],
      "metadata": {
        "id": "TA83WAoMgEyV"
      },
      "execution_count": 36,
      "outputs": []
    },
    {
      "cell_type": "code",
      "source": [
        "# Reading the object from the file\n",
        "with  open('serialized_object.pkl', 'rb') as f:\n",
        "  obj = pickle.load(f)\n",
        "obj"
      ],
      "metadata": {
        "colab": {
          "base_uri": "https://localhost:8080/"
        },
        "id": "yKSloVTbTyER",
        "outputId": "499dd8b2-19b1-444c-ccf1-b41826cec8b5"
      },
      "execution_count": 37,
      "outputs": [
        {
          "output_type": "execute_result",
          "data": {
            "text/plain": [
              "[1, 2, 3, 4, 5, 6, 7, 8]"
            ]
          },
          "metadata": {},
          "execution_count": 37
        }
      ]
    },
    {
      "cell_type": "markdown",
      "source": [
        "An alternative to serializing to a file is serializing to a string:"
      ],
      "metadata": {
        "id": "kwffMAKST7yx"
      }
    },
    {
      "cell_type": "code",
      "source": [
        "# Serialization to string\n",
        "s = pickle.dumps(obj)\n",
        "print (s)\n",
        "# Restoration from string\n",
        "obj = pickle.loads(s)\n",
        "obj"
      ],
      "metadata": {
        "colab": {
          "base_uri": "https://localhost:8080/"
        },
        "id": "4R1L7iU2T6_t",
        "outputId": "911b5f32-4330-4562-b0f5-69f994fd6e36"
      },
      "execution_count": 38,
      "outputs": [
        {
          "output_type": "stream",
          "name": "stdout",
          "text": [
            "b'\\x80\\x04\\x95\\x15\\x00\\x00\\x00\\x00\\x00\\x00\\x00]\\x94(K\\x01K\\x02K\\x03K\\x04K\\x05K\\x06K\\x07K\\x08e.'\n"
          ]
        },
        {
          "output_type": "execute_result",
          "data": {
            "text/plain": [
              "[1, 2, 3, 4, 5, 6, 7, 8]"
            ]
          },
          "metadata": {},
          "execution_count": 38
        }
      ]
    },
    {
      "cell_type": "markdown",
      "source": [
        "##<font color=\"#e8710a\">Special files</font>\n",
        "\n",
        "In practical applications, most of the time we will use files with a predefined format to make it easier to share the information stored in them outside the application. The most common file formats are CSV, JSON and XML, described below.\n",
        "\n",
        "On the other hand, internally to the application, but still respecting a predefined format, we will also have to use files for writing application logs or storing application configuration information. These types of files are also described in the following sections."
      ],
      "metadata": {
        "id": "--7mN3VhAxe9"
      }
    },
    {
      "cell_type": "markdown",
      "source": [
        "###<font color=\"#e8710a\">CSV files</font>\n",
        "\n",
        "CSV - Comma Separated Values files are actually text files that have a tabular format in which the fields are separated by commas. The first line can be used to specify the header of the table:"
      ],
      "metadata": {
        "id": "39nnfXl9grVM"
      }
    },
    {
      "cell_type": "code",
      "source": [
        "%%writefile stocks.csv\n",
        "Symbol,Price,Date,Time,Change,Volume\n",
        "\"AA\",39.48,\"6/11/2007\",\"9:36am\",-0.18,181800\n",
        "\"AIG\",71.38,\"6/11/2007\",\"9:36am\",-0.15,195500\n",
        "\"AXP\",62.58,\"6/11/2007\",\"9:36am\",-0.46,935000\n",
        "\"BA\",98.31,\"6/11/2007\",\"9:36am\",+0.12,104800\n",
        "\"C\",53.08,\"6/11/2007\",\"9:36am\",-0.25,360900\n",
        "\"CAT\",78.29,\"6/11/2007\",\"9:36am\",-0.23,225400"
      ],
      "metadata": {
        "colab": {
          "base_uri": "https://localhost:8080/"
        },
        "id": "88s2W3-vuztt",
        "outputId": "05911721-5938-4fc4-ced1-c7d344ec77f0"
      },
      "execution_count": 39,
      "outputs": [
        {
          "output_type": "stream",
          "name": "stdout",
          "text": [
            "Writing stocks.csv\n"
          ]
        }
      ]
    },
    {
      "cell_type": "markdown",
      "source": [
        "To work efficiently with this type of file, we can use the built-in `csv` package:"
      ],
      "metadata": {
        "id": "nR0_CbfFu6Fc"
      }
    },
    {
      "cell_type": "code",
      "source": [
        "# Reads the header of the csv file\n",
        "import csv\n",
        "f = open('stocks.csv')\n",
        "f_csv = csv.reader(f)\n",
        "headers = next(f_csv)\n",
        "headers"
      ],
      "metadata": {
        "id": "dKRNjaZygsFQ",
        "colab": {
          "base_uri": "https://localhost:8080/"
        },
        "outputId": "3a3bcc12-3932-4763-f46b-4c6de5731ad0"
      },
      "execution_count": 40,
      "outputs": [
        {
          "output_type": "execute_result",
          "data": {
            "text/plain": [
              "['Symbol', 'Price', 'Date', 'Time', 'Change', 'Volume']"
            ]
          },
          "metadata": {},
          "execution_count": 40
        }
      ]
    },
    {
      "cell_type": "code",
      "source": [
        "# Reads the lines of the file one by one\n",
        "for row in f_csv:\n",
        "  print(row)"
      ],
      "metadata": {
        "colab": {
          "base_uri": "https://localhost:8080/"
        },
        "id": "NC4ncLxMvOGF",
        "outputId": "cc824b91-e361-4b91-e6d1-f5fc7ef85582"
      },
      "execution_count": 41,
      "outputs": [
        {
          "output_type": "stream",
          "name": "stdout",
          "text": [
            "['AA', '39.48', '6/11/2007', '9:36am', '-0.18', '181800']\n",
            "['AIG', '71.38', '6/11/2007', '9:36am', '-0.15', '195500']\n",
            "['AXP', '62.58', '6/11/2007', '9:36am', '-0.46', '935000']\n",
            "['BA', '98.31', '6/11/2007', '9:36am', '+0.12', '104800']\n",
            "['C', '53.08', '6/11/2007', '9:36am', '-0.25', '360900']\n",
            "['CAT', '78.29', '6/11/2007', '9:36am', '-0.23', '225400']\n"
          ]
        }
      ]
    },
    {
      "cell_type": "markdown",
      "source": [
        "An easier way to work with the data in a CSV file is if, for each row in the table, we can extract a certain field based on the header of the file. For this we have the `DictReader()` class of the `csv` module. Through a `DictReader()` type object, we can then refer to the elements of a row in the form of a dictionary:"
      ],
      "metadata": {
        "id": "mFFnngltg8td"
      }
    },
    {
      "cell_type": "code",
      "source": [
        "# Creates a DictReader() from the contents of the file\n",
        "import csv\n",
        "with open('stocks.csv') as f:\n",
        "  f_csv = csv.DictReader(f)\n",
        "  rows = [row for row in f_csv]\n",
        "\n",
        "print(rows[3]['Symbol'], rows[2]['Time'])"
      ],
      "metadata": {
        "id": "-ehdmc8Mg9wV",
        "colab": {
          "base_uri": "https://localhost:8080/"
        },
        "outputId": "7a274f47-84d0-4582-9409-a55faf93163b"
      },
      "execution_count": 42,
      "outputs": [
        {
          "output_type": "stream",
          "name": "stdout",
          "text": [
            "BA 9:36am\n"
          ]
        }
      ]
    },
    {
      "cell_type": "markdown",
      "source": [
        "Writing tabular data to CSV files is done similarly to writing to a simple text file:"
      ],
      "metadata": {
        "id": "7IHk_yIihDTY"
      }
    },
    {
      "cell_type": "code",
      "source": [
        "# Writing a csv file\n",
        "headers = ['Symbol','Price','Date','Time','Change','Volume']\n",
        "rows = [('AA', 39.48, '6/11/2007', '9:36am', -0.18, 181800),\n",
        "  ('AIG', 71.38, '6/11/2007', '9:36am', -0.15, 195500),\n",
        "  ('AXP', 62.58, '6/11/2007', '9:36am', -0.46, 935000),\n",
        "]\n",
        "\n",
        "with open('stocks_out.csv','w') as f:\n",
        "  f_csv = csv.writer(f)\n",
        "  f_csv.writerow(headers) # Writes the header\n",
        "  f_csv.writerows(rows)   # Writes the rows"
      ],
      "metadata": {
        "id": "aXLVvFJVhE_D"
      },
      "execution_count": 43,
      "outputs": []
    },
    {
      "cell_type": "markdown",
      "source": [
        "Although `csv` is very used, it is more suitable only in simple situations, such as quickly reading and writing small files without additional processing.\n",
        "\n",
        "For more complex files or data processing (e.g. machine learning, data analysis), `pandas` module is easier and better to use. It provides built-in functionalities for filtering, sorting, aggregation and other complex operations without the need for manual iteration through the file.\n",
        "\n"
      ],
      "metadata": {
        "id": "BwPFOohfTfbq"
      }
    },
    {
      "cell_type": "code",
      "source": [
        "# Reads the header of a csv file using pandas\n",
        "import pandas as pd\n",
        "df = pd.read_csv(\"stocks.csv\")\n",
        "print(\"Header:\", df.columns.tolist())"
      ],
      "metadata": {
        "colab": {
          "base_uri": "https://localhost:8080/"
        },
        "id": "JsGnKun2Tfx4",
        "outputId": "306e9959-6fdf-4e93-d02f-dfaefb9cf346"
      },
      "execution_count": 44,
      "outputs": [
        {
          "output_type": "stream",
          "name": "stdout",
          "text": [
            "Header: ['Symbol', 'Price', 'Date', 'Time', 'Change', 'Volume']\n"
          ]
        }
      ]
    },
    {
      "cell_type": "code",
      "source": [
        "# Using a pandas DataFrame for easier access to data\n",
        "print(df.loc[3, \"Symbol\"], df.loc[2, \"Time\"])"
      ],
      "metadata": {
        "colab": {
          "base_uri": "https://localhost:8080/"
        },
        "id": "ko3ltYdvWCHI",
        "outputId": "cd594c85-932e-48b1-d980-4570a63384cd"
      },
      "execution_count": 45,
      "outputs": [
        {
          "output_type": "stream",
          "name": "stdout",
          "text": [
            "BA 9:36am\n"
          ]
        }
      ]
    },
    {
      "cell_type": "code",
      "source": [
        "# Generating a csv file using pandas DataFrame class\n",
        "headers = [\"Symbol\", \"Price\", \"Date\", \"Time\", \"Change\", \"Volume\"]\n",
        "data = [\n",
        "    [\"AAPL\", 178.56, \"2/5/2024\", \"09:35am\", -0.18, 118800],\n",
        "    [\"GOOGL\", 2750.34, \"2/5/2024\", \"09:35am\", -5.10, 155600]\n",
        "]\n",
        "\n",
        "df_out = pd.DataFrame(data, columns=headers)\n",
        "df_out.to_csv(\"stocks_out_pandas.csv\", index=False)"
      ],
      "metadata": {
        "id": "jpwm6-ZSWcFy"
      },
      "execution_count": 46,
      "outputs": []
    },
    {
      "cell_type": "markdown",
      "source": [
        "###<font color=\"#e8710a\">JSON files</font>\n",
        "\n",
        "[JSON - Java Script Object Notation](https://www.json.org/json-en.html) files represent a file format that is extremely often used in communication with APIs: transmission of requests and reception of responses. To manipulate such files, in Python we have the `json` module. The file format and the way of working with them in Python is similar to working with dictionaries."
      ],
      "metadata": {
        "id": "5jN6sw_1hINf"
      }
    },
    {
      "cell_type": "code",
      "source": [
        "%%writefile data.json\n",
        "{\"students\":[\n",
        "    {\"firstName\": \"Maria\", \"lastName\": \"Popescu\", \"age\": 19},\n",
        "    {\"firstName\": \"Ana\", \"lastName\": \"Ionescu\", \"age\": 20}],\n",
        "  \"professors\":[\n",
        "    {\"firstName\": \"Ion\", \"lastName\": \"Pop\", \"age\": 42},\n",
        "    {\"firstName\": \"Mihai\", \"lastName\": \"Vaile\", \"age\": 35}]\n",
        "\n",
        "}"
      ],
      "metadata": {
        "colab": {
          "base_uri": "https://localhost:8080/"
        },
        "id": "if-0tEQr82C5",
        "outputId": "ef035f78-9677-427f-82f5-23297ea4b671"
      },
      "execution_count": 47,
      "outputs": [
        {
          "output_type": "stream",
          "name": "stdout",
          "text": [
            "Writing data.json\n"
          ]
        }
      ]
    },
    {
      "cell_type": "code",
      "source": [
        "# Reads the json file\n",
        "import json\n",
        "with open('data.json', 'r') as f:\n",
        "  data = json.load(f)\n",
        "\n",
        "data"
      ],
      "metadata": {
        "colab": {
          "base_uri": "https://localhost:8080/"
        },
        "id": "zne-zvop86fS",
        "outputId": "b927ca6e-1edf-4fd3-bf90-20b4ef1a5cd2"
      },
      "execution_count": 48,
      "outputs": [
        {
          "output_type": "execute_result",
          "data": {
            "text/plain": [
              "{'students': [{'firstName': 'Maria', 'lastName': 'Popescu', 'age': 19},\n",
              "  {'firstName': 'Ana', 'lastName': 'Ionescu', 'age': 20}],\n",
              " 'professors': [{'firstName': 'Ion', 'lastName': 'Pop', 'age': 42},\n",
              "  {'firstName': 'Mihai', 'lastName': 'Vaile', 'age': 35}]}"
            ]
          },
          "metadata": {},
          "execution_count": 48
        }
      ]
    },
    {
      "cell_type": "code",
      "source": [
        "# Access the value of the elements from the students field\n",
        "data['students']"
      ],
      "metadata": {
        "colab": {
          "base_uri": "https://localhost:8080/"
        },
        "id": "-06HL0H09DcF",
        "outputId": "cf48e4ea-6f97-4379-c800-5eda8e7323f3"
      },
      "execution_count": 49,
      "outputs": [
        {
          "output_type": "execute_result",
          "data": {
            "text/plain": [
              "[{'firstName': 'Maria', 'lastName': 'Popescu', 'age': 19},\n",
              " {'firstName': 'Ana', 'lastName': 'Ionescu', 'age': 20}]"
            ]
          },
          "metadata": {},
          "execution_count": 49
        }
      ]
    },
    {
      "cell_type": "code",
      "source": [
        "# Access the first element from the students field\n",
        "data['students'][0]"
      ],
      "metadata": {
        "colab": {
          "base_uri": "https://localhost:8080/"
        },
        "id": "o_49pSul-MQv",
        "outputId": "2b9fdbb1-ea6a-4e8a-baa6-d6cd9f78e168"
      },
      "execution_count": 50,
      "outputs": [
        {
          "output_type": "execute_result",
          "data": {
            "text/plain": [
              "{'firstName': 'Maria', 'lastName': 'Popescu', 'age': 19}"
            ]
          },
          "metadata": {},
          "execution_count": 50
        }
      ]
    },
    {
      "cell_type": "code",
      "source": [
        "# Creates json data from a dictionary\n",
        "data = {\n",
        "  'firstName' : 'Maria',\n",
        "  'lastName' : 'Popescu',\n",
        "  'age' : 19\n",
        "}\n",
        "\n",
        "# Creates a json string from the previous dictionary\n",
        "json_str = json.dumps(data)\n",
        "\n",
        "# Writes to file\n",
        "with open('data_out.json', 'w') as f:\n",
        "  json.dump(data, f)"
      ],
      "metadata": {
        "id": "mRM9PzpZhJpn"
      },
      "execution_count": 51,
      "outputs": []
    },
    {
      "cell_type": "markdown",
      "source": [
        "**<font color=\"#1589FF\">API Call</font>**\n",
        "\n",
        "Most APIs return a JSON formatted response"
      ],
      "metadata": {
        "id": "HiBwXxDjhWHf"
      }
    },
    {
      "cell_type": "code",
      "source": [
        "# Returns the URL of a random image on the site\n",
        "from urllib.request import urlopen\n",
        "import json\n",
        "from pprint import pprint\n",
        "\n",
        "u = urlopen('https://dog.ceo/api/breeds/image/random')\n",
        "resp = json.loads(u.read().decode('utf-8'))\n",
        "pprint(resp['message'])"
      ],
      "metadata": {
        "colab": {
          "base_uri": "https://localhost:8080/"
        },
        "id": "g2vT_6xohUBF",
        "outputId": "e90aea44-841d-4c9c-fa50-1d0ad370a3b0"
      },
      "execution_count": 52,
      "outputs": [
        {
          "output_type": "stream",
          "name": "stdout",
          "text": [
            "'https://images.dog.ceo/breeds/cotondetulear/100_2013.jpg'\n"
          ]
        }
      ]
    },
    {
      "cell_type": "markdown",
      "source": [
        "###<font color=\"#e8710a\">XML files</font>\n",
        "\n",
        "[XML (Extensible Markup Language)](https://developer.mozilla.org/en-US/docs/Web/XML/XML_introduction) files are, historically, among the first file formats with a standard structure, easy to read by both humans and computers. The files have a hierarchical structure based on tags and attributes.\n",
        "\n",
        "To parse XML files in Python, we have several modules available, such as `xml` or `beautifulsoup`. As with JSON files, we need to know the structure and tags used by the XML file or the file schema."
      ],
      "metadata": {
        "id": "-x-MFFVxhjiW"
      }
    },
    {
      "cell_type": "code",
      "source": [
        "# Parses an online XML file\n",
        "from urllib.request import urlopen\n",
        "from xml.etree.ElementTree import parse\n",
        "\n",
        "u = urlopen('http://planet.python.org/rss20.xml')\n",
        "doc = parse(u)\n",
        "# Extracts the tags of interest\n",
        "for item in doc.iterfind('channel/item'):\n",
        "  title = item.findtext('title')\n",
        "  date = item.findtext('pubDate')\n",
        "  print(title, date)"
      ],
      "metadata": {
        "id": "e7GiSw4qhiAZ",
        "colab": {
          "base_uri": "https://localhost:8080/"
        },
        "outputId": "c95e3186-dcb5-4188-993f-e610b701dc20"
      },
      "execution_count": 53,
      "outputs": [
        {
          "output_type": "stream",
          "name": "stdout",
          "text": [
            "Daniel Roy Greenfeld: TIL: Undecorating a functools.wraps decorated function Thu, 27 Feb 2025 08:25:43 +0000\n",
            "Sebastian Pölsterl: scikit-survival 0.24.0 released Wed, 26 Feb 2025 21:26:45 +0000\n",
            "Real Python: How to Work With Polars LazyFrames Wed, 26 Feb 2025 14:00:00 +0000\n",
            "PyPy: PyPy v7.3.19 release Wed, 26 Feb 2025 12:00:00 +0000\n",
            "Real Python: Quiz: How to Work With Polars LazyFrames Wed, 26 Feb 2025 12:00:00 +0000\n",
            "Zato Blog: Automate Microsoft 365 Like a Pro: Skip the OAuth Headaches Wed, 26 Feb 2025 08:00:00 +0000\n",
            "Python GUIs: Which Python GUI library should you use? — Comparing the Python GUI libraries available in 2025 Wed, 26 Feb 2025 06:00:00 +0000\n",
            "Ahmed Bouchefra: Python 3.13 in 2025 Breakthroughs: No-GIL, JIT, and iOS Support Explained Wed, 26 Feb 2025 00:00:00 +0000\n",
            "PyCoder’s Weekly: Issue #670: pyproject.toml, DuckDB, Flet, and More (Feb. 25, 2025) Tue, 25 Feb 2025 19:30:00 +0000\n",
            "Real Python: Single and Double Underscore Naming Conventions in Python Tue, 25 Feb 2025 14:00:00 +0000\n",
            "PyPy: Low Overhead Allocation Sampling with VMProf in PyPy's GC Tue, 25 Feb 2025 10:16:00 +0000\n",
            "Python Insider: Python 3.14.0 alpha 4 is out Tue, 25 Feb 2025 06:50:29 +0000\n",
            "Łukasz Langa: A peek into a possible future of Python in the browser Mon, 24 Feb 2025 19:03:00 +0000\n",
            "Real Python: How to Use sorted() and .sort() in Python Mon, 24 Feb 2025 14:00:00 +0000\n",
            "Real Python: Quiz: How to Use sorted() and .sort() in Python Mon, 24 Feb 2025 12:00:00 +0000\n",
            "DataWars.io: 7 free Machine Learning projects to practice using Python | DataWars Mon, 24 Feb 2025 09:25:44 +0000\n",
            "Django Weblog: Call for Proposals for DjangoCon Africa 2025 is now open! Mon, 24 Feb 2025 09:05:03 +0000\n",
            "Talk Python to Me: #495: OSMnx: Python and OpenStreetMap Mon, 24 Feb 2025 08:00:00 +0000\n",
            "Python Bytes: #421 22 years old Mon, 24 Feb 2025 08:00:00 +0000\n",
            "Real Python: The Real Python Podcast – Episode #240: Telling Effective Stories With Your Python Visualizations Fri, 21 Feb 2025 12:00:00 +0000\n",
            "Talk Python to Me: #494: Update on Flet: Python + Flutter UIs Fri, 21 Feb 2025 08:00:00 +0000\n",
            "Python Morsels: Multiline strings Fri, 21 Feb 2025 04:48:51 +0000\n",
            "PyBites: NLP Made Easy: How We Prioritize Exercise Improvements with a Few Lines of Code Thu, 20 Feb 2025 10:05:15 +0000\n",
            "Armin Ronacher: Ugly Code and Dumb Things Thu, 20 Feb 2025 00:00:00 +0000\n",
            "Real Python: How to Manage Python Projects With pyproject.toml Wed, 19 Feb 2025 14:00:00 +0000\n"
          ]
        }
      ]
    },
    {
      "cell_type": "markdown",
      "source": [
        "**<font color=\"#1589FF\">Create XML from dictionary</font>**"
      ],
      "metadata": {
        "id": "WKaScfOjhpB7"
      }
    },
    {
      "cell_type": "code",
      "source": [
        "# Creates an XML file based on a dictionary\n",
        "from xml.etree.ElementTree import Element, tostring\n",
        "import xml.etree.ElementTree as ET\n",
        "\n",
        "def dict_to_xml(tag, d):\n",
        "  elem = Element(tag)\n",
        "  for key, val in d.items():\n",
        "    child = Element(key)\n",
        "    child.text = val\n",
        "    elem.append(child)\n",
        "  return elem\n",
        "\n",
        "s = {'firstName': 'Maria', 'lastName': 'Popescu', 'age':'19'}\n",
        "e = dict_to_xml('date', s)\n",
        "\n",
        "print(tostring(e))"
      ],
      "metadata": {
        "colab": {
          "base_uri": "https://localhost:8080/"
        },
        "id": "lhIHPP4dhqVY",
        "outputId": "d1f1c1ce-2cbc-458b-df4f-2201feec4515"
      },
      "execution_count": 54,
      "outputs": [
        {
          "output_type": "stream",
          "name": "stdout",
          "text": [
            "b'<date><firstName>Maria</firstName><lastName>Popescu</lastName><age>19</age></date>'\n"
          ]
        }
      ]
    },
    {
      "cell_type": "markdown",
      "source": [
        "###<font color=\"#e8710a\">Logging files</font>\n",
        "\n",
        "For any application with multiple users and that needs to be continuously available, it is important to save logs of it and any errors that may occur. In Python, we have the `logging` package available for this facility:\n"
      ],
      "metadata": {
        "id": "TYPE4-dXghQF"
      }
    },
    {
      "cell_type": "code",
      "source": [
        "import logging\n",
        "# We make sure that we do not have other paths set for logs\n",
        "for handler in logging.root.handlers[:]:\n",
        "    logging.root.removeHandler(handler)\n",
        "\n",
        "# We configure the logger to write to the app.log file\n",
        "# the information in this file is written continuously without deleting existing info\n",
        "# and we set the level of saving the logs to the lowest, DEBUG\n",
        "logging.basicConfig(filename='app.log', level=logging.DEBUG)"
      ],
      "metadata": {
        "id": "6sIQRToZgfrA"
      },
      "execution_count": 55,
      "outputs": []
    },
    {
      "cell_type": "code",
      "source": [
        "# Saves logs\n",
        "logging.critical('Cannot access the application')\n",
        "logging.error('File not found')\n",
        "logging.warning('Feature deprecated')\n",
        "filename = \"input.txt\"\n",
        "logging.info('The file %s was opened', filename)\n",
        "logging.debug('We arrived here!')"
      ],
      "metadata": {
        "id": "2My_Dic9gnuI"
      },
      "execution_count": 56,
      "outputs": []
    },
    {
      "cell_type": "code",
      "source": [
        "# Shows the content\n",
        "with open('app.log') as f:\n",
        "  print(f.read())"
      ],
      "metadata": {
        "colab": {
          "base_uri": "https://localhost:8080/"
        },
        "id": "sDSKQ-I-CiSG",
        "outputId": "1f6b0f02-11a1-4506-8517-68d19fa5eccf"
      },
      "execution_count": 57,
      "outputs": [
        {
          "output_type": "stream",
          "name": "stdout",
          "text": [
            "CRITICAL:root:Cannot access the application\n",
            "ERROR:root:File not found\n",
            "WARNING:root:Feature deprecated\n",
            "INFO:root:The file input.txt was opened\n",
            "DEBUG:root:We arrived here!\n",
            "\n"
          ]
        }
      ]
    },
    {
      "cell_type": "markdown",
      "source": [
        "If you rerun the cells above, you will notice that the log messages will be written one after the other."
      ],
      "metadata": {
        "id": "NoY_IiNhDEDb"
      }
    },
    {
      "cell_type": "markdown",
      "source": [
        "###<font color=\"#e8710a\">Configuration files</font>\n",
        "\n",
        "Configuration files (.ini) represent simple text files with a series of standard demarcations inside which adaptations of certain parameters of the application can be made, without the need for intervention in the code. Most of the time, these files are automatically modified during installation with data regarding, for example, the path to the application and its dependencies, the operating system, the license, etc.\n",
        "\n",
        "Configuration files have no other purpose than to allow the application to run as well as possible on the client's machine and are usually read every time the application is launched.\n",
        "\n",
        "If such files are used for the developed application, it is necessary that the information in them be brought into the code. This can be done in Python using the `configparser` package. We first create such a file and then parse it:"
      ],
      "metadata": {
        "id": "HtlLuSn6gJDK"
      }
    },
    {
      "cell_type": "code",
      "source": [
        "%%writefile config.ini\n",
        ";config.ini\n",
        "[installation]\n",
        "library=%(prefix)s/lib\n",
        "include=%(prefix)s/include\n",
        "bin=%(prefix)s/bin\n",
        "prefix=/usr/local\n",
        "[debug]\n",
        "log_errors=true\n",
        "show_warnings=False\n",
        "[server]\n",
        "port: 8080\n",
        "nworkers: 32\n",
        "pid-file=/tmp/spam.pid\n",
        "root=/www/root"
      ],
      "metadata": {
        "colab": {
          "base_uri": "https://localhost:8080/"
        },
        "id": "rDAIfFq7XUKK",
        "outputId": "8ac396ad-9e75-454d-8290-167c54557e74"
      },
      "execution_count": 58,
      "outputs": [
        {
          "output_type": "stream",
          "name": "stdout",
          "text": [
            "Writing config.ini\n"
          ]
        }
      ]
    },
    {
      "cell_type": "code",
      "source": [
        "# Parses the file created above\n",
        "from configparser import ConfigParser\n",
        "cfg = ConfigParser()\n",
        "cfg.read('config.ini')"
      ],
      "metadata": {
        "colab": {
          "base_uri": "https://localhost:8080/"
        },
        "id": "9nc9BPI9gIRZ",
        "outputId": "d4deb608-ca5b-4f26-a0c5-6e0b79e50bf2"
      },
      "execution_count": 59,
      "outputs": [
        {
          "output_type": "execute_result",
          "data": {
            "text/plain": [
              "['config.ini']"
            ]
          },
          "metadata": {},
          "execution_count": 59
        }
      ]
    },
    {
      "cell_type": "code",
      "source": [
        "# Determines the sections of this file\n",
        "cfg.sections()"
      ],
      "metadata": {
        "colab": {
          "base_uri": "https://localhost:8080/"
        },
        "id": "jpIzKA0sgSWE",
        "outputId": "64747245-97d5-4fab-ffc8-17c46de9c66c"
      },
      "execution_count": 60,
      "outputs": [
        {
          "output_type": "execute_result",
          "data": {
            "text/plain": [
              "['installation', 'debug', 'server']"
            ]
          },
          "metadata": {},
          "execution_count": 60
        }
      ]
    },
    {
      "cell_type": "code",
      "source": [
        "# Extracts from the installation section, the value of the library parameter\n",
        "cfg.get('installation','library')"
      ],
      "metadata": {
        "colab": {
          "base_uri": "https://localhost:8080/",
          "height": 35
        },
        "id": "ADCGxnmUgUcC",
        "outputId": "b147d8f7-d8d6-4ce7-ba75-8214b719fbf6"
      },
      "execution_count": 61,
      "outputs": [
        {
          "output_type": "execute_result",
          "data": {
            "text/plain": [
              "'/usr/local/lib'"
            ],
            "application/vnd.google.colaboratory.intrinsic+json": {
              "type": "string"
            }
          },
          "metadata": {},
          "execution_count": 61
        }
      ]
    },
    {
      "cell_type": "code",
      "source": [
        "# Extracts from the debug section the value of the log_errors parameter\n",
        "cfg.getboolean('debug','log_errors')"
      ],
      "metadata": {
        "id": "Zpx2lfDbgVm1",
        "colab": {
          "base_uri": "https://localhost:8080/"
        },
        "outputId": "788ae185-127c-4797-ce8b-c5f308095fd8"
      },
      "execution_count": 62,
      "outputs": [
        {
          "output_type": "execute_result",
          "data": {
            "text/plain": [
              "True"
            ]
          },
          "metadata": {},
          "execution_count": 62
        }
      ]
    },
    {
      "cell_type": "markdown",
      "source": [
        "In some cases it is necessary that these configuration files can be modified from the application, and for this we have the `set()` function available:"
      ],
      "metadata": {
        "id": "ertO39cXgZwe"
      }
    },
    {
      "cell_type": "code",
      "source": [
        "# Modifies the port parameter from the server section\n",
        "cfg.set('server','port','9000')"
      ],
      "metadata": {
        "id": "sWBfiqc5gb8K"
      },
      "execution_count": 63,
      "outputs": []
    },
    {
      "cell_type": "code",
      "source": [
        "# Modifies the log_errors parameter from the debug section\n",
        "cfg.set('debug','log_errors','False')"
      ],
      "metadata": {
        "id": "7SwTTA0Agcfr"
      },
      "execution_count": 64,
      "outputs": []
    },
    {
      "cell_type": "code",
      "source": [
        "# Displays the modifications in stdout\n",
        "import sys\n",
        "cfg.write(sys.stdout)"
      ],
      "metadata": {
        "id": "_uk_L94Agd4g",
        "colab": {
          "base_uri": "https://localhost:8080/"
        },
        "outputId": "07b27323-1a2c-4cf5-9503-ac78a0315ea0"
      },
      "execution_count": 65,
      "outputs": [
        {
          "output_type": "stream",
          "name": "stdout",
          "text": [
            "[installation]\n",
            "library = %(prefix)s/lib\n",
            "include = %(prefix)s/include\n",
            "bin = %(prefix)s/bin\n",
            "prefix = /usr/local\n",
            "\n",
            "[debug]\n",
            "log_errors = False\n",
            "show_warnings = False\n",
            "\n",
            "[server]\n",
            "port = 9000\n",
            "nworkers = 32\n",
            "pid-file = /tmp/spam.pid\n",
            "root = /www/root\n",
            "\n"
          ]
        }
      ]
    },
    {
      "cell_type": "markdown",
      "source": [
        "##<font color=\"#e8710a\">Working with databases</font>\n",
        "\n",
        "Although Python is not a language recognized for the efficiency of working with databases, connections to databases of type [SQLite](https://www.sqlite.org/index.html) can be made using the `sqlite3` package:"
      ],
      "metadata": {
        "id": "uPU4y9Woh0eo"
      }
    },
    {
      "cell_type": "code",
      "source": [
        "import sqlite3\n",
        "# Connects to the database and creates the cursor\n",
        "db = sqlite3.connect('database.db')\n",
        "c = db.cursor()\n",
        "# Creates a new table\n",
        "c.execute('create table example (lastName, firstName, grade)')\n",
        "db.commit()"
      ],
      "metadata": {
        "id": "NeHKsy4hhy0U"
      },
      "execution_count": 66,
      "outputs": []
    },
    {
      "cell_type": "code",
      "source": [
        "# Defines the data we want to enter in the table\n",
        "values = [\n",
        "  ('Pop', 'Ionut', 10),\n",
        "  ('Popescu', 'Maria', 9),\n",
        "  ('Ionescu', 'George', 9),\n",
        "  ('Ivan', 'Elena', 10),\n",
        "]\n",
        "\n",
        "# Enters the values in the table\n",
        "c.executemany('insert into example values (?,?,?)', values)\n",
        "db.commit()"
      ],
      "metadata": {
        "id": "WwUptBuLh7iC"
      },
      "execution_count": 67,
      "outputs": []
    },
    {
      "cell_type": "code",
      "source": [
        "# Extracts all the rows from the table\n",
        "for row in db.execute('select * from example'):\n",
        "  print(row)"
      ],
      "metadata": {
        "colab": {
          "base_uri": "https://localhost:8080/"
        },
        "id": "dQNi3ygviBq9",
        "outputId": "25952620-2fbe-4736-b19b-eb0bec862544"
      },
      "execution_count": 68,
      "outputs": [
        {
          "output_type": "stream",
          "name": "stdout",
          "text": [
            "('Pop', 'Ionut', 10)\n",
            "('Popescu', 'Maria', 9)\n",
            "('Ionescu', 'George', 9)\n",
            "('Ivan', 'Elena', 10)\n"
          ]
        }
      ]
    },
    {
      "cell_type": "code",
      "source": [
        "# Extracts the rows from the table where the grade is greater than 9\n",
        "min_grade = 9\n",
        "for row in db.execute('select * from example where grade > ?',(min_grade,)):\n",
        "  print(row)"
      ],
      "metadata": {
        "id": "6TihAANNiEeI",
        "colab": {
          "base_uri": "https://localhost:8080/"
        },
        "outputId": "20ee1a24-0fc2-4571-84ea-04721c23695f"
      },
      "execution_count": 69,
      "outputs": [
        {
          "output_type": "stream",
          "name": "stdout",
          "text": [
            "('Pop', 'Ionut', 10)\n",
            "('Ivan', 'Elena', 10)\n"
          ]
        }
      ]
    },
    {
      "cell_type": "markdown",
      "source": [
        "##<font color=\"#e8710a\">Regular expressions (regex)</font>\n",
        "\n",
        "Regular expressions are an extremely powerful mechanism for identifying patterns in strings of characters. They have a specific syntax through which you can specify, for example, sets of characters, the number of characters to search for, ways to represent characters, etc. More information can be found at [this link](https://developers.google.com/edu/python/regular-expressions).\n",
        "\n",
        "In Python, we can use regular expressions through the `re` package:"
      ],
      "metadata": {
        "id": "hpOxZB-XiIYd"
      }
    },
    {
      "cell_type": "code",
      "source": [
        "import re\n",
        "\n",
        "# Identifies the sequence \"example:\" followed by any 3 characters\n",
        "str = 'An example:ana!!'\n",
        "match = re.search(r'example:\\w\\w\\w', str)\n",
        "# If the sequence is found it will be available as a result of the group() method\n",
        "if match:\n",
        "  print('I found:', match.group())\n",
        "else:\n",
        "  print('The string was not found.')"
      ],
      "metadata": {
        "colab": {
          "base_uri": "https://localhost:8080/"
        },
        "id": "hgWW73OmRVEy",
        "outputId": "e2c2bf25-342a-422b-d1fa-68e25a38978b"
      },
      "execution_count": 70,
      "outputs": [
        {
          "output_type": "stream",
          "name": "stdout",
          "text": [
            "I found: example:ana\n"
          ]
        }
      ]
    },
    {
      "cell_type": "code",
      "source": [
        "# Identifies the group of letters \"nnn\"\n",
        "match = re.search(r'nnn', 'annna')\n",
        "match.group()"
      ],
      "metadata": {
        "colab": {
          "base_uri": "https://localhost:8080/",
          "height": 35
        },
        "id": "WKs9vz9maUIC",
        "outputId": "365ac6ef-f1c5-4d2c-97db-9afa9f51b873"
      },
      "execution_count": 71,
      "outputs": [
        {
          "output_type": "execute_result",
          "data": {
            "text/plain": [
              "'nnn'"
            ],
            "application/vnd.google.colaboratory.intrinsic+json": {
              "type": "string"
            }
          },
          "metadata": {},
          "execution_count": 71
        }
      ]
    },
    {
      "cell_type": "code",
      "source": [
        "# Identifies any two characters followed by the letter g\n",
        "match = re.search(r'..a', 'annna')\n",
        "match.group()"
      ],
      "metadata": {
        "id": "05vkbPUJafoC",
        "colab": {
          "base_uri": "https://localhost:8080/",
          "height": 35
        },
        "outputId": "58f80733-d48b-4ffc-99aa-4766f38fee39"
      },
      "execution_count": 72,
      "outputs": [
        {
          "output_type": "execute_result",
          "data": {
            "text/plain": [
              "'nna'"
            ],
            "application/vnd.google.colaboratory.intrinsic+json": {
              "type": "string"
            }
          },
          "metadata": {},
          "execution_count": 72
        }
      ]
    },
    {
      "cell_type": "code",
      "source": [
        "# Identifies the first digit in the string (if any)\n",
        "match = re.search(r'[0-9]', 'a123n456a')\n",
        "match.group()"
      ],
      "metadata": {
        "id": "26p56uSpcCxW",
        "colab": {
          "base_uri": "https://localhost:8080/",
          "height": 35
        },
        "outputId": "713a013c-62b6-4603-bdc8-b6bd6b805440"
      },
      "execution_count": 73,
      "outputs": [
        {
          "output_type": "execute_result",
          "data": {
            "text/plain": [
              "'1'"
            ],
            "application/vnd.google.colaboratory.intrinsic+json": {
              "type": "string"
            }
          },
          "metadata": {},
          "execution_count": 73
        }
      ]
    },
    {
      "cell_type": "code",
      "source": [
        "# Identifies all digits\n",
        "re.findall(r'[0-9]', 'a123n456a')"
      ],
      "metadata": {
        "id": "0nsExqEKahf9",
        "colab": {
          "base_uri": "https://localhost:8080/"
        },
        "outputId": "003b4ca2-3742-4b10-8981-636241b406d1"
      },
      "execution_count": 74,
      "outputs": [
        {
          "output_type": "execute_result",
          "data": {
            "text/plain": [
              "['1', '2', '3', '4', '5', '6']"
            ]
          },
          "metadata": {},
          "execution_count": 74
        }
      ]
    },
    {
      "cell_type": "code",
      "source": [
        "## Identifies the character a followed by any number of consecutive letters n (minimum 1)\n",
        "match = re.search(r'an+', 'annna')\n",
        "match.group()"
      ],
      "metadata": {
        "id": "l1fZKh06RiBe",
        "colab": {
          "base_uri": "https://localhost:8080/",
          "height": 35
        },
        "outputId": "af9c464c-03d7-4c13-f44b-8902c310b585"
      },
      "execution_count": 75,
      "outputs": [
        {
          "output_type": "execute_result",
          "data": {
            "text/plain": [
              "'annn'"
            ],
            "application/vnd.google.colaboratory.intrinsic+json": {
              "type": "string"
            }
          },
          "metadata": {},
          "execution_count": 75
        }
      ]
    },
    {
      "cell_type": "code",
      "source": [
        "# Searches for email addresses\n",
        "str = 'The e-mail address adriana@utcluj.ro '\n",
        "match = re.search(r'[a-z-]+@[a-z\\.]+', str)\n",
        "match.group()"
      ],
      "metadata": {
        "id": "Gq1ElofkRk8c",
        "colab": {
          "base_uri": "https://localhost:8080/",
          "height": 35
        },
        "outputId": "9b3e9916-aa75-4e82-8799-fa98dc428d5b"
      },
      "execution_count": 76,
      "outputs": [
        {
          "output_type": "execute_result",
          "data": {
            "text/plain": [
              "'adriana@utcluj.ro'"
            ],
            "application/vnd.google.colaboratory.intrinsic+json": {
              "type": "string"
            }
          },
          "metadata": {},
          "execution_count": 76
        }
      ]
    },
    {
      "cell_type": "markdown",
      "source": [
        "---\n",
        "\n",
        "##<font color=\"#e8710a\">Conclusions</font>\n",
        "\n",
        "In this tutorial we tried to introduce as many essential details of the use of basic instructions in the Python language. In the next tutorial we will extend the use of these instructions for creating functions and modules."
      ],
      "metadata": {
        "id": "CYUpjJ3747l2"
      }
    },
    {
      "cell_type": "markdown",
      "source": [
        "---\n",
        "\n",
        "##<font color=\"#1589FF\"> Exercises</font>\n",
        "\n",
        "1) Create a file containing weather information in the form: location, average_temperature, average_precipitation. Read the information from it and display only the locations for which the temperature is greater than 20 degrees. Write to another file the locations for which the average rainfall is less than 10 l/m2.\n"
      ],
      "metadata": {
        "id": "K8N2GAPyycLv"
      }
    },
    {
      "cell_type": "code",
      "source": [
        "## SOLUTION EX. 1"
      ],
      "metadata": {
        "id": "90LOyVkBD6E1"
      },
      "execution_count": 77,
      "outputs": []
    },
    {
      "cell_type": "markdown",
      "source": [
        "2) Determine the complete list of directories and files in the current directory. Display it sorted alphabetically.\n"
      ],
      "metadata": {
        "id": "iFhOJor7AJ1l"
      }
    },
    {
      "cell_type": "code",
      "source": [
        "## SOLUTION EX. 2"
      ],
      "metadata": {
        "id": "YGTWwPiZALTl"
      },
      "execution_count": 78,
      "outputs": []
    },
    {
      "cell_type": "markdown",
      "source": [
        "3) Use a temporary file in which to write the values ​​of the Fibonacci sequence one by one. Use a large value for the number of elements. Read the file and display the elements from the Fibonacci sequence in reverse order."
      ],
      "metadata": {
        "id": "DZm9FWd6ANMr"
      }
    },
    {
      "cell_type": "code",
      "source": [
        "## SOLUTION EX. 3"
      ],
      "metadata": {
        "id": "Lv9w02hDAN5J"
      },
      "execution_count": 79,
      "outputs": []
    },
    {
      "cell_type": "markdown",
      "source": [
        "4) Write a regular expression that identifies web addresses of the form `www.example.com/index.html`."
      ],
      "metadata": {
        "id": "90SHWiY7AO2d"
      }
    },
    {
      "cell_type": "code",
      "source": [
        "## SOLUTION EX. 4"
      ],
      "metadata": {
        "id": "rFEU7IXqAPcI"
      },
      "execution_count": 80,
      "outputs": []
    },
    {
      "cell_type": "markdown",
      "source": [
        "5) In Google Colab, in the current virtual machine there is a directory `sample_data/` containing the file `california_housing_train.csv`. Read the contents of the file and display the number of entries in it."
      ],
      "metadata": {
        "id": "Sf9jFuFSAQdB"
      }
    },
    {
      "cell_type": "code",
      "source": [
        "## SOLUTION EX. 5"
      ],
      "metadata": {
        "id": "oUzZYQdzARQE"
      },
      "execution_count": 81,
      "outputs": []
    },
    {
      "cell_type": "markdown",
      "source": [
        "6) Search online for an API that responds in JSON format. Call the API and display the parsed result."
      ],
      "metadata": {
        "id": "z17deA8TAU8h"
      }
    },
    {
      "cell_type": "code",
      "source": [
        "## SOLUTION EX. 6"
      ],
      "metadata": {
        "id": "Jh3szVleASp1"
      },
      "execution_count": 82,
      "outputs": []
    },
    {
      "cell_type": "markdown",
      "source": [
        "## Additional references\n",
        "\n",
        "1. Access to web resources through the `urllib` module: https://docs.python.org/3/howto/urllib2.html\n",
        "#\n"
      ],
      "metadata": {
        "id": "zR0rQ9pzyfgP"
      }
    }
  ]
}