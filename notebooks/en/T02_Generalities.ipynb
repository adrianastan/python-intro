{
  "cells": [
    {
      "cell_type": "markdown",
      "metadata": {
        "id": "Ap97Lc3Ug_Gy"
      },
      "source": [
        "<img src='https://upload.wikimedia.org/wikipedia/commons/c/c3/Python-logo-notext.svg' width=50/>\n",
        "<img src='https://upload.wikimedia.org/wikipedia/commons/d/d0/Google_Colaboratory_SVG_Logo.svg' width=70/>\n",
        "\n",
        "# <font size=50>Introduction to Python using Google Colab</font>\n",
        "<font color=\"#e8710a\">© Adriana STAN, David COMBEI, 2025</font>\n",
        "\n",
        "<font color=\"#e8710a\">Contributor: Gabriel ERDEI </font>\n",
        "\n",
        "[![Open In Colab](https://colab.research.google.com/assets/colab-badge.svg)](https://colab.research.google.com/github/adrianastan/python-intro/blob/main/notebooks/en/T02_Generalities.ipynb)\n",
        "\n"
      ]
    },
    {
      "cell_type": "markdown",
      "metadata": {
        "id": "-uK2brrdb8N9"
      },
      "source": [
        "# <font color=\"#e8710a\">T02. General Aspects of the Language. Development Environment.</font>\n",
        "\n",
        "---\n",
        "<font color=\"#1589FF\"><b>Estimated Completion Time:</b> 60 min</font>\n",
        "\n",
        "---\n",
        "\n",
        "\n"
      ]
    },
    {
      "cell_type": "markdown",
      "metadata": {
        "id": "yGNVyNY0cto0"
      },
      "source": [
        "## <font color=\"#e8710a\">Python Language. Overview.</font>\n",
        "\n",
        "**<font color=\"#1589FF\">History.</font>**\n",
        "\n",
        "The [Python](https://www.python.org/) language was developed by Guido van Rossum at the Centrum Wiskunde & Informatica (CWI) in the Netherlands. Python emerged as a successor to the [ABC](https://en.wikipedia.org/wiki/ABC_(programming_language)) language, and its first version was released on February 20, 1991.\n",
        "\n",
        "In the meantime, two other [major versions](https://www.python.org/downloads/) have been released:\n",
        "\n",
        "*   Python 2.0 - October 16, 2000\n",
        "*   Python 3.0 - December 3, 2008\n",
        "\n",
        "Starting from January 2020, version 2.0 is no longer supported by the development team. The current version is 3.13, and the most widely used implementation is [CPython](https://en.wikipedia.org/wiki/CPython).\n",
        "\n",
        "We can display the version used by the interpreter as follows:\n"
      ]
    },
    {
      "cell_type": "code",
      "execution_count": 1,
      "metadata": {
        "colab": {
          "base_uri": "https://localhost:8080/"
        },
        "id": "DrBEXY5TFA0K",
        "outputId": "f8dc06fe-a7f3-4786-d96c-93a9f9d69657"
      },
      "outputs": [
        {
          "output_type": "stream",
          "name": "stdout",
          "text": [
            "3.11.11 (main, Dec  4 2024, 08:55:07) [GCC 11.4.0]\n"
          ]
        }
      ],
      "source": [
        "import sys\n",
        "print(sys.version)"
      ]
    },
    {
      "cell_type": "markdown",
      "metadata": {
        "id": "3gFCX_3ForUW"
      },
      "source": [
        "The output informs us about the version in use (3.11.11), the date it was built (December 4, 2024), and the version of the C compiler it is based on (11.4.0)."
      ]
    },
    {
      "cell_type": "markdown",
      "metadata": {
        "id": "MMZtxR9C_0gy"
      },
      "source": [
        "**<font color=\"#1589FF\">Why Python?</font>**\n",
        "\n",
        "The Python programming language emerged as a result of the need to integrate multiple programming paradigms, as well as to simplify the complex syntax used in the C/C++ language.\n",
        "\n",
        "The best description of the language can be provided by the 19 guiding principles of Tim Peters, which have shaped its development and are collectively known as *The Zen of Python*. These can be viewed by executing the command `import this`."
      ]
    },
    {
      "cell_type": "code",
      "execution_count": 2,
      "metadata": {
        "colab": {
          "base_uri": "https://localhost:8080/"
        },
        "id": "mQ3b8qTA8iPd",
        "outputId": "80843bd6-2995-4ac7-cc04-44feb86f4173"
      },
      "outputs": [
        {
          "output_type": "stream",
          "name": "stdout",
          "text": [
            "The Zen of Python, by Tim Peters\n",
            "\n",
            "Beautiful is better than ugly.\n",
            "Explicit is better than implicit.\n",
            "Simple is better than complex.\n",
            "Complex is better than complicated.\n",
            "Flat is better than nested.\n",
            "Sparse is better than dense.\n",
            "Readability counts.\n",
            "Special cases aren't special enough to break the rules.\n",
            "Although practicality beats purity.\n",
            "Errors should never pass silently.\n",
            "Unless explicitly silenced.\n",
            "In the face of ambiguity, refuse the temptation to guess.\n",
            "There should be one-- and preferably only one --obvious way to do it.\n",
            "Although that way may not be obvious at first unless you're Dutch.\n",
            "Now is better than never.\n",
            "Although never is often better than *right* now.\n",
            "If the implementation is hard to explain, it's a bad idea.\n",
            "If the implementation is easy to explain, it may be a good idea.\n",
            "Namespaces are one honking great idea -- let's do more of those!\n"
          ]
        }
      ],
      "source": [
        "import this"
      ]
    },
    {
      "cell_type": "markdown",
      "metadata": {
        "id": "xHxmH-H7XXyY"
      },
      "source": [
        "**<font color=\"#1589FF\">Why NOT Python?</font>**\n",
        "\n",
        "Although Python has numerous advantages, it is not suitable for every application. This is also due to the language's specialization towards a subset of applications, the most important being numerical computing and machine learning. Among the [disadvantages](https://www.geeksforgeeks.org/disadvantages-of-python/) of Python are:\n",
        "\n",
        "* Python is slightly slower than other programming languages due to its interpreted nature;\n",
        "* Currently, there is not extensive support for developing mobile applications;\n",
        "* It can have higher memory consumption compared to other languages;\n",
        "* Database access is cumbersome;\n",
        "* Runtime errors occur due to its interpreted nature;\n",
        "* Integrating other languages into the code is challenging;\n",
        "* The simplicity of the language can, in certain cases, result in lower quality code.\n"
      ]
    },
    {
      "cell_type": "markdown",
      "metadata": {
        "id": "C-JvgrsN_5uW"
      },
      "source": [
        "**<font color=\"#1589FF\">Language Classification and Areas of Application</font>**\n",
        "\n",
        "The Python language exhibits the following characteristics:\n",
        "\n",
        "* **Open source** - the entire language is available as open source, which means it can be distributed and used even in commercial environments without the need to purchase a developer license;\n",
        "\n",
        "* **Multi-paradigm** - it supports multiple programming paradigms, such as: object-oriented programming, procedural programming, functional programming, structured programming, and reflective programming;\n",
        "\n",
        "* **High-level** - it includes a wide range of abstractions for using the computing machine's resources, making it closer to natural human language;\n",
        "\n",
        "* **Interpreted** - Python code is not pre-compiled; each line of code is executed as it appears in the code;\n",
        "\n",
        "* **Dynamically typed** - there is no need to explicitly specify the type of an object, as it is automatically inferred from its initialization expression;\n",
        "\n",
        "* **Late binding (dynamic name resolution)** - which means that the names of functions or objects are bound to functionality or data only at runtime, not during compilation. This allows the reuse of names to refer to different elements of the code;\n",
        "\n",
        "* **Highly extensible** - Python boasts one of the largest libraries of modules and packages created by third-party programmers.\n",
        "\n",
        "Among the most important [areas of application](https://www.python.org/about/apps/) for the Python language, we can list:\n",
        "\n",
        "* Web applications using frameworks such as [Django](https://www.djangoproject.com/) or [Flask](https://palletsprojects.com/p/flask/);\n",
        "\n",
        "* Scientific or numerical applications using modules like [SciPy](https://scipy.org/) and [NumPy](https://numpy.org/);\n",
        "\n",
        "* Machine learning applications using modules like [PyTorch](https://pytorch.org/) or [TensorFlow](https://www.tensorflow.org/).\n",
        "\n",
        "A list of successful applications that use Python can be found on the [official website](https://www.python.org/success-stories/).\n"
      ]
    },
    {
      "cell_type": "markdown",
      "metadata": {
        "id": "q421bJKVd27u"
      },
      "source": [
        "### <font color=\"#e8710a\">How Does a Python Program Run?</font>\n",
        "\n",
        "**<font color=\"#1589FF\">The Python Interpreter</font>**\n",
        "\n",
        "Python code **is NOT** compiled.  \n",
        "Each line of code is executed as it appears, including the importing of external modules and the creation/calling of classes, functions, or methods.\n",
        "\n",
        "However, there is an intermediate form called *byte code*, which resides in files with the `.pyc` extension and, starting from Python 3.0, is stored in directories named `__pycache__`.\n",
        "\n",
        "To generate these intermediate representations, you can use the following command on the Python files you want to precompile:\n",
        "\n",
        "```\n",
        "python -m compileall file_1.py ... file_n.py\n",
        "```"
      ]
    },
    {
      "cell_type": "markdown",
      "metadata": {
        "id": "xS0leHeZBFI8"
      },
      "source": [
        "**<font color=\"#1589FF\">Structuring Python Code</font>**\n",
        "\n",
        "The convention for file extensions containing Python code is `.py`. In terms of a Python application's hierarchy, we have the following components:\n",
        "\n",
        "- Programs are composed of modules;\n",
        "- Modules contain statements;\n",
        "- Statements contain expressions;\n",
        "- Expressions create and process objects;\n",
        "- Multiple modules can be grouped into a package.\n",
        "\n",
        "Unlike many other commonly used programming languages, Python does not use a specific symbol to mark the end of a statement (e.g., `;`) or special symbols to denote the beginning and end of compound statements (e.g., `{}`).\n",
        "\n",
        "The way Python structures statements is based on the use of whitespace or code indentation. This means that statements at the same level will be placed at the same indentation level. The body of compound statements will be marked by an additional level of indentation, and the start of the compound statement is indicated by the use of the symbol `:`. Its end is determined by returning to the previous indentation level. For example:\n",
        "\n",
        "\n",
        "```\n",
        "if a > b:\n",
        "\tif a > c:\n",
        "\t\tprint(a)\n",
        "\telse:\n",
        "\t\tprint(c)\n",
        "else:\n",
        "\tprint(b)\n",
        "```\n",
        "\n",
        "\n",
        "It is very important that the use of whitespace is consistent, either using spaces `' '` or tabs `'\\t'`. It is [recommended](https://peps.python.org/pep-0008/) for simplicity to use spaces, typically 2 or 4 for code indentation.\n"
      ]
    },
    {
      "cell_type": "markdown",
      "metadata": {
        "id": "2e8WNi1PCkeJ"
      },
      "source": [
        "---\n",
        "\n",
        "In the following sections, the main data types, operators, and statements specific to Python will be briefly listed and will be revisited in detail in the upcoming tutorials.\n",
        "Towards the end of this tutorial, a series of concepts related to creating a virtual working environment, saving the list of dependent modules from applications, and documenting the code will also be presented."
      ]
    },
    {
      "cell_type": "markdown",
      "metadata": {
        "id": "4F8-BDnkebZ_"
      },
      "source": [
        "### <font color=\"#e8710a\">Introduction to Data Types</font>\n",
        "\n",
        "> **<font color=\"#1589FF\">In Python, all data is an OBJECT!!!</font>**.  \n",
        "\n",
        "This means that there are no fundamental data types, as in C/C++ or Java.  \n",
        "\n",
        "Another feature of the language that simplifies application development is the use of dynamic typing. Through this mechanism, the type of an object or data does not need to be specified when declaring variables. The variable type will be automatically determined based on the value it is initialized with:\n"
      ]
    },
    {
      "cell_type": "code",
      "execution_count": 3,
      "metadata": {
        "id": "6AOrb2wNDXuU"
      },
      "outputs": [],
      "source": [
        "# integer data\n",
        "a = 314\n",
        "# real data\n",
        "b = 3.14\n",
        "# string data\n",
        "c = \"Python\""
      ]
    },
    {
      "cell_type": "markdown",
      "metadata": {
        "id": "wy2T5AinEApK"
      },
      "source": [
        "Moreover, although data types are not explicitly defined, Python is a strongly typed language. This means that only operations specific to a given data type can be performed. Using an unsupported operation will be flagged by the interpreter as an error.  \n",
        "\n",
        "The following code will generate a `TypeError` because the interpreter does not know how to add the integer value `2` to the string `\"Ana\"`."
      ]
    },
    {
      "cell_type": "code",
      "execution_count": 4,
      "metadata": {
        "colab": {
          "base_uri": "https://localhost:8080/",
          "height": 162
        },
        "id": "9UQyzKNyEAIB",
        "outputId": "a66b33d5-8422-4c39-8de3-5908415dbf94"
      },
      "outputs": [
        {
          "output_type": "error",
          "ename": "TypeError",
          "evalue": "can only concatenate str (not \"int\") to str",
          "traceback": [
            "\u001b[0;31m---------------------------------------------------------------------------\u001b[0m",
            "\u001b[0;31mTypeError\u001b[0m                                 Traceback (most recent call last)",
            "\u001b[0;32m<ipython-input-4-68f083afd972>\u001b[0m in \u001b[0;36m<cell line: 0>\u001b[0;34m()\u001b[0m\n\u001b[1;32m      1\u001b[0m \u001b[0ma\u001b[0m \u001b[0;34m=\u001b[0m \u001b[0;34m\"Ana\"\u001b[0m\u001b[0;34m\u001b[0m\u001b[0;34m\u001b[0m\u001b[0m\n\u001b[0;32m----> 2\u001b[0;31m \u001b[0;34m\"Ana\"\u001b[0m \u001b[0;34m+\u001b[0m \u001b[0;36m2\u001b[0m\u001b[0;34m\u001b[0m\u001b[0;34m\u001b[0m\u001b[0m\n\u001b[0m",
            "\u001b[0;31mTypeError\u001b[0m: can only concatenate str (not \"int\") to str"
          ]
        }
      ],
      "source": [
        "a = \"Ana\"\n",
        "\"Ana\" + 2"
      ]
    },
    {
      "cell_type": "markdown",
      "metadata": {
        "id": "O2hN379sDi9E"
      },
      "source": [
        "**<font color=\"#1589FF\">Fundamental Python Data Types</font>**  \n",
        "\n",
        "Like any programming language, Python includes a set of fundamental data types, listed below, which can be extended by defining custom objects.  \n",
        "\n",
        "| Object Type | Example |\n",
        "| --- | --- |\n",
        "| Number | 1234, 3.1415, 3+4j, 0b111, Decimal(), Fraction() |\n",
        "| String | 'Ana', \"Maria\", b'a\\x01c', u'An\\xc4' |\n",
        "| List | [1, [2, 'three'], 4.5], list(range(10)) |\n",
        "| Dictionary | {'key': 'value', 'number': 3.14}, dict(key='value') |\n",
        "| Tuple | (1, 'Ana', 'c', 3.14), tuple('Ana'), namedtuple |\n",
        "| Set | set('abc'), {'a', 'b', 'c'} |\n",
        "| File | open('file.txt'), open(r'C:\\file.bin', 'wb') |\n",
        "| Other Basic Types | Boolean, bytes, bytearray, None |  \n",
        "\n",
        "An important aspect of data in Python relates to **mutability**, which represents the ability to modify an object's content:  \n",
        "\n",
        "* **Mutable objects** - their values can be modified (e.g.,  \n",
        "lists, dictionaries, and sets,  \n",
        "all objects defined in user-defined classes).  \n",
        "\n",
        "* **Immutable objects** - their values cannot be modified (e.g., int, float, complex, string, tuple, frozen set, bytes).  \n",
        "\n",
        "> **NOTE!** Before diving into more details about mutability, it is important to mention that in Python, variables are actually just references (pointers) to memory locations that store the actual data. In other words, the memory space allocated for a variable is limited to the size of a memory address, while the data (values) are stored in separate memory areas. We will revisit this concept in the next tutorial.  \n",
        "\n",
        "For immutable objects, we can assign a new value to the variable, but this results in the creation of a new object and referencing it through the variable. We can verify this behavior using the `id(Object)` function, which returns a unique identifier for each object in the code:\n"
      ]
    },
    {
      "cell_type": "code",
      "execution_count": 5,
      "metadata": {
        "colab": {
          "base_uri": "https://localhost:8080/"
        },
        "id": "588JLrIWvGOU",
        "outputId": "c0c5a113-2102-4718-b6b4-97d171b4f7ac"
      },
      "outputs": [
        {
          "output_type": "stream",
          "name": "stdout",
          "text": [
            "Address of object 3:  0xa40bc8\n",
            "Address referred by a:  0xa40bc8\n",
            "Address of object 4:  0xa40be8\n",
            "Address referred by a:  0xa40be8\n"
          ]
        }
      ],
      "source": [
        "a = 3\n",
        "print(\"Address of object 3: \", hex(id(3)))\n",
        "print(\"Address referred by a: \", hex(id(a)))\n",
        "a = 4\n",
        "print(\"Address of object 4: \", hex(id(4)))\n",
        "print(\"Address referred by a: \", hex(id(a)))"
      ]
    },
    {
      "cell_type": "markdown",
      "metadata": {
        "id": "zXA0t9XKwhwu"
      },
      "source": [
        "However, for mutable objects, the address referred to by the variable remains the same when the content of the object is modified:"
      ]
    },
    {
      "cell_type": "code",
      "execution_count": 6,
      "metadata": {
        "colab": {
          "base_uri": "https://localhost:8080/"
        },
        "id": "TXZtbjgFwhTO",
        "outputId": "10911d2a-6afc-4718-ef81-2d4c8ef33bab"
      },
      "outputs": [
        {
          "output_type": "stream",
          "name": "stdout",
          "text": [
            "Initial list: ['a', 1, 3.14]\n",
            "Initial address: 0x7d0cec77e980\n",
            "\n",
            "\n",
            "Updated list: ['b', 1, 3.14]\n",
            "Address after modification: 0x7d0cec77e980\n"
          ]
        }
      ],
      "source": [
        "# define a list of objects\n",
        "my_list = ['a', 1, 3.14]\n",
        "print(\"Initial list:\", my_list)\n",
        "print(\"Initial address:\", hex(id(my_list)))\n",
        "\n",
        "# modify the first element in the list\n",
        "my_list[0] = 'b'\n",
        "print(\"\\n\")\n",
        "print(\"Updated list:\", my_list)\n",
        "print(\"Address after modification:\", hex(id(my_list)))"
      ]
    },
    {
      "cell_type": "markdown",
      "metadata": {
        "id": "D0lkIJsCFY_L"
      },
      "source": [
        "**<font color=\"#1589FF\">Implicit Methods Associated with Objects</font>**\n",
        "\n",
        "Fundamental data types have a number of *implicit methods* associated with them.  \n",
        "To find out the methods associated with an object, we can use the function:  \n",
        "`dir(Object)`\n"
      ]
    },
    {
      "cell_type": "code",
      "execution_count": 7,
      "metadata": {
        "colab": {
          "base_uri": "https://localhost:8080/",
          "height": 125
        },
        "id": "sNSFAfj4eWOh",
        "outputId": "a88ac50f-bd23-41b9-8ad6-666c0050250f"
      },
      "outputs": [
        {
          "output_type": "execute_result",
          "data": {
            "text/plain": [
              "'__add__ __class__ __contains__ __delattr__ __dir__ __doc__ __eq__ __format__ __ge__ __getattribute__ __getitem__ __getnewargs__ __getstate__ __gt__ __hash__ __init__ __init_subclass__ __iter__ __le__ __len__ __lt__ __mod__ __mul__ __ne__ __new__ __reduce__ __reduce_ex__ __repr__ __rmod__ __rmul__ __setattr__ __sizeof__ __str__ __subclasshook__ capitalize casefold center count encode endswith expandtabs find format format_map index isalnum isalpha isascii isdecimal isdigit isidentifier islower isnumeric isprintable isspace istitle isupper join ljust lower lstrip maketrans partition removeprefix removesuffix replace rfind rindex rjust rpartition rsplit rstrip split splitlines startswith strip swapcase title translate upper zfill'"
            ],
            "application/vnd.google.colaboratory.intrinsic+json": {
              "type": "string"
            }
          },
          "metadata": {},
          "execution_count": 7
        }
      ],
      "source": [
        "S = \"abc\"\n",
        "# To optimize space, the list of methods has been concatenated\n",
        "# with whitespace. dir(S) can also be used directly.\n",
        "' '.join(dir(S))"
      ]
    },
    {
      "cell_type": "markdown",
      "metadata": {
        "id": "m6BCLY9EfKwc"
      },
      "source": [
        "Implicit methods, as well as user-created ones, usually have associated usage documentation.  \n",
        "This documentation can be accessed using the function:  \n",
        "`help(Object.method)`"
      ]
    },
    {
      "cell_type": "code",
      "execution_count": 8,
      "metadata": {
        "colab": {
          "base_uri": "https://localhost:8080/"
        },
        "id": "FvVZn0tmbtyk",
        "outputId": "36bfd001-c94e-4080-b829-205891c1eb8e"
      },
      "outputs": [
        {
          "output_type": "stream",
          "name": "stdout",
          "text": [
            "Help on built-in function replace:\n",
            "\n",
            "replace(old, new, count=-1, /) method of builtins.str instance\n",
            "    Return a copy with all occurrences of substring old replaced by new.\n",
            "    \n",
            "      count\n",
            "        Maximum number of occurrences to replace.\n",
            "        -1 (the default value) means replace all occurrences.\n",
            "    \n",
            "    If the optional argument count is given, only the first count occurrences are\n",
            "    replaced.\n",
            "\n"
          ]
        }
      ],
      "source": [
        "help(S.replace)"
      ]
    },
    {
      "cell_type": "markdown",
      "metadata": {
        "id": "hgUmI6XYfQJ5"
      },
      "source": [
        "**<font color=\"#1589FF\">Object introspection</font>**\n",
        "\n",
        "Python includes the [introspection](https://docs.python.org/3/library/inspect.html) mechanism, which allows you to determine characteristics of objects used in the code. Functions like `type(Object)`, `dir(Object)`, and `hasattr(Object)` are part of this mechanism. In future tutorials, we will see the introspection mechanism applied to functions and classes, which are also objects in Python.\n"
      ]
    },
    {
      "cell_type": "code",
      "execution_count": 9,
      "metadata": {
        "colab": {
          "base_uri": "https://localhost:8080/"
        },
        "id": "pQ9ngrGkfNFC",
        "outputId": "4bcf311f-a4f7-4048-8321-a888b2dad93b"
      },
      "outputs": [
        {
          "output_type": "stream",
          "name": "stdout",
          "text": [
            "<class 'str'>\n",
            "['__add__', '__class__', '__contains__', '__delattr__', '__dir__', '__doc__', '__eq__', '__format__', '__ge__', '__getattribute__', '__getitem__', '__getnewargs__', '__getstate__', '__gt__', '__hash__', '__init__', '__init_subclass__', '__iter__', '__le__', '__len__', '__lt__', '__mod__', '__mul__', '__ne__', '__new__', '__reduce__', '__reduce_ex__', '__repr__', '__rmod__', '__rmul__', '__setattr__', '__sizeof__', '__str__', '__subclasshook__', 'capitalize', 'casefold', 'center', 'count', 'encode', 'endswith', 'expandtabs', 'find', 'format', 'format_map', 'index', 'isalnum', 'isalpha', 'isascii', 'isdecimal', 'isdigit', 'isidentifier', 'islower', 'isnumeric', 'isprintable', 'isspace', 'istitle', 'isupper', 'join', 'ljust', 'lower', 'lstrip', 'maketrans', 'partition', 'removeprefix', 'removesuffix', 'replace', 'rfind', 'rindex', 'rjust', 'rpartition', 'rsplit', 'rstrip', 'split', 'splitlines', 'startswith', 'strip', 'swapcase', 'title', 'translate', 'upper', 'zfill']\n",
            "False\n"
          ]
        }
      ],
      "source": [
        "S = \"abc\"\n",
        "# Object type\n",
        "print(type(S))\n",
        "# List of associated methods\n",
        "print(dir(S))\n",
        "# Check if the object S has the attribute 'length'\n",
        "print(hasattr(S, 'length'))"
      ]
    },
    {
      "cell_type": "markdown",
      "metadata": {
        "id": "rWct20OSfX3T"
      },
      "source": [
        "### <font color=\"#e8710a\">Introduction to Operators</font>\n",
        "\n",
        "Operators in Python, just like in any other programming language, link data within expressions. Again, as in other programming languages, the order of execution of operators in complex expressions is given by the so-called precedence. In Python, the [precedence table](https://docs.python.org/3/reference/expressions.html) of operators is as follows:\n",
        "\n",
        "Operator | Example\n",
        "--- | ---\n",
        "(expressions...),[expressions...], {key: value...}, {expressions...} | Expressions in parentheses, association, list display, dictionaries, sets\n",
        "x[index], x[index:index], x(arguments...), x.attribute | Indexing, slicing, calling, referring to attributes\n",
        "await x | Await\n",
        "** | Exponentiation\n",
        "+x, -x, ~x | Unary operators +/- and bitwise negation\n",
        "*, @, /, //, % | Multiplication, matrix, division, integer division, modulo\n",
        "+, - | Addition and subtraction\n",
        "<<, >> | Bitwise left/right shift\n",
        "& | Bitwise AND\n",
        "^ | Bitwise XOR\n",
        "\\| | Bitwise OR\n",
        "in, not in, is, is not, <, <=, >, >=, !=, == | Comparisons, including membership and identity testing\n",
        "not x | Boolean negation\n",
        "and | Boolean AND\n",
        "or | Boolean OR\n",
        "if – else | Conditional expression\n",
        "lambda | Anonymous function (lambda)\n",
        ":= | Assignment\n"
      ]
    },
    {
      "cell_type": "markdown",
      "metadata": {
        "id": "x1prDlQRfleG"
      },
      "source": [
        "### <font color=\"#e8710a\">Introduction to Statements</font>\n",
        "\n",
        "In short, the list of available statements in Python is presented in the table below. Statements can be simple (e.g., function calls) or compound (e.g., `if/elif/else`).\n",
        "\n",
        "| Statement             | Role                                   | Example                                       |\n",
        "|-----------------------|----------------------------------------|-----------------------------------------------|\n",
        "| Assignment            | Creating references                    | a, b = 'Ana', 'Maria'                         |\n",
        "| Call and other expressions | Executing functions              | sum(3, 4)                                     |\n",
        "| Print calls           | Displaying objects                     | print(object)                                 |\n",
        "| if/elif/else          | Choosing actions                       | if True: print(text)                          |\n",
        "| for/else              | Loops                                  | for x in list: print(x)                        |\n",
        "| while/else            | Loops                                  | while x > 0: print('Hello')                   |\n",
        "| pass                  | Empty statement                        | while True: pass                              |\n",
        "| break                 | Exit from a loop                       | while True: if condition: break               |\n",
        "| continue              | Continue loop                          | while True: if condition: continue            |\n",
        "| def                   | Functions and methods                  | def sum(a, b): print(a+b)                       |\n",
        "| return                | Returning from functions               | def sum(a, b): return a+b                       |\n",
        "| yield                 | Generator functions                    | def gen(n): for i in n: yield i*2              |\n",
        "| global                | Namespaces                             | global x, y; x = 'a'                           |\n",
        "| nonlocal              | Namespaces (3.x)                       | nonlocal x; x = 'a'                            |\n",
        "| import                | Import modules                         | import sys                                     |\n",
        "| from                  | Access components of a module          | from module import Class                       |\n",
        "| class                 | Defining object classes                | class C(A, B):                                 |\n",
        "| try/except/finally    | Catching exceptions                    | try: action; except: print('Exception')         |\n",
        "| raise                 | Throwing exceptions                    | raise Exception                                |\n",
        "| assert                | Assertions                             | assert X > 0, 'X is negative'                  |\n",
        "| with/as               | Context manager (3.X, 2.6+)            | with open('file') as f: pass                   |\n",
        "| del                   | Deleting references                    | del obj                                      |\n"
      ]
    },
    {
      "cell_type": "markdown",
      "metadata": {
        "id": "lUXCjI8fJyNu"
      },
      "source": [
        "---\n",
        "\n",
        "We will return to the topics of data types, operators, and instructions with more details in the following tutorials. Now, let's move on to the area of organizing the working environment for Python applications and using the standard library and documentation.\n"
      ]
    },
    {
      "cell_type": "markdown",
      "metadata": {
        "id": "vuNnVAKsgFbT"
      },
      "source": [
        "## <font color=\"#e8710a\">Organizing the Python Workspace</font>\n",
        "\n",
        "### <font color=\"#e8710a\">Packages and Modules</font>\n",
        "\n",
        "Writing Python code outside interactive programming environments such as Google Colab is done in files with the `.py` extension. A file containing Python code is called a *module*. A module will contain data instantiations and statements.\n",
        "\n",
        "For example, we can create such a module directly in Colab using [IPython magic functions](https://ipython.readthedocs.io/en/stable/interactive/magics.html). The code below will create a file in the current virtual machine named `module.py`.\n"
      ]
    },
    {
      "cell_type": "code",
      "execution_count": 10,
      "metadata": {
        "colab": {
          "base_uri": "https://localhost:8080/"
        },
        "id": "PqYhBrqZ2Edv",
        "outputId": "e340577b-752f-4624-e8df-835a7190615b"
      },
      "outputs": [
        {
          "output_type": "stream",
          "name": "stdout",
          "text": [
            "Overwriting modul.py\n"
          ]
        }
      ],
      "source": [
        "%%writefile modul.py\n",
        "a = 3\n",
        "b = 7\n",
        "for i in range(5):\n",
        "    print(i)"
      ]
    },
    {
      "cell_type": "markdown",
      "metadata": {
        "id": "Ozfl0HkC2RGl"
      },
      "source": [
        "This module was written in the current Colab session and can be viewed by selecting the `Files` tab from the left menu bar of the notebook.\n",
        "\n",
        "<center><img src='https://raw.githubusercontent.com/adrianastan/python-intro/main/notebooks/ro/imgs/T01_files.png' height=200/></center>\n",
        "\n",
        "Now we can import the content of this module into the current notebook:\n"
      ]
    },
    {
      "cell_type": "code",
      "execution_count": 11,
      "metadata": {
        "colab": {
          "base_uri": "https://localhost:8080/"
        },
        "id": "AboWP4ZM3sbe",
        "outputId": "7d2509cd-ac29-492b-fbfd-4424a99fc374"
      },
      "outputs": [
        {
          "output_type": "stream",
          "name": "stdout",
          "text": [
            "0\n",
            "1\n",
            "2\n",
            "3\n",
            "4\n"
          ]
        }
      ],
      "source": [
        "import modul"
      ]
    },
    {
      "cell_type": "markdown",
      "metadata": {
        "id": "GYjtm8zH4L6T"
      },
      "source": [
        "At import, the code that is accessible outside classes or functions is executed automatically.\n",
        "\n",
        "A module is a set of identifiers, also called a *namespace*, and the identifiers in the module are referred to as *attributes*.  \n",
        "After import, we can also use the values of the module's attributes `a` and `b`:\n"
      ]
    },
    {
      "cell_type": "code",
      "execution_count": 12,
      "metadata": {
        "colab": {
          "base_uri": "https://localhost:8080/"
        },
        "id": "aTgC4suw4LKS",
        "outputId": "c1a650b7-6145-4be0-ee80-3334f7889074"
      },
      "outputs": [
        {
          "output_type": "stream",
          "name": "stdout",
          "text": [
            "10\n"
          ]
        }
      ],
      "source": [
        "notebook_a = modul.a\n",
        "notebook_b = modul.b\n",
        "print(notebook_a + notebook_b)"
      ]
    },
    {
      "cell_type": "markdown",
      "metadata": {
        "id": "eYGG6myB507T"
      },
      "source": [
        "The name of the file where a module is stored is available as an attribute:\n",
        "`__name__`"
      ]
    },
    {
      "cell_type": "code",
      "execution_count": 13,
      "metadata": {
        "colab": {
          "base_uri": "https://localhost:8080/",
          "height": 35
        },
        "id": "GRnSpEbT5wVP",
        "outputId": "c16360b1-90f0-4564-8943-4fe7a060cbe3"
      },
      "outputs": [
        {
          "output_type": "execute_result",
          "data": {
            "text/plain": [
              "'modul'"
            ],
            "application/vnd.google.colaboratory.intrinsic+json": {
              "type": "string"
            }
          },
          "metadata": {},
          "execution_count": 13
        }
      ],
      "source": [
        "modul.__name__"
      ]
    },
    {
      "cell_type": "markdown",
      "metadata": {
        "id": "Hv2fO-f882Pf"
      },
      "source": [
        "And using the `dir()` function, we can find the list of the module's attributes:"
      ]
    },
    {
      "cell_type": "code",
      "execution_count": 14,
      "metadata": {
        "colab": {
          "base_uri": "https://localhost:8080/",
          "height": 35
        },
        "id": "j1HjJQOf82rI",
        "outputId": "838c733a-6650-4347-86e5-0b9c334bb0f6"
      },
      "outputs": [
        {
          "output_type": "execute_result",
          "data": {
            "text/plain": [
              "'__builtins__ __cached__ __doc__ __file__ __loader__ __name__ __package__ __spec__ a b i'"
            ],
            "application/vnd.google.colaboratory.intrinsic+json": {
              "type": "string"
            }
          },
          "metadata": {},
          "execution_count": 14
        }
      ],
      "source": [
        "' '.join(dir(modul))"
      ]
    },
    {
      "cell_type": "markdown",
      "metadata": {
        "id": "fuGPWWoa4i_A"
      },
      "source": [
        "We can notice that, in addition to the attributes defined in the module's code, there are also a number of predefined attributes available for any Python module.\n"
      ]
    },
    {
      "cell_type": "markdown",
      "metadata": {
        "id": "z77g-lGS1_0a"
      },
      "source": [
        "For importing modules, we have two additional methods. One allows us to rename the module within the current code or create what is known as an alias:\n",
        "\n",
        "`\n",
        "import modul as alias\n",
        "`"
      ]
    },
    {
      "cell_type": "code",
      "execution_count": 15,
      "metadata": {
        "colab": {
          "base_uri": "https://localhost:8080/",
          "height": 35
        },
        "id": "6202FFjahxvs",
        "outputId": "4e719ebd-8a68-4125-b08a-d26a24be9017"
      },
      "outputs": [
        {
          "output_type": "execute_result",
          "data": {
            "text/plain": [
              "'numpy'"
            ],
            "application/vnd.google.colaboratory.intrinsic+json": {
              "type": "string"
            }
          },
          "metadata": {},
          "execution_count": 15
        }
      ],
      "source": [
        "import numpy as np\n",
        "np.__name__"
      ]
    },
    {
      "cell_type": "markdown",
      "metadata": {
        "id": "GRNiqveu6qoj"
      },
      "source": [
        "And one in which we can specify only the import of a subset of the module's attributes:\n",
        "\n",
        "\n",
        "```\n",
        "from modul import class/function/attribute\n",
        "```\n",
        "\n",
        "\n",
        "In this case, the respective attributes will be available without specifying the module name before them. In other words, we import the attributes into the current namespace."
      ]
    },
    {
      "cell_type": "code",
      "execution_count": 16,
      "metadata": {
        "colab": {
          "base_uri": "https://localhost:8080/"
        },
        "id": "mpJVNiur6vtf",
        "outputId": "ecbe2c3d-2d36-4aa7-b105-49dd31a7fd10"
      },
      "outputs": [
        {
          "output_type": "execute_result",
          "data": {
            "text/plain": [
              "array([1, 2, 8, 9])"
            ]
          },
          "metadata": {},
          "execution_count": 16
        }
      ],
      "source": [
        "from numpy import sort\n",
        "sort([1,9,2,8])"
      ]
    },
    {
      "cell_type": "markdown",
      "metadata": {
        "id": "4h8YqNSoC7X7"
      },
      "source": [
        "A third (not recommended) method of importing content from a package is by using the wildcard character `*`, which allows the import of all available attributes in the package into the current namespace.\n",
        "\n",
        "`from module import *`\n",
        "\n",
        "For this type of import, we will discuss in the tutorial related to packages and modules the so-called `__all__` list included in the `__init__.py` initialization file, which specifies the attributes that can be imported using this instruction.\n"
      ]
    },
    {
      "cell_type": "markdown",
      "metadata": {
        "id": "wRPcGaYO9NnS"
      },
      "source": [
        "---\n",
        "\n",
        "**<font color=\"#1589FF\">Independent Module Execution</font>**\n",
        "\n",
        "Obviously, we can run the contents of a module as an independent script.\n",
        "\n",
        "> **NOTE**: In Colab, for [shell command line instructions](https://www.tutorialspoint.com/google_colab/google_colab_magics.htm), it is necessary to use the `!` symbol before the command.\n"
      ]
    },
    {
      "cell_type": "code",
      "execution_count": 17,
      "metadata": {
        "colab": {
          "base_uri": "https://localhost:8080/"
        },
        "id": "UMroavAM9P9t",
        "outputId": "57a0246f-8e63-4e3f-9454-133e9dd96150"
      },
      "outputs": [
        {
          "output_type": "stream",
          "name": "stdout",
          "text": [
            "0\n",
            "1\n",
            "2\n",
            "3\n",
            "4\n"
          ]
        }
      ],
      "source": [
        "!python modul.py"
      ]
    },
    {
      "cell_type": "markdown",
      "metadata": {
        "id": "bhMvpAb-UDVj"
      },
      "source": [
        "Similarly, the code available in the module outside of functions and classes will be executed."
      ]
    },
    {
      "cell_type": "markdown",
      "metadata": {
        "id": "ptu9YXad-m8c"
      },
      "source": [
        "**<font color=\"#1589FF\">Packages</font>**\n",
        "\n",
        "Modules with similar functionalities are organized into **packages** (also known as *packets* or *dotted module names*). This means that modules at the same hierarchical level will be stored in directories of the same level. For example:\n",
        "\n",
        "\n",
        "\n",
        "\n",
        "```\n",
        "pachet/                          Pachetul de nivel înalt\n",
        "      __init__.py                Cod pentru inițializarea pachetului\n",
        "      subpachet1/                  Subpachet 1\n",
        "              __init__.py\n",
        "              modul1_1.py\n",
        "              modul1_2.py\n",
        "              ...\n",
        "      subpachet2/                  Subpachet 2\n",
        "              __init__.py\n",
        "              modul2_1.py\n",
        "              modul2_2.py\n",
        "              ...\n",
        "\n",
        "```\n",
        "\n",
        "\n",
        "Accessing subpackages is done by specifying the package name followed by `'.'`, the subpackage name, and then the function or class being called. This is why they are called *dotted module names*.\n",
        "\n",
        "The `__init__.py` file is used to inform the interpreter that the directories it contains should be treated as subpackages.\n",
        "The file is often empty but can also be used for specific initializations or definitions when importing the module.\n"
      ]
    },
    {
      "cell_type": "markdown",
      "metadata": {
        "id": "ZBlrMXwr7JaJ"
      },
      "source": [
        "---\n",
        "### <font color=\"#e8710a\">Python Standard Library</font>\n",
        "\n",
        "The [Python Standard Library](https://docs.python.org/3/library/) includes a fairly large number of predefined packages, which means that writing complex applications often comes down to knowing these packages and their functionalities.\n"
      ]
    },
    {
      "cell_type": "markdown",
      "metadata": {
        "id": "OlYyCG-Ijcdz"
      },
      "source": [
        "**<font color=\"#1589FF\">PIP</font>**\n",
        "\n",
        "In addition to the core Python packages, packages created by other developers are included in [The Python Package Index (PyPI)](https://pypi.org/). Any developer can publish their own package on PyPI.\n",
        "\n",
        "To install packages from PyPI, the following commands can be used:\n",
        "\n",
        "```\n",
        ">> python3 -m pip install a-package\n",
        ">> pip install a-package\n",
        ">> pip install a-package==version.number\n",
        ">> pip install \"a-package>=minimum.version\"\n",
        "```"
      ]
    },
    {
      "cell_type": "code",
      "execution_count": 18,
      "metadata": {
        "colab": {
          "base_uri": "https://localhost:8080/"
        },
        "id": "NGjs9LQrB-CP",
        "outputId": "54e84dca-867e-4d6b-8356-4610af525e67"
      },
      "outputs": [
        {
          "output_type": "stream",
          "name": "stdout",
          "text": [
            "Requirement already satisfied: librosa in /usr/local/lib/python3.11/dist-packages (0.10.2.post1)\n",
            "Requirement already satisfied: audioread>=2.1.9 in /usr/local/lib/python3.11/dist-packages (from librosa) (3.0.1)\n",
            "Requirement already satisfied: numpy!=1.22.0,!=1.22.1,!=1.22.2,>=1.20.3 in /usr/local/lib/python3.11/dist-packages (from librosa) (1.26.4)\n",
            "Requirement already satisfied: scipy>=1.2.0 in /usr/local/lib/python3.11/dist-packages (from librosa) (1.13.1)\n",
            "Requirement already satisfied: scikit-learn>=0.20.0 in /usr/local/lib/python3.11/dist-packages (from librosa) (1.6.1)\n",
            "Requirement already satisfied: joblib>=0.14 in /usr/local/lib/python3.11/dist-packages (from librosa) (1.4.2)\n",
            "Requirement already satisfied: decorator>=4.3.0 in /usr/local/lib/python3.11/dist-packages (from librosa) (4.4.2)\n",
            "Requirement already satisfied: numba>=0.51.0 in /usr/local/lib/python3.11/dist-packages (from librosa) (0.61.0)\n",
            "Requirement already satisfied: soundfile>=0.12.1 in /usr/local/lib/python3.11/dist-packages (from librosa) (0.13.1)\n",
            "Requirement already satisfied: pooch>=1.1 in /usr/local/lib/python3.11/dist-packages (from librosa) (1.8.2)\n",
            "Requirement already satisfied: soxr>=0.3.2 in /usr/local/lib/python3.11/dist-packages (from librosa) (0.5.0.post1)\n",
            "Requirement already satisfied: typing-extensions>=4.1.1 in /usr/local/lib/python3.11/dist-packages (from librosa) (4.12.2)\n",
            "Requirement already satisfied: lazy-loader>=0.1 in /usr/local/lib/python3.11/dist-packages (from librosa) (0.4)\n",
            "Requirement already satisfied: msgpack>=1.0 in /usr/local/lib/python3.11/dist-packages (from librosa) (1.1.0)\n",
            "Requirement already satisfied: packaging in /usr/local/lib/python3.11/dist-packages (from lazy-loader>=0.1->librosa) (24.2)\n",
            "Requirement already satisfied: llvmlite<0.45,>=0.44.0dev0 in /usr/local/lib/python3.11/dist-packages (from numba>=0.51.0->librosa) (0.44.0)\n",
            "Requirement already satisfied: platformdirs>=2.5.0 in /usr/local/lib/python3.11/dist-packages (from pooch>=1.1->librosa) (4.3.6)\n",
            "Requirement already satisfied: requests>=2.19.0 in /usr/local/lib/python3.11/dist-packages (from pooch>=1.1->librosa) (2.32.3)\n",
            "Requirement already satisfied: threadpoolctl>=3.1.0 in /usr/local/lib/python3.11/dist-packages (from scikit-learn>=0.20.0->librosa) (3.5.0)\n",
            "Requirement already satisfied: cffi>=1.0 in /usr/local/lib/python3.11/dist-packages (from soundfile>=0.12.1->librosa) (1.17.1)\n",
            "Requirement already satisfied: pycparser in /usr/local/lib/python3.11/dist-packages (from cffi>=1.0->soundfile>=0.12.1->librosa) (2.22)\n",
            "Requirement already satisfied: charset-normalizer<4,>=2 in /usr/local/lib/python3.11/dist-packages (from requests>=2.19.0->pooch>=1.1->librosa) (3.4.1)\n",
            "Requirement already satisfied: idna<4,>=2.5 in /usr/local/lib/python3.11/dist-packages (from requests>=2.19.0->pooch>=1.1->librosa) (3.10)\n",
            "Requirement already satisfied: urllib3<3,>=1.21.1 in /usr/local/lib/python3.11/dist-packages (from requests>=2.19.0->pooch>=1.1->librosa) (2.3.0)\n",
            "Requirement already satisfied: certifi>=2017.4.17 in /usr/local/lib/python3.11/dist-packages (from requests>=2.19.0->pooch>=1.1->librosa) (2025.1.31)\n"
          ]
        }
      ],
      "source": [
        "# Installing an audio processing package\n",
        "# https://librosa.org/\n",
        "!pip install librosa"
      ]
    },
    {
      "cell_type": "markdown",
      "metadata": {
        "id": "ZN63bkVUB9Xv"
      },
      "source": [
        "To uninstall:\n",
        "\n",
        "`!pip uninstall a-package`"
      ]
    },
    {
      "cell_type": "code",
      "execution_count": 19,
      "metadata": {
        "colab": {
          "base_uri": "https://localhost:8080/"
        },
        "id": "59BHgVEmlZWN",
        "outputId": "643d3e44-e5ec-4a1c-b4ba-96359a8ae3a9"
      },
      "outputs": [
        {
          "output_type": "stream",
          "name": "stdout",
          "text": [
            "Found existing installation: librosa 0.10.2.post1\n",
            "Uninstalling librosa-0.10.2.post1:\n",
            "  Would remove:\n",
            "    /usr/local/lib/python3.11/dist-packages/librosa-0.10.2.post1.dist-info/*\n",
            "    /usr/local/lib/python3.11/dist-packages/librosa/*\n",
            "Proceed (Y/n)? Y\n",
            "  Successfully uninstalled librosa-0.10.2.post1\n"
          ]
        }
      ],
      "source": [
        "!pip uninstall librosa"
      ]
    },
    {
      "cell_type": "markdown",
      "metadata": {
        "id": "dXXVl9pflRQd"
      },
      "source": [
        "At any time, we can view the complete list of packages available in the current Python environment using:\n",
        "\n",
        "`pip list`\n",
        "\n",
        "> **NOTE:** In Google Colab, this list is extremely extensive because the environment is preconfigured for various machine learning and numerical computing applications.\n"
      ]
    },
    {
      "cell_type": "code",
      "execution_count": 20,
      "metadata": {
        "colab": {
          "base_uri": "https://localhost:8080/"
        },
        "id": "FeCLp3H-lS83",
        "outputId": "fbb8dc43-6f94-4197-c560-6fa797beccaa"
      },
      "outputs": [
        {
          "output_type": "stream",
          "name": "stdout",
          "text": [
            "Package                            Version\n",
            "---------------------------------- -------------------\n",
            "absl-py                            1.4.0\n",
            "accelerate                         1.3.0\n",
            "aiohappyeyeballs                   2.4.6\n",
            "aiohttp                            3.11.12\n",
            "aiosignal                          1.3.2\n",
            "alabaster                          1.0.0\n",
            "albucore                           0.0.23\n",
            "albumentations                     2.0.4\n",
            "ale-py                             0.10.2\n",
            "altair                             5.5.0\n",
            "annotated-types                    0.7.0\n",
            "anyio                              3.7.1\n",
            "argon2-cffi                        23.1.0\n",
            "argon2-cffi-bindings               21.2.0\n",
            "array_record                       0.6.0\n",
            "arviz                              0.20.0\n",
            "astropy                            7.0.1\n",
            "astropy-iers-data                  0.2025.2.17.0.34.13\n",
            "astunparse                         1.6.3\n",
            "atpublic                           4.1.0\n",
            "attrs                              25.1.0\n",
            "audioread                          3.0.1\n",
            "autograd                           1.7.0\n",
            "babel                              2.17.0\n",
            "backcall                           0.2.0\n",
            "beautifulsoup4                     4.13.3\n",
            "betterproto                        2.0.0b6\n",
            "bigframes                          1.37.0\n",
            "bigquery-magics                    0.6.0\n",
            "bleach                             6.2.0\n",
            "blinker                            1.9.0\n",
            "blis                               0.7.11\n",
            "blosc2                             3.1.1\n",
            "bokeh                              3.6.3\n",
            "Bottleneck                         1.4.2\n",
            "bqplot                             0.12.44\n",
            "branca                             0.8.1\n",
            "CacheControl                       0.14.2\n",
            "cachetools                         5.5.2\n",
            "catalogue                          2.0.10\n",
            "certifi                            2025.1.31\n",
            "cffi                               1.17.1\n",
            "chardet                            5.2.0\n",
            "charset-normalizer                 3.4.1\n",
            "chex                               0.1.88\n",
            "clarabel                           0.10.0\n",
            "click                              8.1.8\n",
            "cloudpathlib                       0.20.0\n",
            "cloudpickle                        3.1.1\n",
            "cmake                              3.31.4\n",
            "cmdstanpy                          1.2.5\n",
            "colorcet                           3.1.0\n",
            "colorlover                         0.3.0\n",
            "colour                             0.1.5\n",
            "community                          1.0.0b1\n",
            "confection                         0.1.5\n",
            "cons                               0.4.6\n",
            "contourpy                          1.3.1\n",
            "cramjam                            2.9.1\n",
            "cryptography                       43.0.3\n",
            "cuda-python                        12.6.0\n",
            "cudf-cu12                          24.12.0\n",
            "cudf-polars-cu12                   24.12.0\n",
            "cufflinks                          0.17.3\n",
            "cuml-cu12                          24.12.0\n",
            "cupy-cuda12x                       13.3.0\n",
            "cuvs-cu12                          24.12.0\n",
            "cvxopt                             1.3.2\n",
            "cvxpy                              1.6.1\n",
            "cycler                             0.12.1\n",
            "cyipopt                            1.5.0\n",
            "cymem                              2.0.11\n",
            "Cython                             3.0.12\n",
            "dask                               2024.11.2\n",
            "dask-cuda                          24.12.0\n",
            "dask-cudf-cu12                     24.12.0\n",
            "dask-expr                          1.1.19\n",
            "datascience                        0.17.6\n",
            "db-dtypes                          1.4.1\n",
            "dbus-python                        1.2.18\n",
            "debugpy                            1.8.0\n",
            "decorator                          4.4.2\n",
            "defusedxml                         0.7.1\n",
            "Deprecated                         1.2.18\n",
            "diffusers                          0.32.2\n",
            "distributed                        2024.11.2\n",
            "distributed-ucxx-cu12              0.41.0\n",
            "distro                             1.9.0\n",
            "dlib                               19.24.2\n",
            "dm-tree                            0.1.9\n",
            "docker-pycreds                     0.4.0\n",
            "docstring_parser                   0.16\n",
            "docutils                           0.21.2\n",
            "dopamine_rl                        4.1.2\n",
            "duckdb                             1.1.3\n",
            "earthengine-api                    1.5.3\n",
            "easydict                           1.13\n",
            "editdistance                       0.8.1\n",
            "eerepr                             0.1.1\n",
            "einops                             0.8.1\n",
            "en-core-web-sm                     3.7.1\n",
            "entrypoints                        0.4\n",
            "et_xmlfile                         2.0.0\n",
            "etils                              1.12.0\n",
            "etuples                            0.3.9\n",
            "Farama-Notifications               0.0.4\n",
            "fastai                             2.7.18\n",
            "fastcore                           1.7.29\n",
            "fastdownload                       0.0.7\n",
            "fastjsonschema                     2.21.1\n",
            "fastprogress                       1.0.3\n",
            "fastrlock                          0.8.3\n",
            "filelock                           3.17.0\n",
            "firebase-admin                     6.6.0\n",
            "Flask                              3.1.0\n",
            "flatbuffers                        25.2.10\n",
            "flax                               0.10.3\n",
            "folium                             0.19.4\n",
            "fonttools                          4.56.0\n",
            "frozendict                         2.4.6\n",
            "frozenlist                         1.5.0\n",
            "fsspec                             2024.10.0\n",
            "future                             1.0.0\n",
            "gast                               0.6.0\n",
            "gcsfs                              2024.10.0\n",
            "GDAL                               3.6.4\n",
            "gdown                              5.2.0\n",
            "geemap                             0.35.1\n",
            "gensim                             4.3.3\n",
            "geocoder                           1.38.1\n",
            "geographiclib                      2.0\n",
            "geopandas                          1.0.1\n",
            "geopy                              2.4.1\n",
            "gin-config                         0.5.0\n",
            "gitdb                              4.0.12\n",
            "GitPython                          3.1.44\n",
            "glob2                              0.7\n",
            "google                             2.0.3\n",
            "google-ai-generativelanguage       0.6.15\n",
            "google-api-core                    2.24.1\n",
            "google-api-python-client           2.160.0\n",
            "google-auth                        2.27.0\n",
            "google-auth-httplib2               0.2.0\n",
            "google-auth-oauthlib               1.2.1\n",
            "google-cloud-aiplatform            1.79.0\n",
            "google-cloud-bigquery              3.29.0\n",
            "google-cloud-bigquery-connection   1.18.1\n",
            "google-cloud-bigquery-storage      2.28.0\n",
            "google-cloud-bigtable              2.28.1\n",
            "google-cloud-core                  2.4.2\n",
            "google-cloud-dataproc              5.17.1\n",
            "google-cloud-datastore             2.20.2\n",
            "google-cloud-firestore             2.20.0\n",
            "google-cloud-functions             1.19.0\n",
            "google-cloud-iam                   2.18.1\n",
            "google-cloud-language              2.16.0\n",
            "google-cloud-pubsub                2.25.0\n",
            "google-cloud-resource-manager      1.14.1\n",
            "google-cloud-spanner               3.52.0\n",
            "google-cloud-storage               2.19.0\n",
            "google-cloud-translate             3.19.0\n",
            "google-colab                       1.0.0\n",
            "google-crc32c                      1.6.0\n",
            "google-genai                       0.8.0\n",
            "google-generativeai                0.8.4\n",
            "google-pasta                       0.2.0\n",
            "google-resumable-media             2.7.2\n",
            "google-spark-connect               0.5.2\n",
            "googleapis-common-protos           1.68.0\n",
            "googledrivedownloader              1.1.0\n",
            "graphviz                           0.20.3\n",
            "greenlet                           3.1.1\n",
            "grpc-google-iam-v1                 0.14.0\n",
            "grpc-interceptor                   0.15.4\n",
            "grpcio                             1.70.0\n",
            "grpcio-status                      1.62.3\n",
            "grpclib                            0.4.7\n",
            "gspread                            6.1.4\n",
            "gspread-dataframe                  4.0.0\n",
            "gym                                0.25.2\n",
            "gym-notices                        0.0.8\n",
            "gymnasium                          1.0.0\n",
            "h11                                0.14.0\n",
            "h2                                 4.2.0\n",
            "h5netcdf                           1.5.0\n",
            "h5py                               3.12.1\n",
            "hdbscan                            0.8.40\n",
            "highspy                            1.9.0\n",
            "holidays                           0.67\n",
            "holoviews                          1.20.1\n",
            "hpack                              4.1.0\n",
            "html5lib                           1.1\n",
            "httpcore                           1.0.7\n",
            "httpimport                         1.4.0\n",
            "httplib2                           0.22.0\n",
            "httpx                              0.28.1\n",
            "huggingface-hub                    0.28.1\n",
            "humanize                           4.11.0\n",
            "hyperframe                         6.1.0\n",
            "hyperopt                           0.2.7\n",
            "ibis-framework                     9.2.0\n",
            "idna                               3.10\n",
            "imageio                            2.37.0\n",
            "imageio-ffmpeg                     0.6.0\n",
            "imagesize                          1.4.1\n",
            "imbalanced-learn                   0.13.0\n",
            "imgaug                             0.4.0\n",
            "immutabledict                      4.2.1\n",
            "importlib_metadata                 8.6.1\n",
            "importlib_resources                6.5.2\n",
            "imutils                            0.5.4\n",
            "inflect                            7.5.0\n",
            "iniconfig                          2.0.0\n",
            "intel-cmplr-lib-ur                 2025.0.4\n",
            "intel-openmp                       2025.0.4\n",
            "ipyevents                          2.0.2\n",
            "ipyfilechooser                     0.6.0\n",
            "ipykernel                          6.17.1\n",
            "ipyleaflet                         0.19.2\n",
            "ipyparallel                        8.8.0\n",
            "ipython                            7.34.0\n",
            "ipython-genutils                   0.2.0\n",
            "ipython-sql                        0.5.0\n",
            "ipytree                            0.2.2\n",
            "ipywidgets                         7.7.1\n",
            "itsdangerous                       2.2.0\n",
            "jax                                0.4.33\n",
            "jax-cuda12-pjrt                    0.4.33\n",
            "jax-cuda12-plugin                  0.4.33\n",
            "jaxlib                             0.4.33\n",
            "jeepney                            0.7.1\n",
            "jellyfish                          1.1.0\n",
            "jieba                              0.42.1\n",
            "Jinja2                             3.1.5\n",
            "jiter                              0.8.2\n",
            "joblib                             1.4.2\n",
            "jsonpatch                          1.33\n",
            "jsonpickle                         4.0.2\n",
            "jsonpointer                        3.0.0\n",
            "jsonschema                         4.23.0\n",
            "jsonschema-specifications          2024.10.1\n",
            "jupyter-client                     6.1.12\n",
            "jupyter-console                    6.1.0\n",
            "jupyter_core                       5.7.2\n",
            "jupyter-leaflet                    0.19.2\n",
            "jupyter-server                     1.24.0\n",
            "jupyterlab_pygments                0.3.0\n",
            "jupyterlab_widgets                 3.0.13\n",
            "kaggle                             1.6.17\n",
            "kagglehub                          0.3.9\n",
            "keras                              3.8.0\n",
            "keras-hub                          0.18.1\n",
            "keras-nlp                          0.18.1\n",
            "keyring                            23.5.0\n",
            "kiwisolver                         1.4.8\n",
            "langchain                          0.3.19\n",
            "langchain-core                     0.3.37\n",
            "langchain-text-splitters           0.3.6\n",
            "langcodes                          3.5.0\n",
            "langsmith                          0.3.9\n",
            "language_data                      1.3.0\n",
            "launchpadlib                       1.10.16\n",
            "lazr.restfulclient                 0.14.4\n",
            "lazr.uri                           1.0.6\n",
            "lazy_loader                        0.4\n",
            "libclang                           18.1.1\n",
            "libcudf-cu12                       24.12.0\n",
            "libkvikio-cu12                     24.12.1\n",
            "libucx-cu12                        1.17.0.post1\n",
            "libucxx-cu12                       0.41.0\n",
            "lightgbm                           4.5.0\n",
            "linkify-it-py                      2.0.3\n",
            "llvmlite                           0.44.0\n",
            "locket                             1.0.0\n",
            "logical-unification                0.4.6\n",
            "lxml                               5.3.1\n",
            "marisa-trie                        1.2.1\n",
            "Markdown                           3.7\n",
            "markdown-it-py                     3.0.0\n",
            "MarkupSafe                         3.0.2\n",
            "matplotlib                         3.10.0\n",
            "matplotlib-inline                  0.1.7\n",
            "matplotlib-venn                    1.1.1\n",
            "mdit-py-plugins                    0.4.2\n",
            "mdurl                              0.1.2\n",
            "miniKanren                         1.0.3\n",
            "missingno                          0.5.2\n",
            "mistune                            3.1.2\n",
            "mizani                             0.13.1\n",
            "mkl                                2025.0.1\n",
            "ml-dtypes                          0.4.1\n",
            "mlxtend                            0.23.4\n",
            "more-itertools                     10.6.0\n",
            "moviepy                            1.0.3\n",
            "mpmath                             1.3.0\n",
            "msgpack                            1.1.0\n",
            "multidict                          6.1.0\n",
            "multipledispatch                   1.0.0\n",
            "multitasking                       0.0.11\n",
            "murmurhash                         1.0.12\n",
            "music21                            9.3.0\n",
            "namex                              0.0.8\n",
            "narwhals                           1.27.1\n",
            "natsort                            8.4.0\n",
            "nbclassic                          1.2.0\n",
            "nbclient                           0.10.2\n",
            "nbconvert                          7.16.6\n",
            "nbformat                           5.10.4\n",
            "ndindex                            1.9.2\n",
            "nest-asyncio                       1.6.0\n",
            "networkx                           3.4.2\n",
            "nibabel                            5.3.2\n",
            "nltk                               3.9.1\n",
            "notebook                           6.5.5\n",
            "notebook_shim                      0.2.4\n",
            "numba                              0.61.0\n",
            "numba-cuda                         0.0.17.1\n",
            "numexpr                            2.10.2\n",
            "numpy                              1.26.4\n",
            "nvidia-cublas-cu12                 12.5.3.2\n",
            "nvidia-cuda-cupti-cu12             12.5.82\n",
            "nvidia-cuda-nvcc-cu12              12.5.82\n",
            "nvidia-cuda-nvrtc-cu12             12.5.82\n",
            "nvidia-cuda-runtime-cu12           12.5.82\n",
            "nvidia-cudnn-cu12                  9.3.0.75\n",
            "nvidia-cufft-cu12                  11.2.3.61\n",
            "nvidia-curand-cu12                 10.3.6.82\n",
            "nvidia-cusolver-cu12               11.6.3.83\n",
            "nvidia-cusparse-cu12               12.5.1.3\n",
            "nvidia-nccl-cu12                   2.21.5\n",
            "nvidia-nvcomp-cu12                 4.1.0.6\n",
            "nvidia-nvjitlink-cu12              12.5.82\n",
            "nvidia-nvtx-cu12                   12.4.127\n",
            "nvtx                               0.2.10\n",
            "nx-cugraph-cu12                    24.12.0\n",
            "oauth2client                       4.1.3\n",
            "oauthlib                           3.2.2\n",
            "openai                             1.61.1\n",
            "opencv-contrib-python              4.11.0.86\n",
            "opencv-python                      4.11.0.86\n",
            "opencv-python-headless             4.11.0.86\n",
            "openpyxl                           3.1.5\n",
            "opentelemetry-api                  1.16.0\n",
            "opentelemetry-sdk                  1.16.0\n",
            "opentelemetry-semantic-conventions 0.37b0\n",
            "opt_einsum                         3.4.0\n",
            "optax                              0.2.4\n",
            "optree                             0.14.0\n",
            "orbax-checkpoint                   0.6.4\n",
            "orjson                             3.10.15\n",
            "osqp                               0.6.7.post3\n",
            "packaging                          24.2\n",
            "pandas                             2.2.2\n",
            "pandas-datareader                  0.10.0\n",
            "pandas-gbq                         0.27.0\n",
            "pandas-stubs                       2.2.2.240909\n",
            "pandocfilters                      1.5.1\n",
            "panel                              1.6.1\n",
            "param                              2.2.0\n",
            "parso                              0.8.4\n",
            "parsy                              2.1\n",
            "partd                              1.4.2\n",
            "pathlib                            1.0.1\n",
            "patsy                              1.0.1\n",
            "peewee                             3.17.9\n",
            "peft                               0.14.0\n",
            "pexpect                            4.9.0\n",
            "pickleshare                        0.7.5\n",
            "pillow                             11.1.0\n",
            "pip                                24.1.2\n",
            "platformdirs                       4.3.6\n",
            "plotly                             5.24.1\n",
            "plotnine                           0.14.5\n",
            "pluggy                             1.5.0\n",
            "ply                                3.11\n",
            "polars                             1.14.0\n",
            "pooch                              1.8.2\n",
            "portpicker                         1.5.2\n",
            "preshed                            3.0.9\n",
            "prettytable                        3.14.0\n",
            "proglog                            0.1.10\n",
            "progressbar2                       4.5.0\n",
            "prometheus_client                  0.21.1\n",
            "promise                            2.3\n",
            "prompt_toolkit                     3.0.50\n",
            "propcache                          0.3.0\n",
            "prophet                            1.1.6\n",
            "proto-plus                         1.26.0\n",
            "protobuf                           4.25.6\n",
            "psutil                             5.9.5\n",
            "psycopg2                           2.9.10\n",
            "ptyprocess                         0.7.0\n",
            "py-cpuinfo                         9.0.0\n",
            "py4j                               0.10.9.7\n",
            "pyarrow                            18.1.0\n",
            "pyasn1                             0.6.1\n",
            "pyasn1_modules                     0.4.1\n",
            "pycocotools                        2.0.8\n",
            "pycparser                          2.22\n",
            "pydantic                           2.10.6\n",
            "pydantic_core                      2.27.2\n",
            "pydata-google-auth                 1.9.1\n",
            "pydot                              3.0.4\n",
            "pydotplus                          2.0.2\n",
            "PyDrive                            1.3.1\n",
            "PyDrive2                           1.21.3\n",
            "pyerfa                             2.0.1.5\n",
            "pygame                             2.6.1\n",
            "pygit2                             1.17.0\n",
            "Pygments                           2.18.0\n",
            "PyGObject                          3.42.1\n",
            "PyJWT                              2.10.1\n",
            "pylibcudf-cu12                     24.12.0\n",
            "pylibcugraph-cu12                  24.12.0\n",
            "pylibraft-cu12                     24.12.0\n",
            "pymc                               5.20.1\n",
            "pymystem3                          0.2.0\n",
            "pynndescent                        0.5.13\n",
            "pynvjitlink-cu12                   0.5.0\n",
            "pynvml                             11.4.1\n",
            "pyogrio                            0.10.0\n",
            "Pyomo                              6.8.2\n",
            "PyOpenGL                           3.1.9\n",
            "pyOpenSSL                          24.2.1\n",
            "pyparsing                          3.2.1\n",
            "pyperclip                          1.9.0\n",
            "pyproj                             3.7.1\n",
            "pyshp                              2.3.1\n",
            "PySocks                            1.7.1\n",
            "pyspark                            3.5.4\n",
            "pytensor                           2.27.1\n",
            "pytest                             8.3.4\n",
            "python-apt                         0.0.0\n",
            "python-box                         7.3.2\n",
            "python-dateutil                    2.8.2\n",
            "python-louvain                     0.16\n",
            "python-slugify                     8.0.4\n",
            "python-snappy                      0.7.3\n",
            "python-utils                       3.9.1\n",
            "pytz                               2025.1\n",
            "pyviz_comms                        3.0.4\n",
            "pywer                              0.1.1\n",
            "PyYAML                             6.0.2\n",
            "pyzmq                              24.0.1\n",
            "qdldl                              0.1.7.post5\n",
            "raft-dask-cu12                     24.12.0\n",
            "rapids-dask-dependency             24.12.0\n",
            "ratelim                            0.1.6\n",
            "referencing                        0.36.2\n",
            "regex                              2024.11.6\n",
            "requests                           2.32.3\n",
            "requests-oauthlib                  2.0.0\n",
            "requests-toolbelt                  1.0.0\n",
            "requirements-parser                0.9.0\n",
            "rich                               13.9.4\n",
            "rmm-cu12                           24.12.1\n",
            "rpds-py                            0.23.0\n",
            "rpy2                               3.4.2\n",
            "rsa                                4.9\n",
            "safetensors                        0.5.2\n",
            "scikit-image                       0.25.2\n",
            "scikit-learn                       1.6.1\n",
            "scipy                              1.13.1\n",
            "scooby                             0.10.0\n",
            "scs                                3.2.7.post2\n",
            "seaborn                            0.13.2\n",
            "SecretStorage                      3.3.1\n",
            "Send2Trash                         1.8.3\n",
            "sentence-transformers              3.4.1\n",
            "sentencepiece                      0.2.0\n",
            "sentry-sdk                         2.22.0\n",
            "setproctitle                       1.3.4\n",
            "setuptools                         75.1.0\n",
            "shap                               0.46.0\n",
            "shapely                            2.0.7\n",
            "shellingham                        1.5.4\n",
            "simple-parsing                     0.1.7\n",
            "simsimd                            6.2.1\n",
            "six                                1.17.0\n",
            "sklearn-compat                     0.1.3\n",
            "sklearn-pandas                     2.2.0\n",
            "slicer                             0.0.8\n",
            "smart-open                         7.1.0\n",
            "smmap                              5.0.2\n",
            "sniffio                            1.3.1\n",
            "snowballstemmer                    2.2.0\n",
            "sortedcontainers                   2.4.0\n",
            "soundfile                          0.13.1\n",
            "soupsieve                          2.6\n",
            "soxr                               0.5.0.post1\n",
            "spacy                              3.7.5\n",
            "spacy-legacy                       3.0.12\n",
            "spacy-loggers                      1.0.5\n",
            "spanner-graph-notebook             1.1.1\n",
            "Sphinx                             8.1.3\n",
            "sphinxcontrib-applehelp            2.0.0\n",
            "sphinxcontrib-devhelp              2.0.0\n",
            "sphinxcontrib-htmlhelp             2.1.0\n",
            "sphinxcontrib-jsmath               1.0.1\n",
            "sphinxcontrib-qthelp               2.0.0\n",
            "sphinxcontrib-serializinghtml      2.0.0\n",
            "SQLAlchemy                         2.0.38\n",
            "sqlglot                            25.6.1\n",
            "sqlparse                           0.5.3\n",
            "srsly                              2.5.1\n",
            "stanio                             0.5.1\n",
            "statsmodels                        0.14.4\n",
            "stringzilla                        3.11.3\n",
            "sympy                              1.13.1\n",
            "tables                             3.10.2\n",
            "tabulate                           0.9.0\n",
            "tbb                                2022.0.0\n",
            "tblib                              3.0.0\n",
            "tcmlib                             1.2.0\n",
            "tenacity                           9.0.0\n",
            "tensorboard                        2.18.0\n",
            "tensorboard-data-server            0.7.2\n",
            "tensorflow                         2.18.0\n",
            "tensorflow-datasets                4.9.7\n",
            "tensorflow-hub                     0.16.1\n",
            "tensorflow-io-gcs-filesystem       0.37.1\n",
            "tensorflow-metadata                1.16.1\n",
            "tensorflow-probability             0.25.0\n",
            "tensorflow-text                    2.18.1\n",
            "tensorstore                        0.1.72\n",
            "termcolor                          2.5.0\n",
            "terminado                          0.18.1\n",
            "text-unidecode                     1.3\n",
            "textblob                           0.19.0\n",
            "tf_keras                           2.18.0\n",
            "tf-slim                            1.1.0\n",
            "thinc                              8.2.5\n",
            "threadpoolctl                      3.5.0\n",
            "tifffile                           2025.2.18\n",
            "timm                               1.0.14\n",
            "tinycss2                           1.4.0\n",
            "tokenizers                         0.21.0\n",
            "toml                               0.10.2\n",
            "toolz                              0.12.1\n",
            "torch                              2.5.1+cu124\n",
            "torchaudio                         2.5.1+cu124\n",
            "torchsummary                       1.5.1\n",
            "torchvision                        0.20.1+cu124\n",
            "tornado                            6.4.2\n",
            "tqdm                               4.67.1\n",
            "traitlets                          5.7.1\n",
            "traittypes                         0.2.1\n",
            "transformers                       4.48.3\n",
            "treelite                           4.3.0\n",
            "treescope                          0.1.9\n",
            "triton                             3.1.0\n",
            "tweepy                             4.15.0\n",
            "typeguard                          4.4.2\n",
            "typer                              0.15.1\n",
            "types-pytz                         2025.1.0.20250204\n",
            "types-setuptools                   75.8.0.20250225\n",
            "typing_extensions                  4.12.2\n",
            "tzdata                             2025.1\n",
            "tzlocal                            5.3\n",
            "uc-micro-py                        1.0.3\n",
            "ucx-py-cu12                        0.41.0\n",
            "ucxx-cu12                          0.41.0\n",
            "umap-learn                         0.5.7\n",
            "umf                                0.9.1\n",
            "uritemplate                        4.1.1\n",
            "urllib3                            2.3.0\n",
            "vega-datasets                      0.9.0\n",
            "wadllib                            1.3.6\n",
            "wandb                              0.19.7\n",
            "wasabi                             1.1.3\n",
            "wcwidth                            0.2.13\n",
            "weasel                             0.4.1\n",
            "webcolors                          24.11.1\n",
            "webencodings                       0.5.1\n",
            "websocket-client                   1.8.0\n",
            "websockets                         14.2\n",
            "Werkzeug                           3.1.3\n",
            "wheel                              0.45.1\n",
            "widgetsnbextension                 3.6.10\n",
            "wordcloud                          1.9.4\n",
            "wrapt                              1.17.2\n",
            "xarray                             2025.1.2\n",
            "xarray-einstats                    0.8.0\n",
            "xgboost                            2.1.4\n",
            "xlrd                               2.0.1\n",
            "xyzservices                        2025.1.0\n",
            "yarl                               1.18.3\n",
            "yellowbrick                        1.5\n",
            "yfinance                           0.2.54\n",
            "zict                               3.0.0\n",
            "zipp                               3.21.0\n",
            "zstandard                          0.23.0\n"
          ]
        }
      ],
      "source": [
        "# Display the first 10 installed packages\n",
        "!pip list"
      ]
    },
    {
      "cell_type": "markdown",
      "metadata": {
        "id": "HzeURohihvwG"
      },
      "source": [
        "**<font color=\"#1589FF\">System Path</font>**\n",
        "\n",
        "The path to external packages in the standard library is stored in `sys.path`. This list of paths is traversed by the interpreter to locate the packages referenced in the code by the programmer.\n",
        "\n",
        "When a package is installed using the `pip` utility, its path is automatically added to `sys.path`.\n"
      ]
    },
    {
      "cell_type": "code",
      "execution_count": 21,
      "metadata": {
        "colab": {
          "base_uri": "https://localhost:8080/"
        },
        "id": "oRP2LKhMBOtm",
        "outputId": "70f3c752-5be3-4408-b6db-e2e493330295"
      },
      "outputs": [
        {
          "output_type": "stream",
          "name": "stdout",
          "text": [
            "['/content', '/env/python', '/usr/lib/python311.zip', '/usr/lib/python3.11', '/usr/lib/python3.11/lib-dynload', '', '/usr/local/lib/python3.11/dist-packages', '/usr/lib/python3/dist-packages', '/usr/local/lib/python3.11/dist-packages/IPython/extensions', '/root/.ipython']\n"
          ]
        }
      ],
      "source": [
        "import sys\n",
        "print(sys.path)"
      ]
    },
    {
      "cell_type": "markdown",
      "metadata": {
        "id": "1NAj78v2BRs-"
      },
      "source": [
        "If we want to add our own path, we can use the append function:"
      ]
    },
    {
      "cell_type": "code",
      "execution_count": 22,
      "metadata": {
        "colab": {
          "base_uri": "https://localhost:8080/"
        },
        "id": "J-YwGMjYhdcU",
        "outputId": "18b8a2c5-e891-4ff7-837d-4c0fcfd045e0"
      },
      "outputs": [
        {
          "output_type": "stream",
          "name": "stdout",
          "text": [
            "['/root/.ipython', '/user/adriana/module1/']\n"
          ]
        }
      ],
      "source": [
        "sys.path.append('/user/adriana/module1/')\n",
        "# Display only the last entries from sys.path to verify\n",
        "# that our specified path has been added\n",
        "print(sys.path[-2:])"
      ]
    },
    {
      "cell_type": "markdown",
      "metadata": {
        "id": "tSQtxgS9jPrr"
      },
      "source": [
        "### <font color=\"#e8710a\">Python virtual environment (venv)</font>\n",
        "\n",
        "Most of the time, applications developed by programmers require the installation of a set of external modules. When these applications are passed on to clients, these modules need to be known and specified clearly. Additionally, if a programmer is working on multiple applications simultaneously, it is useful to separate the development environments on the same physical machine.\n",
        "\n",
        "To separate the working environment on a given development machine, Python provides the [**Python virtual environment**](https://docs.python.org/3/library/venv.html#). This virtual environment allows applications to be separated, so that each can run independently, and the full set of modules they depend on is known. It is important to specify that any Python development IDE will automatically create such virtual environments.\n",
        "\n",
        "To create a virtual environment from the command line, we can run:\n",
        "\n",
        "\n",
        "\n",
        "```\n",
        "python -m venv tutorial-env\n",
        "```\n",
        "\n",
        "\n",
        "This creates a Python virtual machine named `tutorial-env`. We can activate this virtual machine using:\n",
        "\n",
        "\n",
        "\n",
        "```\n",
        "source tutorial-env/bin/activate\n",
        "```\n",
        "\n",
        "\n",
        "After running the command, a directory named `tutorial-env` will be created, containing all necessary sources and installed packages. Once the environment is activated, the command line prompt will change to reflect the currently used virtual environment.\n",
        "\n",
        "> **NOTE**: Using virtual environments in Google Colab is not necessary, as each notebook is an independent programming environment.\n"
      ]
    },
    {
      "cell_type": "markdown",
      "metadata": {
        "id": "QJZnH9mvjsMM"
      },
      "source": [
        "### <font color=\"#e8710a\">Dependencies File (requirements file)</font>\n",
        "\n",
        "When distributing an application, we previously mentioned that it is necessary to specify the set of packages and their versions required to run the application.  \n",
        "If we use a virtual environment, this list of packages can be obtained very easily using the command:\n"
      ]
    },
    {
      "cell_type": "code",
      "execution_count": 23,
      "metadata": {
        "id": "_IGEJMgClDSv"
      },
      "outputs": [],
      "source": [
        "!pip freeze > requirements.txt"
      ]
    },
    {
      "cell_type": "markdown",
      "metadata": {
        "id": "gZdbHGHKF7f8"
      },
      "source": [
        "After running the command, the `requirements.txt` file will contain information like this:\n",
        "\n",
        "<center><img src='https://drive.google.com/uc?export=view&id=1rtUh28Fo3OeVdJXJHZ7UAzmAsjOWIXAU' height=250/></center>\n",
        "\n",
        "The final recipient of the application can then automatically install all these packages by installing the module list specified in the created file. The name `requirements.txt` is not mandatory, but it is a naming convention.\n"
      ]
    },
    {
      "cell_type": "code",
      "execution_count": 24,
      "metadata": {
        "colab": {
          "base_uri": "https://localhost:8080/"
        },
        "id": "pA4vYAOQHkLm",
        "outputId": "817d294c-b651-4e1d-c711-a3d1ef3c97e3"
      },
      "outputs": [
        {
          "output_type": "stream",
          "name": "stdout",
          "text": [
            "Overwriting requirements.txt\n"
          ]
        }
      ],
      "source": [
        "# We create a list of packages\n",
        "%%writefile requirements.txt\n",
        "librosa\n",
        "pywer"
      ]
    },
    {
      "cell_type": "code",
      "execution_count": 25,
      "metadata": {
        "colab": {
          "base_uri": "https://localhost:8080/"
        },
        "id": "6DB19F4DGLDS",
        "outputId": "db3e7318-88be-4cfd-93b6-7c82d0b41011"
      },
      "outputs": [
        {
          "output_type": "stream",
          "name": "stdout",
          "text": [
            "Collecting librosa (from -r requirements.txt (line 1))\n",
            "  Using cached librosa-0.10.2.post1-py3-none-any.whl.metadata (8.6 kB)\n",
            "Requirement already satisfied: pywer in /usr/local/lib/python3.11/dist-packages (from -r requirements.txt (line 2)) (0.1.1)\n",
            "Requirement already satisfied: audioread>=2.1.9 in /usr/local/lib/python3.11/dist-packages (from librosa->-r requirements.txt (line 1)) (3.0.1)\n",
            "Requirement already satisfied: numpy!=1.22.0,!=1.22.1,!=1.22.2,>=1.20.3 in /usr/local/lib/python3.11/dist-packages (from librosa->-r requirements.txt (line 1)) (1.26.4)\n",
            "Requirement already satisfied: scipy>=1.2.0 in /usr/local/lib/python3.11/dist-packages (from librosa->-r requirements.txt (line 1)) (1.13.1)\n",
            "Requirement already satisfied: scikit-learn>=0.20.0 in /usr/local/lib/python3.11/dist-packages (from librosa->-r requirements.txt (line 1)) (1.6.1)\n",
            "Requirement already satisfied: joblib>=0.14 in /usr/local/lib/python3.11/dist-packages (from librosa->-r requirements.txt (line 1)) (1.4.2)\n",
            "Requirement already satisfied: decorator>=4.3.0 in /usr/local/lib/python3.11/dist-packages (from librosa->-r requirements.txt (line 1)) (4.4.2)\n",
            "Requirement already satisfied: numba>=0.51.0 in /usr/local/lib/python3.11/dist-packages (from librosa->-r requirements.txt (line 1)) (0.61.0)\n",
            "Requirement already satisfied: soundfile>=0.12.1 in /usr/local/lib/python3.11/dist-packages (from librosa->-r requirements.txt (line 1)) (0.13.1)\n",
            "Requirement already satisfied: pooch>=1.1 in /usr/local/lib/python3.11/dist-packages (from librosa->-r requirements.txt (line 1)) (1.8.2)\n",
            "Requirement already satisfied: soxr>=0.3.2 in /usr/local/lib/python3.11/dist-packages (from librosa->-r requirements.txt (line 1)) (0.5.0.post1)\n",
            "Requirement already satisfied: typing-extensions>=4.1.1 in /usr/local/lib/python3.11/dist-packages (from librosa->-r requirements.txt (line 1)) (4.12.2)\n",
            "Requirement already satisfied: lazy-loader>=0.1 in /usr/local/lib/python3.11/dist-packages (from librosa->-r requirements.txt (line 1)) (0.4)\n",
            "Requirement already satisfied: msgpack>=1.0 in /usr/local/lib/python3.11/dist-packages (from librosa->-r requirements.txt (line 1)) (1.1.0)\n",
            "Requirement already satisfied: editdistance in /usr/local/lib/python3.11/dist-packages (from pywer->-r requirements.txt (line 2)) (0.8.1)\n",
            "Requirement already satisfied: packaging in /usr/local/lib/python3.11/dist-packages (from lazy-loader>=0.1->librosa->-r requirements.txt (line 1)) (24.2)\n",
            "Requirement already satisfied: llvmlite<0.45,>=0.44.0dev0 in /usr/local/lib/python3.11/dist-packages (from numba>=0.51.0->librosa->-r requirements.txt (line 1)) (0.44.0)\n",
            "Requirement already satisfied: platformdirs>=2.5.0 in /usr/local/lib/python3.11/dist-packages (from pooch>=1.1->librosa->-r requirements.txt (line 1)) (4.3.6)\n",
            "Requirement already satisfied: requests>=2.19.0 in /usr/local/lib/python3.11/dist-packages (from pooch>=1.1->librosa->-r requirements.txt (line 1)) (2.32.3)\n",
            "Requirement already satisfied: threadpoolctl>=3.1.0 in /usr/local/lib/python3.11/dist-packages (from scikit-learn>=0.20.0->librosa->-r requirements.txt (line 1)) (3.5.0)\n",
            "Requirement already satisfied: cffi>=1.0 in /usr/local/lib/python3.11/dist-packages (from soundfile>=0.12.1->librosa->-r requirements.txt (line 1)) (1.17.1)\n",
            "Requirement already satisfied: pycparser in /usr/local/lib/python3.11/dist-packages (from cffi>=1.0->soundfile>=0.12.1->librosa->-r requirements.txt (line 1)) (2.22)\n",
            "Requirement already satisfied: charset-normalizer<4,>=2 in /usr/local/lib/python3.11/dist-packages (from requests>=2.19.0->pooch>=1.1->librosa->-r requirements.txt (line 1)) (3.4.1)\n",
            "Requirement already satisfied: idna<4,>=2.5 in /usr/local/lib/python3.11/dist-packages (from requests>=2.19.0->pooch>=1.1->librosa->-r requirements.txt (line 1)) (3.10)\n",
            "Requirement already satisfied: urllib3<3,>=1.21.1 in /usr/local/lib/python3.11/dist-packages (from requests>=2.19.0->pooch>=1.1->librosa->-r requirements.txt (line 1)) (2.3.0)\n",
            "Requirement already satisfied: certifi>=2017.4.17 in /usr/local/lib/python3.11/dist-packages (from requests>=2.19.0->pooch>=1.1->librosa->-r requirements.txt (line 1)) (2025.1.31)\n",
            "Using cached librosa-0.10.2.post1-py3-none-any.whl (260 kB)\n",
            "Installing collected packages: librosa\n",
            "Successfully installed librosa-0.10.2.post1\n"
          ]
        }
      ],
      "source": [
        "!pip install -r requirements.txt"
      ]
    },
    {
      "cell_type": "markdown",
      "metadata": {
        "id": "kf36thL-lFvk"
      },
      "source": [
        "### <font color=\"#e8710a\">Code documentation (en. *docstrings*)</font>\n",
        "\n",
        "Any professionally written code should contain appropriate documentation. The easiest way to write this documentation is when it resides directly in the code. In this regard, Python allows documentation to be created by writing explanations regarding the usage of modules, classes, or functions as the first instructions, in the form of a comment enclosed in triple quotes `\"\"\"`.\n",
        "\n",
        "These statements automatically become the `__doc__` attribute of the module/class/function."
      ]
    },
    {
      "cell_type": "code",
      "execution_count": 26,
      "metadata": {
        "colab": {
          "base_uri": "https://localhost:8080/"
        },
        "id": "NTcXoe2bjO3X",
        "outputId": "da293a55-dec2-4459-8bcf-aab1300ec06e"
      },
      "outputs": [
        {
          "output_type": "stream",
          "name": "stdout",
          "text": [
            "Overwriting moduldoc.py\n"
          ]
        }
      ],
      "source": [
        "%%writefile moduldoc.py\n",
        "\"\"\"Module documentation\"\"\"\n",
        "class Class:\n",
        "    \"\"\"Class documentation\"\"\"\n",
        "    def method(self):\n",
        "        \"\"\"Method documentation\"\"\"\n",
        "def function():\n",
        "    \"\"\"Function documentation\"\"\""
      ]
    },
    {
      "cell_type": "code",
      "execution_count": 27,
      "metadata": {
        "colab": {
          "base_uri": "https://localhost:8080/"
        },
        "id": "nkHg2OISjKi3",
        "outputId": "279f7a2d-6aeb-445d-a05c-0f2e28caafbf"
      },
      "outputs": [
        {
          "output_type": "stream",
          "name": "stdout",
          "text": [
            "Help on module moduldoc:\n",
            "\n",
            "NAME\n",
            "    moduldoc - Module documentation\n",
            "\n",
            "CLASSES\n",
            "    builtins.object\n",
            "        Class\n",
            "    \n",
            "    class Class(builtins.object)\n",
            "     |  Class documentation\n",
            "     |  \n",
            "     |  Methods defined here:\n",
            "     |  \n",
            "     |  method(self)\n",
            "     |      Method documentation\n",
            "     |  \n",
            "     |  ----------------------------------------------------------------------\n",
            "     |  Data descriptors defined here:\n",
            "     |  \n",
            "     |  __dict__\n",
            "     |      dictionary for instance variables\n",
            "     |  \n",
            "     |  __weakref__\n",
            "     |      list of weak references to the object\n",
            "\n",
            "FUNCTIONS\n",
            "    function()\n",
            "        Function documentation\n",
            "\n",
            "FILE\n",
            "    /content/moduldoc.py\n",
            "\n",
            "\n"
          ]
        }
      ],
      "source": [
        "import moduldoc\n",
        "help(moduldoc)"
      ]
    },
    {
      "cell_type": "code",
      "execution_count": 28,
      "metadata": {
        "colab": {
          "base_uri": "https://localhost:8080/"
        },
        "id": "EoLvHGaWkbBM",
        "outputId": "5637c109-f7c5-43c6-8744-1c14ef24073c"
      },
      "outputs": [
        {
          "output_type": "stream",
          "name": "stdout",
          "text": [
            "Help on class Class in module moduldoc:\n",
            "\n",
            "class Class(builtins.object)\n",
            " |  Class documentation\n",
            " |  \n",
            " |  Methods defined here:\n",
            " |  \n",
            " |  method(self)\n",
            " |      Method documentation\n",
            " |  \n",
            " |  ----------------------------------------------------------------------\n",
            " |  Data descriptors defined here:\n",
            " |  \n",
            " |  __dict__\n",
            " |      dictionary for instance variables\n",
            " |  \n",
            " |  __weakref__\n",
            " |      list of weak references to the object\n",
            "\n"
          ]
        }
      ],
      "source": [
        "help(moduldoc.Class)"
      ]
    },
    {
      "cell_type": "code",
      "execution_count": 29,
      "metadata": {
        "colab": {
          "base_uri": "https://localhost:8080/"
        },
        "id": "L291Cx4ekd6S",
        "outputId": "9dd2bddc-5d5b-468c-e517-565132351db4"
      },
      "outputs": [
        {
          "output_type": "stream",
          "name": "stdout",
          "text": [
            "Help on function method in module moduldoc:\n",
            "\n",
            "method(self)\n",
            "    Method documentation\n",
            "\n"
          ]
        }
      ],
      "source": [
        "help(moduldoc.Class.method)"
      ]
    },
    {
      "cell_type": "code",
      "execution_count": 30,
      "metadata": {
        "colab": {
          "base_uri": "https://localhost:8080/"
        },
        "id": "OoFTIyJvkg9L",
        "outputId": "87c63c02-58ba-46e1-edd4-9ca8800d96dd"
      },
      "outputs": [
        {
          "output_type": "stream",
          "name": "stdout",
          "text": [
            "Help on function function in module moduldoc:\n",
            "\n",
            "function()\n",
            "    Function documentation\n",
            "\n"
          ]
        }
      ],
      "source": [
        "help(moduldoc.function)"
      ]
    },
    {
      "cell_type": "markdown",
      "metadata": {
        "id": "Xx60q1MCk4V5"
      },
      "source": [
        "---\n",
        "## <font color=\"#e8710a\">Conclusions</font>\n",
        "\n",
        "In this tutorial, we have provided a fairly abrupt introduction to the fundamental concepts of the Python language and how to write and organize code. We will revisit most of these aspects in more detail in the upcoming tutorials, but we believe that having a global overview of the things we need to delve deeper into is important, as well as the ability to write minimal Python code as quickly as possible.\n",
        "\n",
        "It is important to note the simplicity of writing and organizing the code, which makes Python one of the easiest programming languages to learn and use.\n"
      ]
    },
    {
      "cell_type": "markdown",
      "metadata": {
        "id": "QRxzWsqKkLg0"
      },
      "source": [
        "---\n",
        "\n",
        "## <font color=\"#1589FF\"> Exercises</font>\n",
        "\n",
        "1) Define a `float` object and use the `id()` function to check that it is **immutable**.\n"
      ]
    },
    {
      "cell_type": "code",
      "execution_count": 31,
      "metadata": {
        "id": "nlwC9NZHWvA1"
      },
      "outputs": [],
      "source": [
        "## Solution for EX. 1"
      ]
    },
    {
      "cell_type": "markdown",
      "metadata": {
        "id": "WFvUgOIcWvJK"
      },
      "source": [
        "2) Consult the list of predefined methods of the `float` object defined in exercise 1. Programmatically verify whether the `split()` method is included in this list."
      ]
    },
    {
      "cell_type": "code",
      "execution_count": 32,
      "metadata": {
        "id": "cTXcF-IaWwab"
      },
      "outputs": [],
      "source": [
        "## Solution for EX. 2"
      ]
    },
    {
      "cell_type": "markdown",
      "metadata": {
        "id": "vwLe9nunWw3v"
      },
      "source": [
        "3) Display the documentation of the `split()` function for a string."
      ]
    },
    {
      "cell_type": "code",
      "execution_count": 33,
      "metadata": {
        "id": "SknWSKOtWx6T"
      },
      "outputs": [],
      "source": [
        "## Solution for EX. 3"
      ]
    },
    {
      "cell_type": "markdown",
      "metadata": {
        "id": "gOJ8UOoNWyCg"
      },
      "source": [
        "4) Install the `flask` package using `pip`. Verify that the installation was successful using `!pip list`."
      ]
    },
    {
      "cell_type": "code",
      "execution_count": 34,
      "metadata": {
        "id": "QyF2LqfLWzCj"
      },
      "outputs": [],
      "source": [
        "## Solution for EX. 4"
      ]
    },
    {
      "cell_type": "markdown",
      "metadata": {
        "id": "5h5HG1sFWzv-"
      },
      "source": [
        "5) Save the list of installed packages for the current notebook in a file named `requirements-notebook.txt` using `!pip freeze`.\n"
      ]
    },
    {
      "cell_type": "code",
      "execution_count": 35,
      "metadata": {
        "id": "RYqCvWmDW1I9"
      },
      "outputs": [],
      "source": [
        "## Solution for EX. 5"
      ]
    },
    {
      "cell_type": "markdown",
      "metadata": {
        "id": "D1_ndbYiW1Zj"
      },
      "source": [
        "6) Write in a file named `prime.py` a module that prints the first 10 prime numbers. Import the `prime` module into the current notebook and verify that the printed numbers are correct. Run the `prime` module independently from the command line using `!python`."
      ]
    },
    {
      "cell_type": "code",
      "execution_count": 36,
      "metadata": {
        "id": "GrKv-O0BW8W7"
      },
      "outputs": [],
      "source": [
        "## Solution for EX. 6"
      ]
    },
    {
      "cell_type": "markdown",
      "metadata": {
        "id": "pIFtN5c87ymd"
      },
      "source": [
        "## Additional References\n",
        "\n",
        "1. The evolution of the most popular programming languages:\n",
        "https://www.youtube.com/watch?v=Og847HVwRSI&ab_channel=DataIsBeautiful\n",
        "\n",
        "2. A brief history of programming languages:\n",
        "https://www.youtube.com/watch?v=mhpslN-OD_o&ab_channel=m%3Achael\n"
      ]
    }
  ],
  "metadata": {
    "colab": {
      "provenance": []
    },
    "kernelspec": {
      "display_name": "Python 3 (ipykernel)",
      "language": "python",
      "name": "python3"
    },
    "language_info": {
      "codemirror_mode": {
        "name": "ipython",
        "version": 3
      },
      "file_extension": ".py",
      "mimetype": "text/x-python",
      "name": "python",
      "nbconvert_exporter": "python",
      "pygments_lexer": "ipython3",
      "version": "3.10.12"
    }
  },
  "nbformat": 4,
  "nbformat_minor": 0
}