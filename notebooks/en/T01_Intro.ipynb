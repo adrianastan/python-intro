{
  "cells": [
    {
      "cell_type": "markdown",
      "metadata": {
        "id": "YF8ZVdYI97Vi"
      },
      "source": [
        "<img src='https://upload.wikimedia.org/wikipedia/commons/c/c3/Python-logo-notext.svg' width=50/>\n",
        "<img src='https://upload.wikimedia.org/wikipedia/commons/d/d0/Google_Colaboratory_SVG_Logo.svg' width=70/>\n",
        "\n",
        "# <font size=50>Introduction to Python using Google Colab</font>\n",
        "<font color=\"#e8710a\">© Adriana STAN, David COMBEI, 2025</font>\n",
        "\n",
        "<font color=\"#e8710a\">Contributor: Gabriel ERDEI </font>\n",
        "\n",
        "[![Open In Colab](https://colab.research.google.com/assets/colab-badge.svg)](https://colab.research.google.com/github/adrianastan/python-intro/blob/main/notebooks/ro/T01_Intro.ipynb)\n",
        "\n"
      ]
    },
    {
      "cell_type": "markdown",
      "metadata": {
        "id": "mogGxDVi-BJ4"
      },
      "source": [
        "This tutorial set introduces the fundamental concepts of the Python programming language. The tutorials are structured around the main topics of a programming language and include an extensive set of code examples. It is important to mention that these tutorials are not focused on the theoretical aspects of programming but rather on understanding and mastering Python syntax and concepts for programmers.\n",
        "\n",
        "To facilitate quick comprehension and usage of the Python language, the tutorials are implemented and presented through the interactive Google Colab environment.\n",
        "\n",
        "**Tutorial Contents**\n",
        "\n",
        "*   T01. General aspects of the language. Development environment.\n",
        "*   T02. Data types and operators.\n",
        "*   T03. Statements and flow control structures.\n",
        "*   T04. Functions and modules.\n",
        "*   T05. Object-oriented programming. Exceptions.\n",
        "*   T06. Working with files.\n",
        "---"
      ]
    },
    {
      "cell_type": "markdown",
      "metadata": {
        "id": "h27ZSE8dKRkS"
      },
      "source": [
        "# <font color=\"#e8710a\">T01. Google Colab and the first code in Python</font>"
      ]
    },
    {
      "cell_type": "markdown",
      "metadata": {
        "id": "jMkuLEXjAz56"
      },
      "source": [
        "---\n",
        "<font color=\"#1589FF\"><b>Estimated Completion Time:</b> 30 min</font>\n",
        "\n",
        "---\n",
        "\n",
        "\n"
      ]
    },
    {
      "cell_type": "markdown",
      "metadata": {
        "id": "Vy0I6WF5LAva"
      },
      "source": [
        "## <font color=\"#e8710a\">Google Colab Programming Environment</font>\n",
        "\n",
        "**[Google Colab](https://colab.research.google.com/?utm_source=scs-index#scrollTo=-Rh3-Vt9Nev9)** is an interactive programming environment for the Python language that runs directly in the browser, without requiring any configuration on the local machine. Colab provides access to computational resources, including graphical computing power (GPU), and facilitates code sharing and collaboration.  \n",
        "The only requirement for using Colab is that the user has a Google account. Created notebooks are automatically stored in Google Drive in a directory that is automatically generated and named `Colab Notebooks`.\n",
        "\n",
        "It is also important to note that when initializing a Colab session, a [temporary virtual machine](https://research.google.com/colaboratory/faq.html) is allocated, in which saved data (such as files uploaded to the session or saved via code, except for the notebook itself) is deleted at the end of the session. To store data persistently, a [connection to Google Drive](https://colab.research.google.com/notebooks/io.ipynb) can be established, making its contents available in the notebook, allowing files to be uploaded and saved directly in Google Drive.\n",
        "\n",
        "Google Colab is an extension of [IPython](https://ipython.org/) (Interactive Python) and the [Jupyter Notebook](https://jupyter.org/) environment. In this environment, code is structured into files called *notebooks* with the extension `*.ipynb`. A notebook contains one or more *execution cells*. An execution cell contains one or more lines of code that can be run individually. The execution order of the cells can be arbitrary, and the programmer can return and modify previous cells without affecting the overall state of the code or needing to rerun the entire notebook. However, cells dependent on a modified cell must be rerun for changes to take effect.\n",
        "\n",
        "Code cells share the same visibility domain or *namespace*. This means that defining a variable, function, or class, or importing a module in one cell makes it available to the rest of the cells in the current notebook. It is important to emphasize that in this case, cells should be executed sequentially, meaning that if we want to use a certain variable, function, class, or module, the cell containing its definition must be run before the cells that modify or use these code components.\n",
        "\n",
        "Between code cells, text cells can be inserted to provide explanatory notes related to the code. Text cells use [Markdown](https://www.markdownguide.org/) notation but can be augmented with HTML or [LaTeX](https://www.latex-project.org/) notation.\n",
        "\n",
        "Due to its flexibility and ease of use, Google Colab has become the primary coding environment for the Python language, especially in applications related to artificial intelligence and machine learning algorithm development."
      ]
    },
    {
      "cell_type": "markdown",
      "metadata": {
        "id": "6JvUVI1oiY7P"
      },
      "source": [
        "## <font color=\"#e8710a\">First Python code</font>"
      ]
    },
    {
      "cell_type": "markdown",
      "metadata": {
        "id": "UKWJCjWj_KTf"
      },
      "source": [
        "Next, we will run the first code cell in Colab.\n",
        "To run the code below, select the cell and click the run button that appears on its left side. Colab also introduces a set of keyboard shortcuts that can be viewed from the Tools -> Command Palette menu. For example, to run a selected cell, you can use <kbd>CMD/CTRL+Enter</kbd>, <kbd>ALT/Option+Enter</kbd>, or <kbd>SHIFT+Enter</kbd>. The last keyboard combination also advances to the next cell in the notebook. Combining it with <kbd>ALT</kbd> will automatically insert a new cell after the current one."
      ]
    },
    {
      "cell_type": "code",
      "execution_count": 1,
      "metadata": {
        "colab": {
          "base_uri": "https://localhost:8080/"
        },
        "id": "ArtJL3aliU7g",
        "outputId": "6e3d7788-c682-406c-c53c-d52a29805f3f"
      },
      "outputs": [
        {
          "output_type": "stream",
          "name": "stdout",
          "text": [
            "Hello, Python!\n"
          ]
        }
      ],
      "source": [
        "# First code example\n",
        "print('Hello, Python!')"
      ]
    },
    {
      "cell_type": "markdown",
      "metadata": {
        "id": "UWl6MxpP_6XC"
      },
      "source": [
        "In the code above, I called the function `print()` and passed the string `Hello, Python!` to it. It can be observed that the Python language allows specifying strings using single quotes (apostrophes), but we can just as well use double quotes, with the result being the same."
      ]
    },
    {
      "cell_type": "code",
      "execution_count": 2,
      "metadata": {
        "colab": {
          "base_uri": "https://localhost:8080/"
        },
        "id": "8Bffq69SAUJR",
        "outputId": "6ef8a3c1-0b5e-495b-e8a3-e0e7f263ce35"
      },
      "outputs": [
        {
          "output_type": "stream",
          "name": "stdout",
          "text": [
            "Hello, Python!\n"
          ]
        }
      ],
      "source": [
        "print('Hello, Python!')"
      ]
    },
    {
      "cell_type": "markdown",
      "metadata": {
        "id": "H_umAfPTAZ95"
      },
      "source": [
        "To verify that the two symbols are interchangeable, we can print the data type for each of the two string definitions:\n"
      ]
    },
    {
      "cell_type": "code",
      "execution_count": 3,
      "metadata": {
        "colab": {
          "base_uri": "https://localhost:8080/"
        },
        "id": "5b8nGaTaAkal",
        "outputId": "06c87074-fb39-448b-9988-48b6308e0d71"
      },
      "outputs": [
        {
          "output_type": "stream",
          "name": "stdout",
          "text": [
            "<class 'str'>\n",
            "<class 'str'>\n"
          ]
        }
      ],
      "source": [
        "# The `type()` function returns the type of the object passed as a parameter\n",
        "print(type('Hello, Python!'))\n",
        "print(type(\"Hello, Python!\"))"
      ]
    },
    {
      "cell_type": "markdown",
      "metadata": {
        "id": "htsOJQLmAv0v"
      },
      "source": [
        "We observe that both strings are associated with the `str` class. From this example, we can also notice one of the most important characteristics of Python: all data are objects. For example, integer or real values will be associated with the `int` and `float` classes, respectively:"
      ]
    },
    {
      "cell_type": "code",
      "execution_count": 4,
      "metadata": {
        "colab": {
          "base_uri": "https://localhost:8080/"
        },
        "id": "6Sh3OoaPBE94",
        "outputId": "0a36ceeb-d6a6-4cbd-d0fe-b24dcd0d0791"
      },
      "outputs": [
        {
          "output_type": "stream",
          "name": "stdout",
          "text": [
            "<class 'int'>\n",
            "<class 'float'>\n"
          ]
        }
      ],
      "source": [
        "print(type(3))\n",
        "print(type(3.14))"
      ]
    },
    {
      "cell_type": "markdown",
      "metadata": {
        "id": "EDycXALNDDZE"
      },
      "source": [
        "A useful feature of the Colab environment, and indeed the iPython environment, is that it allows displaying the values of previously defined objects without using the `print()` function, simply by listing the variable names we wish to display. It is necessary for this listing to be the last statement in the cell."
      ]
    },
    {
      "cell_type": "code",
      "execution_count": 5,
      "metadata": {
        "colab": {
          "base_uri": "https://localhost:8080/"
        },
        "id": "PCaYLFUICpFO",
        "outputId": "0b9d94da-d16c-4e02-e1aa-391e61721702"
      },
      "outputs": [
        {
          "output_type": "execute_result",
          "data": {
            "text/plain": [
              "(3, 3.14)"
            ]
          },
          "metadata": {},
          "execution_count": 5
        }
      ],
      "source": [
        "a = 3\n",
        "b = 3.14\n",
        "a, b"
      ]
    },
    {
      "cell_type": "markdown",
      "metadata": {
        "id": "5Z7-B_kWDLYu"
      },
      "source": [
        "From the previous example, we observe that in Python, it is not necessary to explicitly specify the variable type beforehand, as we do in languages like C/C++ or Java. The variable type is automatically inferred from the format of its initialization value. Additionally, this means that we cannot declare an object without initializing it, as we can in C/C++ or Java:\n",
        "\n",
        "\n",
        "\n",
        "```\n",
        "int a;\n",
        "a = 3;\n",
        "```\n",
        "\n",
        "\n",
        "We will return to these aspects in more detail in a future tutorial."
      ]
    },
    {
      "cell_type": "markdown",
      "metadata": {
        "id": "kO6C3-l-F8js"
      },
      "source": [
        "---\n",
        "<font color=\"#e8710a\">Errors</font>\n",
        "Every programmer will make errors in the code they write, so it is important to understand the types of errors that can occur and how to fix them. For example, if we were to misspell the function name `print()`:"
      ]
    },
    {
      "cell_type": "code",
      "execution_count": 6,
      "metadata": {
        "colab": {
          "base_uri": "https://localhost:8080/",
          "height": 162
        },
        "id": "7Os9wH0WGA_J",
        "outputId": "22859e53-cbf4-4097-d6ca-13d097ecbcb1"
      },
      "outputs": [
        {
          "output_type": "error",
          "ename": "NameError",
          "evalue": "name 'orint' is not defined",
          "traceback": [
            "\u001b[0;31m---------------------------------------------------------------------------\u001b[0m",
            "\u001b[0;31mNameError\u001b[0m                                 Traceback (most recent call last)",
            "\u001b[0;32m<ipython-input-6-5be2a6381997>\u001b[0m in \u001b[0;36m<cell line: 0>\u001b[0;34m()\u001b[0m\n\u001b[1;32m      1\u001b[0m \u001b[0;31m# Generarea unei erori\u001b[0m\u001b[0;34m\u001b[0m\u001b[0;34m\u001b[0m\u001b[0m\n\u001b[0;32m----> 2\u001b[0;31m \u001b[0morint\u001b[0m\u001b[0;34m(\u001b[0m\u001b[0;34m\"Hello, Python!\"\u001b[0m\u001b[0;34m)\u001b[0m\u001b[0;34m\u001b[0m\u001b[0;34m\u001b[0m\u001b[0m\n\u001b[0m",
            "\u001b[0;31mNameError\u001b[0m: name 'orint' is not defined"
          ]
        }
      ],
      "source": [
        "# Generarea unei erori\n",
        "orint(\"Hello, Python!\")"
      ]
    },
    {
      "cell_type": "markdown",
      "metadata": {
        "id": "2QhdZOLGGJ6g"
      },
      "source": [
        "The error message will inform us about the line within the cell where the error occurs, as well as its type. In this case, a `NameError` occurs because the interpreter does not recognize the function `orint()`, as it is not in the list of predefined functions or previously defined by the programmer.\n",
        "\n",
        "Alternatively, we might forget to close the parentheses in the function call:"
      ]
    },
    {
      "cell_type": "code",
      "execution_count": 7,
      "metadata": {
        "colab": {
          "base_uri": "https://localhost:8080/",
          "height": 108
        },
        "id": "-wyTaAQFIaJZ",
        "outputId": "076a4391-b28f-49dc-e56b-a4873c6cab94"
      },
      "outputs": [
        {
          "output_type": "error",
          "ename": "SyntaxError",
          "evalue": "incomplete input (<ipython-input-7-cf4928f78f14>, line 1)",
          "traceback": [
            "\u001b[0;36m  File \u001b[0;32m\"<ipython-input-7-cf4928f78f14>\"\u001b[0;36m, line \u001b[0;32m1\u001b[0m\n\u001b[0;31m    print(\"Hello, Python\"\u001b[0m\n\u001b[0m                         ^\u001b[0m\n\u001b[0;31mSyntaxError\u001b[0m\u001b[0;31m:\u001b[0m incomplete input\n"
          ]
        }
      ],
      "source": [
        "print(\"Hello, Python\""
      ]
    },
    {
      "cell_type": "markdown",
      "metadata": {
        "id": "SBMOntTeIiGO"
      },
      "source": [
        "In this case, we have a syntax error indicating that on line 1 the statement is not properly terminated."
      ]
    },
    {
      "cell_type": "code",
      "execution_count": 8,
      "metadata": {
        "colab": {
          "base_uri": "https://localhost:8080/",
          "height": 108
        },
        "id": "N-qIozlFI_nG",
        "outputId": "9624ea59-3070-489c-a7f7-6b86ca5682bf"
      },
      "outputs": [
        {
          "output_type": "error",
          "ename": "SyntaxError",
          "evalue": "'(' was never closed (<ipython-input-8-407f9fe7a147>, line 2)",
          "traceback": [
            "\u001b[0;36m  File \u001b[0;32m\"<ipython-input-8-407f9fe7a147>\"\u001b[0;36m, line \u001b[0;32m2\u001b[0m\n\u001b[0;31m    print(\"Salut, Python\"\u001b[0m\n\u001b[0m         ^\u001b[0m\n\u001b[0;31mSyntaxError\u001b[0m\u001b[0;31m:\u001b[0m '(' was never closed\n"
          ]
        }
      ],
      "source": [
        "# Syntax Error in Multi-Line Code\n",
        "print(\"Salut, Python\"\n",
        "print(\"Salut, Python\")"
      ]
    },
    {
      "cell_type": "markdown",
      "metadata": {
        "id": "RAZhBPaKJA4g"
      },
      "source": [
        "If we have multiple lines of code, the error message will indicate the line following the one where the syntax issue occurs. Our error is on line 2, but the message points to line 3.\n",
        "\n",
        "The complete list of errors defined in Python can be found on the [official language documentation page](https://docs.python.org/3/library/exceptions.html)."
      ]
    },
    {
      "cell_type": "markdown",
      "metadata": {
        "id": "j2woNRFFiWjG"
      },
      "source": [
        "## <font color=\"#e8710a\">Bibliography/Useful Resources</font>\n",
        "\n",
        "Python is one of the most well-documented programming languages, and naturally, there are numerous resources available to deepen the understanding of its concepts. Below, we list a selection of references and resources that we consider the most useful, accessible, and comprehensive from the full list:\n",
        "\n",
        "\n",
        "* [Learning Python, 5th Edition](https://www.oreilly.com/library/view/learning-python-5th/9781449355722/), Mark Lutz, O’Reilly, 2013\n",
        "\n",
        "* [Python Cookbook, 3rd Edition](https://www.oreilly.com/library/view/python-cookbook-3rd/9781449357337/), David Beazley, Brian Jones, O’Reilly, 2013\n",
        "\n",
        "* Python.org - https://www.python.org/ - site-ul oficial al limbajului\n",
        "\n",
        "* Python 3 Module of the Week- https://pymotw.com/3/\n",
        "\n",
        "* Online courses: [Coursera](https://www.coursera.org/specializations/python?utm_source=gg&utm_medium=sem&utm_campaign=06-PythonforEverybody-ROW&utm_content=B2C&campaignid=6493101579&adgroupid=81663482087&device=c&keyword=coursera%20python&matchtype=e&network=g&devicemodel=&adpostion=&creativeid=506841588365&hide_mobile_promo&gclid=Cj0KCQjwntCVBhDdARIsAMEwAClVekQzrBrj9E5qZok5HM8prBiAuiSHIjaCHBpXTE-Gu-vXWAS_BKQaAkBWEALw_wcB), [CodeAcademy](https://www.codecademy.com/catalog/language/python), [Udemy](https://www.udemy.com/topic/python/)"
      ]
    },
    {
      "cell_type": "markdown",
      "metadata": {
        "id": "r-3ZlQHHJnkp"
      },
      "source": [
        "---\n",
        "\n",
        "## <font color=\"#e8710a\">Conclusions</font>\n",
        "\n",
        "In this first Python tutorial, we introduced the basic concepts of using the Google Colab environment and executing code snippets within it. In the next tutorial, we will cover general aspects of the Python language and code organization."
      ]
    },
    {
      "cell_type": "markdown",
      "metadata": {
        "id": "zbiXwnSjHgT6"
      },
      "source": [
        "---\n",
        "\n",
        "\n",
        "##<font color=\"#1589FF\"> Exercises</font>\n",
        "\n",
        "1) Display the text \"Hello, Ana!\". Modify the text to include your own name.\n"
      ]
    },
    {
      "cell_type": "code",
      "execution_count": 9,
      "metadata": {
        "id": "QwQHtnIteX6v"
      },
      "outputs": [],
      "source": [
        "## Solution for ex. 1"
      ]
    },
    {
      "cell_type": "markdown",
      "metadata": {
        "id": "z57BsKb4Lcb1"
      },
      "source": [
        "2) Define a variable that contains the string \"Hello, Ana!\" and then display its content using the print() function or by just listing it.\n"
      ]
    },
    {
      "cell_type": "code",
      "execution_count": 10,
      "metadata": {
        "id": "OZtnQOKfLddD"
      },
      "outputs": [],
      "source": [
        "## Solution for ex. 2"
      ]
    },
    {
      "cell_type": "markdown",
      "metadata": {
        "id": "gZ69sMxbLdv4"
      },
      "source": [
        "3) Verify using the type() function that the variable defined in exercise 2 is associated with the 'str' class, meaning it is a string variable.\n"
      ]
    },
    {
      "cell_type": "code",
      "execution_count": 11,
      "metadata": {
        "id": "85E2WMqCLfGk"
      },
      "outputs": [],
      "source": [
        "## Solution for ex. 3"
      ]
    },
    {
      "cell_type": "markdown",
      "metadata": {
        "id": "80ZDKSEKLfYa"
      },
      "source": [
        "4) Redefine the variable from exercise 2 using apostrophes instead of quotes, and perform the test from exercise 3 again.\n"
      ]
    },
    {
      "cell_type": "code",
      "execution_count": 12,
      "metadata": {
        "id": "8jMy9unBLhCL"
      },
      "outputs": [],
      "source": [
        "## Solution for ex. 4"
      ]
    },
    {
      "cell_type": "markdown",
      "metadata": {
        "id": "c3TjrKz0LhMs"
      },
      "source": [
        "5) Define two integer variables initialized with the values 3 and 4, and display their product."
      ]
    },
    {
      "cell_type": "code",
      "execution_count": 13,
      "metadata": {
        "id": "iTV3S_1uLhyY"
      },
      "outputs": [],
      "source": [
        "## Solution for ex. 5"
      ]
    }
  ],
  "metadata": {
    "colab": {
      "provenance": []
    },
    "kernelspec": {
      "display_name": "Python 3 (ipykernel)",
      "language": "python",
      "name": "python3"
    },
    "language_info": {
      "codemirror_mode": {
        "name": "ipython",
        "version": 3
      },
      "file_extension": ".py",
      "mimetype": "text/x-python",
      "name": "python",
      "nbconvert_exporter": "python",
      "pygments_lexer": "ipython3",
      "version": "3.10.12"
    }
  },
  "nbformat": 4,
  "nbformat_minor": 0
}